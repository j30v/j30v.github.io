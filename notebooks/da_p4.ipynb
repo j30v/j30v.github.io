{
 "cells": [
  {
   "cell_type": "markdown",
   "metadata": {},
   "source": [
    "# Import des modules et des fichiers CSV"
   ]
  },
  {
   "cell_type": "code",
   "execution_count": 1,
   "metadata": {},
   "outputs": [],
   "source": [
    "import pandas as pd\n",
    "import re\n",
    "import matplotlib.pyplot as plt\n",
    "import math\n",
    "import numpy as np\n",
    "import scipy.stats as stats\n",
    "import seaborn as sns"
   ]
  },
  {
   "cell_type": "code",
   "execution_count": 2,
   "metadata": {},
   "outputs": [],
   "source": [
    "customers = pd.read_csv('customers.csv')\n",
    "products = pd.read_csv('products.csv')\n",
    "transactions = pd.read_csv('transactions.csv')"
   ]
  },
  {
   "cell_type": "markdown",
   "metadata": {},
   "source": [
    "# Nettoyage & analyse de 'customers'"
   ]
  },
  {
   "cell_type": "markdown",
   "metadata": {},
   "source": [
    "## Customers : Diagnostic"
   ]
  },
  {
   "cell_type": "code",
   "execution_count": 3,
   "metadata": {},
   "outputs": [
    {
     "data": {
      "text/html": [
       "<div>\n",
       "<style scoped>\n",
       "    .dataframe tbody tr th:only-of-type {\n",
       "        vertical-align: middle;\n",
       "    }\n",
       "\n",
       "    .dataframe tbody tr th {\n",
       "        vertical-align: top;\n",
       "    }\n",
       "\n",
       "    .dataframe thead th {\n",
       "        text-align: right;\n",
       "    }\n",
       "</style>\n",
       "<table border=\"1\" class=\"dataframe\">\n",
       "  <thead>\n",
       "    <tr style=\"text-align: right;\">\n",
       "      <th></th>\n",
       "      <th>client_id</th>\n",
       "      <th>sex</th>\n",
       "      <th>birth</th>\n",
       "    </tr>\n",
       "  </thead>\n",
       "  <tbody>\n",
       "    <tr>\n",
       "      <th>0</th>\n",
       "      <td>c_4410</td>\n",
       "      <td>f</td>\n",
       "      <td>1967</td>\n",
       "    </tr>\n",
       "    <tr>\n",
       "      <th>1</th>\n",
       "      <td>c_7839</td>\n",
       "      <td>f</td>\n",
       "      <td>1975</td>\n",
       "    </tr>\n",
       "    <tr>\n",
       "      <th>2</th>\n",
       "      <td>c_1699</td>\n",
       "      <td>f</td>\n",
       "      <td>1984</td>\n",
       "    </tr>\n",
       "    <tr>\n",
       "      <th>3</th>\n",
       "      <td>c_5961</td>\n",
       "      <td>f</td>\n",
       "      <td>1962</td>\n",
       "    </tr>\n",
       "    <tr>\n",
       "      <th>4</th>\n",
       "      <td>c_5320</td>\n",
       "      <td>m</td>\n",
       "      <td>1943</td>\n",
       "    </tr>\n",
       "  </tbody>\n",
       "</table>\n",
       "</div>"
      ],
      "text/plain": [
       "  client_id sex  birth\n",
       "0    c_4410   f   1967\n",
       "1    c_7839   f   1975\n",
       "2    c_1699   f   1984\n",
       "3    c_5961   f   1962\n",
       "4    c_5320   m   1943"
      ]
     },
     "execution_count": 3,
     "metadata": {},
     "output_type": "execute_result"
    }
   ],
   "source": [
    "customers.head()"
   ]
  },
  {
   "cell_type": "code",
   "execution_count": 4,
   "metadata": {},
   "outputs": [
    {
     "data": {
      "text/html": [
       "<div>\n",
       "<style scoped>\n",
       "    .dataframe tbody tr th:only-of-type {\n",
       "        vertical-align: middle;\n",
       "    }\n",
       "\n",
       "    .dataframe tbody tr th {\n",
       "        vertical-align: top;\n",
       "    }\n",
       "\n",
       "    .dataframe thead th {\n",
       "        text-align: right;\n",
       "    }\n",
       "</style>\n",
       "<table border=\"1\" class=\"dataframe\">\n",
       "  <thead>\n",
       "    <tr style=\"text-align: right;\">\n",
       "      <th></th>\n",
       "      <th>client_id</th>\n",
       "      <th>sex</th>\n",
       "      <th>birth</th>\n",
       "    </tr>\n",
       "  </thead>\n",
       "  <tbody>\n",
       "    <tr>\n",
       "      <th>8618</th>\n",
       "      <td>c_7920</td>\n",
       "      <td>m</td>\n",
       "      <td>1956</td>\n",
       "    </tr>\n",
       "    <tr>\n",
       "      <th>8619</th>\n",
       "      <td>c_7403</td>\n",
       "      <td>f</td>\n",
       "      <td>1970</td>\n",
       "    </tr>\n",
       "    <tr>\n",
       "      <th>8620</th>\n",
       "      <td>c_5119</td>\n",
       "      <td>m</td>\n",
       "      <td>1974</td>\n",
       "    </tr>\n",
       "    <tr>\n",
       "      <th>8621</th>\n",
       "      <td>c_5643</td>\n",
       "      <td>f</td>\n",
       "      <td>1968</td>\n",
       "    </tr>\n",
       "    <tr>\n",
       "      <th>8622</th>\n",
       "      <td>c_84</td>\n",
       "      <td>f</td>\n",
       "      <td>1982</td>\n",
       "    </tr>\n",
       "  </tbody>\n",
       "</table>\n",
       "</div>"
      ],
      "text/plain": [
       "     client_id sex  birth\n",
       "8618    c_7920   m   1956\n",
       "8619    c_7403   f   1970\n",
       "8620    c_5119   m   1974\n",
       "8621    c_5643   f   1968\n",
       "8622      c_84   f   1982"
      ]
     },
     "execution_count": 4,
     "metadata": {},
     "output_type": "execute_result"
    }
   ],
   "source": [
    "customers.tail()\n",
    "# numéro client avec seulement deux chiffres"
   ]
  },
  {
   "cell_type": "code",
   "execution_count": 5,
   "metadata": {},
   "outputs": [
    {
     "data": {
      "text/plain": [
       "(8623, 3)"
      ]
     },
     "execution_count": 5,
     "metadata": {},
     "output_type": "execute_result"
    }
   ],
   "source": [
    "customers.shape"
   ]
  },
  {
   "cell_type": "code",
   "execution_count": 6,
   "metadata": {},
   "outputs": [
    {
     "name": "stdout",
     "output_type": "stream",
     "text": [
      "<class 'pandas.core.frame.DataFrame'>\n",
      "RangeIndex: 8623 entries, 0 to 8622\n",
      "Data columns (total 3 columns):\n",
      " #   Column     Non-Null Count  Dtype \n",
      "---  ------     --------------  ----- \n",
      " 0   client_id  8623 non-null   object\n",
      " 1   sex        8623 non-null   object\n",
      " 2   birth      8623 non-null   int64 \n",
      "dtypes: int64(1), object(2)\n",
      "memory usage: 202.2+ KB\n"
     ]
    }
   ],
   "source": [
    "customers.info()\n",
    "# pas de NaN\n",
    "# sex peut-être changé en 'category' afin de gagner en place"
   ]
  },
  {
   "cell_type": "code",
   "execution_count": 7,
   "metadata": {},
   "outputs": [
    {
     "data": {
      "text/html": [
       "<div>\n",
       "<style scoped>\n",
       "    .dataframe tbody tr th:only-of-type {\n",
       "        vertical-align: middle;\n",
       "    }\n",
       "\n",
       "    .dataframe tbody tr th {\n",
       "        vertical-align: top;\n",
       "    }\n",
       "\n",
       "    .dataframe thead th {\n",
       "        text-align: right;\n",
       "    }\n",
       "</style>\n",
       "<table border=\"1\" class=\"dataframe\">\n",
       "  <thead>\n",
       "    <tr style=\"text-align: right;\">\n",
       "      <th></th>\n",
       "      <th>birth</th>\n",
       "    </tr>\n",
       "  </thead>\n",
       "  <tbody>\n",
       "    <tr>\n",
       "      <th>count</th>\n",
       "      <td>8623.000000</td>\n",
       "    </tr>\n",
       "    <tr>\n",
       "      <th>mean</th>\n",
       "      <td>1978.280877</td>\n",
       "    </tr>\n",
       "    <tr>\n",
       "      <th>std</th>\n",
       "      <td>16.919535</td>\n",
       "    </tr>\n",
       "    <tr>\n",
       "      <th>min</th>\n",
       "      <td>1929.000000</td>\n",
       "    </tr>\n",
       "    <tr>\n",
       "      <th>25%</th>\n",
       "      <td>1966.000000</td>\n",
       "    </tr>\n",
       "    <tr>\n",
       "      <th>50%</th>\n",
       "      <td>1979.000000</td>\n",
       "    </tr>\n",
       "    <tr>\n",
       "      <th>75%</th>\n",
       "      <td>1992.000000</td>\n",
       "    </tr>\n",
       "    <tr>\n",
       "      <th>max</th>\n",
       "      <td>2004.000000</td>\n",
       "    </tr>\n",
       "  </tbody>\n",
       "</table>\n",
       "</div>"
      ],
      "text/plain": [
       "             birth\n",
       "count  8623.000000\n",
       "mean   1978.280877\n",
       "std      16.919535\n",
       "min    1929.000000\n",
       "25%    1966.000000\n",
       "50%    1979.000000\n",
       "75%    1992.000000\n",
       "max    2004.000000"
      ]
     },
     "execution_count": 7,
     "metadata": {},
     "output_type": "execute_result"
    }
   ],
   "source": [
    "customers.describe()\n",
    "# pas de valeur aberrante"
   ]
  },
  {
   "cell_type": "code",
   "execution_count": 8,
   "metadata": {},
   "outputs": [
    {
     "data": {
      "text/plain": [
       "Index(['client_id', 'sex', 'birth'], dtype='object')"
      ]
     },
     "execution_count": 8,
     "metadata": {},
     "output_type": "execute_result"
    }
   ],
   "source": [
    "customers.columns\n",
    "#pas de problème d'espace dans les noms de colonnes"
   ]
  },
  {
   "cell_type": "code",
   "execution_count": 9,
   "metadata": {},
   "outputs": [
    {
     "data": {
      "text/plain": [
       "c_3915    1\n",
       "c_570     1\n",
       "c_1413    1\n",
       "c_2274    1\n",
       "c_4924    1\n",
       "         ..\n",
       "c_4594    1\n",
       "c_3723    1\n",
       "c_7500    1\n",
       "c_3357    1\n",
       "c_5660    1\n",
       "Name: client_id, Length: 8623, dtype: int64"
      ]
     },
     "execution_count": 9,
     "metadata": {},
     "output_type": "execute_result"
    }
   ],
   "source": [
    "customers.client_id.value_counts()\n",
    "#Pas de doublon dans les numéros de client --> clé primaire OK"
   ]
  },
  {
   "cell_type": "code",
   "execution_count": 10,
   "metadata": {},
   "outputs": [
    {
     "data": {
      "text/plain": [
       "f    4491\n",
       "m    4132\n",
       "Name: sex, dtype: int64"
      ]
     },
     "execution_count": 10,
     "metadata": {},
     "output_type": "execute_result"
    }
   ],
   "source": [
    "customers.sex.value_counts()\n",
    "#pas de valeur autre que f/m"
   ]
  },
  {
   "cell_type": "code",
   "execution_count": 11,
   "metadata": {},
   "outputs": [
    {
     "data": {
      "text/plain": [
       "[4491, 4132]"
      ]
     },
     "execution_count": 11,
     "metadata": {},
     "output_type": "execute_result"
    }
   ],
   "source": [
    "list(customers.sex.value_counts().values)"
   ]
  },
  {
   "cell_type": "code",
   "execution_count": 12,
   "metadata": {},
   "outputs": [
    {
     "data": {
      "text/plain": [
       "[4491, 4132]"
      ]
     },
     "execution_count": 12,
     "metadata": {},
     "output_type": "execute_result"
    }
   ],
   "source": [
    "list(customers.sex.value_counts().values)"
   ]
  },
  {
   "cell_type": "code",
   "execution_count": 13,
   "metadata": {},
   "outputs": [
    {
     "name": "stdout",
     "output_type": "stream",
     "text": [
      "Help on function pie in module matplotlib.pyplot:\n",
      "\n",
      "pie(x, explode=None, labels=None, colors=None, autopct=None, pctdistance=0.6, shadow=False, labeldistance=1.1, startangle=None, radius=None, counterclock=True, wedgeprops=None, textprops=None, center=(0, 0), frame=False, rotatelabels=False, *, data=None)\n",
      "    Plot a pie chart.\n",
      "    \n",
      "    Make a pie chart of array *x*.  The fractional area of each wedge is\n",
      "    given by ``x/sum(x)``.  If ``sum(x) < 1``, then the values of *x* give\n",
      "    the fractional area directly and the array will not be normalized. The\n",
      "    resulting pie will have an empty wedge of size ``1 - sum(x)``.\n",
      "    \n",
      "    The wedges are plotted counterclockwise, by default starting from the\n",
      "    x-axis.\n",
      "    \n",
      "    Parameters\n",
      "    ----------\n",
      "    x : array-like\n",
      "        The wedge sizes.\n",
      "    \n",
      "    explode : array-like, optional, default: None\n",
      "        If not *None*, is a ``len(x)`` array which specifies the fraction\n",
      "        of the radius with which to offset each wedge.\n",
      "    \n",
      "    labels : list, optional, default: None\n",
      "        A sequence of strings providing the labels for each wedge\n",
      "    \n",
      "    colors : array-like, optional, default: None\n",
      "        A sequence of matplotlib color args through which the pie chart\n",
      "        will cycle.  If *None*, will use the colors in the currently\n",
      "        active cycle.\n",
      "    \n",
      "    autopct : None (default), string, or function, optional\n",
      "        If not *None*, is a string or function used to label the wedges\n",
      "        with their numeric value.  The label will be placed inside the\n",
      "        wedge.  If it is a format string, the label will be ``fmt%pct``.\n",
      "        If it is a function, it will be called.\n",
      "    \n",
      "    pctdistance : float, optional, default: 0.6\n",
      "        The ratio between the center of each pie slice and the start of\n",
      "        the text generated by *autopct*.  Ignored if *autopct* is *None*.\n",
      "    \n",
      "    shadow : bool, optional, default: False\n",
      "        Draw a shadow beneath the pie.\n",
      "    \n",
      "    labeldistance : float or None, optional, default: 1.1\n",
      "        The radial distance at which the pie labels are drawn.\n",
      "        If set to ``None``, label are not drawn, but are stored for use in\n",
      "        ``legend()``\n",
      "    \n",
      "    startangle : float, optional, default: None\n",
      "        If not *None*, rotates the start of the pie chart by *angle*\n",
      "        degrees counterclockwise from the x-axis.\n",
      "    \n",
      "    radius : float, optional, default: None\n",
      "        The radius of the pie, if *radius* is *None* it will be set to 1.\n",
      "    \n",
      "    counterclock : bool, optional, default: True\n",
      "        Specify fractions direction, clockwise or counterclockwise.\n",
      "    \n",
      "    wedgeprops : dict, optional, default: None\n",
      "        Dict of arguments passed to the wedge objects making the pie.\n",
      "        For example, you can pass in ``wedgeprops = {'linewidth': 3}``\n",
      "        to set the width of the wedge border lines equal to 3.\n",
      "        For more details, look at the doc/arguments of the wedge object.\n",
      "        By default ``clip_on=False``.\n",
      "    \n",
      "    textprops : dict, optional, default: None\n",
      "        Dict of arguments to pass to the text objects.\n",
      "    \n",
      "    center :  list of float, optional, default: (0, 0)\n",
      "        Center position of the chart. Takes value (0, 0) or is a sequence\n",
      "        of 2 scalars.\n",
      "    \n",
      "    frame : bool, optional, default: False\n",
      "        Plot axes frame with the chart if true.\n",
      "    \n",
      "    rotatelabels : bool, optional, default: False\n",
      "        Rotate each label to the angle of the corresponding slice if true.\n",
      "    \n",
      "    Returns\n",
      "    -------\n",
      "    patches : list\n",
      "        A sequence of :class:`matplotlib.patches.Wedge` instances\n",
      "    \n",
      "    texts : list\n",
      "        A list of the label :class:`matplotlib.text.Text` instances.\n",
      "    \n",
      "    autotexts : list\n",
      "        A list of :class:`~matplotlib.text.Text` instances for the numeric\n",
      "        labels. This will only be returned if the parameter *autopct* is\n",
      "        not *None*.\n",
      "    \n",
      "    Notes\n",
      "    -----\n",
      "    The pie chart will probably look best if the figure and axes are\n",
      "    square, or the Axes aspect is equal.\n",
      "    This method sets the aspect ratio of the axis to \"equal\".\n",
      "    The axes aspect ratio can be controlled with `Axes.set_aspect`.\n",
      "    \n",
      "    .. note::\n",
      "        In addition to the above described arguments, this function can take a\n",
      "        **data** keyword argument. If such a **data** argument is given, the\n",
      "        following arguments are replaced by **data[<arg>]**:\n",
      "    \n",
      "        * All arguments with the following names: 'colors', 'explode', 'labels', 'x'.\n",
      "    \n",
      "        Objects passed as **data** must support item access (``data[<arg>]``) and\n",
      "        membership test (``<arg> in data``).\n",
      "\n"
     ]
    }
   ],
   "source": [
    "help(plt.pie)"
   ]
  },
  {
   "cell_type": "code",
   "execution_count": 14,
   "metadata": {},
   "outputs": [
    {
     "data": {
      "image/png": "[encoded data removed]",
      "text/plain": [
       "<Figure size 432x288 with 1 Axes>"
      ]
     },
     "metadata": {},
     "output_type": "display_data"
    }
   ],
   "source": [
    "# visualisation des clients par sexe\n",
    "\n",
    "plt.pie(customers.sex.value_counts(), labels=(customers.sex.value_counts().index), autopct='%1.1f%%', colors=('tab:orange', 'tab:blue'))\n",
    "plt.title('Répartition du nombre de clients par sexe')\n",
    "plt.xlabel('Sexes')\n",
    "plt.ylabel('''nombre d'individus''')\n",
    "plt.savefig('repartion_par_sexes')\n",
    "plt.show()"
   ]
  },
  {
   "cell_type": "markdown",
   "metadata": {},
   "source": [
    "## Nombre de clients par année de naissance"
   ]
  },
  {
   "cell_type": "code",
   "execution_count": 15,
   "metadata": {},
   "outputs": [],
   "source": [
    "# On compte le nombre de clients en les regroupant par leur année de naissance\n",
    "birth_count = customers.groupby('birth').count()"
   ]
  },
  {
   "cell_type": "code",
   "execution_count": 16,
   "metadata": {},
   "outputs": [],
   "source": [
    "birth_count.reset_index(inplace= True)"
   ]
  },
  {
   "cell_type": "code",
   "execution_count": 17,
   "metadata": {},
   "outputs": [
    {
     "data": {
      "text/html": [
       "<div>\n",
       "<style scoped>\n",
       "    .dataframe tbody tr th:only-of-type {\n",
       "        vertical-align: middle;\n",
       "    }\n",
       "\n",
       "    .dataframe tbody tr th {\n",
       "        vertical-align: top;\n",
       "    }\n",
       "\n",
       "    .dataframe thead th {\n",
       "        text-align: right;\n",
       "    }\n",
       "</style>\n",
       "<table border=\"1\" class=\"dataframe\">\n",
       "  <thead>\n",
       "    <tr style=\"text-align: right;\">\n",
       "      <th></th>\n",
       "      <th>birth</th>\n",
       "      <th>nb_client</th>\n",
       "    </tr>\n",
       "  </thead>\n",
       "  <tbody>\n",
       "    <tr>\n",
       "      <th>0</th>\n",
       "      <td>1929</td>\n",
       "      <td>3</td>\n",
       "    </tr>\n",
       "    <tr>\n",
       "      <th>1</th>\n",
       "      <td>1930</td>\n",
       "      <td>4</td>\n",
       "    </tr>\n",
       "    <tr>\n",
       "      <th>2</th>\n",
       "      <td>1931</td>\n",
       "      <td>4</td>\n",
       "    </tr>\n",
       "    <tr>\n",
       "      <th>3</th>\n",
       "      <td>1932</td>\n",
       "      <td>6</td>\n",
       "    </tr>\n",
       "    <tr>\n",
       "      <th>4</th>\n",
       "      <td>1933</td>\n",
       "      <td>8</td>\n",
       "    </tr>\n",
       "    <tr>\n",
       "      <th>...</th>\n",
       "      <td>...</td>\n",
       "      <td>...</td>\n",
       "    </tr>\n",
       "    <tr>\n",
       "      <th>71</th>\n",
       "      <td>2000</td>\n",
       "      <td>136</td>\n",
       "    </tr>\n",
       "    <tr>\n",
       "      <th>72</th>\n",
       "      <td>2001</td>\n",
       "      <td>129</td>\n",
       "    </tr>\n",
       "    <tr>\n",
       "      <th>73</th>\n",
       "      <td>2002</td>\n",
       "      <td>146</td>\n",
       "    </tr>\n",
       "    <tr>\n",
       "      <th>74</th>\n",
       "      <td>2003</td>\n",
       "      <td>146</td>\n",
       "    </tr>\n",
       "    <tr>\n",
       "      <th>75</th>\n",
       "      <td>2004</td>\n",
       "      <td>440</td>\n",
       "    </tr>\n",
       "  </tbody>\n",
       "</table>\n",
       "<p>76 rows × 2 columns</p>\n",
       "</div>"
      ],
      "text/plain": [
       "    birth  nb_client\n",
       "0    1929          3\n",
       "1    1930          4\n",
       "2    1931          4\n",
       "3    1932          6\n",
       "4    1933          8\n",
       "..    ...        ...\n",
       "71   2000        136\n",
       "72   2001        129\n",
       "73   2002        146\n",
       "74   2003        146\n",
       "75   2004        440\n",
       "\n",
       "[76 rows x 2 columns]"
      ]
     },
     "execution_count": 17,
     "metadata": {},
     "output_type": "execute_result"
    }
   ],
   "source": [
    "# Sélection des colonnes\n",
    "birth_count = birth_count[['birth', 'client_id']]\n",
    "# changement de nom des colonnes\n",
    "birth_count.columns = ['birth', 'nb_client']\n",
    "birth_count"
   ]
  },
  {
   "cell_type": "code",
   "execution_count": 18,
   "metadata": {},
   "outputs": [
    {
     "data": {
      "image/png": "[encoded data removed]",
      "text/plain": [
       "<Figure size 1080x648 with 1 Axes>"
      ]
     },
     "metadata": {
      "needs_background": "light"
     },
     "output_type": "display_data"
    }
   ],
   "source": [
    "# visualisation du nombre de clients par année de naissance en utilisant un diagramme à bars\n",
    "\n",
    "birth_count.plot(x='birth', y='nb_client', kind='bar', figsize=(15,9))\n",
    "plt.title('Nombre de clients par année de naissance')\n",
    "plt.xlabel('Années de naissance')\n",
    "plt.ylabel('Nombre de clients')\n",
    "plt.annotate('Nombre anormal de clients nés en 2004', xy=(75,400), xytext=(55,350),arrowprops=dict(arrowstyle='->', color='red', linewidth=2))\n",
    "plt.savefig('clients_par_naissance')\n",
    "plt.show()\n",
    "\n",
    "# l'année de naissance 2004 correspondant à l'âge de 18ans, est fortement représenté, \n",
    "# ce qui laisse penser que beaucoup d'acheteur ont moins de 18 ans et utilise l'année de naissance minimum"
   ]
  },
  {
   "cell_type": "markdown",
   "metadata": {},
   "source": [
    "### Transformation de la colonne \"sex\" de 'object' (chaîne de caractère) à 'category'"
   ]
  },
  {
   "cell_type": "code",
   "execution_count": 19,
   "metadata": {},
   "outputs": [],
   "source": [
    "# Définition du type de la variable 'sex' vers une variable du type 'catégory'\n",
    "customers.sex = customers.sex.astype('category')"
   ]
  },
  {
   "cell_type": "code",
   "execution_count": 20,
   "metadata": {},
   "outputs": [
    {
     "name": "stdout",
     "output_type": "stream",
     "text": [
      "<class 'pandas.core.frame.DataFrame'>\n",
      "RangeIndex: 8623 entries, 0 to 8622\n",
      "Data columns (total 3 columns):\n",
      " #   Column     Non-Null Count  Dtype   \n",
      "---  ------     --------------  -----   \n",
      " 0   client_id  8623 non-null   object  \n",
      " 1   sex        8623 non-null   category\n",
      " 2   birth      8623 non-null   int64   \n",
      "dtypes: category(1), int64(1), object(1)\n",
      "memory usage: 143.4+ KB\n"
     ]
    }
   ],
   "source": [
    "customers.info()\n",
    "# On passe de 202 KB à 143 KB"
   ]
  },
  {
   "cell_type": "markdown",
   "metadata": {},
   "source": [
    "### Identification des numéros de client avec un format différent de 'c_xxxx'"
   ]
  },
  {
   "cell_type": "code",
   "execution_count": 21,
   "metadata": {},
   "outputs": [
    {
     "name": "stdout",
     "output_type": "stream",
     "text": [
      "2735    ct_0\n",
      "8494    ct_1\n",
      "Name: client_id, dtype: object\n"
     ]
    },
    {
     "data": {
      "text/html": [
       "<div>\n",
       "<style scoped>\n",
       "    .dataframe tbody tr th:only-of-type {\n",
       "        vertical-align: middle;\n",
       "    }\n",
       "\n",
       "    .dataframe tbody tr th {\n",
       "        vertical-align: top;\n",
       "    }\n",
       "\n",
       "    .dataframe thead th {\n",
       "        text-align: right;\n",
       "    }\n",
       "</style>\n",
       "<table border=\"1\" class=\"dataframe\">\n",
       "  <thead>\n",
       "    <tr style=\"text-align: right;\">\n",
       "      <th></th>\n",
       "      <th>client_id</th>\n",
       "      <th>sex</th>\n",
       "      <th>birth</th>\n",
       "    </tr>\n",
       "  </thead>\n",
       "  <tbody>\n",
       "    <tr>\n",
       "      <th>2735</th>\n",
       "      <td>ct_0</td>\n",
       "      <td>f</td>\n",
       "      <td>2001</td>\n",
       "    </tr>\n",
       "    <tr>\n",
       "      <th>8494</th>\n",
       "      <td>ct_1</td>\n",
       "      <td>m</td>\n",
       "      <td>2001</td>\n",
       "    </tr>\n",
       "  </tbody>\n",
       "</table>\n",
       "</div>"
      ],
      "text/plain": [
       "     client_id sex  birth\n",
       "2735      ct_0   f   2001\n",
       "8494      ct_1   m   2001"
      ]
     },
     "metadata": {},
     "output_type": "display_data"
    }
   ],
   "source": [
    "pattern = re.compile('c_\\d*') # création d'un pattern standard\n",
    "mask= customers.client_id.str.contains(pattern)\n",
    "print(customers.client_id[~mask]) # utilisation du tilde pour identifier les entrées qui ne correspondent pas au pattern\n",
    "ct_list = list(customers.client_id[~mask]) # Sauvegarde des client_id du format 'ct_x' dans une liste\n",
    "display(customers[customers.client_id.isin(ct_list)])"
   ]
  },
  {
   "cell_type": "markdown",
   "metadata": {},
   "source": [
    "# Nettoyage de 'products'"
   ]
  },
  {
   "cell_type": "markdown",
   "metadata": {},
   "source": [
    "## Products : diagnostic"
   ]
  },
  {
   "cell_type": "code",
   "execution_count": 22,
   "metadata": {},
   "outputs": [
    {
     "data": {
      "text/html": [
       "<div>\n",
       "<style scoped>\n",
       "    .dataframe tbody tr th:only-of-type {\n",
       "        vertical-align: middle;\n",
       "    }\n",
       "\n",
       "    .dataframe tbody tr th {\n",
       "        vertical-align: top;\n",
       "    }\n",
       "\n",
       "    .dataframe thead th {\n",
       "        text-align: right;\n",
       "    }\n",
       "</style>\n",
       "<table border=\"1\" class=\"dataframe\">\n",
       "  <thead>\n",
       "    <tr style=\"text-align: right;\">\n",
       "      <th></th>\n",
       "      <th>id_prod</th>\n",
       "      <th>price</th>\n",
       "      <th>categ</th>\n",
       "    </tr>\n",
       "  </thead>\n",
       "  <tbody>\n",
       "    <tr>\n",
       "      <th>0</th>\n",
       "      <td>0_1421</td>\n",
       "      <td>19.99</td>\n",
       "      <td>0</td>\n",
       "    </tr>\n",
       "    <tr>\n",
       "      <th>1</th>\n",
       "      <td>0_1368</td>\n",
       "      <td>5.13</td>\n",
       "      <td>0</td>\n",
       "    </tr>\n",
       "    <tr>\n",
       "      <th>2</th>\n",
       "      <td>0_731</td>\n",
       "      <td>17.99</td>\n",
       "      <td>0</td>\n",
       "    </tr>\n",
       "    <tr>\n",
       "      <th>3</th>\n",
       "      <td>1_587</td>\n",
       "      <td>4.99</td>\n",
       "      <td>1</td>\n",
       "    </tr>\n",
       "    <tr>\n",
       "      <th>4</th>\n",
       "      <td>0_1507</td>\n",
       "      <td>3.99</td>\n",
       "      <td>0</td>\n",
       "    </tr>\n",
       "  </tbody>\n",
       "</table>\n",
       "</div>"
      ],
      "text/plain": [
       "  id_prod  price  categ\n",
       "0  0_1421  19.99      0\n",
       "1  0_1368   5.13      0\n",
       "2   0_731  17.99      0\n",
       "3   1_587   4.99      1\n",
       "4  0_1507   3.99      0"
      ]
     },
     "execution_count": 22,
     "metadata": {},
     "output_type": "execute_result"
    }
   ],
   "source": [
    "products.head()"
   ]
  },
  {
   "cell_type": "code",
   "execution_count": 23,
   "metadata": {},
   "outputs": [
    {
     "data": {
      "text/html": [
       "<div>\n",
       "<style scoped>\n",
       "    .dataframe tbody tr th:only-of-type {\n",
       "        vertical-align: middle;\n",
       "    }\n",
       "\n",
       "    .dataframe tbody tr th {\n",
       "        vertical-align: top;\n",
       "    }\n",
       "\n",
       "    .dataframe thead th {\n",
       "        text-align: right;\n",
       "    }\n",
       "</style>\n",
       "<table border=\"1\" class=\"dataframe\">\n",
       "  <thead>\n",
       "    <tr style=\"text-align: right;\">\n",
       "      <th></th>\n",
       "      <th>id_prod</th>\n",
       "      <th>price</th>\n",
       "      <th>categ</th>\n",
       "    </tr>\n",
       "  </thead>\n",
       "  <tbody>\n",
       "    <tr>\n",
       "      <th>3282</th>\n",
       "      <td>2_23</td>\n",
       "      <td>115.99</td>\n",
       "      <td>2</td>\n",
       "    </tr>\n",
       "    <tr>\n",
       "      <th>3283</th>\n",
       "      <td>0_146</td>\n",
       "      <td>17.14</td>\n",
       "      <td>0</td>\n",
       "    </tr>\n",
       "    <tr>\n",
       "      <th>3284</th>\n",
       "      <td>0_802</td>\n",
       "      <td>11.22</td>\n",
       "      <td>0</td>\n",
       "    </tr>\n",
       "    <tr>\n",
       "      <th>3285</th>\n",
       "      <td>1_140</td>\n",
       "      <td>38.56</td>\n",
       "      <td>1</td>\n",
       "    </tr>\n",
       "    <tr>\n",
       "      <th>3286</th>\n",
       "      <td>0_1920</td>\n",
       "      <td>25.16</td>\n",
       "      <td>0</td>\n",
       "    </tr>\n",
       "  </tbody>\n",
       "</table>\n",
       "</div>"
      ],
      "text/plain": [
       "     id_prod   price  categ\n",
       "3282    2_23  115.99      2\n",
       "3283   0_146   17.14      0\n",
       "3284   0_802   11.22      0\n",
       "3285   1_140   38.56      1\n",
       "3286  0_1920   25.16      0"
      ]
     },
     "execution_count": 23,
     "metadata": {},
     "output_type": "execute_result"
    }
   ],
   "source": [
    "products.tail()"
   ]
  },
  {
   "cell_type": "code",
   "execution_count": 24,
   "metadata": {},
   "outputs": [
    {
     "data": {
      "text/plain": [
       "(3287, 3)"
      ]
     },
     "execution_count": 24,
     "metadata": {},
     "output_type": "execute_result"
    }
   ],
   "source": [
    "products.shape"
   ]
  },
  {
   "cell_type": "code",
   "execution_count": 25,
   "metadata": {},
   "outputs": [
    {
     "data": {
      "text/plain": [
       "Index(['id_prod', 'price', 'categ'], dtype='object')"
      ]
     },
     "execution_count": 25,
     "metadata": {},
     "output_type": "execute_result"
    }
   ],
   "source": [
    "products.columns\n",
    "#Pas d'espace en trop"
   ]
  },
  {
   "cell_type": "code",
   "execution_count": 26,
   "metadata": {},
   "outputs": [
    {
     "name": "stdout",
     "output_type": "stream",
     "text": [
      "<class 'pandas.core.frame.DataFrame'>\n",
      "RangeIndex: 3287 entries, 0 to 3286\n",
      "Data columns (total 3 columns):\n",
      " #   Column   Non-Null Count  Dtype  \n",
      "---  ------   --------------  -----  \n",
      " 0   id_prod  3287 non-null   object \n",
      " 1   price    3287 non-null   float64\n",
      " 2   categ    3287 non-null   int64  \n",
      "dtypes: float64(1), int64(1), object(1)\n",
      "memory usage: 77.2+ KB\n"
     ]
    }
   ],
   "source": [
    "products.info()\n",
    "# Pas de NaN "
   ]
  },
  {
   "cell_type": "markdown",
   "metadata": {},
   "source": [
    "### Description générale"
   ]
  },
  {
   "cell_type": "code",
   "execution_count": 27,
   "metadata": {},
   "outputs": [
    {
     "data": {
      "text/html": [
       "<div>\n",
       "<style scoped>\n",
       "    .dataframe tbody tr th:only-of-type {\n",
       "        vertical-align: middle;\n",
       "    }\n",
       "\n",
       "    .dataframe tbody tr th {\n",
       "        vertical-align: top;\n",
       "    }\n",
       "\n",
       "    .dataframe thead th {\n",
       "        text-align: right;\n",
       "    }\n",
       "</style>\n",
       "<table border=\"1\" class=\"dataframe\">\n",
       "  <thead>\n",
       "    <tr style=\"text-align: right;\">\n",
       "      <th></th>\n",
       "      <th>price</th>\n",
       "      <th>categ</th>\n",
       "    </tr>\n",
       "  </thead>\n",
       "  <tbody>\n",
       "    <tr>\n",
       "      <th>count</th>\n",
       "      <td>3287.000000</td>\n",
       "      <td>3287.000000</td>\n",
       "    </tr>\n",
       "    <tr>\n",
       "      <th>mean</th>\n",
       "      <td>21.856641</td>\n",
       "      <td>0.370246</td>\n",
       "    </tr>\n",
       "    <tr>\n",
       "      <th>std</th>\n",
       "      <td>29.847908</td>\n",
       "      <td>0.615387</td>\n",
       "    </tr>\n",
       "    <tr>\n",
       "      <th>min</th>\n",
       "      <td>-1.000000</td>\n",
       "      <td>0.000000</td>\n",
       "    </tr>\n",
       "    <tr>\n",
       "      <th>25%</th>\n",
       "      <td>6.990000</td>\n",
       "      <td>0.000000</td>\n",
       "    </tr>\n",
       "    <tr>\n",
       "      <th>50%</th>\n",
       "      <td>13.060000</td>\n",
       "      <td>0.000000</td>\n",
       "    </tr>\n",
       "    <tr>\n",
       "      <th>75%</th>\n",
       "      <td>22.990000</td>\n",
       "      <td>1.000000</td>\n",
       "    </tr>\n",
       "    <tr>\n",
       "      <th>max</th>\n",
       "      <td>300.000000</td>\n",
       "      <td>2.000000</td>\n",
       "    </tr>\n",
       "  </tbody>\n",
       "</table>\n",
       "</div>"
      ],
      "text/plain": [
       "             price        categ\n",
       "count  3287.000000  3287.000000\n",
       "mean     21.856641     0.370246\n",
       "std      29.847908     0.615387\n",
       "min      -1.000000     0.000000\n",
       "25%       6.990000     0.000000\n",
       "50%      13.060000     0.000000\n",
       "75%      22.990000     1.000000\n",
       "max     300.000000     2.000000"
      ]
     },
     "execution_count": 27,
     "metadata": {},
     "output_type": "execute_result"
    }
   ],
   "source": [
    "products.describe()\n",
    "# prix négatif --> analyser le -1 dans transac\n",
    "# indicateurs de dispersion élevés, préféré une description par categ"
   ]
  },
  {
   "cell_type": "markdown",
   "metadata": {},
   "source": [
    "### Description par catégorie"
   ]
  },
  {
   "cell_type": "code",
   "execution_count": 28,
   "metadata": {},
   "outputs": [
    {
     "data": {
      "text/html": [
       "<div>\n",
       "<style scoped>\n",
       "    .dataframe tbody tr th:only-of-type {\n",
       "        vertical-align: middle;\n",
       "    }\n",
       "\n",
       "    .dataframe tbody tr th {\n",
       "        vertical-align: top;\n",
       "    }\n",
       "\n",
       "    .dataframe thead th {\n",
       "        text-align: right;\n",
       "    }\n",
       "</style>\n",
       "<table border=\"1\" class=\"dataframe\">\n",
       "  <thead>\n",
       "    <tr style=\"text-align: right;\">\n",
       "      <th></th>\n",
       "      <th>count</th>\n",
       "      <th>mean</th>\n",
       "      <th>std</th>\n",
       "      <th>min</th>\n",
       "      <th>25%</th>\n",
       "      <th>50%</th>\n",
       "      <th>75%</th>\n",
       "      <th>max</th>\n",
       "    </tr>\n",
       "    <tr>\n",
       "      <th>categ</th>\n",
       "      <th></th>\n",
       "      <th></th>\n",
       "      <th></th>\n",
       "      <th></th>\n",
       "      <th></th>\n",
       "      <th></th>\n",
       "      <th></th>\n",
       "      <th></th>\n",
       "    </tr>\n",
       "  </thead>\n",
       "  <tbody>\n",
       "    <tr>\n",
       "      <th>0</th>\n",
       "      <td>2309.0</td>\n",
       "      <td>11.727280</td>\n",
       "      <td>7.568756</td>\n",
       "      <td>-1.00</td>\n",
       "      <td>5.580</td>\n",
       "      <td>10.32</td>\n",
       "      <td>16.65</td>\n",
       "      <td>40.99</td>\n",
       "    </tr>\n",
       "    <tr>\n",
       "      <th>1</th>\n",
       "      <td>739.0</td>\n",
       "      <td>25.531421</td>\n",
       "      <td>15.425162</td>\n",
       "      <td>2.00</td>\n",
       "      <td>13.390</td>\n",
       "      <td>22.99</td>\n",
       "      <td>33.99</td>\n",
       "      <td>80.99</td>\n",
       "    </tr>\n",
       "    <tr>\n",
       "      <th>2</th>\n",
       "      <td>239.0</td>\n",
       "      <td>108.354686</td>\n",
       "      <td>49.561431</td>\n",
       "      <td>30.99</td>\n",
       "      <td>71.065</td>\n",
       "      <td>101.99</td>\n",
       "      <td>136.53</td>\n",
       "      <td>300.00</td>\n",
       "    </tr>\n",
       "  </tbody>\n",
       "</table>\n",
       "</div>"
      ],
      "text/plain": [
       "        count        mean        std    min     25%     50%     75%     max\n",
       "categ                                                                      \n",
       "0      2309.0   11.727280   7.568756  -1.00   5.580   10.32   16.65   40.99\n",
       "1       739.0   25.531421  15.425162   2.00  13.390   22.99   33.99   80.99\n",
       "2       239.0  108.354686  49.561431  30.99  71.065  101.99  136.53  300.00"
      ]
     },
     "execution_count": 28,
     "metadata": {},
     "output_type": "execute_result"
    }
   ],
   "source": [
    "# Groupement des données par catégorie avec pour fonction d'aggrégation .describe()\n",
    "products_describe = products.groupby('categ')['price'].describe()\n",
    "products_describe"
   ]
  },
  {
   "cell_type": "code",
   "execution_count": 29,
   "metadata": {},
   "outputs": [
    {
     "data": {
      "image/png": "[encoded data removed]",
      "text/plain": [
       "<Figure size 432x288 with 1 Axes>"
      ]
     },
     "metadata": {
      "needs_background": "light"
     },
     "output_type": "display_data"
    }
   ],
   "source": [
    "# Boîtes à moustache de la distribution des prix en fonction de la catégorie\n",
    "# Version sans les valeurs aberrantes\n",
    "products.boxplot(column='price', by='categ', showfliers=False, grid=False)\n",
    "plt.suptitle('Prix par catégorie', size=16, y=1.1)\n",
    "plt.xlabel('catégorie')\n",
    "plt.ylabel('Prix en €')\n",
    "plt.savefig('prix_categ')\n",
    "plt.show()"
   ]
  },
  {
   "cell_type": "code",
   "execution_count": 30,
   "metadata": {},
   "outputs": [
    {
     "data": {
      "image/png": "[encoded data removed]",
      "text/plain": [
       "<Figure size 432x288 with 1 Axes>"
      ]
     },
     "metadata": {
      "needs_background": "light"
     },
     "output_type": "display_data"
    }
   ],
   "source": [
    "# Avec les valeurs aberrantes\n",
    "products.boxplot(column='price', by='categ', showfliers=True, grid=False)\n",
    "plt.suptitle('Prix par catégorie', size=16, y=1.1)\n",
    "plt.xlabel('catégorie')\n",
    "plt.ylabel('Prix en €')\n",
    "plt.savefig('prix_categ_outliers')"
   ]
  },
  {
   "cell_type": "markdown",
   "metadata": {},
   "source": [
    "### Clé primaire"
   ]
  },
  {
   "cell_type": "code",
   "execution_count": 31,
   "metadata": {},
   "outputs": [
    {
     "data": {
      "text/plain": [
       "0_1768    1\n",
       "2_35      1\n",
       "0_1599    1\n",
       "1_145     1\n",
       "0_540     1\n",
       "         ..\n",
       "0_1500    1\n",
       "0_1443    1\n",
       "0_325     1\n",
       "0_1350    1\n",
       "2_137     1\n",
       "Name: id_prod, Length: 3287, dtype: int64"
      ]
     },
     "execution_count": 31,
     "metadata": {},
     "output_type": "execute_result"
    }
   ],
   "source": [
    "# est-ce que id_prod est une clé primaire candidate ?\n",
    "products.id_prod.value_counts()\n",
    "# Pas de doublons --> clé primaire potentiel"
   ]
  },
  {
   "cell_type": "code",
   "execution_count": 32,
   "metadata": {},
   "outputs": [
    {
     "data": {
      "text/plain": [
       "0    2309\n",
       "1     739\n",
       "2     239\n",
       "Name: categ, dtype: int64"
      ]
     },
     "execution_count": 32,
     "metadata": {},
     "output_type": "execute_result"
    }
   ],
   "source": [
    "products.categ.value_counts()"
   ]
  },
  {
   "cell_type": "markdown",
   "metadata": {},
   "source": [
    "### Identification du produit ayant une valeur négatif"
   ]
  },
  {
   "cell_type": "code",
   "execution_count": 33,
   "metadata": {},
   "outputs": [
    {
     "data": {
      "text/html": [
       "<div>\n",
       "<style scoped>\n",
       "    .dataframe tbody tr th:only-of-type {\n",
       "        vertical-align: middle;\n",
       "    }\n",
       "\n",
       "    .dataframe tbody tr th {\n",
       "        vertical-align: top;\n",
       "    }\n",
       "\n",
       "    .dataframe thead th {\n",
       "        text-align: right;\n",
       "    }\n",
       "</style>\n",
       "<table border=\"1\" class=\"dataframe\">\n",
       "  <thead>\n",
       "    <tr style=\"text-align: right;\">\n",
       "      <th></th>\n",
       "      <th>id_prod</th>\n",
       "      <th>price</th>\n",
       "      <th>categ</th>\n",
       "    </tr>\n",
       "  </thead>\n",
       "  <tbody>\n",
       "    <tr>\n",
       "      <th>731</th>\n",
       "      <td>T_0</td>\n",
       "      <td>-1.0</td>\n",
       "      <td>0</td>\n",
       "    </tr>\n",
       "  </tbody>\n",
       "</table>\n",
       "</div>"
      ],
      "text/plain": [
       "    id_prod  price  categ\n",
       "731     T_0   -1.0      0"
      ]
     },
     "execution_count": 33,
     "metadata": {},
     "output_type": "execute_result"
    }
   ],
   "source": [
    "# on sauvegarde le numéro produit de l'article avec un prix négatif\n",
    "\n",
    "id_product_neg = products[products.price == -1]['id_prod'].values\n",
    "id_product_neg = id_product_neg[0]\n",
    "products[products.id_prod == id_product_neg]"
   ]
  },
  {
   "cell_type": "markdown",
   "metadata": {},
   "source": [
    "## Products : modifications"
   ]
  },
  {
   "cell_type": "markdown",
   "metadata": {},
   "source": [
    "### Modification du type de 'categ' d'objet à catégorie"
   ]
  },
  {
   "cell_type": "code",
   "execution_count": 34,
   "metadata": {},
   "outputs": [],
   "source": [
    "products.categ = products.categ.astype('category')"
   ]
  },
  {
   "cell_type": "code",
   "execution_count": 35,
   "metadata": {},
   "outputs": [
    {
     "data": {
      "text/html": [
       "<div>\n",
       "<style scoped>\n",
       "    .dataframe tbody tr th:only-of-type {\n",
       "        vertical-align: middle;\n",
       "    }\n",
       "\n",
       "    .dataframe tbody tr th {\n",
       "        vertical-align: top;\n",
       "    }\n",
       "\n",
       "    .dataframe thead th {\n",
       "        text-align: right;\n",
       "    }\n",
       "</style>\n",
       "<table border=\"1\" class=\"dataframe\">\n",
       "  <thead>\n",
       "    <tr style=\"text-align: right;\">\n",
       "      <th></th>\n",
       "      <th>id_prod</th>\n",
       "      <th>price</th>\n",
       "      <th>categ</th>\n",
       "    </tr>\n",
       "  </thead>\n",
       "  <tbody>\n",
       "    <tr>\n",
       "      <th>0</th>\n",
       "      <td>0_1421</td>\n",
       "      <td>19.99</td>\n",
       "      <td>0</td>\n",
       "    </tr>\n",
       "    <tr>\n",
       "      <th>1</th>\n",
       "      <td>0_1368</td>\n",
       "      <td>5.13</td>\n",
       "      <td>0</td>\n",
       "    </tr>\n",
       "    <tr>\n",
       "      <th>2</th>\n",
       "      <td>0_731</td>\n",
       "      <td>17.99</td>\n",
       "      <td>0</td>\n",
       "    </tr>\n",
       "    <tr>\n",
       "      <th>3</th>\n",
       "      <td>1_587</td>\n",
       "      <td>4.99</td>\n",
       "      <td>1</td>\n",
       "    </tr>\n",
       "    <tr>\n",
       "      <th>4</th>\n",
       "      <td>0_1507</td>\n",
       "      <td>3.99</td>\n",
       "      <td>0</td>\n",
       "    </tr>\n",
       "  </tbody>\n",
       "</table>\n",
       "</div>"
      ],
      "text/plain": [
       "  id_prod  price categ\n",
       "0  0_1421  19.99     0\n",
       "1  0_1368   5.13     0\n",
       "2   0_731  17.99     0\n",
       "3   1_587   4.99     1\n",
       "4  0_1507   3.99     0"
      ]
     },
     "execution_count": 35,
     "metadata": {},
     "output_type": "execute_result"
    }
   ],
   "source": [
    "products.head()"
   ]
  },
  {
   "cell_type": "code",
   "execution_count": 36,
   "metadata": {},
   "outputs": [
    {
     "name": "stdout",
     "output_type": "stream",
     "text": [
      "<class 'pandas.core.frame.DataFrame'>\n",
      "RangeIndex: 3287 entries, 0 to 3286\n",
      "Data columns (total 3 columns):\n",
      " #   Column   Non-Null Count  Dtype   \n",
      "---  ------   --------------  -----   \n",
      " 0   id_prod  3287 non-null   object  \n",
      " 1   price    3287 non-null   float64 \n",
      " 2   categ    3287 non-null   category\n",
      "dtypes: category(1), float64(1), object(1)\n",
      "memory usage: 54.8+ KB\n"
     ]
    }
   ],
   "source": [
    "products.info()\n",
    "# de 77 KB à 54.8 KB"
   ]
  },
  {
   "cell_type": "markdown",
   "metadata": {},
   "source": [
    "## Products : Représentation graphique de la distribution des prix en fonction de la catégorie"
   ]
  },
  {
   "cell_type": "code",
   "execution_count": 37,
   "metadata": {},
   "outputs": [
    {
     "data": {
      "image/png": "[encoded data removed]",
      "text/plain": [
       "<Figure size 432x648 with 1 Axes>"
      ]
     },
     "metadata": {
      "needs_background": "light"
     },
     "output_type": "display_data"
    },
    {
     "data": {
      "image/png": "[encoded data removed]",
      "text/plain": [
       "<Figure size 432x648 with 1 Axes>"
      ]
     },
     "metadata": {
      "needs_background": "light"
     },
     "output_type": "display_data"
    },
    {
     "data": {
      "image/png": "[encoded data removed]",
      "text/plain": [
       "<Figure size 432x648 with 1 Axes>"
      ]
     },
     "metadata": {
      "needs_background": "light"
     },
     "output_type": "display_data"
    }
   ],
   "source": [
    "### création d'une boucle qui va retourner un histogramme, la moyenne, et l'écart-type des prix en fonction de la catégorie\n",
    "\n",
    "\n",
    "i=0\n",
    "\n",
    "while i < 3 :\n",
    "    mu = products_describe.loc[i,'mean']\n",
    "    sigma = products_describe.loc[i,'std']\n",
    "    plt.subplot(3,1,i+1)\n",
    "    plt.gcf().set_size_inches(6,9)\n",
    "    plt.hist(products[products.categ == i]['price'], bins=15 )\n",
    "    plt.title('Distribution des prix de la catégorie ' + str(i) + '\\n' + 'Moyenne = ' + str(round(mu,2)) + '\\n' + 'Ecart-type = ' + str(round(sigma,2)))\n",
    "    plt.xlabel('Prix')\n",
    "    plt.ylabel('Fréquence')\n",
    "    plt.tight_layout()\n",
    "    plt.savefig('distribution_prix'+ str(i))\n",
    "    plt.show()\n",
    "    i += 1"
   ]
  },
  {
   "cell_type": "markdown",
   "metadata": {},
   "source": [
    "# Nettoyage de 'transactions'"
   ]
  },
  {
   "cell_type": "markdown",
   "metadata": {},
   "source": [
    "## Transactions : diagnostic"
   ]
  },
  {
   "cell_type": "code",
   "execution_count": 38,
   "metadata": {},
   "outputs": [
    {
     "data": {
      "text/html": [
       "<div>\n",
       "<style scoped>\n",
       "    .dataframe tbody tr th:only-of-type {\n",
       "        vertical-align: middle;\n",
       "    }\n",
       "\n",
       "    .dataframe tbody tr th {\n",
       "        vertical-align: top;\n",
       "    }\n",
       "\n",
       "    .dataframe thead th {\n",
       "        text-align: right;\n",
       "    }\n",
       "</style>\n",
       "<table border=\"1\" class=\"dataframe\">\n",
       "  <thead>\n",
       "    <tr style=\"text-align: right;\">\n",
       "      <th></th>\n",
       "      <th>id_prod</th>\n",
       "      <th>date</th>\n",
       "      <th>session_id</th>\n",
       "      <th>client_id</th>\n",
       "    </tr>\n",
       "  </thead>\n",
       "  <tbody>\n",
       "    <tr>\n",
       "      <th>0</th>\n",
       "      <td>0_1483</td>\n",
       "      <td>2021-04-10 18:37:28.723910</td>\n",
       "      <td>s_18746</td>\n",
       "      <td>c_4450</td>\n",
       "    </tr>\n",
       "    <tr>\n",
       "      <th>1</th>\n",
       "      <td>2_226</td>\n",
       "      <td>2022-02-03 01:55:53.276402</td>\n",
       "      <td>s_159142</td>\n",
       "      <td>c_277</td>\n",
       "    </tr>\n",
       "    <tr>\n",
       "      <th>2</th>\n",
       "      <td>1_374</td>\n",
       "      <td>2021-09-23 15:13:46.938559</td>\n",
       "      <td>s_94290</td>\n",
       "      <td>c_4270</td>\n",
       "    </tr>\n",
       "    <tr>\n",
       "      <th>3</th>\n",
       "      <td>0_2186</td>\n",
       "      <td>2021-10-17 03:27:18.783634</td>\n",
       "      <td>s_105936</td>\n",
       "      <td>c_4597</td>\n",
       "    </tr>\n",
       "    <tr>\n",
       "      <th>4</th>\n",
       "      <td>0_1351</td>\n",
       "      <td>2021-07-17 20:34:25.800563</td>\n",
       "      <td>s_63642</td>\n",
       "      <td>c_1242</td>\n",
       "    </tr>\n",
       "  </tbody>\n",
       "</table>\n",
       "</div>"
      ],
      "text/plain": [
       "  id_prod                        date session_id client_id\n",
       "0  0_1483  2021-04-10 18:37:28.723910    s_18746    c_4450\n",
       "1   2_226  2022-02-03 01:55:53.276402   s_159142     c_277\n",
       "2   1_374  2021-09-23 15:13:46.938559    s_94290    c_4270\n",
       "3  0_2186  2021-10-17 03:27:18.783634   s_105936    c_4597\n",
       "4  0_1351  2021-07-17 20:34:25.800563    s_63642    c_1242"
      ]
     },
     "execution_count": 38,
     "metadata": {},
     "output_type": "execute_result"
    }
   ],
   "source": [
    "transactions.head()"
   ]
  },
  {
   "cell_type": "code",
   "execution_count": 39,
   "metadata": {},
   "outputs": [
    {
     "data": {
      "text/html": [
       "<div>\n",
       "<style scoped>\n",
       "    .dataframe tbody tr th:only-of-type {\n",
       "        vertical-align: middle;\n",
       "    }\n",
       "\n",
       "    .dataframe tbody tr th {\n",
       "        vertical-align: top;\n",
       "    }\n",
       "\n",
       "    .dataframe thead th {\n",
       "        text-align: right;\n",
       "    }\n",
       "</style>\n",
       "<table border=\"1\" class=\"dataframe\">\n",
       "  <thead>\n",
       "    <tr style=\"text-align: right;\">\n",
       "      <th></th>\n",
       "      <th>id_prod</th>\n",
       "      <th>date</th>\n",
       "      <th>session_id</th>\n",
       "      <th>client_id</th>\n",
       "    </tr>\n",
       "  </thead>\n",
       "  <tbody>\n",
       "    <tr>\n",
       "      <th>337011</th>\n",
       "      <td>1_671</td>\n",
       "      <td>2021-05-28 12:35:46.214839</td>\n",
       "      <td>s_40720</td>\n",
       "      <td>c_3454</td>\n",
       "    </tr>\n",
       "    <tr>\n",
       "      <th>337012</th>\n",
       "      <td>0_759</td>\n",
       "      <td>2021-06-19 00:19:23.917703</td>\n",
       "      <td>s_50568</td>\n",
       "      <td>c_6268</td>\n",
       "    </tr>\n",
       "    <tr>\n",
       "      <th>337013</th>\n",
       "      <td>0_1256</td>\n",
       "      <td>2021-03-16 17:31:59.442007</td>\n",
       "      <td>s_7219</td>\n",
       "      <td>c_4137</td>\n",
       "    </tr>\n",
       "    <tr>\n",
       "      <th>337014</th>\n",
       "      <td>2_227</td>\n",
       "      <td>2021-10-30 16:50:15.997750</td>\n",
       "      <td>s_112349</td>\n",
       "      <td>c_5</td>\n",
       "    </tr>\n",
       "    <tr>\n",
       "      <th>337015</th>\n",
       "      <td>0_1417</td>\n",
       "      <td>2021-06-26 14:38:19.732946</td>\n",
       "      <td>s_54117</td>\n",
       "      <td>c_6714</td>\n",
       "    </tr>\n",
       "  </tbody>\n",
       "</table>\n",
       "</div>"
      ],
      "text/plain": [
       "       id_prod                        date session_id client_id\n",
       "337011   1_671  2021-05-28 12:35:46.214839    s_40720    c_3454\n",
       "337012   0_759  2021-06-19 00:19:23.917703    s_50568    c_6268\n",
       "337013  0_1256  2021-03-16 17:31:59.442007     s_7219    c_4137\n",
       "337014   2_227  2021-10-30 16:50:15.997750   s_112349       c_5\n",
       "337015  0_1417  2021-06-26 14:38:19.732946    s_54117    c_6714"
      ]
     },
     "execution_count": 39,
     "metadata": {},
     "output_type": "execute_result"
    }
   ],
   "source": [
    "transactions.tail()"
   ]
  },
  {
   "cell_type": "code",
   "execution_count": 40,
   "metadata": {},
   "outputs": [
    {
     "data": {
      "text/plain": [
       "(337016, 4)"
      ]
     },
     "execution_count": 40,
     "metadata": {},
     "output_type": "execute_result"
    }
   ],
   "source": [
    "transactions.shape"
   ]
  },
  {
   "cell_type": "code",
   "execution_count": 41,
   "metadata": {},
   "outputs": [
    {
     "name": "stdout",
     "output_type": "stream",
     "text": [
      "<class 'pandas.core.frame.DataFrame'>\n",
      "RangeIndex: 337016 entries, 0 to 337015\n",
      "Data columns (total 4 columns):\n",
      " #   Column      Non-Null Count   Dtype \n",
      "---  ------      --------------   ----- \n",
      " 0   id_prod     337016 non-null  object\n",
      " 1   date        337016 non-null  object\n",
      " 2   session_id  337016 non-null  object\n",
      " 3   client_id   337016 non-null  object\n",
      "dtypes: object(4)\n",
      "memory usage: 10.3+ MB\n"
     ]
    }
   ],
   "source": [
    "transactions.info()\n",
    "#Pas de NaN"
   ]
  },
  {
   "cell_type": "code",
   "execution_count": 42,
   "metadata": {},
   "outputs": [
    {
     "data": {
      "text/plain": [
       "Index(['id_prod', 'date', 'session_id', 'client_id'], dtype='object')"
      ]
     },
     "execution_count": 42,
     "metadata": {},
     "output_type": "execute_result"
    }
   ],
   "source": [
    "transactions.columns\n",
    "#Pas d'espace en trop dans les noms de variables"
   ]
  },
  {
   "cell_type": "code",
   "execution_count": 43,
   "metadata": {},
   "outputs": [
    {
     "data": {
      "text/html": [
       "<div>\n",
       "<style scoped>\n",
       "    .dataframe tbody tr th:only-of-type {\n",
       "        vertical-align: middle;\n",
       "    }\n",
       "\n",
       "    .dataframe tbody tr th {\n",
       "        vertical-align: top;\n",
       "    }\n",
       "\n",
       "    .dataframe thead th {\n",
       "        text-align: right;\n",
       "    }\n",
       "</style>\n",
       "<table border=\"1\" class=\"dataframe\">\n",
       "  <thead>\n",
       "    <tr style=\"text-align: right;\">\n",
       "      <th></th>\n",
       "      <th>id_prod</th>\n",
       "      <th>date</th>\n",
       "      <th>session_id</th>\n",
       "      <th>client_id</th>\n",
       "    </tr>\n",
       "  </thead>\n",
       "  <tbody>\n",
       "    <tr>\n",
       "      <th>count</th>\n",
       "      <td>337016</td>\n",
       "      <td>337016</td>\n",
       "      <td>337016</td>\n",
       "      <td>337016</td>\n",
       "    </tr>\n",
       "    <tr>\n",
       "      <th>unique</th>\n",
       "      <td>3266</td>\n",
       "      <td>336855</td>\n",
       "      <td>169195</td>\n",
       "      <td>8602</td>\n",
       "    </tr>\n",
       "    <tr>\n",
       "      <th>top</th>\n",
       "      <td>1_369</td>\n",
       "      <td>test_2021-03-01 02:30:02.237413</td>\n",
       "      <td>s_0</td>\n",
       "      <td>c_1609</td>\n",
       "    </tr>\n",
       "    <tr>\n",
       "      <th>freq</th>\n",
       "      <td>1081</td>\n",
       "      <td>13</td>\n",
       "      <td>200</td>\n",
       "      <td>12855</td>\n",
       "    </tr>\n",
       "  </tbody>\n",
       "</table>\n",
       "</div>"
      ],
      "text/plain": [
       "       id_prod                             date session_id client_id\n",
       "count   337016                           337016     337016    337016\n",
       "unique    3266                           336855     169195      8602\n",
       "top      1_369  test_2021-03-01 02:30:02.237413        s_0    c_1609\n",
       "freq      1081                               13        200     12855"
      ]
     },
     "execution_count": 43,
     "metadata": {},
     "output_type": "execute_result"
    }
   ],
   "source": [
    "transactions.describe()"
   ]
  },
  {
   "cell_type": "markdown",
   "metadata": {},
   "source": [
    "### Clé primaire"
   ]
  },
  {
   "cell_type": "code",
   "execution_count": 44,
   "metadata": {},
   "outputs": [
    {
     "data": {
      "text/plain": [
       "s_0         200\n",
       "s_118668     14\n",
       "s_96857      13\n",
       "s_21005      13\n",
       "s_168560     12\n",
       "           ... \n",
       "s_118721      1\n",
       "s_139859      1\n",
       "s_161954      1\n",
       "s_64734       1\n",
       "s_32953       1\n",
       "Name: session_id, Length: 169195, dtype: int64"
      ]
     },
     "execution_count": 44,
     "metadata": {},
     "output_type": "execute_result"
    }
   ],
   "source": [
    "# Test d'unicité\n",
    "transactions.session_id.value_counts()\n",
    "# les enregistrements de la variable session_id ne sont pas uniques. En effet, une session peut contenir plusieurs achats"
   ]
  },
  {
   "cell_type": "markdown",
   "metadata": {},
   "source": [
    "### Unicité des dates"
   ]
  },
  {
   "cell_type": "code",
   "execution_count": 45,
   "metadata": {},
   "outputs": [
    {
     "data": {
      "text/plain": [
       "test_2021-03-01 02:30:02.237413    13\n",
       "test_2021-03-01 02:30:02.237428     8\n",
       "test_2021-03-01 02:30:02.237414     8\n",
       "test_2021-03-01 02:30:02.237427     8\n",
       "test_2021-03-01 02:30:02.237444     8\n",
       "                                   ..\n",
       "2021-11-11 02:42:11.434301          1\n",
       "2021-10-07 18:59:09.999563          1\n",
       "2021-11-24 17:45:49.845978          1\n",
       "2021-11-16 00:31:48.358351          1\n",
       "2021-08-07 17:41:53.978987          1\n",
       "Name: date, Length: 336855, dtype: int64"
      ]
     },
     "execution_count": 45,
     "metadata": {},
     "output_type": "execute_result"
    }
   ],
   "source": [
    "transactions.date.value_counts()\n",
    "# il est possible d'avoir des doublons dans la date lors par exemple de test\n",
    "# Cependant, les dates sont enregistrées avec les heures (jusque à la nanoseconde), il est très peu probable d'avoir un doublon pour un achat standard\n",
    "# De plus, il serait intéressant de contacter le data architect (ou équivalent dans l'entreprise) pour savoir s'il existe un mécanisme qui empêche la duplicité d'une date\n",
    "# En supprimant, les enregistrements tests la date pourrait être une clé primaire candidate"
   ]
  },
  {
   "cell_type": "markdown",
   "metadata": {},
   "source": [
    "## Transactions : Modification"
   ]
  },
  {
   "cell_type": "markdown",
   "metadata": {},
   "source": [
    "### Création d'un pattern pour la date"
   ]
  },
  {
   "cell_type": "code",
   "execution_count": 46,
   "metadata": {},
   "outputs": [
    {
     "data": {
      "text/plain": [
       "'T_0'"
      ]
     },
     "execution_count": 46,
     "metadata": {},
     "output_type": "execute_result"
    }
   ],
   "source": [
    "id_product_neg"
   ]
  },
  {
   "cell_type": "code",
   "execution_count": 47,
   "metadata": {},
   "outputs": [
    {
     "data": {
      "text/html": [
       "<div>\n",
       "<style scoped>\n",
       "    .dataframe tbody tr th:only-of-type {\n",
       "        vertical-align: middle;\n",
       "    }\n",
       "\n",
       "    .dataframe tbody tr th {\n",
       "        vertical-align: top;\n",
       "    }\n",
       "\n",
       "    .dataframe thead th {\n",
       "        text-align: right;\n",
       "    }\n",
       "</style>\n",
       "<table border=\"1\" class=\"dataframe\">\n",
       "  <thead>\n",
       "    <tr style=\"text-align: right;\">\n",
       "      <th></th>\n",
       "      <th>id_prod</th>\n",
       "      <th>date</th>\n",
       "      <th>session_id</th>\n",
       "      <th>client_id</th>\n",
       "    </tr>\n",
       "  </thead>\n",
       "  <tbody>\n",
       "    <tr>\n",
       "      <th>1431</th>\n",
       "      <td>T_0</td>\n",
       "      <td>test_2021-03-01 02:30:02.237420</td>\n",
       "      <td>s_0</td>\n",
       "      <td>ct_1</td>\n",
       "    </tr>\n",
       "    <tr>\n",
       "      <th>2365</th>\n",
       "      <td>T_0</td>\n",
       "      <td>test_2021-03-01 02:30:02.237446</td>\n",
       "      <td>s_0</td>\n",
       "      <td>ct_1</td>\n",
       "    </tr>\n",
       "    <tr>\n",
       "      <th>2895</th>\n",
       "      <td>T_0</td>\n",
       "      <td>test_2021-03-01 02:30:02.237414</td>\n",
       "      <td>s_0</td>\n",
       "      <td>ct_1</td>\n",
       "    </tr>\n",
       "    <tr>\n",
       "      <th>5955</th>\n",
       "      <td>T_0</td>\n",
       "      <td>test_2021-03-01 02:30:02.237441</td>\n",
       "      <td>s_0</td>\n",
       "      <td>ct_0</td>\n",
       "    </tr>\n",
       "    <tr>\n",
       "      <th>7283</th>\n",
       "      <td>T_0</td>\n",
       "      <td>test_2021-03-01 02:30:02.237434</td>\n",
       "      <td>s_0</td>\n",
       "      <td>ct_1</td>\n",
       "    </tr>\n",
       "    <tr>\n",
       "      <th>...</th>\n",
       "      <td>...</td>\n",
       "      <td>...</td>\n",
       "      <td>...</td>\n",
       "      <td>...</td>\n",
       "    </tr>\n",
       "    <tr>\n",
       "      <th>332594</th>\n",
       "      <td>T_0</td>\n",
       "      <td>test_2021-03-01 02:30:02.237445</td>\n",
       "      <td>s_0</td>\n",
       "      <td>ct_0</td>\n",
       "    </tr>\n",
       "    <tr>\n",
       "      <th>332705</th>\n",
       "      <td>T_0</td>\n",
       "      <td>test_2021-03-01 02:30:02.237423</td>\n",
       "      <td>s_0</td>\n",
       "      <td>ct_1</td>\n",
       "    </tr>\n",
       "    <tr>\n",
       "      <th>332730</th>\n",
       "      <td>T_0</td>\n",
       "      <td>test_2021-03-01 02:30:02.237421</td>\n",
       "      <td>s_0</td>\n",
       "      <td>ct_1</td>\n",
       "    </tr>\n",
       "    <tr>\n",
       "      <th>333442</th>\n",
       "      <td>T_0</td>\n",
       "      <td>test_2021-03-01 02:30:02.237431</td>\n",
       "      <td>s_0</td>\n",
       "      <td>ct_1</td>\n",
       "    </tr>\n",
       "    <tr>\n",
       "      <th>335279</th>\n",
       "      <td>T_0</td>\n",
       "      <td>test_2021-03-01 02:30:02.237430</td>\n",
       "      <td>s_0</td>\n",
       "      <td>ct_0</td>\n",
       "    </tr>\n",
       "  </tbody>\n",
       "</table>\n",
       "<p>200 rows × 4 columns</p>\n",
       "</div>"
      ],
      "text/plain": [
       "       id_prod                             date session_id client_id\n",
       "1431       T_0  test_2021-03-01 02:30:02.237420        s_0      ct_1\n",
       "2365       T_0  test_2021-03-01 02:30:02.237446        s_0      ct_1\n",
       "2895       T_0  test_2021-03-01 02:30:02.237414        s_0      ct_1\n",
       "5955       T_0  test_2021-03-01 02:30:02.237441        s_0      ct_0\n",
       "7283       T_0  test_2021-03-01 02:30:02.237434        s_0      ct_1\n",
       "...        ...                              ...        ...       ...\n",
       "332594     T_0  test_2021-03-01 02:30:02.237445        s_0      ct_0\n",
       "332705     T_0  test_2021-03-01 02:30:02.237423        s_0      ct_1\n",
       "332730     T_0  test_2021-03-01 02:30:02.237421        s_0      ct_1\n",
       "333442     T_0  test_2021-03-01 02:30:02.237431        s_0      ct_1\n",
       "335279     T_0  test_2021-03-01 02:30:02.237430        s_0      ct_0\n",
       "\n",
       "[200 rows x 4 columns]"
      ]
     },
     "execution_count": 47,
     "metadata": {},
     "output_type": "execute_result"
    }
   ],
   "source": [
    "pattern_date = re.compile('^\\d{4}-\\d{2}-\\d{2} \\d{2}:\\d{2}:\\d{2}.\\d{6}') # Création du pattern \n",
    "transactions[~transactions.date.str.contains(pattern_date)]\n",
    "\n",
    "# id_prod T_0 correspond au produit avec un prix négatif\n",
    "# ct_x signifie 'client test'\n",
    "# s_0 est une session test"
   ]
  },
  {
   "cell_type": "code",
   "execution_count": 48,
   "metadata": {},
   "outputs": [
    {
     "data": {
      "text/plain": [
       "2021-05-03 17:02:41.421789    1\n",
       "2021-10-18 09:17:48.789866    1\n",
       "2021-08-27 15:06:40.323034    1\n",
       "2021-03-18 08:54:52.563976    1\n",
       "2021-04-28 23:33:50.851288    1\n",
       "                             ..\n",
       "2021-10-04 21:51:50.394651    1\n",
       "2021-07-31 06:45:24.349162    1\n",
       "2021-12-01 20:57:16.408838    1\n",
       "2021-11-07 11:53:38.092127    1\n",
       "2021-08-07 17:41:53.978987    1\n",
       "Name: date, Length: 336816, dtype: int64"
      ]
     },
     "metadata": {},
     "output_type": "display_data"
    }
   ],
   "source": [
    "date_test_index = transactions[~transactions.date.str.contains(pattern_date)].index # identification des index qui ne correspondent pas au pattern\n",
    "transactions.drop(date_test_index, inplace=True) # Suppression\n",
    "display(transactions.date.value_counts()) # plus de doublon, est-ce que c'est une bonne clé primaire pour autant ?\n",
    "transactions.date = pd.to_datetime(transactions.date, format='%Y-%m-%d %H:%M:%S.%f') # Modification du type de la variable de chaîne de caractère à date\n",
    "transactions.sort_values('date', inplace=True) # je trie les dates par ordre chronologique\n",
    "transactions.reset_index(inplace=True) # réinialisation de l'index par rapport à la date\n",
    "transactions.drop('index', axis=1, inplace=True) # Suppression de l'ancien index\n",
    "transactions = transactions[['date', 'session_id', 'client_id', 'id_prod']] # Réagencemment des colonnes"
   ]
  },
  {
   "cell_type": "code",
   "execution_count": 49,
   "metadata": {},
   "outputs": [
    {
     "name": "stdout",
     "output_type": "stream",
     "text": [
      "<class 'pandas.core.frame.DataFrame'>\n",
      "RangeIndex: 336816 entries, 0 to 336815\n",
      "Data columns (total 4 columns):\n",
      " #   Column      Non-Null Count   Dtype         \n",
      "---  ------      --------------   -----         \n",
      " 0   date        336816 non-null  datetime64[ns]\n",
      " 1   session_id  336816 non-null  object        \n",
      " 2   client_id   336816 non-null  object        \n",
      " 3   id_prod     336816 non-null  object        \n",
      "dtypes: datetime64[ns](1), object(3)\n",
      "memory usage: 10.3+ MB\n"
     ]
    }
   ],
   "source": [
    "transactions.info()"
   ]
  },
  {
   "cell_type": "markdown",
   "metadata": {},
   "source": [
    "## Vérification avant jointure : exploration des données manquantes et aberrantes"
   ]
  },
  {
   "cell_type": "markdown",
   "metadata": {},
   "source": [
    "### Transactions avec le code client du type 'ct_x' ou avec un prix négatif"
   ]
  },
  {
   "cell_type": "code",
   "execution_count": 50,
   "metadata": {},
   "outputs": [
    {
     "data": {
      "text/html": [
       "<div>\n",
       "<style scoped>\n",
       "    .dataframe tbody tr th:only-of-type {\n",
       "        vertical-align: middle;\n",
       "    }\n",
       "\n",
       "    .dataframe tbody tr th {\n",
       "        vertical-align: top;\n",
       "    }\n",
       "\n",
       "    .dataframe thead th {\n",
       "        text-align: right;\n",
       "    }\n",
       "</style>\n",
       "<table border=\"1\" class=\"dataframe\">\n",
       "  <thead>\n",
       "    <tr style=\"text-align: right;\">\n",
       "      <th></th>\n",
       "      <th>date</th>\n",
       "      <th>session_id</th>\n",
       "      <th>client_id</th>\n",
       "      <th>id_prod</th>\n",
       "    </tr>\n",
       "  </thead>\n",
       "  <tbody>\n",
       "  </tbody>\n",
       "</table>\n",
       "</div>"
      ],
      "text/plain": [
       "Empty DataFrame\n",
       "Columns: [date, session_id, client_id, id_prod]\n",
       "Index: []"
      ]
     },
     "execution_count": 50,
     "metadata": {},
     "output_type": "execute_result"
    }
   ],
   "source": [
    "transactions[transactions.client_id.isin(ct_list)]\n",
    "\n",
    "# Aucune transaction avec les client_id ct_x car elles ont été supprimé avec les dates test\n",
    "\n"
   ]
  },
  {
   "cell_type": "code",
   "execution_count": 51,
   "metadata": {},
   "outputs": [
    {
     "data": {
      "text/html": [
       "<div>\n",
       "<style scoped>\n",
       "    .dataframe tbody tr th:only-of-type {\n",
       "        vertical-align: middle;\n",
       "    }\n",
       "\n",
       "    .dataframe tbody tr th {\n",
       "        vertical-align: top;\n",
       "    }\n",
       "\n",
       "    .dataframe thead th {\n",
       "        text-align: right;\n",
       "    }\n",
       "</style>\n",
       "<table border=\"1\" class=\"dataframe\">\n",
       "  <thead>\n",
       "    <tr style=\"text-align: right;\">\n",
       "      <th></th>\n",
       "      <th>date</th>\n",
       "      <th>session_id</th>\n",
       "      <th>client_id</th>\n",
       "      <th>id_prod</th>\n",
       "    </tr>\n",
       "  </thead>\n",
       "  <tbody>\n",
       "  </tbody>\n",
       "</table>\n",
       "</div>"
      ],
      "text/plain": [
       "Empty DataFrame\n",
       "Columns: [date, session_id, client_id, id_prod]\n",
       "Index: []"
      ]
     },
     "execution_count": 51,
     "metadata": {},
     "output_type": "execute_result"
    }
   ],
   "source": [
    "transactions[transactions.id_prod == id_product_neg]\n",
    "\n",
    "# Aucune transaction avec le id_prod avec un prix négatif car elles ont été supprimé avec les dates test"
   ]
  },
  {
   "cell_type": "raw",
   "metadata": {},
   "source": [
    "La suppression des dates avec le format test_% a supprimée les valeurs aberrantes"
   ]
  },
  {
   "cell_type": "markdown",
   "metadata": {},
   "source": [
    "### Transactions avec un code client qui n'est pas dans la base customers"
   ]
  },
  {
   "cell_type": "code",
   "execution_count": 52,
   "metadata": {},
   "outputs": [
    {
     "data": {
      "text/html": [
       "<div>\n",
       "<style scoped>\n",
       "    .dataframe tbody tr th:only-of-type {\n",
       "        vertical-align: middle;\n",
       "    }\n",
       "\n",
       "    .dataframe tbody tr th {\n",
       "        vertical-align: top;\n",
       "    }\n",
       "\n",
       "    .dataframe thead th {\n",
       "        text-align: right;\n",
       "    }\n",
       "</style>\n",
       "<table border=\"1\" class=\"dataframe\">\n",
       "  <thead>\n",
       "    <tr style=\"text-align: right;\">\n",
       "      <th></th>\n",
       "      <th>date</th>\n",
       "      <th>session_id</th>\n",
       "      <th>client_id</th>\n",
       "      <th>id_prod</th>\n",
       "    </tr>\n",
       "  </thead>\n",
       "  <tbody>\n",
       "  </tbody>\n",
       "</table>\n",
       "</div>"
      ],
      "text/plain": [
       "Empty DataFrame\n",
       "Columns: [date, session_id, client_id, id_prod]\n",
       "Index: []"
      ]
     },
     "execution_count": 52,
     "metadata": {},
     "output_type": "execute_result"
    }
   ],
   "source": [
    "transactions[~transactions.client_id.isin(customers.client_id.unique())]\n",
    "\n",
    "# Pas de client manquant"
   ]
  },
  {
   "cell_type": "markdown",
   "metadata": {},
   "source": [
    "### Transactions avec un produit qui n'est pas présent dans la table products"
   ]
  },
  {
   "cell_type": "code",
   "execution_count": 53,
   "metadata": {},
   "outputs": [
    {
     "data": {
      "text/html": [
       "<div>\n",
       "<style scoped>\n",
       "    .dataframe tbody tr th:only-of-type {\n",
       "        vertical-align: middle;\n",
       "    }\n",
       "\n",
       "    .dataframe tbody tr th {\n",
       "        vertical-align: top;\n",
       "    }\n",
       "\n",
       "    .dataframe thead th {\n",
       "        text-align: right;\n",
       "    }\n",
       "</style>\n",
       "<table border=\"1\" class=\"dataframe\">\n",
       "  <thead>\n",
       "    <tr style=\"text-align: right;\">\n",
       "      <th></th>\n",
       "      <th>date</th>\n",
       "      <th>session_id</th>\n",
       "      <th>client_id</th>\n",
       "      <th>id_prod</th>\n",
       "    </tr>\n",
       "  </thead>\n",
       "  <tbody>\n",
       "    <tr>\n",
       "      <th>9</th>\n",
       "      <td>2021-03-01 00:09:29.301897</td>\n",
       "      <td>s_3</td>\n",
       "      <td>c_580</td>\n",
       "      <td>0_2245</td>\n",
       "    </tr>\n",
       "    <tr>\n",
       "      <th>1581</th>\n",
       "      <td>2021-03-02 15:55:49.728644</td>\n",
       "      <td>s_783</td>\n",
       "      <td>c_8060</td>\n",
       "      <td>0_2245</td>\n",
       "    </tr>\n",
       "    <tr>\n",
       "      <th>6366</th>\n",
       "      <td>2021-03-07 20:00:01.525768</td>\n",
       "      <td>s_3159</td>\n",
       "      <td>c_1189</td>\n",
       "      <td>0_2245</td>\n",
       "    </tr>\n",
       "    <tr>\n",
       "      <th>21042</th>\n",
       "      <td>2021-03-23 15:57:44.266387</td>\n",
       "      <td>s_10427</td>\n",
       "      <td>c_5869</td>\n",
       "      <td>0_2245</td>\n",
       "    </tr>\n",
       "    <tr>\n",
       "      <th>25330</th>\n",
       "      <td>2021-03-28 10:46:04.804784</td>\n",
       "      <td>s_12567</td>\n",
       "      <td>c_966</td>\n",
       "      <td>0_2245</td>\n",
       "    </tr>\n",
       "    <tr>\n",
       "      <th>...</th>\n",
       "      <td>...</td>\n",
       "      <td>...</td>\n",
       "      <td>...</td>\n",
       "      <td>...</td>\n",
       "    </tr>\n",
       "    <tr>\n",
       "      <th>327442</th>\n",
       "      <td>2022-02-20 03:50:42.646180</td>\n",
       "      <td>s_167926</td>\n",
       "      <td>c_7287</td>\n",
       "      <td>0_2245</td>\n",
       "    </tr>\n",
       "    <tr>\n",
       "      <th>331712</th>\n",
       "      <td>2022-02-24 04:18:45.054650</td>\n",
       "      <td>s_169978</td>\n",
       "      <td>c_5953</td>\n",
       "      <td>0_2245</td>\n",
       "    </tr>\n",
       "    <tr>\n",
       "      <th>332574</th>\n",
       "      <td>2022-02-25 00:08:08.736068</td>\n",
       "      <td>s_170426</td>\n",
       "      <td>c_6236</td>\n",
       "      <td>0_2245</td>\n",
       "    </tr>\n",
       "    <tr>\n",
       "      <th>332854</th>\n",
       "      <td>2022-02-25 06:36:49.557289</td>\n",
       "      <td>s_170548</td>\n",
       "      <td>c_2242</td>\n",
       "      <td>0_2245</td>\n",
       "    </tr>\n",
       "    <tr>\n",
       "      <th>336559</th>\n",
       "      <td>2022-02-28 18:08:49.875709</td>\n",
       "      <td>s_172304</td>\n",
       "      <td>c_4964</td>\n",
       "      <td>0_2245</td>\n",
       "    </tr>\n",
       "  </tbody>\n",
       "</table>\n",
       "<p>103 rows × 4 columns</p>\n",
       "</div>"
      ],
      "text/plain": [
       "                             date session_id client_id id_prod\n",
       "9      2021-03-01 00:09:29.301897        s_3     c_580  0_2245\n",
       "1581   2021-03-02 15:55:49.728644      s_783    c_8060  0_2245\n",
       "6366   2021-03-07 20:00:01.525768     s_3159    c_1189  0_2245\n",
       "21042  2021-03-23 15:57:44.266387    s_10427    c_5869  0_2245\n",
       "25330  2021-03-28 10:46:04.804784    s_12567     c_966  0_2245\n",
       "...                           ...        ...       ...     ...\n",
       "327442 2022-02-20 03:50:42.646180   s_167926    c_7287  0_2245\n",
       "331712 2022-02-24 04:18:45.054650   s_169978    c_5953  0_2245\n",
       "332574 2022-02-25 00:08:08.736068   s_170426    c_6236  0_2245\n",
       "332854 2022-02-25 06:36:49.557289   s_170548    c_2242  0_2245\n",
       "336559 2022-02-28 18:08:49.875709   s_172304    c_4964  0_2245\n",
       "\n",
       "[103 rows x 4 columns]"
      ]
     },
     "execution_count": 53,
     "metadata": {},
     "output_type": "execute_result"
    }
   ],
   "source": [
    "transactions[~transactions.id_prod.isin(products.id_prod.unique())]\n",
    "# Il existe un produit dans transactions qui n'est pas dans présent dans la table products"
   ]
  },
  {
   "cell_type": "markdown",
   "metadata": {},
   "source": [
    "### Ajout du produit manquant à la table 'products', prix à la médiane"
   ]
  },
  {
   "cell_type": "code",
   "execution_count": 54,
   "metadata": {},
   "outputs": [
    {
     "data": {
      "text/html": [
       "<div>\n",
       "<style scoped>\n",
       "    .dataframe tbody tr th:only-of-type {\n",
       "        vertical-align: middle;\n",
       "    }\n",
       "\n",
       "    .dataframe tbody tr th {\n",
       "        vertical-align: top;\n",
       "    }\n",
       "\n",
       "    .dataframe thead th {\n",
       "        text-align: right;\n",
       "    }\n",
       "</style>\n",
       "<table border=\"1\" class=\"dataframe\">\n",
       "  <thead>\n",
       "    <tr style=\"text-align: right;\">\n",
       "      <th></th>\n",
       "      <th>id_prod</th>\n",
       "      <th>price</th>\n",
       "      <th>categ</th>\n",
       "    </tr>\n",
       "  </thead>\n",
       "  <tbody>\n",
       "    <tr>\n",
       "      <th>0</th>\n",
       "      <td>0_1421</td>\n",
       "      <td>19.99</td>\n",
       "      <td>0</td>\n",
       "    </tr>\n",
       "    <tr>\n",
       "      <th>1</th>\n",
       "      <td>0_1368</td>\n",
       "      <td>5.13</td>\n",
       "      <td>0</td>\n",
       "    </tr>\n",
       "    <tr>\n",
       "      <th>2</th>\n",
       "      <td>0_731</td>\n",
       "      <td>17.99</td>\n",
       "      <td>0</td>\n",
       "    </tr>\n",
       "    <tr>\n",
       "      <th>3</th>\n",
       "      <td>1_587</td>\n",
       "      <td>4.99</td>\n",
       "      <td>1</td>\n",
       "    </tr>\n",
       "    <tr>\n",
       "      <th>4</th>\n",
       "      <td>0_1507</td>\n",
       "      <td>3.99</td>\n",
       "      <td>0</td>\n",
       "    </tr>\n",
       "    <tr>\n",
       "      <th>...</th>\n",
       "      <td>...</td>\n",
       "      <td>...</td>\n",
       "      <td>...</td>\n",
       "    </tr>\n",
       "    <tr>\n",
       "      <th>3283</th>\n",
       "      <td>0_146</td>\n",
       "      <td>17.14</td>\n",
       "      <td>0</td>\n",
       "    </tr>\n",
       "    <tr>\n",
       "      <th>3284</th>\n",
       "      <td>0_802</td>\n",
       "      <td>11.22</td>\n",
       "      <td>0</td>\n",
       "    </tr>\n",
       "    <tr>\n",
       "      <th>3285</th>\n",
       "      <td>1_140</td>\n",
       "      <td>38.56</td>\n",
       "      <td>1</td>\n",
       "    </tr>\n",
       "    <tr>\n",
       "      <th>3286</th>\n",
       "      <td>0_1920</td>\n",
       "      <td>25.16</td>\n",
       "      <td>0</td>\n",
       "    </tr>\n",
       "    <tr>\n",
       "      <th>3287</th>\n",
       "      <td>0_2245</td>\n",
       "      <td>10.32</td>\n",
       "      <td>0</td>\n",
       "    </tr>\n",
       "  </tbody>\n",
       "</table>\n",
       "<p>3288 rows × 3 columns</p>\n",
       "</div>"
      ],
      "text/plain": [
       "     id_prod  price  categ\n",
       "0     0_1421  19.99      0\n",
       "1     0_1368   5.13      0\n",
       "2      0_731  17.99      0\n",
       "3      1_587   4.99      1\n",
       "4     0_1507   3.99      0\n",
       "...      ...    ...    ...\n",
       "3283   0_146  17.14      0\n",
       "3284   0_802  11.22      0\n",
       "3285   1_140  38.56      1\n",
       "3286  0_1920  25.16      0\n",
       "3287  0_2245  10.32      0\n",
       "\n",
       "[3288 rows x 3 columns]"
      ]
     },
     "execution_count": 54,
     "metadata": {},
     "output_type": "execute_result"
    }
   ],
   "source": [
    "products.append({'id_prod': '0_2245', 'price' : products_describe.loc[0,'50%'], 'categ' : 0}, ignore_index=True)\n",
    "\n",
    "#std faible --> bonne chose"
   ]
  },
  {
   "cell_type": "markdown",
   "metadata": {},
   "source": [
    "# Jointure des tables"
   ]
  },
  {
   "cell_type": "markdown",
   "metadata": {},
   "source": [
    "## Jointure à gauche (transactions) avec customers sur 'client_id'"
   ]
  },
  {
   "cell_type": "code",
   "execution_count": 55,
   "metadata": {},
   "outputs": [],
   "source": [
    "#jointure entre transactions et customers\n",
    "data = pd.merge(transactions, customers, on='client_id')"
   ]
  },
  {
   "cell_type": "markdown",
   "metadata": {},
   "source": [
    "## Jointure à gauche (précédent DF joint entre transactions et customers) avec products sur 'id_prod'"
   ]
  },
  {
   "cell_type": "code",
   "execution_count": 56,
   "metadata": {},
   "outputs": [],
   "source": [
    "#jointure entre data et products\n",
    "data = pd.merge(data, products, on='id_prod')"
   ]
  },
  {
   "cell_type": "code",
   "execution_count": 57,
   "metadata": {},
   "outputs": [
    {
     "data": {
      "text/html": [
       "<div>\n",
       "<style scoped>\n",
       "    .dataframe tbody tr th:only-of-type {\n",
       "        vertical-align: middle;\n",
       "    }\n",
       "\n",
       "    .dataframe tbody tr th {\n",
       "        vertical-align: top;\n",
       "    }\n",
       "\n",
       "    .dataframe thead th {\n",
       "        text-align: right;\n",
       "    }\n",
       "</style>\n",
       "<table border=\"1\" class=\"dataframe\">\n",
       "  <thead>\n",
       "    <tr style=\"text-align: right;\">\n",
       "      <th></th>\n",
       "      <th>date</th>\n",
       "      <th>session_id</th>\n",
       "      <th>client_id</th>\n",
       "      <th>id_prod</th>\n",
       "      <th>sex</th>\n",
       "      <th>birth</th>\n",
       "      <th>price</th>\n",
       "      <th>categ</th>\n",
       "    </tr>\n",
       "  </thead>\n",
       "  <tbody>\n",
       "    <tr>\n",
       "      <th>0</th>\n",
       "      <td>2021-03-01 00:01:07.843138</td>\n",
       "      <td>s_1</td>\n",
       "      <td>c_329</td>\n",
       "      <td>0_1259</td>\n",
       "      <td>f</td>\n",
       "      <td>1967</td>\n",
       "      <td>11.99</td>\n",
       "      <td>0</td>\n",
       "    </tr>\n",
       "    <tr>\n",
       "      <th>1</th>\n",
       "      <td>2021-03-04 07:26:01.343183</td>\n",
       "      <td>s_1519</td>\n",
       "      <td>c_1609</td>\n",
       "      <td>0_1259</td>\n",
       "      <td>m</td>\n",
       "      <td>1980</td>\n",
       "      <td>11.99</td>\n",
       "      <td>0</td>\n",
       "    </tr>\n",
       "    <tr>\n",
       "      <th>2</th>\n",
       "      <td>2021-06-24 09:40:37.526181</td>\n",
       "      <td>s_53058</td>\n",
       "      <td>c_1609</td>\n",
       "      <td>0_1259</td>\n",
       "      <td>m</td>\n",
       "      <td>1980</td>\n",
       "      <td>11.99</td>\n",
       "      <td>0</td>\n",
       "    </tr>\n",
       "    <tr>\n",
       "      <th>3</th>\n",
       "      <td>2021-06-24 14:40:37.428842</td>\n",
       "      <td>s_53165</td>\n",
       "      <td>c_1609</td>\n",
       "      <td>0_1259</td>\n",
       "      <td>m</td>\n",
       "      <td>1980</td>\n",
       "      <td>11.99</td>\n",
       "      <td>0</td>\n",
       "    </tr>\n",
       "    <tr>\n",
       "      <th>4</th>\n",
       "      <td>2021-09-26 21:30:08.966835</td>\n",
       "      <td>s_96014</td>\n",
       "      <td>c_1609</td>\n",
       "      <td>0_1259</td>\n",
       "      <td>m</td>\n",
       "      <td>1980</td>\n",
       "      <td>11.99</td>\n",
       "      <td>0</td>\n",
       "    </tr>\n",
       "  </tbody>\n",
       "</table>\n",
       "</div>"
      ],
      "text/plain": [
       "                        date session_id client_id id_prod sex  birth  price  \\\n",
       "0 2021-03-01 00:01:07.843138        s_1     c_329  0_1259   f   1967  11.99   \n",
       "1 2021-03-04 07:26:01.343183     s_1519    c_1609  0_1259   m   1980  11.99   \n",
       "2 2021-06-24 09:40:37.526181    s_53058    c_1609  0_1259   m   1980  11.99   \n",
       "3 2021-06-24 14:40:37.428842    s_53165    c_1609  0_1259   m   1980  11.99   \n",
       "4 2021-09-26 21:30:08.966835    s_96014    c_1609  0_1259   m   1980  11.99   \n",
       "\n",
       "  categ  \n",
       "0     0  \n",
       "1     0  \n",
       "2     0  \n",
       "3     0  \n",
       "4     0  "
      ]
     },
     "execution_count": 57,
     "metadata": {},
     "output_type": "execute_result"
    }
   ],
   "source": [
    "data.head()"
   ]
  },
  {
   "cell_type": "markdown",
   "metadata": {},
   "source": [
    "## Vérification après jointure"
   ]
  },
  {
   "cell_type": "markdown",
   "metadata": {},
   "source": [
    "#### ct_list et id_prod_neg dans data ?"
   ]
  },
  {
   "cell_type": "code",
   "execution_count": 58,
   "metadata": {},
   "outputs": [
    {
     "data": {
      "text/html": [
       "<div>\n",
       "<style scoped>\n",
       "    .dataframe tbody tr th:only-of-type {\n",
       "        vertical-align: middle;\n",
       "    }\n",
       "\n",
       "    .dataframe tbody tr th {\n",
       "        vertical-align: top;\n",
       "    }\n",
       "\n",
       "    .dataframe thead th {\n",
       "        text-align: right;\n",
       "    }\n",
       "</style>\n",
       "<table border=\"1\" class=\"dataframe\">\n",
       "  <thead>\n",
       "    <tr style=\"text-align: right;\">\n",
       "      <th></th>\n",
       "      <th>date</th>\n",
       "      <th>session_id</th>\n",
       "      <th>client_id</th>\n",
       "      <th>id_prod</th>\n",
       "      <th>sex</th>\n",
       "      <th>birth</th>\n",
       "      <th>price</th>\n",
       "      <th>categ</th>\n",
       "    </tr>\n",
       "  </thead>\n",
       "  <tbody>\n",
       "  </tbody>\n",
       "</table>\n",
       "</div>"
      ],
      "text/plain": [
       "Empty DataFrame\n",
       "Columns: [date, session_id, client_id, id_prod, sex, birth, price, categ]\n",
       "Index: []"
      ]
     },
     "execution_count": 58,
     "metadata": {},
     "output_type": "execute_result"
    }
   ],
   "source": [
    "data.loc[(data.client_id.isin(ct_list))|(data.id_prod == id_product_neg)]\n",
    "\n",
    "# Non"
   ]
  },
  {
   "cell_type": "markdown",
   "metadata": {},
   "source": [
    "#### Est-ce que le premier  chiffre de id_prod est toujours égale à la catégorie ?"
   ]
  },
  {
   "cell_type": "code",
   "execution_count": 59,
   "metadata": {},
   "outputs": [],
   "source": [
    "test1 = data.id_prod.str[0:1].astype('float').rename('test')\n",
    "test2 = data.categ.astype('float').rename('test')\n",
    "pd.testing.assert_series_equal(test1, test2)\n",
    "\n",
    "# Pas de résultats --> les séries sont identiques\n",
    "# Pour chaque produit, le premier chiffre de id_prod correspond bien à la catégorie "
   ]
  },
  {
   "cell_type": "markdown",
   "metadata": {},
   "source": [
    "### Tri des transactions par date"
   ]
  },
  {
   "cell_type": "code",
   "execution_count": 60,
   "metadata": {},
   "outputs": [
    {
     "data": {
      "text/html": [
       "<div>\n",
       "<style scoped>\n",
       "    .dataframe tbody tr th:only-of-type {\n",
       "        vertical-align: middle;\n",
       "    }\n",
       "\n",
       "    .dataframe tbody tr th {\n",
       "        vertical-align: top;\n",
       "    }\n",
       "\n",
       "    .dataframe thead th {\n",
       "        text-align: right;\n",
       "    }\n",
       "</style>\n",
       "<table border=\"1\" class=\"dataframe\">\n",
       "  <thead>\n",
       "    <tr style=\"text-align: right;\">\n",
       "      <th></th>\n",
       "      <th>session_id</th>\n",
       "      <th>client_id</th>\n",
       "      <th>id_prod</th>\n",
       "      <th>sex</th>\n",
       "      <th>birth</th>\n",
       "      <th>price</th>\n",
       "      <th>categ</th>\n",
       "    </tr>\n",
       "    <tr>\n",
       "      <th>date</th>\n",
       "      <th></th>\n",
       "      <th></th>\n",
       "      <th></th>\n",
       "      <th></th>\n",
       "      <th></th>\n",
       "      <th></th>\n",
       "      <th></th>\n",
       "    </tr>\n",
       "  </thead>\n",
       "  <tbody>\n",
       "    <tr>\n",
       "      <th>2021-03-01 00:01:07.843138</th>\n",
       "      <td>s_1</td>\n",
       "      <td>c_329</td>\n",
       "      <td>0_1259</td>\n",
       "      <td>f</td>\n",
       "      <td>1967</td>\n",
       "      <td>11.99</td>\n",
       "      <td>0</td>\n",
       "    </tr>\n",
       "    <tr>\n",
       "      <th>2021-03-01 00:02:26.047414</th>\n",
       "      <td>s_2</td>\n",
       "      <td>c_664</td>\n",
       "      <td>0_1390</td>\n",
       "      <td>m</td>\n",
       "      <td>1960</td>\n",
       "      <td>19.37</td>\n",
       "      <td>0</td>\n",
       "    </tr>\n",
       "    <tr>\n",
       "      <th>2021-03-01 00:02:38.311413</th>\n",
       "      <td>s_3</td>\n",
       "      <td>c_580</td>\n",
       "      <td>0_1352</td>\n",
       "      <td>m</td>\n",
       "      <td>1988</td>\n",
       "      <td>4.50</td>\n",
       "      <td>0</td>\n",
       "    </tr>\n",
       "    <tr>\n",
       "      <th>2021-03-01 00:04:54.559692</th>\n",
       "      <td>s_4</td>\n",
       "      <td>c_7912</td>\n",
       "      <td>0_1458</td>\n",
       "      <td>f</td>\n",
       "      <td>1989</td>\n",
       "      <td>6.55</td>\n",
       "      <td>0</td>\n",
       "    </tr>\n",
       "    <tr>\n",
       "      <th>2021-03-01 00:05:18.801198</th>\n",
       "      <td>s_5</td>\n",
       "      <td>c_2033</td>\n",
       "      <td>0_1358</td>\n",
       "      <td>f</td>\n",
       "      <td>1956</td>\n",
       "      <td>16.49</td>\n",
       "      <td>0</td>\n",
       "    </tr>\n",
       "    <tr>\n",
       "      <th>...</th>\n",
       "      <td>...</td>\n",
       "      <td>...</td>\n",
       "      <td>...</td>\n",
       "      <td>...</td>\n",
       "      <td>...</td>\n",
       "      <td>...</td>\n",
       "      <td>...</td>\n",
       "    </tr>\n",
       "    <tr>\n",
       "      <th>2022-02-28 23:56:57.196281</th>\n",
       "      <td>s_172422</td>\n",
       "      <td>c_5787</td>\n",
       "      <td>1_456</td>\n",
       "      <td>f</td>\n",
       "      <td>1986</td>\n",
       "      <td>28.27</td>\n",
       "      <td>1</td>\n",
       "    </tr>\n",
       "    <tr>\n",
       "      <th>2022-02-28 23:56:57.561424</th>\n",
       "      <td>s_172423</td>\n",
       "      <td>c_1460</td>\n",
       "      <td>1_370</td>\n",
       "      <td>m</td>\n",
       "      <td>1989</td>\n",
       "      <td>13.11</td>\n",
       "      <td>1</td>\n",
       "    </tr>\n",
       "    <tr>\n",
       "      <th>2022-02-28 23:57:12.741573</th>\n",
       "      <td>s_172424</td>\n",
       "      <td>c_1876</td>\n",
       "      <td>0_1538</td>\n",
       "      <td>m</td>\n",
       "      <td>1983</td>\n",
       "      <td>8.61</td>\n",
       "      <td>0</td>\n",
       "    </tr>\n",
       "    <tr>\n",
       "      <th>2022-02-28 23:59:02.381670</th>\n",
       "      <td>s_172423</td>\n",
       "      <td>c_1460</td>\n",
       "      <td>0_1403</td>\n",
       "      <td>m</td>\n",
       "      <td>1989</td>\n",
       "      <td>15.99</td>\n",
       "      <td>0</td>\n",
       "    </tr>\n",
       "    <tr>\n",
       "      <th>2022-02-28 23:59:58.040472</th>\n",
       "      <td>s_172423</td>\n",
       "      <td>c_1460</td>\n",
       "      <td>0_1775</td>\n",
       "      <td>m</td>\n",
       "      <td>1989</td>\n",
       "      <td>6.99</td>\n",
       "      <td>0</td>\n",
       "    </tr>\n",
       "  </tbody>\n",
       "</table>\n",
       "<p>336713 rows × 7 columns</p>\n",
       "</div>"
      ],
      "text/plain": [
       "                           session_id client_id id_prod sex  birth  price  \\\n",
       "date                                                                        \n",
       "2021-03-01 00:01:07.843138        s_1     c_329  0_1259   f   1967  11.99   \n",
       "2021-03-01 00:02:26.047414        s_2     c_664  0_1390   m   1960  19.37   \n",
       "2021-03-01 00:02:38.311413        s_3     c_580  0_1352   m   1988   4.50   \n",
       "2021-03-01 00:04:54.559692        s_4    c_7912  0_1458   f   1989   6.55   \n",
       "2021-03-01 00:05:18.801198        s_5    c_2033  0_1358   f   1956  16.49   \n",
       "...                               ...       ...     ...  ..    ...    ...   \n",
       "2022-02-28 23:56:57.196281   s_172422    c_5787   1_456   f   1986  28.27   \n",
       "2022-02-28 23:56:57.561424   s_172423    c_1460   1_370   m   1989  13.11   \n",
       "2022-02-28 23:57:12.741573   s_172424    c_1876  0_1538   m   1983   8.61   \n",
       "2022-02-28 23:59:02.381670   s_172423    c_1460  0_1403   m   1989  15.99   \n",
       "2022-02-28 23:59:58.040472   s_172423    c_1460  0_1775   m   1989   6.99   \n",
       "\n",
       "                           categ  \n",
       "date                              \n",
       "2021-03-01 00:01:07.843138     0  \n",
       "2021-03-01 00:02:26.047414     0  \n",
       "2021-03-01 00:02:38.311413     0  \n",
       "2021-03-01 00:04:54.559692     0  \n",
       "2021-03-01 00:05:18.801198     0  \n",
       "...                          ...  \n",
       "2022-02-28 23:56:57.196281     1  \n",
       "2022-02-28 23:56:57.561424     1  \n",
       "2022-02-28 23:57:12.741573     0  \n",
       "2022-02-28 23:59:02.381670     0  \n",
       "2022-02-28 23:59:58.040472     0  \n",
       "\n",
       "[336713 rows x 7 columns]"
      ]
     },
     "execution_count": 60,
     "metadata": {},
     "output_type": "execute_result"
    }
   ],
   "source": [
    "data = data.set_index('date') # 'date' devient l'index\n",
    "data.sort_values('date') # tri des données par date"
   ]
  },
  {
   "cell_type": "markdown",
   "metadata": {},
   "source": [
    "# Data : calcul des indicateurs"
   ]
  },
  {
   "cell_type": "markdown",
   "metadata": {},
   "source": [
    "## Chiffre d'affaires par mois"
   ]
  },
  {
   "cell_type": "code",
   "execution_count": 61,
   "metadata": {},
   "outputs": [
    {
     "data": {
      "text/html": [
       "<div>\n",
       "<style scoped>\n",
       "    .dataframe tbody tr th:only-of-type {\n",
       "        vertical-align: middle;\n",
       "    }\n",
       "\n",
       "    .dataframe tbody tr th {\n",
       "        vertical-align: top;\n",
       "    }\n",
       "\n",
       "    .dataframe thead th {\n",
       "        text-align: right;\n",
       "    }\n",
       "</style>\n",
       "<table border=\"1\" class=\"dataframe\">\n",
       "  <thead>\n",
       "    <tr style=\"text-align: right;\">\n",
       "      <th></th>\n",
       "      <th>price</th>\n",
       "    </tr>\n",
       "    <tr>\n",
       "      <th>date</th>\n",
       "      <th></th>\n",
       "    </tr>\n",
       "  </thead>\n",
       "  <tbody>\n",
       "    <tr>\n",
       "      <th>2021-03-31</th>\n",
       "      <td>479312.03</td>\n",
       "    </tr>\n",
       "    <tr>\n",
       "      <th>2021-04-30</th>\n",
       "      <td>472980.72</td>\n",
       "    </tr>\n",
       "    <tr>\n",
       "      <th>2021-05-31</th>\n",
       "      <td>489367.95</td>\n",
       "    </tr>\n",
       "    <tr>\n",
       "      <th>2021-06-30</th>\n",
       "      <td>481257.94</td>\n",
       "    </tr>\n",
       "    <tr>\n",
       "      <th>2021-07-31</th>\n",
       "      <td>480898.66</td>\n",
       "    </tr>\n",
       "    <tr>\n",
       "      <th>2021-08-31</th>\n",
       "      <td>479305.19</td>\n",
       "    </tr>\n",
       "    <tr>\n",
       "      <th>2021-09-30</th>\n",
       "      <td>502771.28</td>\n",
       "    </tr>\n",
       "    <tr>\n",
       "      <th>2021-10-31</th>\n",
       "      <td>319159.96</td>\n",
       "    </tr>\n",
       "    <tr>\n",
       "      <th>2021-11-30</th>\n",
       "      <td>512890.17</td>\n",
       "    </tr>\n",
       "    <tr>\n",
       "      <th>2021-12-31</th>\n",
       "      <td>522937.68</td>\n",
       "    </tr>\n",
       "    <tr>\n",
       "      <th>2022-01-31</th>\n",
       "      <td>522955.31</td>\n",
       "    </tr>\n",
       "    <tr>\n",
       "      <th>2022-02-28</th>\n",
       "      <td>532740.88</td>\n",
       "    </tr>\n",
       "  </tbody>\n",
       "</table>\n",
       "</div>"
      ],
      "text/plain": [
       "                price\n",
       "date                 \n",
       "2021-03-31  479312.03\n",
       "2021-04-30  472980.72\n",
       "2021-05-31  489367.95\n",
       "2021-06-30  481257.94\n",
       "2021-07-31  480898.66\n",
       "2021-08-31  479305.19\n",
       "2021-09-30  502771.28\n",
       "2021-10-31  319159.96\n",
       "2021-11-30  512890.17\n",
       "2021-12-31  522937.68\n",
       "2022-01-31  522955.31\n",
       "2022-02-28  532740.88"
      ]
     },
     "execution_count": 61,
     "metadata": {},
     "output_type": "execute_result"
    }
   ],
   "source": [
    "ca_m = data.resample('M')[['price']].sum()\n",
    "ca_m\n",
    "\n",
    "# Echantillionage des données par mois grâce à l'index date"
   ]
  },
  {
   "cell_type": "code",
   "execution_count": 62,
   "metadata": {},
   "outputs": [
    {
     "data": {
      "text/plain": [
       "5796577.769998947"
      ]
     },
     "execution_count": 62,
     "metadata": {},
     "output_type": "execute_result"
    }
   ],
   "source": [
    "total_CA = ca_m['price'].sum() # Montant du chiffre d'affaires total\n",
    "total_CA"
   ]
  },
  {
   "cell_type": "markdown",
   "metadata": {},
   "source": [
    "## Taux de croissance du CA par mois"
   ]
  },
  {
   "cell_type": "code",
   "execution_count": 63,
   "metadata": {},
   "outputs": [
    {
     "name": "stdout",
     "output_type": "stream",
     "text": [
      "[0, -1.321, 3.465, -1.657, -0.075, -0.331, 4.896, -36.52, 60.7, 1.959, 0.003, 1.871]\n"
     ]
    }
   ],
   "source": [
    "# Création d'une boucle pour calculer le taux de croissance du CA d'un mois à l'autre\n",
    "\n",
    "i = 1 # compteur\n",
    "growth_rate=[0] # iniatilisation de la liste, départ à 0 pour le premier mois\n",
    "\n",
    "while i < len(ca_m.values): # on continue la boucle tant qu'il y a des valeurs dans la série\n",
    "    var = ((ca_m.values[i] - ca_m.values[i-1]) / ca_m.values[i-1]) * 100 # calcul du ratio\n",
    "    i +=1 # incrémentation\n",
    "    growth_rate.append(round(float(var),3)) # ajout de la valeur arrondie à la liste\n",
    "print(growth_rate)"
   ]
  },
  {
   "cell_type": "code",
   "execution_count": 64,
   "metadata": {},
   "outputs": [
    {
     "data": {
      "text/html": [
       "<div>\n",
       "<style scoped>\n",
       "    .dataframe tbody tr th:only-of-type {\n",
       "        vertical-align: middle;\n",
       "    }\n",
       "\n",
       "    .dataframe tbody tr th {\n",
       "        vertical-align: top;\n",
       "    }\n",
       "\n",
       "    .dataframe thead th {\n",
       "        text-align: right;\n",
       "    }\n",
       "</style>\n",
       "<table border=\"1\" class=\"dataframe\">\n",
       "  <thead>\n",
       "    <tr style=\"text-align: right;\">\n",
       "      <th></th>\n",
       "      <th>price</th>\n",
       "      <th>growth_rate_percentage</th>\n",
       "    </tr>\n",
       "    <tr>\n",
       "      <th>date</th>\n",
       "      <th></th>\n",
       "      <th></th>\n",
       "    </tr>\n",
       "  </thead>\n",
       "  <tbody>\n",
       "    <tr>\n",
       "      <th>2021-03-31</th>\n",
       "      <td>479312.03</td>\n",
       "      <td>0.000</td>\n",
       "    </tr>\n",
       "    <tr>\n",
       "      <th>2021-04-30</th>\n",
       "      <td>472980.72</td>\n",
       "      <td>-1.321</td>\n",
       "    </tr>\n",
       "    <tr>\n",
       "      <th>2021-05-31</th>\n",
       "      <td>489367.95</td>\n",
       "      <td>3.465</td>\n",
       "    </tr>\n",
       "    <tr>\n",
       "      <th>2021-06-30</th>\n",
       "      <td>481257.94</td>\n",
       "      <td>-1.657</td>\n",
       "    </tr>\n",
       "    <tr>\n",
       "      <th>2021-07-31</th>\n",
       "      <td>480898.66</td>\n",
       "      <td>-0.075</td>\n",
       "    </tr>\n",
       "    <tr>\n",
       "      <th>2021-08-31</th>\n",
       "      <td>479305.19</td>\n",
       "      <td>-0.331</td>\n",
       "    </tr>\n",
       "    <tr>\n",
       "      <th>2021-09-30</th>\n",
       "      <td>502771.28</td>\n",
       "      <td>4.896</td>\n",
       "    </tr>\n",
       "    <tr>\n",
       "      <th>2021-10-31</th>\n",
       "      <td>319159.96</td>\n",
       "      <td>-36.520</td>\n",
       "    </tr>\n",
       "    <tr>\n",
       "      <th>2021-11-30</th>\n",
       "      <td>512890.17</td>\n",
       "      <td>60.700</td>\n",
       "    </tr>\n",
       "    <tr>\n",
       "      <th>2021-12-31</th>\n",
       "      <td>522937.68</td>\n",
       "      <td>1.959</td>\n",
       "    </tr>\n",
       "    <tr>\n",
       "      <th>2022-01-31</th>\n",
       "      <td>522955.31</td>\n",
       "      <td>0.003</td>\n",
       "    </tr>\n",
       "    <tr>\n",
       "      <th>2022-02-28</th>\n",
       "      <td>532740.88</td>\n",
       "      <td>1.871</td>\n",
       "    </tr>\n",
       "  </tbody>\n",
       "</table>\n",
       "</div>"
      ],
      "text/plain": [
       "                price  growth_rate_percentage\n",
       "date                                         \n",
       "2021-03-31  479312.03                   0.000\n",
       "2021-04-30  472980.72                  -1.321\n",
       "2021-05-31  489367.95                   3.465\n",
       "2021-06-30  481257.94                  -1.657\n",
       "2021-07-31  480898.66                  -0.075\n",
       "2021-08-31  479305.19                  -0.331\n",
       "2021-09-30  502771.28                   4.896\n",
       "2021-10-31  319159.96                 -36.520\n",
       "2021-11-30  512890.17                  60.700\n",
       "2021-12-31  522937.68                   1.959\n",
       "2022-01-31  522955.31                   0.003\n",
       "2022-02-28  532740.88                   1.871"
      ]
     },
     "execution_count": 64,
     "metadata": {},
     "output_type": "execute_result"
    }
   ],
   "source": [
    "# ajout de la liste au df ca_m\n",
    "ca_m['growth_rate_percentage'] = growth_rate \n",
    "ca_m.head(12)"
   ]
  },
  {
   "cell_type": "code",
   "execution_count": 65,
   "metadata": {},
   "outputs": [
    {
     "data": {
      "image/png": "[encoded data removed]",
      "text/plain": [
       "<Figure size 432x288 with 1 Axes>"
      ]
     },
     "metadata": {
      "needs_background": "light"
     },
     "output_type": "display_data"
    }
   ],
   "source": [
    "ca_m['price'].plot(legend=True)\n",
    "plt.title('évolution du CA')\n",
    "plt.ylabel('CA en euros')\n",
    "plt.savefig('CA_mensuel')\n",
    "plt.show()\n",
    "\n",
    "# Baisse très importante du CA en octobre. Lien avec la rentrée scolaire de septembre ?"
   ]
  },
  {
   "cell_type": "markdown",
   "metadata": {},
   "source": [
    "## Exploration de la baisse d'octobre"
   ]
  },
  {
   "cell_type": "markdown",
   "metadata": {},
   "source": [
    "### Manque t-il des jours ?"
   ]
  },
  {
   "cell_type": "code",
   "execution_count": 66,
   "metadata": {},
   "outputs": [
    {
     "data": {
      "text/plain": [
       "date\n",
       "2021-10-01    16909.36\n",
       "2021-10-02     9033.15\n",
       "2021-10-03     8844.07\n",
       "2021-10-04     9130.70\n",
       "2021-10-05     9390.46\n",
       "2021-10-06     9341.71\n",
       "2021-10-07     8191.08\n",
       "2021-10-08    10207.35\n",
       "2021-10-09     9425.36\n",
       "2021-10-10     8676.67\n",
       "2021-10-11    10230.56\n",
       "2021-10-12     8822.17\n",
       "2021-10-13     9427.22\n",
       "2021-10-14     9320.80\n",
       "2021-10-15     9249.85\n",
       "2021-10-16    10229.02\n",
       "2021-10-17     9557.98\n",
       "2021-10-18     9083.72\n",
       "2021-10-19     8601.71\n",
       "2021-10-20     9021.19\n",
       "2021-10-21     9571.79\n",
       "2021-10-22     8318.88\n",
       "2021-10-23     8910.64\n",
       "2021-10-24     9923.19\n",
       "2021-10-25     8076.04\n",
       "2021-10-26     8871.81\n",
       "2021-10-27     9789.53\n",
       "2021-10-28    14758.42\n",
       "2021-10-29    16453.63\n",
       "2021-10-30    15386.78\n",
       "2021-10-31    16405.12\n",
       "Freq: D, Name: price, dtype: float64"
      ]
     },
     "execution_count": 66,
     "metadata": {},
     "output_type": "execute_result"
    }
   ],
   "source": [
    "data['2021-Oct'].resample('D')['price'].sum()\n",
    "\n",
    "# Pas de jour manquant "
   ]
  },
  {
   "cell_type": "markdown",
   "metadata": {},
   "source": [
    "### Analyse des catégories"
   ]
  },
  {
   "cell_type": "markdown",
   "metadata": {},
   "source": [
    "#### CA mensuel moyen par catégorie"
   ]
  },
  {
   "cell_type": "code",
   "execution_count": 67,
   "metadata": {},
   "outputs": [
    {
     "data": {
      "text/plain": [
       "array([185810.22083342, 187282.0341667 , 109955.89249999])"
      ]
     },
     "execution_count": 67,
     "metadata": {},
     "output_type": "execute_result"
    }
   ],
   "source": [
    "categ_avg = data.groupby('categ')['price'].sum() / 12 # Chiffre d'affaires regroupé par catégorie et divisé par 12\n",
    "categ_avg.to_numpy()"
   ]
  },
  {
   "cell_type": "code",
   "execution_count": 68,
   "metadata": {},
   "outputs": [
    {
     "data": {
      "text/plain": [
       "categ\n",
       "0    199217.94\n",
       "1     33762.32\n",
       "2     86179.70\n",
       "Name: price, dtype: float64"
      ]
     },
     "execution_count": 68,
     "metadata": {},
     "output_type": "execute_result"
    }
   ],
   "source": [
    "categ_oct = data['2021-Oct'].groupby('categ')['price'].sum()\n",
    "categ_oct\n",
    "# CA par categ au mois d'octobre"
   ]
  },
  {
   "cell_type": "markdown",
   "metadata": {},
   "source": [
    "#### Comparaison en le CA mensuel moyen par catégorie et le CA moyen par catégorie d'Octobre"
   ]
  },
  {
   "cell_type": "code",
   "execution_count": 69,
   "metadata": {},
   "outputs": [
    {
     "data": {
      "image/png": "[encoded data removed]",
      "text/plain": [
       "<Figure size 432x288 with 2 Axes>"
      ]
     },
     "metadata": {
      "needs_background": "light"
     },
     "output_type": "display_data"
    }
   ],
   "source": [
    "# Création de deux graphiques, l'un avec le CA moyen par catégorie et l'autre avec le CA par catégorie d'Octobre\n",
    "\n",
    "\n",
    "plt.subplot(2,1,1)\n",
    "plt.bar(list(categ_avg.index.astype(str)), list(categ_avg.values), color='red')\n",
    "plt.ylim(0,210000)\n",
    "plt.title('CA mensuel moyen par catégorie')\n",
    "plt.xlabel('Catégories')\n",
    "plt.ylabel('CA')\n",
    "\n",
    "plt.tight_layout(2)\n",
    "\n",
    "plt.subplot(2,1,2)\n",
    "plt.bar(list(categ_oct.index.astype(str)), list(categ_oct.values))\n",
    "plt.ylim(0,210000)\n",
    "plt.title('''CA du mois d'octobre''')\n",
    "plt.xlabel('Catégories')\n",
    "plt.ylabel('CA')\n",
    "plt.savefig('Ca_mensuel_CA_oct')\n",
    "plt.show()"
   ]
  },
  {
   "cell_type": "code",
   "execution_count": 70,
   "metadata": {},
   "outputs": [
    {
     "data": {
      "text/plain": [
       "categ\n",
       "0     7.215814\n",
       "1   -81.972473\n",
       "2   -21.623391\n",
       "Name: price, dtype: float64"
      ]
     },
     "execution_count": 70,
     "metadata": {},
     "output_type": "execute_result"
    }
   ],
   "source": [
    "((data['2021-Oct'].groupby('categ')['price'].sum()) / (data.groupby('categ')['price'].sum() / 12) - 1) * 100\n",
    "\n",
    "# le CA de la catégorie 1 à subit une baisse de 81 % par rapport à la moyenne annuelle"
   ]
  },
  {
   "cell_type": "markdown",
   "metadata": {},
   "source": [
    "## Recherche des ventes de produits de la catégorie 1 sur octobre"
   ]
  },
  {
   "cell_type": "code",
   "execution_count": 71,
   "metadata": {},
   "outputs": [
    {
     "name": "stderr",
     "output_type": "stream",
     "text": [
      "C:\\ProgramData\\Anaconda3\\lib\\site-packages\\ipykernel_launcher.py:1: UserWarning: Boolean Series key will be reindexed to match DataFrame index.\n",
      "  \"\"\"Entry point for launching an IPython kernel.\n"
     ]
    }
   ],
   "source": [
    "oct_categ_1 = data['2021-oct'][data.categ == 1]\n",
    "\n",
    "# L'alerte ne bloque pas le fonctionnement"
   ]
  },
  {
   "cell_type": "code",
   "execution_count": 72,
   "metadata": {},
   "outputs": [
    {
     "data": {
      "text/plain": [
       "date\n",
       "2021-10-01    7003.79\n",
       "2021-10-02       0.00\n",
       "2021-10-03       0.00\n",
       "2021-10-04       0.00\n",
       "2021-10-05       0.00\n",
       "2021-10-06       0.00\n",
       "2021-10-07       0.00\n",
       "2021-10-08       0.00\n",
       "2021-10-09       0.00\n",
       "2021-10-10       0.00\n",
       "2021-10-11       0.00\n",
       "2021-10-12       0.00\n",
       "2021-10-13       0.00\n",
       "2021-10-14       0.00\n",
       "2021-10-15       0.00\n",
       "2021-10-16       0.00\n",
       "2021-10-17       0.00\n",
       "2021-10-18       0.00\n",
       "2021-10-19       0.00\n",
       "2021-10-20       0.00\n",
       "2021-10-21       0.00\n",
       "2021-10-22       0.00\n",
       "2021-10-23       0.00\n",
       "2021-10-24       0.00\n",
       "2021-10-25       0.00\n",
       "2021-10-26       0.00\n",
       "2021-10-27       0.00\n",
       "2021-10-28    6317.99\n",
       "2021-10-29    6425.18\n",
       "2021-10-30    6753.69\n",
       "2021-10-31    7261.67\n",
       "Freq: D, Name: price, dtype: float64"
      ]
     },
     "execution_count": 72,
     "metadata": {},
     "output_type": "execute_result"
    }
   ],
   "source": [
    "# Série des ventes de la catégorie n°1 en octobre\n",
    "\n",
    "oct_categ_1 = oct_categ_1.resample('D')['price'].sum()\n",
    "oct_categ_1"
   ]
  },
  {
   "cell_type": "code",
   "execution_count": 73,
   "metadata": {},
   "outputs": [
    {
     "data": {
      "text/plain": [
       "Text(0, 0.5, \"Chiffre d'affaires\")"
      ]
     },
     "execution_count": 73,
     "metadata": {},
     "output_type": "execute_result"
    },
    {
     "data": {
      "image/png": "[encoded data removed]",
      "text/plain": [
       "<Figure size 432x288 with 1 Axes>"
      ]
     },
     "metadata": {
      "needs_background": "light"
     },
     "output_type": "display_data"
    }
   ],
   "source": [
    "oct_categ_1.plot()\n",
    "plt.title('Vente catégorie 1 en octobre')\n",
    "plt.ylabel('''Chiffre d'affaires''')"
   ]
  },
  {
   "cell_type": "code",
   "execution_count": 74,
   "metadata": {},
   "outputs": [
    {
     "data": {
      "text/plain": [
       "0.9287671232876712"
      ]
     },
     "execution_count": 74,
     "metadata": {},
     "output_type": "execute_result"
    }
   ],
   "source": [
    "# Sauvegarde du ratio = Nombre de jours de vente de la catégorie 1 / nombre de jours total\n",
    "\n",
    "Business_days_c1 = (365 - (oct_categ_1[oct_categ_1 == 0]).count()) / 365\n",
    "Business_days_c1"
   ]
  },
  {
   "cell_type": "markdown",
   "metadata": {},
   "source": [
    "Il manque les ventes de la catégorie 1 du 2 au 27 octobre inclus"
   ]
  },
  {
   "cell_type": "markdown",
   "metadata": {},
   "source": [
    "# Analyse"
   ]
  },
  {
   "cell_type": "markdown",
   "metadata": {},
   "source": [
    "## Principaux clients"
   ]
  },
  {
   "cell_type": "code",
   "execution_count": 75,
   "metadata": {},
   "outputs": [
    {
     "data": {
      "text/html": [
       "<div>\n",
       "<style scoped>\n",
       "    .dataframe tbody tr th:only-of-type {\n",
       "        vertical-align: middle;\n",
       "    }\n",
       "\n",
       "    .dataframe tbody tr th {\n",
       "        vertical-align: top;\n",
       "    }\n",
       "\n",
       "    .dataframe thead th {\n",
       "        text-align: right;\n",
       "    }\n",
       "</style>\n",
       "<table border=\"1\" class=\"dataframe\">\n",
       "  <thead>\n",
       "    <tr style=\"text-align: right;\">\n",
       "      <th></th>\n",
       "      <th>client_id</th>\n",
       "      <th>price</th>\n",
       "      <th>percent_of_CA</th>\n",
       "    </tr>\n",
       "  </thead>\n",
       "  <tbody>\n",
       "    <tr>\n",
       "      <th>677</th>\n",
       "      <td>c_1609</td>\n",
       "      <td>162007.34</td>\n",
       "      <td>0.027949</td>\n",
       "    </tr>\n",
       "    <tr>\n",
       "      <th>4388</th>\n",
       "      <td>c_4958</td>\n",
       "      <td>144257.21</td>\n",
       "      <td>0.024887</td>\n",
       "    </tr>\n",
       "    <tr>\n",
       "      <th>6337</th>\n",
       "      <td>c_6714</td>\n",
       "      <td>73197.34</td>\n",
       "      <td>0.012628</td>\n",
       "    </tr>\n",
       "    <tr>\n",
       "      <th>2724</th>\n",
       "      <td>c_3454</td>\n",
       "      <td>54442.92</td>\n",
       "      <td>0.009392</td>\n",
       "    </tr>\n",
       "    <tr>\n",
       "      <th>7715</th>\n",
       "      <td>c_7959</td>\n",
       "      <td>2564.25</td>\n",
       "      <td>0.000442</td>\n",
       "    </tr>\n",
       "  </tbody>\n",
       "</table>\n",
       "</div>"
      ],
      "text/plain": [
       "     client_id      price  percent_of_CA\n",
       "677     c_1609  162007.34       0.027949\n",
       "4388    c_4958  144257.21       0.024887\n",
       "6337    c_6714   73197.34       0.012628\n",
       "2724    c_3454   54442.92       0.009392\n",
       "7715    c_7959    2564.25       0.000442"
      ]
     },
     "execution_count": 75,
     "metadata": {},
     "output_type": "execute_result"
    }
   ],
   "source": [
    "client_CA = data.groupby('client_id')['price'].sum() #regroupement des CA par client\n",
    "client_CA = client_CA.reset_index().sort_values('price', ascending=False ) # Classement\n",
    "client_CA['percent_of_CA'] = client_CA['price'] / total_CA # %\n",
    "client_CA.head(5)\n",
    "# aucun client ne représente une part importante du CA\n",
    "# 4 clients ont un volum d'achat supérieur à 500000€ \n",
    "# On peut supposer que ces 4 clients sont des entreprises\n",
    "# il serait intéressant de leur proposer des conditions d'achat particulière"
   ]
  },
  {
   "cell_type": "code",
   "execution_count": 76,
   "metadata": {},
   "outputs": [],
   "source": [
    "# Sauvegarde des 4 premiers client_id du classement dans une liste\n",
    "list_customer_grossiste = list(client_CA.head(4)['client_id'])"
   ]
  },
  {
   "cell_type": "markdown",
   "metadata": {},
   "source": [
    "## Catégorie"
   ]
  },
  {
   "cell_type": "markdown",
   "metadata": {},
   "source": [
    "### Rappel distribution de la table products"
   ]
  },
  {
   "cell_type": "code",
   "execution_count": 77,
   "metadata": {},
   "outputs": [
    {
     "data": {
      "text/plain": [
       "Text(0.5, 1.1, 'Prix par catégorie')"
      ]
     },
     "execution_count": 77,
     "metadata": {},
     "output_type": "execute_result"
    },
    {
     "data": {
      "image/png": "[encoded data removed]",
      "text/plain": [
       "<Figure size 432x288 with 1 Axes>"
      ]
     },
     "metadata": {
      "needs_background": "light"
     },
     "output_type": "display_data"
    }
   ],
   "source": [
    "products.boxplot(column='price', by='categ', showfliers=False, grid=False) # boîte à moustache par catégorie\n",
    "plt.suptitle('Prix par catégorie', size=16, y=1.1)\n",
    "\n",
    "#fichier déjà enregistré"
   ]
  },
  {
   "cell_type": "code",
   "execution_count": 78,
   "metadata": {},
   "outputs": [
    {
     "data": {
      "text/plain": [
       "Text(0.5, 1.1, 'Prix par catégorie')"
      ]
     },
     "execution_count": 78,
     "metadata": {},
     "output_type": "execute_result"
    },
    {
     "data": {
      "image/png": "[encoded data removed]",
      "text/plain": [
       "<Figure size 432x288 with 1 Axes>"
      ]
     },
     "metadata": {
      "needs_background": "light"
     },
     "output_type": "display_data"
    }
   ],
   "source": [
    "products.boxplot(column='price', by='categ', showfliers=True, grid=False)\n",
    "plt.suptitle('Prix par catégorie', size=16, y=1.1)\n",
    "\n",
    "#fichier déjà enregistré"
   ]
  },
  {
   "cell_type": "markdown",
   "metadata": {},
   "source": [
    "### Distribution des prix par catégorie (produits vendus)"
   ]
  },
  {
   "cell_type": "code",
   "execution_count": 79,
   "metadata": {},
   "outputs": [
    {
     "data": {
      "text/html": [
       "<div>\n",
       "<style scoped>\n",
       "    .dataframe tbody tr th:only-of-type {\n",
       "        vertical-align: middle;\n",
       "    }\n",
       "\n",
       "    .dataframe tbody tr th {\n",
       "        vertical-align: top;\n",
       "    }\n",
       "\n",
       "    .dataframe thead th {\n",
       "        text-align: right;\n",
       "    }\n",
       "</style>\n",
       "<table border=\"1\" class=\"dataframe\">\n",
       "  <thead>\n",
       "    <tr style=\"text-align: right;\">\n",
       "      <th></th>\n",
       "      <th>count</th>\n",
       "      <th>mean</th>\n",
       "      <th>std</th>\n",
       "      <th>min</th>\n",
       "      <th>25%</th>\n",
       "      <th>50%</th>\n",
       "      <th>75%</th>\n",
       "      <th>max</th>\n",
       "    </tr>\n",
       "    <tr>\n",
       "      <th>categ</th>\n",
       "      <th></th>\n",
       "      <th></th>\n",
       "      <th></th>\n",
       "      <th></th>\n",
       "      <th></th>\n",
       "      <th></th>\n",
       "      <th></th>\n",
       "      <th></th>\n",
       "    </tr>\n",
       "  </thead>\n",
       "  <tbody>\n",
       "    <tr>\n",
       "      <th>0</th>\n",
       "      <td>209426.0</td>\n",
       "      <td>10.646828</td>\n",
       "      <td>4.930030</td>\n",
       "      <td>0.62</td>\n",
       "      <td>6.30</td>\n",
       "      <td>9.99</td>\n",
       "      <td>14.45</td>\n",
       "      <td>40.99</td>\n",
       "    </tr>\n",
       "    <tr>\n",
       "      <th>1</th>\n",
       "      <td>109735.0</td>\n",
       "      <td>20.480106</td>\n",
       "      <td>7.568956</td>\n",
       "      <td>2.00</td>\n",
       "      <td>15.81</td>\n",
       "      <td>19.08</td>\n",
       "      <td>24.98</td>\n",
       "      <td>80.99</td>\n",
       "    </tr>\n",
       "    <tr>\n",
       "      <th>2</th>\n",
       "      <td>17552.0</td>\n",
       "      <td>75.174949</td>\n",
       "      <td>39.079999</td>\n",
       "      <td>30.99</td>\n",
       "      <td>53.99</td>\n",
       "      <td>62.83</td>\n",
       "      <td>71.21</td>\n",
       "      <td>300.00</td>\n",
       "    </tr>\n",
       "  </tbody>\n",
       "</table>\n",
       "</div>"
      ],
      "text/plain": [
       "          count       mean        std    min    25%    50%    75%     max\n",
       "categ                                                                    \n",
       "0      209426.0  10.646828   4.930030   0.62   6.30   9.99  14.45   40.99\n",
       "1      109735.0  20.480106   7.568956   2.00  15.81  19.08  24.98   80.99\n",
       "2       17552.0  75.174949  39.079999  30.99  53.99  62.83  71.21  300.00"
      ]
     },
     "execution_count": 79,
     "metadata": {},
     "output_type": "execute_result"
    }
   ],
   "source": [
    "data.groupby('categ')['price'].describe()"
   ]
  },
  {
   "cell_type": "code",
   "execution_count": 80,
   "metadata": {},
   "outputs": [
    {
     "data": {
      "image/png": "[encoded data removed]",
      "text/plain": [
       "<Figure size 432x288 with 1 Axes>"
      ]
     },
     "metadata": {
      "needs_background": "light"
     },
     "output_type": "display_data"
    }
   ],
   "source": [
    "# Boîte à moustache des produits vendus\n",
    "\n",
    "data.boxplot(column='price', by='categ', showfliers= False, grid=False)\n",
    "plt.suptitle('Prix par catégorie', size=16, y=1.1);      \n",
    "plt.ylabel('prix en €')\n",
    "plt.xlabel('catégories')\n",
    "plt.savefig('prix_categ_vendu')\n",
    "plt.show()"
   ]
  },
  {
   "cell_type": "code",
   "execution_count": 81,
   "metadata": {},
   "outputs": [
    {
     "data": {
      "image/png": "[encoded data removed]",
      "text/plain": [
       "<Figure size 432x288 with 1 Axes>"
      ]
     },
     "metadata": {
      "needs_background": "light"
     },
     "output_type": "display_data"
    }
   ],
   "source": [
    "data.boxplot(column='price', by='categ', showfliers= True, grid=False)\n",
    "plt.suptitle('Prix par catégorie', size=16, y=1.1);  \n",
    "plt.yscale('log')\n",
    "plt.ylabel('prix en €')\n",
    "plt.xlabel('catégories')\n",
    "plt.savefig('prix_categ_vendu_outlier')\n",
    "plt.show()"
   ]
  },
  {
   "cell_type": "markdown",
   "metadata": {},
   "source": [
    "### Distribution des achats par client et par catégorie"
   ]
  },
  {
   "cell_type": "code",
   "execution_count": 82,
   "metadata": {},
   "outputs": [
    {
     "data": {
      "text/html": [
       "<div>\n",
       "<style scoped>\n",
       "    .dataframe tbody tr th:only-of-type {\n",
       "        vertical-align: middle;\n",
       "    }\n",
       "\n",
       "    .dataframe tbody tr th {\n",
       "        vertical-align: top;\n",
       "    }\n",
       "\n",
       "    .dataframe thead th {\n",
       "        text-align: right;\n",
       "    }\n",
       "</style>\n",
       "<table border=\"1\" class=\"dataframe\">\n",
       "  <thead>\n",
       "    <tr style=\"text-align: right;\">\n",
       "      <th></th>\n",
       "      <th></th>\n",
       "      <th>price</th>\n",
       "    </tr>\n",
       "    <tr>\n",
       "      <th>categ</th>\n",
       "      <th>client_id</th>\n",
       "      <th></th>\n",
       "    </tr>\n",
       "  </thead>\n",
       "  <tbody>\n",
       "    <tr>\n",
       "      <th rowspan=\"5\" valign=\"top\">0</th>\n",
       "      <th>c_1</th>\n",
       "      <td>174.20</td>\n",
       "    </tr>\n",
       "    <tr>\n",
       "      <th>c_10</th>\n",
       "      <td>124.92</td>\n",
       "    </tr>\n",
       "    <tr>\n",
       "      <th>c_100</th>\n",
       "      <td>31.38</td>\n",
       "    </tr>\n",
       "    <tr>\n",
       "      <th>c_1000</th>\n",
       "      <td>169.85</td>\n",
       "    </tr>\n",
       "    <tr>\n",
       "      <th>c_1001</th>\n",
       "      <td>527.81</td>\n",
       "    </tr>\n",
       "    <tr>\n",
       "      <th>...</th>\n",
       "      <th>...</th>\n",
       "      <td>...</td>\n",
       "    </tr>\n",
       "    <tr>\n",
       "      <th rowspan=\"5\" valign=\"top\">2</th>\n",
       "      <th>c_995</th>\n",
       "      <td>NaN</td>\n",
       "    </tr>\n",
       "    <tr>\n",
       "      <th>c_996</th>\n",
       "      <td>NaN</td>\n",
       "    </tr>\n",
       "    <tr>\n",
       "      <th>c_997</th>\n",
       "      <td>329.11</td>\n",
       "    </tr>\n",
       "    <tr>\n",
       "      <th>c_998</th>\n",
       "      <td>1331.46</td>\n",
       "    </tr>\n",
       "    <tr>\n",
       "      <th>c_999</th>\n",
       "      <td>NaN</td>\n",
       "    </tr>\n",
       "  </tbody>\n",
       "</table>\n",
       "<p>25800 rows × 1 columns</p>\n",
       "</div>"
      ],
      "text/plain": [
       "                   price\n",
       "categ client_id         \n",
       "0     c_1         174.20\n",
       "      c_10        124.92\n",
       "      c_100        31.38\n",
       "      c_1000      169.85\n",
       "      c_1001      527.81\n",
       "...                  ...\n",
       "2     c_995          NaN\n",
       "      c_996          NaN\n",
       "      c_997       329.11\n",
       "      c_998      1331.46\n",
       "      c_999          NaN\n",
       "\n",
       "[25800 rows x 1 columns]"
      ]
     },
     "execution_count": 82,
     "metadata": {},
     "output_type": "execute_result"
    }
   ],
   "source": [
    "client_categ = data.groupby(['categ','client_id'])['price'].sum() # Groupement par client et catégorie\n",
    "client_categ = client_categ.to_frame()\n",
    "client_categ"
   ]
  },
  {
   "cell_type": "code",
   "execution_count": 83,
   "metadata": {},
   "outputs": [
    {
     "data": {
      "text/plain": [
       "Text(0.5, 1.0, 'achat par catégorie')"
      ]
     },
     "execution_count": 83,
     "metadata": {},
     "output_type": "execute_result"
    },
    {
     "data": {
      "image/png": "[encoded data removed]",
      "text/plain": [
       "<Figure size 432x288 with 1 Axes>"
      ]
     },
     "metadata": {
      "needs_background": "light"
     },
     "output_type": "display_data"
    }
   ],
   "source": [
    "client_categ.boxplot(column='price', by='categ', showfliers=False, grid=False)\n",
    "plt.title('achat par catégorie')"
   ]
  },
  {
   "cell_type": "code",
   "execution_count": 84,
   "metadata": {},
   "outputs": [
    {
     "data": {
      "image/png": "[encoded data removed]",
      "text/plain": [
       "<Figure size 432x288 with 1 Axes>"
      ]
     },
     "metadata": {
      "needs_background": "light"
     },
     "output_type": "display_data"
    }
   ],
   "source": [
    "client_categ.boxplot(column='price', by='categ', showfliers=True, grid=False)\n",
    "plt.title('achat par catégorie')\n",
    "plt.yscale('log')"
   ]
  },
  {
   "cell_type": "markdown",
   "metadata": {},
   "source": [
    "----"
   ]
  },
  {
   "cell_type": "markdown",
   "metadata": {},
   "source": [
    "## Chiffres d'affaires"
   ]
  },
  {
   "cell_type": "markdown",
   "metadata": {},
   "source": [
    "### Par produit"
   ]
  },
  {
   "cell_type": "code",
   "execution_count": 85,
   "metadata": {},
   "outputs": [
    {
     "data": {
      "text/plain": [
       "id_prod\n",
       "2_135     33874.09\n",
       "2_112     31960.61\n",
       "2_102     28919.46\n",
       "2_209     27296.10\n",
       "2_110     27016.50\n",
       "            ...   \n",
       "0_1858        1.83\n",
       "0_1284        1.38\n",
       "0_1840        1.28\n",
       "0_1539        0.99\n",
       "0_1653        0.99\n",
       "Name: price, Length: 3264, dtype: float64"
      ]
     },
     "execution_count": 85,
     "metadata": {},
     "output_type": "execute_result"
    }
   ],
   "source": [
    "# groupement et classement\n",
    "product_CA = data.groupby('id_prod')['price'].sum()\n",
    "product_CA = product_CA.sort_values(ascending=False)\n",
    "product_CA"
   ]
  },
  {
   "cell_type": "markdown",
   "metadata": {},
   "source": [
    "### Par catégorie"
   ]
  },
  {
   "cell_type": "code",
   "execution_count": 86,
   "metadata": {},
   "outputs": [],
   "source": [
    "category_CA = data.groupby('categ')['price'].sum()"
   ]
  },
  {
   "cell_type": "code",
   "execution_count": 87,
   "metadata": {},
   "outputs": [],
   "source": [
    "category_CA = category_CA.sort_values(ascending=False)"
   ]
  },
  {
   "cell_type": "code",
   "execution_count": 88,
   "metadata": {},
   "outputs": [],
   "source": [
    "category_CA = category_CA.reset_index()"
   ]
  },
  {
   "cell_type": "code",
   "execution_count": 89,
   "metadata": {},
   "outputs": [
    {
     "data": {
      "text/html": [
       "<div>\n",
       "<style scoped>\n",
       "    .dataframe tbody tr th:only-of-type {\n",
       "        vertical-align: middle;\n",
       "    }\n",
       "\n",
       "    .dataframe tbody tr th {\n",
       "        vertical-align: top;\n",
       "    }\n",
       "\n",
       "    .dataframe thead th {\n",
       "        text-align: right;\n",
       "    }\n",
       "</style>\n",
       "<table border=\"1\" class=\"dataframe\">\n",
       "  <thead>\n",
       "    <tr style=\"text-align: right;\">\n",
       "      <th></th>\n",
       "      <th>categ</th>\n",
       "      <th>price</th>\n",
       "    </tr>\n",
       "  </thead>\n",
       "  <tbody>\n",
       "    <tr>\n",
       "      <th>0</th>\n",
       "      <td>1</td>\n",
       "      <td>2.247384e+06</td>\n",
       "    </tr>\n",
       "    <tr>\n",
       "      <th>1</th>\n",
       "      <td>0</td>\n",
       "      <td>2.229723e+06</td>\n",
       "    </tr>\n",
       "    <tr>\n",
       "      <th>2</th>\n",
       "      <td>2</td>\n",
       "      <td>1.319471e+06</td>\n",
       "    </tr>\n",
       "  </tbody>\n",
       "</table>\n",
       "</div>"
      ],
      "text/plain": [
       "  categ         price\n",
       "0     1  2.247384e+06\n",
       "1     0  2.229723e+06\n",
       "2     2  1.319471e+06"
      ]
     },
     "execution_count": 89,
     "metadata": {},
     "output_type": "execute_result"
    }
   ],
   "source": [
    "category_CA"
   ]
  },
  {
   "cell_type": "markdown",
   "metadata": {},
   "source": [
    "#### Pondération de la catégorie en fonction des données manquantes"
   ]
  },
  {
   "cell_type": "code",
   "execution_count": 90,
   "metadata": {},
   "outputs": [
    {
     "data": {
      "text/plain": [
       "0.9287671232876712"
      ]
     },
     "execution_count": 90,
     "metadata": {},
     "output_type": "execute_result"
    }
   ],
   "source": [
    "Business_days_c1\n",
    "\n",
    "# = 339/365"
   ]
  },
  {
   "cell_type": "code",
   "execution_count": 91,
   "metadata": {},
   "outputs": [],
   "source": [
    "\n",
    "## On divise le total de la catégorie 1 par (339/365)\n",
    "\n",
    "category_CA.loc[category_CA['categ'] == 1, 'price'] = category_CA.loc[category_CA['categ'] == 1, 'price'] / Business_days_c1"
   ]
  },
  {
   "cell_type": "code",
   "execution_count": 92,
   "metadata": {},
   "outputs": [],
   "source": [
    "category_CA['percentage_of_CA'] = category_CA['price'] / total_CA"
   ]
  },
  {
   "cell_type": "code",
   "execution_count": 93,
   "metadata": {},
   "outputs": [],
   "source": [
    "category_CA =category_CA.set_index('categ')"
   ]
  },
  {
   "cell_type": "code",
   "execution_count": 94,
   "metadata": {},
   "outputs": [
    {
     "data": {
      "image/png": "[encoded data removed]",
      "text/plain": [
       "<Figure size 432x288 with 1 Axes>"
      ]
     },
     "metadata": {
      "needs_background": "light"
     },
     "output_type": "display_data"
    }
   ],
   "source": [
    "category_CA['percentage_of_CA'].plot(kind='bar')\n",
    "plt.title('Répartition du CA par catégorie')\n",
    "plt.xlabel('catégories')\n",
    "plt.ylabel('propotion du CA')\n",
    "plt.savefig('repartition_CA_par_categ')\n",
    "plt.show()"
   ]
  },
  {
   "cell_type": "markdown",
   "metadata": {},
   "source": [
    "----"
   ]
  },
  {
   "cell_type": "markdown",
   "metadata": {},
   "source": [
    "## Analyse des indicateurs de tendances centrales"
   ]
  },
  {
   "cell_type": "code",
   "execution_count": 95,
   "metadata": {},
   "outputs": [
    {
     "data": {
      "text/html": [
       "<div>\n",
       "<style scoped>\n",
       "    .dataframe tbody tr th:only-of-type {\n",
       "        vertical-align: middle;\n",
       "    }\n",
       "\n",
       "    .dataframe tbody tr th {\n",
       "        vertical-align: top;\n",
       "    }\n",
       "\n",
       "    .dataframe thead th {\n",
       "        text-align: right;\n",
       "    }\n",
       "</style>\n",
       "<table border=\"1\" class=\"dataframe\">\n",
       "  <thead>\n",
       "    <tr style=\"text-align: right;\">\n",
       "      <th></th>\n",
       "      <th>birth</th>\n",
       "      <th>price</th>\n",
       "    </tr>\n",
       "  </thead>\n",
       "  <tbody>\n",
       "    <tr>\n",
       "      <th>count</th>\n",
       "      <td>336713.000000</td>\n",
       "      <td>336713.000000</td>\n",
       "    </tr>\n",
       "    <tr>\n",
       "      <th>mean</th>\n",
       "      <td>1977.823568</td>\n",
       "      <td>17.215189</td>\n",
       "    </tr>\n",
       "    <tr>\n",
       "      <th>std</th>\n",
       "      <td>13.524433</td>\n",
       "      <td>17.855445</td>\n",
       "    </tr>\n",
       "    <tr>\n",
       "      <th>min</th>\n",
       "      <td>1929.000000</td>\n",
       "      <td>0.620000</td>\n",
       "    </tr>\n",
       "    <tr>\n",
       "      <th>25%</th>\n",
       "      <td>1971.000000</td>\n",
       "      <td>8.610000</td>\n",
       "    </tr>\n",
       "    <tr>\n",
       "      <th>50%</th>\n",
       "      <td>1980.000000</td>\n",
       "      <td>13.900000</td>\n",
       "    </tr>\n",
       "    <tr>\n",
       "      <th>75%</th>\n",
       "      <td>1987.000000</td>\n",
       "      <td>18.990000</td>\n",
       "    </tr>\n",
       "    <tr>\n",
       "      <th>max</th>\n",
       "      <td>2004.000000</td>\n",
       "      <td>300.000000</td>\n",
       "    </tr>\n",
       "  </tbody>\n",
       "</table>\n",
       "</div>"
      ],
      "text/plain": [
       "               birth          price\n",
       "count  336713.000000  336713.000000\n",
       "mean     1977.823568      17.215189\n",
       "std        13.524433      17.855445\n",
       "min      1929.000000       0.620000\n",
       "25%      1971.000000       8.610000\n",
       "50%      1980.000000      13.900000\n",
       "75%      1987.000000      18.990000\n",
       "max      2004.000000     300.000000"
      ]
     },
     "execution_count": 95,
     "metadata": {},
     "output_type": "execute_result"
    }
   ],
   "source": [
    "data.describe()\n",
    "# prix moyen d'un livre 17.21 €\n",
    "# âge moyen 45 ans des acheteurs"
   ]
  },
  {
   "cell_type": "markdown",
   "metadata": {},
   "source": [
    "## Panier moyen"
   ]
  },
  {
   "cell_type": "code",
   "execution_count": 96,
   "metadata": {},
   "outputs": [
    {
     "data": {
      "text/plain": [
       "session_id\n",
       "s_1        11.99\n",
       "s_10       26.99\n",
       "s_100      33.72\n",
       "s_1000     39.22\n",
       "s_10000    41.49\n",
       "           ...  \n",
       "s_99994    28.92\n",
       "s_99995    19.84\n",
       "s_99996    56.27\n",
       "s_99997     6.99\n",
       "s_99998    35.11\n",
       "Name: price, Length: 169173, dtype: float64"
      ]
     },
     "execution_count": 96,
     "metadata": {},
     "output_type": "execute_result"
    }
   ],
   "source": [
    "session_id_total = data.groupby('session_id')['price'].sum()\n",
    "session_id_total "
   ]
  },
  {
   "cell_type": "code",
   "execution_count": 97,
   "metadata": {},
   "outputs": [
    {
     "data": {
      "text/plain": [
       "count    169173.000000\n",
       "mean         34.264202\n",
       "std          31.872538\n",
       "min           0.620000\n",
       "25%          15.200000\n",
       "50%          25.560000\n",
       "75%          42.980000\n",
       "max         539.230000\n",
       "Name: price, dtype: float64"
      ]
     },
     "execution_count": 97,
     "metadata": {},
     "output_type": "execute_result"
    }
   ],
   "source": [
    "session_id_total.describe()"
   ]
  },
  {
   "cell_type": "code",
   "execution_count": 98,
   "metadata": {},
   "outputs": [
    {
     "data": {
      "image/png": "[encoded data removed]",
      "text/plain": [
       "<Figure size 432x288 with 1 Axes>"
      ]
     },
     "metadata": {
      "needs_background": "light"
     },
     "output_type": "display_data"
    }
   ],
   "source": [
    "session_id_total.plot(kind='box', vert=False, showfliers=False)\n",
    "plt.title('''session d'achat moyenne''')\n",
    "plt.ylabel('session client')\n",
    "plt.show()"
   ]
  },
  {
   "cell_type": "code",
   "execution_count": 99,
   "metadata": {},
   "outputs": [
    {
     "data": {
      "image/png": "[encoded data removed]",
      "text/plain": [
       "<Figure size 432x288 with 1 Axes>"
      ]
     },
     "metadata": {
      "needs_background": "light"
     },
     "output_type": "display_data"
    }
   ],
   "source": [
    "session_id_total.plot(kind='box', vert=False, showfliers=True)\n",
    "plt.title('''session d'achat moyenne''')\n",
    "plt.ylabel('session client')\n",
    "plt.show()"
   ]
  },
  {
   "cell_type": "markdown",
   "metadata": {},
   "source": [
    "----"
   ]
  },
  {
   "cell_type": "markdown",
   "metadata": {},
   "source": [
    "### Panier moyen par client"
   ]
  },
  {
   "cell_type": "code",
   "execution_count": 100,
   "metadata": {},
   "outputs": [
    {
     "data": {
      "text/plain": [
       "client_id  session_id  birth\n",
       "c_1        s_105105    1955      7.99\n",
       "           s_114737    1955     92.62\n",
       "           s_120172    1955     44.29\n",
       "           s_134971    1955     10.30\n",
       "           s_136532    1955     13.78\n",
       "                                ...  \n",
       "c_999      s_88239     1964     15.99\n",
       "           s_89648     1964      5.99\n",
       "           s_92374     1964      8.57\n",
       "           s_98289     1964     11.99\n",
       "           s_99070     1964      7.98\n",
       "Name: price, Length: 169173, dtype: float64"
      ]
     },
     "execution_count": 100,
     "metadata": {},
     "output_type": "execute_result"
    }
   ],
   "source": [
    "panier_moyen = data.groupby(['client_id','session_id', 'birth'])['price'].sum() #groupement par client \n",
    "panier_moyen"
   ]
  },
  {
   "cell_type": "code",
   "execution_count": 101,
   "metadata": {},
   "outputs": [],
   "source": [
    "panier_moyen = panier_moyen.to_frame()"
   ]
  },
  {
   "cell_type": "code",
   "execution_count": 102,
   "metadata": {},
   "outputs": [],
   "source": [
    "panier_moyen = panier_moyen.reset_index()"
   ]
  },
  {
   "cell_type": "code",
   "execution_count": 103,
   "metadata": {},
   "outputs": [],
   "source": [
    "panier_moyen = panier_moyen.groupby('client_id')['price'].mean() # moyenne des sessions par client"
   ]
  },
  {
   "cell_type": "code",
   "execution_count": 104,
   "metadata": {},
   "outputs": [
    {
     "data": {
      "text/plain": [
       "count    8600.000000\n",
       "mean       40.106253\n",
       "std        22.643521\n",
       "min         4.150000\n",
       "25%        25.396925\n",
       "50%        31.839702\n",
       "75%        48.329000\n",
       "max       241.160000\n",
       "Name: price, dtype: float64"
      ]
     },
     "execution_count": 104,
     "metadata": {},
     "output_type": "execute_result"
    }
   ],
   "source": [
    "panier_moyen.describe()"
   ]
  },
  {
   "cell_type": "code",
   "execution_count": 105,
   "metadata": {},
   "outputs": [
    {
     "data": {
      "image/png": "[encoded data removed]",
      "text/plain": [
       "<Figure size 432x288 with 1 Axes>"
      ]
     },
     "metadata": {
      "needs_background": "light"
     },
     "output_type": "display_data"
    }
   ],
   "source": [
    "panier_moyen.plot(kind='box', vert=False, showfliers=False)\n",
    "plt.title('Panier moyen par client')\n",
    "plt.xlabel('Prix en €')\n",
    "plt.ylabel('Panier moyen')\n",
    "plt.savefig('panier_moyen')\n",
    "plt.show()"
   ]
  },
  {
   "cell_type": "code",
   "execution_count": 106,
   "metadata": {},
   "outputs": [
    {
     "data": {
      "image/png": "[encoded data removed]",
      "text/plain": [
       "<Figure size 432x288 with 1 Axes>"
      ]
     },
     "metadata": {
      "needs_background": "light"
     },
     "output_type": "display_data"
    }
   ],
   "source": [
    "panier_moyen.plot(kind='box', vert=False, showfliers=True)\n",
    "plt.title('Panier moyen par client')\n",
    "plt.xlabel('Prix en €')\n",
    "plt.ylabel('Panier moyen')\n",
    "plt.savefig('panier_moyen_outliers')\n",
    "plt.show()"
   ]
  },
  {
   "cell_type": "markdown",
   "metadata": {},
   "source": [
    "----"
   ]
  },
  {
   "cell_type": "markdown",
   "metadata": {},
   "source": [
    "# Analyses bivariées"
   ]
  },
  {
   "cell_type": "code",
   "execution_count": 107,
   "metadata": {},
   "outputs": [],
   "source": [
    "# les groupes ont été défini plus bas dans le notebook mais j'ai décidé de les définir ici.\n",
    "# Cela me permet de créer 'data_no_2004', 'data_no_grossiste' et 'data_no_2004_grossiste' sur cette base\n",
    "data.loc[(data['birth'] < 1972), 'groupe'] = 1\n",
    "data.loc[(data['birth'] > 1971)&(data['birth'] < 1992), 'groupe'] = 2\n",
    "data.loc[data['birth'] > 1991, 'groupe'] = 3\n",
    "data['groupe']= data['groupe'].astype('category')\n",
    "\n",
    "\n",
    "data.loc[data['birth'] < 1992, 'groupe_fre'] = 1\n",
    "data.loc[data['birth'] > 1991, 'groupe_fre'] = 2\n",
    "data['groupe_fre']= data['groupe_fre'].astype('category')"
   ]
  },
  {
   "cell_type": "markdown",
   "metadata": {},
   "source": [
    "## Préparation du dataset "
   ]
  },
  {
   "cell_type": "code",
   "execution_count": 108,
   "metadata": {},
   "outputs": [],
   "source": [
    "data_no_2004 = data[data['birth'] != 2004] # sans les clients ayant renseigné une année de naissance égale à 2004\n",
    "data_no_grossiste = data[~data['client_id'].isin(list_customer_grossiste)] # sans les clients grossistes \n",
    "data_no_2004_grossiste = data[(data['birth'] != 2004)&(~data['client_id'].isin(list_customer_grossiste))] # sans les clients ayant renseigné une année de naissance égale à 2004 et sans les clients grossistes"
   ]
  },
  {
   "cell_type": "code",
   "execution_count": 109,
   "metadata": {},
   "outputs": [
    {
     "ename": "NameError",
     "evalue": "name 'sex_data_s' is not defined",
     "output_type": "error",
     "traceback": [
      "\u001b[1;31m---------------------------------------------------------------------------\u001b[0m",
      "\u001b[1;31mNameError\u001b[0m                                 Traceback (most recent call last)",
      "\u001b[1;32m<ipython-input-109-a5ab262cca1c>\u001b[0m in \u001b[0;36m<module>\u001b[1;34m\u001b[0m\n\u001b[1;32m----> 1\u001b[1;33m \u001b[0msex_data_s\u001b[0m\u001b[1;33m\u001b[0m\u001b[1;33m\u001b[0m\u001b[0m\n\u001b[0m",
      "\u001b[1;31mNameError\u001b[0m: name 'sex_data_s' is not defined"
     ]
    }
   ],
   "source": [
    "sex_data_s"
   ]
  },
  {
   "cell_type": "code",
   "execution_count": null,
   "metadata": {},
   "outputs": [],
   "source": [
    "sex_data_s[['m','f']]"
   ]
  },
  {
   "cell_type": "markdown",
   "metadata": {},
   "source": [
    "### Analyse par sexe"
   ]
  },
  {
   "cell_type": "code",
   "execution_count": null,
   "metadata": {},
   "outputs": [],
   "source": [
    "sex_data = data_no_grossiste.groupby([ 'sex', 'categ', 'client_id'])['price'].sum() #groupement par par sex, catégorie et client\n",
    "sex_data = sex_data.to_frame()\n",
    "sex_data = sex_data.reset_index()\n",
    "sex_data_s = sex_data.pivot_table(index='categ', columns='sex', values='price', aggfunc=np.sum)# pivot en effectuant une somme\n",
    "sex_data_s = sex_data_s[['m','f']] # on inverse les colonnes pour les couleurs\n",
    "sex_data_m = sex_data.pivot_table(index='categ', columns='sex', values='price', aggfunc=np.mean) # pivot en effectuant une moyenne\n",
    "sex_data_m = sex_data_m[['m','f']] # on inverse les colonnes pour les couleurs\n",
    "# Graphique\n",
    "plt.figure(1)\n",
    "sex_data_m.plot(kind='bar', colormap=None)\n",
    "plt.title('''Chiffres d'affaires moyen par sexe et catégorie''')\n",
    "plt.ylabel('Prix en €')\n",
    "plt.savefig('CA_s_par_sex')\n",
    "plt.figure(2)\n",
    "sex_data_s.plot(kind='bar')\n",
    "plt.title('''Chiffres d'affaires total par sexe et catégorie''')\n",
    "plt.ylabel('Prix en €')\n",
    "plt.savefig('CA_m_par_sex')\n",
    "plt.show()"
   ]
  },
  {
   "cell_type": "markdown",
   "metadata": {},
   "source": [
    "----"
   ]
  },
  {
   "cell_type": "markdown",
   "metadata": {},
   "source": [
    "## Corrélation entre le sexe et la catégorie : Chi deux"
   ]
  },
  {
   "cell_type": "markdown",
   "metadata": {},
   "source": [
    "### Méthode 1 : avec scipy"
   ]
  },
  {
   "cell_type": "code",
   "execution_count": null,
   "metadata": {},
   "outputs": [],
   "source": [
    "from scipy.stats import chi2_contingency"
   ]
  },
  {
   "cell_type": "code",
   "execution_count": null,
   "metadata": {},
   "outputs": [],
   "source": [
    "sex_categ = data_no_grossiste.groupby(['sex','categ'])['client_id'].count()\n",
    "\n",
    "# le .count() va compter les doublons. On va donc comptabiliser si un client à acheter plusieurs fois des produits dans une catégorie"
   ]
  },
  {
   "cell_type": "code",
   "execution_count": null,
   "metadata": {},
   "outputs": [],
   "source": [
    "# création du tableau de contingence\n",
    "sex_categ_f = sex_categ['f'].to_numpy()\n",
    "sex_categ_m = sex_categ['m'].to_numpy()\n",
    "sex_categ_con = np.row_stack((sex_categ_f, sex_categ_m))\n",
    "sex_categ_con"
   ]
  },
  {
   "cell_type": "code",
   "execution_count": null,
   "metadata": {},
   "outputs": [],
   "source": [
    "# Résultats du test\n",
    "chi2, pvalue, degrees, expected = chi2_contingency(sex_categ_con)\n",
    "chi2, degrees, pvalue"
   ]
  },
  {
   "cell_type": "code",
   "execution_count": null,
   "metadata": {},
   "outputs": [],
   "source": [
    "chi2_contingency(sex_categ_con)"
   ]
  },
  {
   "cell_type": "code",
   "execution_count": null,
   "metadata": {},
   "outputs": [],
   "source": [
    "# Valeur critique pour alpha à 0.05 et degrés de liberté à 2\n",
    "stats.chi2.ppf(q=1-0.05, df=2)"
   ]
  },
  {
   "cell_type": "markdown",
   "metadata": {},
   "source": [
    "### Méthode 2 : avec numpy"
   ]
  },
  {
   "cell_type": "code",
   "execution_count": null,
   "metadata": {},
   "outputs": [],
   "source": [
    "# Calcul des totaux\n",
    "N = sex_categ_con.sum()\n",
    "ni = sex_categ_con.sum(axis=1)\n",
    "nj = sex_categ_con.sum(axis=0)\n",
    "ni, nj, N"
   ]
  },
  {
   "cell_type": "code",
   "execution_count": null,
   "metadata": {},
   "outputs": [],
   "source": [
    "# On applique la formule\n",
    "nij = ni.reshape(sex_categ_con.shape[0], 1) * nj / N\n",
    "nij"
   ]
  },
  {
   "cell_type": "code",
   "execution_count": null,
   "metadata": {},
   "outputs": [],
   "source": [
    "# Calcul du chi²\n",
    "d = (sex_categ_con - nij) ** 2 / nij\n",
    "d.sum()"
   ]
  },
  {
   "cell_type": "code",
   "execution_count": null,
   "metadata": {},
   "outputs": [],
   "source": [
    "# Création d'un tableau de contingence des valeurs théoriques\n",
    "contingence_t = pd.DataFrame(data=nij, index=None, columns=['categ_1', 'categ_2', 'categ_3'])\n",
    "contingence_t['total'] = contingence_t['categ_1'] + contingence_t['categ_2'] + contingence_t['categ_3'] \n",
    "contingence_t = contingence_t.append({'categ_1' : contingence_t['categ_1'].sum(), 'categ_2' : contingence_t['categ_2'].sum(), 'categ_3' : contingence_t['categ_3'].sum(), 'total' : contingence_t['total'].sum()}, ignore_index=True)\n",
    "contingence_t['sex'] = ['homme','femme','total']\n",
    "contingence_t.set_index('sex', inplace=True)\n",
    "contingence_t.head()"
   ]
  },
  {
   "cell_type": "code",
   "execution_count": null,
   "metadata": {},
   "outputs": [],
   "source": [
    "# Création d'un tableau de contingence des valeurs observées\n",
    "contingence_o = pd.DataFrame(data=sex_categ_con, index=None, columns=['categ_0', 'categ_1', 'categ_2'])\n",
    "contingence_o['total'] = contingence_o['categ_0'] + contingence_o['categ_1'] + contingence_o['categ_2'] \n",
    "contingence_o = contingence_o.append({'categ_0' : contingence_o['categ_0'].sum(), 'categ_1' : contingence_o['categ_1'].sum(), 'categ_2' : contingence_o['categ_2'].sum(), 'total' : contingence_o['total'].sum()}, ignore_index=True)\n",
    "contingence_o['sex'] = ['homme','femme','total']\n",
    "contingence_o.set_index('sex', inplace=True)\n",
    "contingence_o.head()"
   ]
  },
  {
   "cell_type": "code",
   "execution_count": null,
   "metadata": {},
   "outputs": [],
   "source": [
    "# Création d'un tableau de contingence des contributions\n",
    "contingence_c = pd.DataFrame(data=d, index=None, columns=['categ_0', 'categ_1', 'categ_2'])\n",
    "contingence_c['total'] = contingence_c['categ_0'] + contingence_c['categ_1'] + contingence_c['categ_2'] \n",
    "contingence_c = contingence_c.append({'categ_0' : contingence_c['categ_0'].sum(), 'categ_1' : contingence_c['categ_1'].sum(), 'categ_2' : contingence_c['categ_2'].sum(), 'total' : contingence_c['total'].sum()}, ignore_index=True)\n",
    "contingence_c['sex'] = ['homme','femme','total']\n",
    "contingence_c.set_index('sex', inplace=True)\n",
    "contingence_c.head()"
   ]
  },
  {
   "cell_type": "code",
   "execution_count": null,
   "metadata": {},
   "outputs": [],
   "source": [
    "# Création d'un tableau de contingence des contributions avec heatmap\n",
    "sns.heatmap(contingence_c.iloc[0:2,0:3], annot=True,cmap='Reds')\n",
    "plt.title('contribution au khi²')\n",
    "plt.savefig('contri_chi')"
   ]
  },
  {
   "cell_type": "markdown",
   "metadata": {},
   "source": [
    "### Analyse du résultat"
   ]
  },
  {
   "cell_type": "markdown",
   "metadata": {},
   "source": [
    "Nous pouvons affirmer avec 0.1% de marge d'erreur que les variables ne sont pas indépendantes"
   ]
  },
  {
   "cell_type": "markdown",
   "metadata": {},
   "source": [
    "Il y a une corrélation entre le sexe et la catégorie"
   ]
  },
  {
   "cell_type": "markdown",
   "metadata": {},
   "source": [
    "Le plus important contibuteur est la catégorie 1 (voir d)"
   ]
  },
  {
   "cell_type": "markdown",
   "metadata": {},
   "source": [
    "----"
   ]
  },
  {
   "cell_type": "markdown",
   "metadata": {},
   "source": [
    "## Âge et montant des achats"
   ]
  },
  {
   "cell_type": "code",
   "execution_count": null,
   "metadata": {},
   "outputs": [],
   "source": [
    "# Groupement par client\n",
    "age_price = data_no_2004_grossiste.groupby(['birth', 'client_id', 'groupe'], observed=True)['price'].sum().to_frame()\n",
    "age_price.reset_index(inplace=True)\n",
    "age_price"
   ]
  },
  {
   "cell_type": "code",
   "execution_count": null,
   "metadata": {},
   "outputs": [],
   "source": [
    "# Moyenne des montants des achats des clients par âge\n",
    "age_price = age_price.groupby(['birth', 'groupe'], observed=True)['price'].mean().to_frame()\n",
    "age_price.reset_index(inplace=True)"
   ]
  },
  {
   "cell_type": "code",
   "execution_count": null,
   "metadata": {},
   "outputs": [],
   "source": [
    "# Calcul des paramètres\n",
    "a,b,r,p,z = stats.linregress(age_price.birth, age_price.price)\n",
    "a,b,r,p,z\n",
    "# corrélation forte"
   ]
  },
  {
   "cell_type": "code",
   "execution_count": null,
   "metadata": {},
   "outputs": [],
   "source": [
    "# calcul du coefficient de détermination\n",
    "age_price_r2= r**2\n",
    "age_price_r2\n",
    "# coefficient de détermination proche de 1, pouvoir de prédiction fort"
   ]
  },
  {
   "cell_type": "code",
   "execution_count": null,
   "metadata": {},
   "outputs": [],
   "source": [
    "# Représentation graphique avec seaborn\n",
    "sns.regplot(age_price.birth,age_price.price)\n",
    "plt.title('Âge et montant des achats')\n",
    "plt.xlabel('Années de naissance')\n",
    "plt.ylabel('montant des achats annuels')\n",
    "plt.savefig('age_achat')"
   ]
  },
  {
   "cell_type": "code",
   "execution_count": null,
   "metadata": {},
   "outputs": [],
   "source": [
    "# Représentation graphique classique avec matplotlib\n",
    "x = np.arange(1920,2005,1)\n",
    "plt.figure(1)\n",
    "age_price.plot('birth', 'price', kind='scatter')\n",
    "plt.title('Âge et montant des achats')\n",
    "plt.figure(2)\n",
    "plt.plot(x, a*x+b, 'red')\n",
    "plt.show()"
   ]
  },
  {
   "cell_type": "markdown",
   "metadata": {},
   "source": [
    "### Âge et montant des achats : identification des groupes"
   ]
  },
  {
   "cell_type": "markdown",
   "metadata": {},
   "source": [
    "#### Recherche de ruptures"
   ]
  },
  {
   "cell_type": "code",
   "execution_count": null,
   "metadata": {},
   "outputs": [],
   "source": [
    "age_price[(age_price['birth'] > 1965)&(age_price['birth'] < 1975)]\n",
    "# entre 1971 et 1972"
   ]
  },
  {
   "cell_type": "code",
   "execution_count": null,
   "metadata": {},
   "outputs": [],
   "source": [
    "age_price[(age_price['birth'] > 1985)&(age_price['birth'] < 1995)]\n",
    "# entre 1991 et 1992"
   ]
  },
  {
   "cell_type": "code",
   "execution_count": null,
   "metadata": {},
   "outputs": [],
   "source": [
    "# Definition des variables\n",
    "\n",
    "a_pm_g1 = age_price[(age_price['birth'] < 1972)]\n",
    "a_pm_g2 = age_price[(age_price['birth'] > 1971)&(age_price['birth'] < 1992)]\n",
    "a_pm_g3 = age_price[age_price['birth'] > 1991]\n",
    "bornes = [1920,1973,1993,2004]\n",
    "a_pm_g =[a_pm_g1, a_pm_g2, a_pm_g3] # Création d'une liste pour pourvoir itérer\n",
    "i=0 #compteur\n",
    "\n",
    "print('Description de la population')\n",
    "display(age_price.describe()) # paramètres généraux\n",
    "\n",
    "CV = age_price.describe().loc['std','price'] / age_price.describe().loc['mean','price'] # Coefficient de variation général\n",
    "print('Coefficient de variation = ' +  str(CV))\n",
    "\n",
    "# Création de la boucle\n",
    "\n",
    "for group in a_pm_g :\n",
    "    a,b,r,p,z = stats.linregress(a_pm_g[i].birth, a_pm_g[i].price) # Paramètre par groupe\n",
    "    CV = a_pm_g[i].describe().loc['std','price'] / a_pm_g[i].describe().loc['mean','price'] # CV par groupe\n",
    "    print('\\n'+ 'Paramètre du groupe ' + str(i+1) +'\\n'+ 'a = ' + str(a) + '\\n'+ 'b = ' + str(b) + '\\n' + 'r = ' + str(r) + '\\n' + 'p = ' + str(p) + '\\n' + 'z = ' + str(z) + '\\n' + 'CV = ' + str(CV))\n",
    "    age_price_r2 = r**2 # Coefficient de détermination\n",
    "    print('r² = ' + str (age_price_r2) + '\\n')\n",
    "    print(a_pm_g[i].describe())\n",
    "    sns.regplot(a_pm_g[i].birth,a_pm_g[i].price) # Graphique\n",
    "    plt.title('Âge et montant des achats')\n",
    "    plt.xlabel('Années de naissance')\n",
    "    plt.ylabel('Prix en €')\n",
    "    plt.savefig('age_achat'+ str(i))\n",
    "    plt.show()\n",
    "    i+=1 # incrémentation"
   ]
  },
  {
   "cell_type": "markdown",
   "metadata": {},
   "source": [
    "### Boîte à moustache"
   ]
  },
  {
   "cell_type": "code",
   "execution_count": null,
   "metadata": {},
   "outputs": [],
   "source": [
    "age_price.boxplot('price', by='groupe', grid=False)\n",
    "plt.title( '''Montant des achats par catégorie d'âge''' )\n",
    "plt.ylabel('Prix en €')\n",
    "plt.xlabel('Groupes')\n",
    "plt.savefig('boxplot_age_montante')\n",
    "plt.suptitle('') "
   ]
  },
  {
   "cell_type": "markdown",
   "metadata": {},
   "source": [
    "### ANOVA"
   ]
  },
  {
   "cell_type": "code",
   "execution_count": null,
   "metadata": {},
   "outputs": [],
   "source": [
    "#Calcul des paramètres\n",
    "statf, pvalue = stats.f_oneway(age_price['price'][age_price['groupe'] == 1], age_price['price'][age_price['groupe'] == 2], age_price['price'][age_price['groupe'] == 3])\n",
    "statf, pvalue"
   ]
  },
  {
   "cell_type": "code",
   "execution_count": null,
   "metadata": {},
   "outputs": [],
   "source": [
    "# Deuxième méthode comprennant plus de détails\n",
    "import statsmodels.api as sm\n",
    "from statsmodels.formula.api import ols # import d'un module pour réaliser une analyse post-hoc\n",
    "model = ols('price ~ C(groupe)', data=age_price).fit()\n",
    "anova_table = sm.stats.anova_lm(model, typ=2)\n",
    "print(anova_table)"
   ]
  },
  {
   "cell_type": "code",
   "execution_count": null,
   "metadata": {},
   "outputs": [],
   "source": [
    "# Calcul de la valeur critique pour des degrés de liberté de 2 et 72\n",
    "stats.f.ppf(q=1-0.05, dfn=2, dfd=72)\n",
    "# Notre valeur F est largement au-dessus de la valeur critique"
   ]
  },
  {
   "cell_type": "markdown",
   "metadata": {},
   "source": [
    "#### Analyse Post-hoc"
   ]
  },
  {
   "cell_type": "code",
   "execution_count": null,
   "metadata": {},
   "outputs": [],
   "source": [
    "from statsmodels.stats.multicomp import pairwise_tukeyhsd\n",
    "# On effectue une analyse par paires\n",
    "m_comp = pairwise_tukeyhsd(endog=age_price['price'], groups=age_price['groupe'], alpha=0.05)\n",
    "print(m_comp)"
   ]
  },
  {
   "cell_type": "markdown",
   "metadata": {},
   "source": [
    "Toutes les paires rejettent l'hypothèse nulle"
   ]
  },
  {
   "cell_type": "markdown",
   "metadata": {},
   "source": [
    "----"
   ]
  },
  {
   "cell_type": "markdown",
   "metadata": {},
   "source": [
    "## Âge et fréquence des achats"
   ]
  },
  {
   "cell_type": "code",
   "execution_count": null,
   "metadata": {},
   "outputs": [],
   "source": [
    "# On sélectionne les colonnes utiles et on supprime les doublons (en particulier les doublons dans les session_id)\n",
    "age_frequence = data_no_2004_grossiste[['birth', 'client_id', 'groupe_fre', 'session_id']].drop_duplicates()\n",
    "age_frequence = age_frequence.groupby([ 'birth', 'client_id', 'groupe_fre'], observed=True)['session_id'].count().to_frame().reset_index()"
   ]
  },
  {
   "cell_type": "code",
   "execution_count": null,
   "metadata": {},
   "outputs": [],
   "source": [
    "# On effectue la moyenne du nombre de sessions par âge\n",
    "age_frequence = age_frequence.groupby(['groupe_fre', 'birth'], observed=True)['session_id'].mean().to_frame().reset_index()"
   ]
  },
  {
   "cell_type": "code",
   "execution_count": null,
   "metadata": {},
   "outputs": [],
   "source": [
    "age_frequence"
   ]
  },
  {
   "cell_type": "code",
   "execution_count": null,
   "metadata": {},
   "outputs": [],
   "source": [
    "# Paramètres\n",
    "a,b,r,p,z = stats.linregress(age_frequence.birth, age_frequence.session_id)\n",
    "a,b,r,p,z\n",
    "# corrélation modérée"
   ]
  },
  {
   "cell_type": "code",
   "execution_count": null,
   "metadata": {},
   "outputs": [],
   "source": [
    "# Coefficient de détermination\n",
    "age_frequence_r2= r**2\n",
    "age_frequence_r2\n",
    "# R² proche de 0, pouvoir de prédiction faible"
   ]
  },
  {
   "cell_type": "code",
   "execution_count": null,
   "metadata": {},
   "outputs": [],
   "source": [
    "x = np.arange(1920,2005,1)\n",
    "plt.figure(1)\n",
    "age_frequence.plot('birth', 'session_id', kind='scatter')\n",
    "plt.title('Âge et fréquence des achats')\n",
    "plt.figure(2)\n",
    "plt.plot(x, a*x+b, 'red')\n",
    "plt.xlabel('Années de naissance')\n",
    "plt.ylabel('''Nombre de sessions d'achat''')\n",
    "plt.savefig('age_frequence')\n",
    "plt.show()"
   ]
  },
  {
   "cell_type": "code",
   "execution_count": null,
   "metadata": {},
   "outputs": [],
   "source": [
    "# Représentation avec un hidtogramme en 2d\n",
    "plt.hist2d(age_frequence.birth, age_frequence.session_id, bins=40)\n",
    "plt.title('Âge et fréquence des achats')\n",
    "plt.xlabel('Année de naissance')\n",
    "plt.ylabel('nombre de sessions')\n",
    "plt.colorbar()"
   ]
  },
  {
   "cell_type": "markdown",
   "metadata": {},
   "source": [
    "### Âge et fréquence des achats : identification des groupes"
   ]
  },
  {
   "cell_type": "markdown",
   "metadata": {},
   "source": [
    "#### Recherche de ruptures"
   ]
  },
  {
   "cell_type": "markdown",
   "metadata": {},
   "source": [
    "Graphiquement on identifie 2 groupes"
   ]
  },
  {
   "cell_type": "code",
   "execution_count": null,
   "metadata": {},
   "outputs": [],
   "source": [
    "age_frequence[(age_frequence['birth'] > 1985)&(age_frequence['birth'] < 1995)]\n",
    "\n",
    "# avant 1992 et après"
   ]
  },
  {
   "cell_type": "markdown",
   "metadata": {},
   "source": [
    "#### Analyse par groupe"
   ]
  },
  {
   "cell_type": "code",
   "execution_count": null,
   "metadata": {},
   "outputs": [],
   "source": [
    "# Definition des variables\n",
    "\n",
    "a_pm_g1 = age_frequence[(age_frequence['birth'] < 1992)]\n",
    "a_pm_g2 = age_frequence[(age_frequence['birth'] > 1991)]\n",
    "bornes = [1920,1993,2004]\n",
    "a_pm_g =[a_pm_g1, a_pm_g2] # Création d'une liste pour pourvoir itérer\n",
    "i=0 #compteur\n",
    "\n",
    "print('Description de la population')\n",
    "display(age_frequence.describe())  # paramètres généraux\n",
    "\n",
    "CV = age_frequence.describe().loc['std','session_id'] / age_frequence.describe().loc['mean','session_id']\n",
    "print('Coefficient de variation = ' +  str(CV))\n",
    "\n",
    "# boucle\n",
    "\n",
    "for group in a_pm_g :\n",
    "    a,b,r,p,z = stats.linregress(a_pm_g[i].birth, a_pm_g[i].session_id) # Paramètre par groupe\n",
    "    CV = a_pm_g[i].describe().loc['std','session_id'] / a_pm_g[i].describe().loc['mean','session_id'] # CV par groupe\n",
    "    print('\\n'+ 'Paramètre du groupe ' + str(i+1) +'\\n'+ 'a = ' + str(a) + '\\n'+ 'b = ' + str(b) + '\\n' + 'r = ' + str(r) + '\\n' + 'p = ' + str(p) + '\\n' + 'z = ' + str(z) +'\\n'+ 'CV = ' + str(CV))\n",
    "    age_frequence_r2 = r**2\n",
    "    print('r² = ' + str (age_frequence_r2) + '\\n')\n",
    "    print(a_pm_g[i].describe())\n",
    "    sns.regplot(a_pm_g[i].birth,a_pm_g[i].session_id) # Graphique\n",
    "    plt.title('Âge et fréquence des achats')\n",
    "    plt.xlabel('Années de naissance')\n",
    "    plt.ylabel('''Nombre de sessions d'achat''')\n",
    "    plt.savefig('age_fre'+ str(i))\n",
    "    plt.show()\n",
    "    i+=1 # incrémentation"
   ]
  },
  {
   "cell_type": "markdown",
   "metadata": {},
   "source": [
    "### Boîte à moustache"
   ]
  },
  {
   "cell_type": "code",
   "execution_count": null,
   "metadata": {},
   "outputs": [],
   "source": [
    "age_frequence.boxplot('session_id', by='groupe_fre', grid=False)\n",
    "plt.title( '''Fréquence des achats par catégorie d'âge''' )\n",
    "plt.ylabel('Nombre de sessions')\n",
    "plt.xlabel('Groupes')\n",
    "plt.suptitle('') "
   ]
  },
  {
   "cell_type": "markdown",
   "metadata": {},
   "source": [
    "### ANOVA"
   ]
  },
  {
   "cell_type": "code",
   "execution_count": null,
   "metadata": {},
   "outputs": [],
   "source": [
    "# Calcul des paramètres\n",
    "model = ols('session_id ~ C(groupe_fre)', data=age_frequence).fit()\n",
    "anova_table = sm.stats.anova_lm(model, typ=2)\n",
    "print(anova_table)"
   ]
  },
  {
   "cell_type": "code",
   "execution_count": null,
   "metadata": {},
   "outputs": [],
   "source": [
    "# Calcul de la valeur critique pour des degrés de liberté de 1 et 73\n",
    "stats.f.ppf(q=1-0.05, dfn=1, dfd=73)\n",
    "\n",
    "# Notre valeur F est largement au-dessus de la valeur critique"
   ]
  },
  {
   "cell_type": "markdown",
   "metadata": {},
   "source": [
    "----"
   ]
  },
  {
   "cell_type": "markdown",
   "metadata": {},
   "source": [
    "# Âge et le panier moyen"
   ]
  },
  {
   "cell_type": "code",
   "execution_count": null,
   "metadata": {},
   "outputs": [],
   "source": [
    "# On compte le nombre d'articles par client et session\n",
    "age_panier_moyen = data_no_2004_grossiste.groupby(['birth','session_id','client_id','groupe'], observed=True)['id_prod'].count().to_frame().reset_index()\n",
    "age_panier_moyen"
   ]
  },
  {
   "cell_type": "code",
   "execution_count": null,
   "metadata": {},
   "outputs": [],
   "source": [
    "# Panier moyen par client\n",
    "age_panier_moyen = age_panier_moyen.groupby(['client_id', 'birth', 'groupe'], observed=True)['id_prod'].mean().to_frame().reset_index()\n",
    "age_panier_moyen"
   ]
  },
  {
   "cell_type": "code",
   "execution_count": null,
   "metadata": {},
   "outputs": [],
   "source": [
    "# moyenne des paniers moyens par âge\n",
    "age_panier_moyen = age_panier_moyen.groupby(['birth', 'groupe'], observed=True)['id_prod'].mean().to_frame().reset_index()\n",
    "age_panier_moyen"
   ]
  },
  {
   "cell_type": "code",
   "execution_count": null,
   "metadata": {},
   "outputs": [],
   "source": [
    "age_panier_moyen.describe()"
   ]
  },
  {
   "cell_type": "code",
   "execution_count": null,
   "metadata": {},
   "outputs": [],
   "source": [
    "# Calcul des paramètres\n",
    "a,b,r,p,z = stats.linregress(age_panier_moyen.birth, age_panier_moyen.id_prod)\n",
    "a,b,r,p,z \n",
    "# la corrélation est modérée"
   ]
  },
  {
   "cell_type": "code",
   "execution_count": null,
   "metadata": {},
   "outputs": [],
   "source": [
    "# Calcul du coefficient de variation\n",
    "age_panier_moyen_r2 = r**2\n",
    "age_panier_moyen_r2\n",
    "# pouvoir de prédiction faible"
   ]
  },
  {
   "cell_type": "code",
   "execution_count": null,
   "metadata": {},
   "outputs": [],
   "source": [
    "x = np.arange(1920,2005,1)\n",
    "plt.figure(1)\n",
    "age_panier_moyen.plot('birth', 'id_prod', kind='scatter')\n",
    "plt.title('Âge et panier moyen')\n",
    "plt.figure(2)\n",
    "plt.plot(x, a*x+b, 'red')\n",
    "plt.xlabel('Années de naissance')\n",
    "plt.ylabel('''Nombre d'articles moyen''')\n",
    "plt.savefig('age_panier_moyen')\n",
    "plt.show()"
   ]
  },
  {
   "cell_type": "code",
   "execution_count": null,
   "metadata": {},
   "outputs": [],
   "source": [
    "# Représentaiton graphique avec des hexagones de densité\n",
    "plt.hexbin(age_panier_moyen.birth, age_panier_moyen.id_prod)\n",
    "plt.title('Âge et panier moyen')\n",
    "plt.xlabel('Année de naissance')\n",
    "plt.ylabel('Prix en  €')\n",
    "plt.colorbar()"
   ]
  },
  {
   "cell_type": "markdown",
   "metadata": {},
   "source": [
    "### Âge et panier moyen : identification des groupes"
   ]
  },
  {
   "cell_type": "markdown",
   "metadata": {},
   "source": [
    "Sur ces graphiques on peut indentifier 3 groupes distincts"
   ]
  },
  {
   "cell_type": "markdown",
   "metadata": {},
   "source": [
    "#### Recherche de ruptures"
   ]
  },
  {
   "cell_type": "code",
   "execution_count": null,
   "metadata": {},
   "outputs": [],
   "source": [
    "age_panier_moyen[(age_panier_moyen['birth'] > 1965)&(age_panier_moyen['birth'] < 1975)]\n",
    "# Ecart significatif entre 1971 et 1972"
   ]
  },
  {
   "cell_type": "code",
   "execution_count": null,
   "metadata": {},
   "outputs": [],
   "source": [
    "age_panier_moyen[(age_panier_moyen['birth'] > 1985)&(age_panier_moyen['birth'] < 1995)]\n",
    "# Ecart significatif entre 1991 et 1992"
   ]
  },
  {
   "cell_type": "markdown",
   "metadata": {},
   "source": [
    "#### Analyse par groupe"
   ]
  },
  {
   "cell_type": "markdown",
   "metadata": {},
   "source": [
    "Définition de 3 groupes :\n",
    "- a_pm_g1 : Clients nés avant 1972 (50 ans en 2022)\n",
    "- a_pm_g2 : Clients nés entre 1972 et 1992 (entre 50 et 30 ans en 2022)\n",
    "- a_pm_g3 : Clients nés après 1992 (30 ans et en-dessous)"
   ]
  },
  {
   "cell_type": "code",
   "execution_count": null,
   "metadata": {},
   "outputs": [],
   "source": [
    "# Definition des variables\n",
    "a_pm_g1 = age_panier_moyen[age_panier_moyen['birth'] < 1972]\n",
    "a_pm_g2 = age_panier_moyen[(age_panier_moyen['birth'] > 1971)&(age_panier_moyen['birth'] < 1992)]\n",
    "a_pm_g3 = age_panier_moyen[age_panier_moyen['birth'] > 1991]\n",
    "bornes = [1920,1973,1993,2004]\n",
    "a_pm_g =[a_pm_g1, a_pm_g2, a_pm_g3] # Création d'une liste pour pourvoir itérer\n",
    "i=0 #compteur\n",
    "\n",
    "print('Description de la population')\n",
    "display(age_panier_moyen.describe()) # paramètres généraux\n",
    "\n",
    "CV = age_panier_moyen.describe().loc['std','id_prod'] / age_panier_moyen.describe().loc['mean','id_prod'] # Coefficient de variation général\n",
    "print('Coefficient de variation = ' +  str(CV) +'\\n')\n",
    "\n",
    "# Création de la boucle\n",
    "\n",
    "for group in a_pm_g :\n",
    "    a,b,r,p,z = stats.linregress(a_pm_g[i].birth, a_pm_g[i].id_prod) # Paramètre par groupe\n",
    "    CV = a_pm_g[i].describe().loc['std','id_prod'] / a_pm_g[i].describe().loc['mean','id_prod'] # CV par groupe\n",
    "    print('\\n'+ 'Paramètre du groupe ' + str(i+1) +'\\n'+ 'a = ' + str(a) + '\\n'+ 'b = ' + str(b) + '\\n' + 'r = ' + str(r) + '\\n' + 'p = ' + str(p) + '\\n' + 'z = ' + str(z)+'\\n' + 'CV = ' + str(CV) +'\\n')\n",
    "    age_panier_moyen_r2 = r**2 # Coefficient de détermination\n",
    "    print(a_pm_g[i].describe())\n",
    "    print('r² = ' + str (age_panier_moyen_r2) + '\\n')\n",
    "    x = np.arange(bornes[i],bornes[i+1],1)\n",
    "    plt.figure(1)\n",
    "    a_pm_g[i].plot('birth', 'id_prod', kind='scatter') # Graphique\n",
    "    plt.title('Âge et panier moyen')\n",
    "    plt.figure(2)\n",
    "    plt.plot(x, a*x+b, 'red')\n",
    "    plt.xlabel('Années de naissance')\n",
    "    plt.ylabel('''Nombre d'articles''')\n",
    "    plt.savefig('age_panier'+ str(i))\n",
    "    plt.show()\n",
    "    i+=1 # incrémentation"
   ]
  },
  {
   "cell_type": "markdown",
   "metadata": {},
   "source": [
    "les valeurs p des 3 groupes sont faibles. En effet, la clientèle a été divisé en 3 groupes homogènes."
   ]
  },
  {
   "cell_type": "code",
   "execution_count": null,
   "metadata": {},
   "outputs": [],
   "source": [
    "age_panier_moyen.describe()"
   ]
  },
  {
   "cell_type": "markdown",
   "metadata": {},
   "source": [
    "l'écart type a grandement diminué. il état de 0.417 dans la population totale est il passe à :\n",
    "- groupe 1 : 0.071\n",
    "- groupe 2 : 0.026\n",
    "- groupe 3 : 0.047\n"
   ]
  },
  {
   "cell_type": "markdown",
   "metadata": {},
   "source": [
    "### boîte à moustache par groupe"
   ]
  },
  {
   "cell_type": "code",
   "execution_count": null,
   "metadata": {},
   "outputs": [],
   "source": [
    "age_panier_moyen.boxplot('id_prod', by='groupe', grid=False)\n",
    "plt.title( '''Panier par catégorie d'âge''' )\n",
    "plt.ylabel('''Nombre d'articles''')\n",
    "plt.xlabel('Groupes')\n",
    "plt.suptitle('') "
   ]
  },
  {
   "cell_type": "markdown",
   "metadata": {},
   "source": [
    "### ANOVA"
   ]
  },
  {
   "cell_type": "code",
   "execution_count": null,
   "metadata": {},
   "outputs": [],
   "source": [
    "# Méthode 1\n",
    "statf, pvalue = stats.f_oneway(age_panier_moyen['id_prod'][age_panier_moyen['groupe'] == 1], age_panier_moyen['id_prod'][age_panier_moyen['groupe'] == 2], age_panier_moyen['id_prod'][age_panier_moyen['groupe'] == 3])\n",
    "statf, pvalue"
   ]
  },
  {
   "cell_type": "code",
   "execution_count": null,
   "metadata": {},
   "outputs": [],
   "source": [
    "# Méthode 2\n",
    "model = ols('id_prod ~ C(groupe)', data=age_panier_moyen).fit()\n",
    "anova_table = sm.stats.anova_lm(model, typ=2)\n",
    "print(anova_table)"
   ]
  },
  {
   "cell_type": "code",
   "execution_count": null,
   "metadata": {},
   "outputs": [],
   "source": [
    "# Calcul de la valeur critique pour des degrés de liberté de 2 et 72\n",
    "stats.f.ppf(q=1-0.05, dfn=2, dfd=72)\n",
    "\n",
    "# Notre valeur F est largement au-dessus de la valeur critique"
   ]
  },
  {
   "cell_type": "markdown",
   "metadata": {},
   "source": [
    "#### Analyse Post-hoc"
   ]
  },
  {
   "cell_type": "code",
   "execution_count": null,
   "metadata": {},
   "outputs": [],
   "source": [
    "m_comp = pairwise_tukeyhsd(endog=age_panier_moyen['id_prod'], groups=age_panier_moyen['groupe'], alpha=0.05)\n",
    "print(m_comp)"
   ]
  },
  {
   "cell_type": "markdown",
   "metadata": {},
   "source": [
    "Toutes les paires rejettent l'hypothèse nulle"
   ]
  },
  {
   "cell_type": "markdown",
   "metadata": {},
   "source": [
    "----"
   ]
  },
  {
   "cell_type": "markdown",
   "metadata": {},
   "source": [
    "## Âge et catégorie"
   ]
  },
  {
   "cell_type": "code",
   "execution_count": null,
   "metadata": {},
   "outputs": [],
   "source": [
    "data_no_2004_grossiste.groupby('categ')['birth'].describe()"
   ]
  },
  {
   "cell_type": "markdown",
   "metadata": {},
   "source": [
    "### ANOVA"
   ]
  },
  {
   "cell_type": "code",
   "execution_count": null,
   "metadata": {},
   "outputs": [],
   "source": [
    "model = ols('birth ~ C(categ)', data=data_no_2004_grossiste).fit()\n",
    "anova_table = sm.stats.anova_lm(model, typ=2)\n",
    "print(anova_table)"
   ]
  },
  {
   "cell_type": "code",
   "execution_count": null,
   "metadata": {},
   "outputs": [],
   "source": [
    "# Calcul de la valeur critique pour des degrés de liberté de 2 et 306201\n",
    "stats.f.ppf(q=1-0.05, dfn=2, dfd=306201)\n",
    "\n",
    "# Notre valeur F est largement au-dessus de la valeur critique"
   ]
  },
  {
   "cell_type": "markdown",
   "metadata": {},
   "source": [
    "#### Post-hoc"
   ]
  },
  {
   "cell_type": "code",
   "execution_count": null,
   "metadata": {},
   "outputs": [],
   "source": [
    "m_comp = pairwise_tukeyhsd(endog=data_no_2004_grossiste['birth'], groups=data_no_2004_grossiste['categ'], alpha=0.05)\n",
    "print(m_comp)"
   ]
  },
  {
   "cell_type": "markdown",
   "metadata": {},
   "source": [
    "#### Conclusions"
   ]
  },
  {
   "cell_type": "markdown",
   "metadata": {},
   "source": [
    "H0 = \"la moyenne des groupes sont égales\" \n",
    "\n",
    "H1 = \"Au moins, l'une des moyennes d'un groupe est différente des autres groupes\"\n",
    "\n",
    "Toutes les paires de groupe rejettent l'hypothèse H0. En d'autres termes : en fonction de la catégorie, la moyenne d'âge des acheteurs est différente."
   ]
  },
  {
   "cell_type": "markdown",
   "metadata": {},
   "source": [
    "### Visualisation de la distribution des données en fonctions des groupes"
   ]
  },
  {
   "cell_type": "code",
   "execution_count": null,
   "metadata": {},
   "outputs": [],
   "source": [
    "sns.violinplot(x='categ', y='birth', data=data_no_2004_grossiste)\n",
    "plt.title('Âge et la catégorie')\n",
    "plt.xlabel('Catégories')\n",
    "plt.ylabel('Années de naissance')\n",
    "plt.savefig('age_categ')\n",
    "plt.show()"
   ]
  },
  {
   "cell_type": "markdown",
   "metadata": {},
   "source": [
    "Catégorie 0 = concentration des données au sein de la tranche d'âge 1970 - 1990 (groupe de clients entre 30 et 50 ans)\n",
    "\n",
    "Catégorie 1 = Les enregistrements s'étalent assez uniformément entre les différentes tranches d'âge\n",
    "\n",
    "Catégorie 2 = Concentration des données au sein de la tranche d'âge inférieur à 1990 (les - de 30)"
   ]
  },
  {
   "cell_type": "markdown",
   "metadata": {},
   "source": [
    "----"
   ]
  },
  {
   "cell_type": "markdown",
   "metadata": {},
   "source": [
    "## Poids des groupes dans le chiffre d'affaires"
   ]
  },
  {
   "cell_type": "code",
   "execution_count": null,
   "metadata": {},
   "outputs": [],
   "source": [
    "total_ca_g1 = data_no_2004_grossiste[data_no_2004_grossiste['birth'] < 1972]['price'].sum()\n",
    "total_ca_g2 = data_no_2004_grossiste[(data_no_2004_grossiste['birth'] > 1971)&(data_no_2004_grossiste['birth'] < 1992)]['price'].sum()\n",
    "total_ca_g3 = data_no_2004_grossiste[data_no_2004_grossiste['birth'] > 1991]['price'].sum()\n",
    "total_ca = data_no_2004_grossiste['price'].sum()\n",
    "\n",
    "per_ca_g1 = total_ca_g1 / total_ca\n",
    "per_ca_g2 = total_ca_g2 / total_ca\n",
    "per_ca_g3 = total_ca_g3 / total_ca\n",
    "\n",
    "per_ca_g1, per_ca_g2, per_ca_g3\n"
   ]
  },
  {
   "cell_type": "code",
   "execution_count": null,
   "metadata": {},
   "outputs": [],
   "source": [
    "per_ca_g1+ per_ca_g2+ per_ca_g3"
   ]
  },
  {
   "cell_type": "markdown",
   "metadata": {},
   "source": [
    "---"
   ]
  },
  {
   "cell_type": "markdown",
   "metadata": {},
   "source": [
    "## Courbe de Lorenz et coefficient de Gini"
   ]
  },
  {
   "cell_type": "code",
   "execution_count": null,
   "metadata": {},
   "outputs": [],
   "source": [
    "# CA par client\n",
    "X = data.groupby('client_id')['price'].sum()\n",
    "X = X.to_numpy()\n",
    "X = np.sort(X) # tri des valeurs"
   ]
  },
  {
   "cell_type": "code",
   "execution_count": null,
   "metadata": {},
   "outputs": [],
   "source": [
    "def lorenz(X):\n",
    "    # On divis la somme cumulé par la somme \n",
    "    # afin avoir un résultat entre 0 et 1\n",
    "    scaled_prefix_sum = X.cumsum() / X.sum()\n",
    "    # On met en place la première valeur à 0\n",
    "    return np.insert(scaled_prefix_sum, 0, 0)\n",
    "\n",
    "lorenz_curve = lorenz(X)\n",
    "\n",
    "plt.plot(np.linspace(0.0, 1.0, lorenz_curve.size), lorenz_curve)\n",
    "# on affiche une ligne de 0,0 à 1,1\n",
    "plt.plot([0,1], [0,1])\n",
    "plt.xlabel('''% de client''')\n",
    "plt.grid()\n",
    "plt.ylabel('''% du chiffre d'affaires''')\n",
    "plt.title('courbe de Lorenz')\n",
    "plt.annotate('les 4 clients grossistes', xy=(1,0.92), xytext=(0.45,0.95),arrowprops=dict(arrowstyle='->', color='red', linewidth=2))\n",
    "plt.annotate('50% des clients produisent 20% du CA', xy=(0.5,0.2), xytext=(0.45,0.35),arrowprops=dict(arrowstyle='->', color='red', linewidth=2))\n",
    "plt.savefig('Lorenz')\n",
    "plt.show()"
   ]
  },
  {
   "cell_type": "code",
   "execution_count": null,
   "metadata": {},
   "outputs": [],
   "source": [
    "# Calcul du coefficient de gini\n",
    "\n",
    "n = X.size # Taille de l'échantillon\n",
    "i = np.arange(1, n + 1) # Index commençant à 1\n",
    "\n",
    "\n",
    "# Application de la formule\n",
    "(np.sum((2 * i - n  - 1) * X)) / (n * np.sum(X))"
   ]
  }
 ],
 "metadata": {
  "kernelspec": {
   "display_name": "Python 3",
   "language": "python",
   "name": "python3"
  },
  "language_info": {
   "codemirror_mode": {
    "name": "ipython",
    "version": 3
   },
   "file_extension": ".py",
   "mimetype": "text/x-python",
   "name": "python",
   "nbconvert_exporter": "python",
   "pygments_lexer": "ipython3",
   "version": "3.7.6"
  }
 },
 "nbformat": 4,
 "nbformat_minor": 4
}
