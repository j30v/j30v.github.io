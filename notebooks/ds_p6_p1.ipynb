{
  "nbformat": 4,
  "nbformat_minor": 5,
  "metadata": {
    "accelerator": "TPU",
    "colab": {
      "name": "P6.ipynb",
      "provenance": [],
      "collapsed_sections": [],
      "toc_visible": true
    },
    "kernelspec": {
      "display_name": "Python 3",
      "language": "python",
      "name": "python3"
    },
    "language_info": {
      "codemirror_mode": {
        "name": "ipython",
        "version": 3
      },
      "file_extension": ".py",
      "mimetype": "text/x-python",
      "name": "python",
      "nbconvert_exporter": "python",
      "pygments_lexer": "ipython3",
      "version": "3.9.2"
    },
    "toc-autonumbering": true
  },
  "cells": [
    {
      "cell_type": "markdown",
      "metadata": {
        "id": "ILMEPT6olcFX"
      },
      "source": [
        "# Projet n°6 : Classifiez automatiquement des biens de consommation"
      ],
      "id": "ILMEPT6olcFX"
    },
    {
      "cell_type": "markdown",
      "metadata": {
        "id": "bCzcUw4zl185"
      },
      "source": [
        "## Import des librairies principales"
      ],
      "id": "bCzcUw4zl185"
    },
    {
      "cell_type": "code",
      "metadata": {
        "id": "b5dd1f01-cc91-4110-8afd-0ed4300bd198"
      },
      "source": [
        "import pandas as pd\n",
        "from matplotlib.image import imread\n",
        "import matplotlib.pyplot as plt\n",
        "import os\n",
        "import time\n",
        "import pandas as pd\n",
        "import numpy as np\n",
        "import seaborn as sns\n",
        "%matplotlib inline\n",
        "import nltk\n",
        "import random as rn\n",
        "import tensorflow as tf\n",
        "from tensorflow import keras\n",
        "import seaborn as sns\n",
        "sns.set_context('talk')"
      ],
      "id": "b5dd1f01-cc91-4110-8afd-0ed4300bd198",
      "execution_count": 372,
      "outputs": []
    },
    {
      "cell_type": "code",
      "metadata": {
        "colab": {
          "base_uri": "https://localhost:8080/",
          "height": 0
        },
        "id": "2LFLsytXC2HG",
        "outputId": "14e81d29-438e-4735-fda4-ca4dace48e3f"
      },
      "source": [
        "# Configuration de l'accélaration TPU\n",
        "\n",
        "resolver = tf.distribute.cluster_resolver.TPUClusterResolver(tpu='')\n",
        "tf.config.experimental_connect_to_cluster(resolver)\n",
        "tf.tpu.experimental.initialize_tpu_system(resolver)\n",
        "print(\"All devices: \", tf.config.list_logical_devices('TPU'))"
      ],
      "id": "2LFLsytXC2HG",
      "execution_count": 373,
      "outputs": [
        {
          "output_type": "stream",
          "text": [
            "WARNING:tensorflow:TPU system grpc://10.14.96.154:8470 has already been initialized. Reinitializing the TPU can cause previously created variables on TPU to be lost.\n"
          ],
          "name": "stdout"
        },
        {
          "output_type": "stream",
          "text": [
            "WARNING:tensorflow:TPU system grpc://10.14.96.154:8470 has already been initialized. Reinitializing the TPU can cause previously created variables on TPU to be lost.\n"
          ],
          "name": "stderr"
        },
        {
          "output_type": "stream",
          "text": [
            "INFO:tensorflow:Initializing the TPU system: grpc://10.14.96.154:8470\n"
          ],
          "name": "stdout"
        },
        {
          "output_type": "stream",
          "text": [
            "INFO:tensorflow:Initializing the TPU system: grpc://10.14.96.154:8470\n"
          ],
          "name": "stderr"
        },
        {
          "output_type": "stream",
          "text": [
            "INFO:tensorflow:Clearing out eager caches\n"
          ],
          "name": "stdout"
        },
        {
          "output_type": "stream",
          "text": [
            "INFO:tensorflow:Clearing out eager caches\n"
          ],
          "name": "stderr"
        },
        {
          "output_type": "stream",
          "text": [
            "INFO:tensorflow:Finished initializing TPU system.\n"
          ],
          "name": "stdout"
        },
        {
          "output_type": "stream",
          "text": [
            "INFO:tensorflow:Finished initializing TPU system.\n"
          ],
          "name": "stderr"
        },
        {
          "output_type": "stream",
          "text": [
            "All devices:  [LogicalDevice(name='/job:worker/replica:0/task:0/device:TPU:7', device_type='TPU'), LogicalDevice(name='/job:worker/replica:0/task:0/device:TPU:6', device_type='TPU'), LogicalDevice(name='/job:worker/replica:0/task:0/device:TPU:5', device_type='TPU'), LogicalDevice(name='/job:worker/replica:0/task:0/device:TPU:4', device_type='TPU'), LogicalDevice(name='/job:worker/replica:0/task:0/device:TPU:3', device_type='TPU'), LogicalDevice(name='/job:worker/replica:0/task:0/device:TPU:0', device_type='TPU'), LogicalDevice(name='/job:worker/replica:0/task:0/device:TPU:1', device_type='TPU'), LogicalDevice(name='/job:worker/replica:0/task:0/device:TPU:2', device_type='TPU')]\n"
          ],
          "name": "stdout"
        }
      ]
    },
    {
      "cell_type": "code",
      "metadata": {
        "colab": {
          "base_uri": "https://localhost:8080/",
          "height": 0
        },
        "id": "EpbMFmicfGSb",
        "outputId": "f5963424-77a9-4a91-8628-358f23da3f5e"
      },
      "source": [
        "# Configuration de l'environnement google drive\n",
        "\n",
        "from google.colab import drive\n",
        "drive.mount('/content/drive')"
      ],
      "id": "EpbMFmicfGSb",
      "execution_count": 375,
      "outputs": [
        {
          "output_type": "stream",
          "text": [
            "Drive already mounted at /content/drive; to attempt to forcibly remount, call drive.mount(\"/content/drive\", force_remount=True).\n"
          ],
          "name": "stdout"
        }
      ]
    },
    {
      "cell_type": "code",
      "metadata": {
        "id": "3tDMAsqCims7"
      },
      "source": [
        "# Reproductibilité des résultats\n",
        "\n",
        "os.environ['PYTHONHASHSEED'] = '0'\n",
        "os.environ['CUDA_VISIBLE_DEVICES'] = ''\n",
        "np.random.seed(0)\n",
        "rn.seed(1)\n",
        "tf.random.set_seed(2)"
      ],
      "id": "3tDMAsqCims7",
      "execution_count": 376,
      "outputs": []
    },
    {
      "cell_type": "markdown",
      "metadata": {
        "id": "NVXaLxFmmbtG"
      },
      "source": [
        "## Chargement des données "
      ],
      "id": "NVXaLxFmmbtG"
    },
    {
      "cell_type": "code",
      "metadata": {
        "id": "5ad4dd4f-a839-4a79-9320-f8ff5d442c70"
      },
      "source": [
        "# Chargement du dataset\n",
        "\n",
        "df = pd.read_csv('/content/drive/MyDrive/colab/P6/Flipkart/flipkart_com-ecommerce_sample_1050.csv', index_col='uniq_id')"
      ],
      "id": "5ad4dd4f-a839-4a79-9320-f8ff5d442c70",
      "execution_count": 377,
      "outputs": []
    },
    {
      "cell_type": "markdown",
      "metadata": {
        "id": "ZA5fCOCfm5Oa"
      },
      "source": [
        "### Exploration du jeux de données"
      ],
      "id": "ZA5fCOCfm5Oa"
    },
    {
      "cell_type": "code",
      "metadata": {
        "colab": {
          "base_uri": "https://localhost:8080/",
          "height": 544
        },
        "id": "118f4cc7-839a-49de-9713-8e81f6cd12f3",
        "outputId": "e9ef59bd-1988-4132-d184-b5096a65bfd3"
      },
      "source": [
        "df.head()"
      ],
      "id": "118f4cc7-839a-49de-9713-8e81f6cd12f3",
      "execution_count": 378,
      "outputs": [
        {
          "output_type": "execute_result",
          "data": {
            "text/html": [
              "<div>\n",
              "<style scoped>\n",
              "    .dataframe tbody tr th:only-of-type {\n",
              "        vertical-align: middle;\n",
              "    }\n",
              "\n",
              "    .dataframe tbody tr th {\n",
              "        vertical-align: top;\n",
              "    }\n",
              "\n",
              "    .dataframe thead th {\n",
              "        text-align: right;\n",
              "    }\n",
              "</style>\n",
              "<table border=\"1\" class=\"dataframe\">\n",
              "  <thead>\n",
              "    <tr style=\"text-align: right;\">\n",
              "      <th></th>\n",
              "      <th>crawl_timestamp</th>\n",
              "      <th>product_url</th>\n",
              "      <th>product_name</th>\n",
              "      <th>product_category_tree</th>\n",
              "      <th>pid</th>\n",
              "      <th>retail_price</th>\n",
              "      <th>discounted_price</th>\n",
              "      <th>image</th>\n",
              "      <th>is_FK_Advantage_product</th>\n",
              "      <th>description</th>\n",
              "      <th>product_rating</th>\n",
              "      <th>overall_rating</th>\n",
              "      <th>brand</th>\n",
              "      <th>product_specifications</th>\n",
              "    </tr>\n",
              "    <tr>\n",
              "      <th>uniq_id</th>\n",
              "      <th></th>\n",
              "      <th></th>\n",
              "      <th></th>\n",
              "      <th></th>\n",
              "      <th></th>\n",
              "      <th></th>\n",
              "      <th></th>\n",
              "      <th></th>\n",
              "      <th></th>\n",
              "      <th></th>\n",
              "      <th></th>\n",
              "      <th></th>\n",
              "      <th></th>\n",
              "      <th></th>\n",
              "    </tr>\n",
              "  </thead>\n",
              "  <tbody>\n",
              "    <tr>\n",
              "      <th>55b85ea15a1536d46b7190ad6fff8ce7</th>\n",
              "      <td>2016-04-30 03:22:56 +0000</td>\n",
              "      <td>http://www.flipkart.com/elegance-polyester-mul...</td>\n",
              "      <td>Elegance Polyester Multicolor Abstract Eyelet ...</td>\n",
              "      <td>[\"Home Furnishing &gt;&gt; Curtains &amp; Accessories &gt;&gt;...</td>\n",
              "      <td>CRNEG7BKMFFYHQ8Z</td>\n",
              "      <td>1899.0</td>\n",
              "      <td>899.0</td>\n",
              "      <td>55b85ea15a1536d46b7190ad6fff8ce7.jpg</td>\n",
              "      <td>False</td>\n",
              "      <td>Key Features of Elegance Polyester Multicolor ...</td>\n",
              "      <td>No rating available</td>\n",
              "      <td>No rating available</td>\n",
              "      <td>Elegance</td>\n",
              "      <td>{\"product_specification\"=&gt;[{\"key\"=&gt;\"Brand\", \"v...</td>\n",
              "    </tr>\n",
              "    <tr>\n",
              "      <th>7b72c92c2f6c40268628ec5f14c6d590</th>\n",
              "      <td>2016-04-30 03:22:56 +0000</td>\n",
              "      <td>http://www.flipkart.com/sathiyas-cotton-bath-t...</td>\n",
              "      <td>Sathiyas Cotton Bath Towel</td>\n",
              "      <td>[\"Baby Care &gt;&gt; Baby Bath &amp; Skin &gt;&gt; Baby Bath T...</td>\n",
              "      <td>BTWEGFZHGBXPHZUH</td>\n",
              "      <td>600.0</td>\n",
              "      <td>449.0</td>\n",
              "      <td>7b72c92c2f6c40268628ec5f14c6d590.jpg</td>\n",
              "      <td>False</td>\n",
              "      <td>Specifications of Sathiyas Cotton Bath Towel (...</td>\n",
              "      <td>No rating available</td>\n",
              "      <td>No rating available</td>\n",
              "      <td>Sathiyas</td>\n",
              "      <td>{\"product_specification\"=&gt;[{\"key\"=&gt;\"Machine Wa...</td>\n",
              "    </tr>\n",
              "    <tr>\n",
              "      <th>64d5d4a258243731dc7bbb1eef49ad74</th>\n",
              "      <td>2016-04-30 03:22:56 +0000</td>\n",
              "      <td>http://www.flipkart.com/eurospa-cotton-terry-f...</td>\n",
              "      <td>Eurospa Cotton Terry Face Towel Set</td>\n",
              "      <td>[\"Baby Care &gt;&gt; Baby Bath &amp; Skin &gt;&gt; Baby Bath T...</td>\n",
              "      <td>BTWEG6SHXTDB2A2Y</td>\n",
              "      <td>NaN</td>\n",
              "      <td>NaN</td>\n",
              "      <td>64d5d4a258243731dc7bbb1eef49ad74.jpg</td>\n",
              "      <td>False</td>\n",
              "      <td>Key Features of Eurospa Cotton Terry Face Towe...</td>\n",
              "      <td>No rating available</td>\n",
              "      <td>No rating available</td>\n",
              "      <td>Eurospa</td>\n",
              "      <td>{\"product_specification\"=&gt;[{\"key\"=&gt;\"Material\",...</td>\n",
              "    </tr>\n",
              "    <tr>\n",
              "      <th>d4684dcdc759dd9cdf41504698d737d8</th>\n",
              "      <td>2016-06-20 08:49:52 +0000</td>\n",
              "      <td>http://www.flipkart.com/santosh-royal-fashion-...</td>\n",
              "      <td>SANTOSH ROYAL FASHION Cotton Printed King size...</td>\n",
              "      <td>[\"Home Furnishing &gt;&gt; Bed Linen &gt;&gt; Bedsheets &gt;&gt;...</td>\n",
              "      <td>BDSEJT9UQWHDUBH4</td>\n",
              "      <td>2699.0</td>\n",
              "      <td>1299.0</td>\n",
              "      <td>d4684dcdc759dd9cdf41504698d737d8.jpg</td>\n",
              "      <td>False</td>\n",
              "      <td>Key Features of SANTOSH ROYAL FASHION Cotton P...</td>\n",
              "      <td>No rating available</td>\n",
              "      <td>No rating available</td>\n",
              "      <td>SANTOSH ROYAL FASHION</td>\n",
              "      <td>{\"product_specification\"=&gt;[{\"key\"=&gt;\"Brand\", \"v...</td>\n",
              "    </tr>\n",
              "    <tr>\n",
              "      <th>6325b6870c54cd47be6ebfbffa620ec7</th>\n",
              "      <td>2016-06-20 08:49:52 +0000</td>\n",
              "      <td>http://www.flipkart.com/jaipur-print-cotton-fl...</td>\n",
              "      <td>Jaipur Print Cotton Floral King sized Double B...</td>\n",
              "      <td>[\"Home Furnishing &gt;&gt; Bed Linen &gt;&gt; Bedsheets &gt;&gt;...</td>\n",
              "      <td>BDSEJTHNGWVGWWQU</td>\n",
              "      <td>2599.0</td>\n",
              "      <td>698.0</td>\n",
              "      <td>6325b6870c54cd47be6ebfbffa620ec7.jpg</td>\n",
              "      <td>False</td>\n",
              "      <td>Key Features of Jaipur Print Cotton Floral Kin...</td>\n",
              "      <td>No rating available</td>\n",
              "      <td>No rating available</td>\n",
              "      <td>Jaipur Print</td>\n",
              "      <td>{\"product_specification\"=&gt;[{\"key\"=&gt;\"Machine Wa...</td>\n",
              "    </tr>\n",
              "  </tbody>\n",
              "</table>\n",
              "</div>"
            ],
            "text/plain": [
              "                                            crawl_timestamp  ...                             product_specifications\n",
              "uniq_id                                                      ...                                                   \n",
              "55b85ea15a1536d46b7190ad6fff8ce7  2016-04-30 03:22:56 +0000  ...  {\"product_specification\"=>[{\"key\"=>\"Brand\", \"v...\n",
              "7b72c92c2f6c40268628ec5f14c6d590  2016-04-30 03:22:56 +0000  ...  {\"product_specification\"=>[{\"key\"=>\"Machine Wa...\n",
              "64d5d4a258243731dc7bbb1eef49ad74  2016-04-30 03:22:56 +0000  ...  {\"product_specification\"=>[{\"key\"=>\"Material\",...\n",
              "d4684dcdc759dd9cdf41504698d737d8  2016-06-20 08:49:52 +0000  ...  {\"product_specification\"=>[{\"key\"=>\"Brand\", \"v...\n",
              "6325b6870c54cd47be6ebfbffa620ec7  2016-06-20 08:49:52 +0000  ...  {\"product_specification\"=>[{\"key\"=>\"Machine Wa...\n",
              "\n",
              "[5 rows x 14 columns]"
            ]
          },
          "metadata": {
            "tags": []
          },
          "execution_count": 378
        }
      ]
    },
    {
      "cell_type": "code",
      "metadata": {
        "colab": {
          "base_uri": "https://localhost:8080/",
          "height": 0
        },
        "id": "5efbd5e2-ae52-4adf-bf64-675f977a8d05",
        "outputId": "36edeb48-fe06-47b0-d634-0c9700ed1ae8"
      },
      "source": [
        "df.info()"
      ],
      "id": "5efbd5e2-ae52-4adf-bf64-675f977a8d05",
      "execution_count": 379,
      "outputs": [
        {
          "output_type": "stream",
          "text": [
            "<class 'pandas.core.frame.DataFrame'>\n",
            "Index: 1050 entries, 55b85ea15a1536d46b7190ad6fff8ce7 to f2f027ad6a6df617c9f125173da71e44\n",
            "Data columns (total 14 columns):\n",
            " #   Column                   Non-Null Count  Dtype  \n",
            "---  ------                   --------------  -----  \n",
            " 0   crawl_timestamp          1050 non-null   object \n",
            " 1   product_url              1050 non-null   object \n",
            " 2   product_name             1050 non-null   object \n",
            " 3   product_category_tree    1050 non-null   object \n",
            " 4   pid                      1050 non-null   object \n",
            " 5   retail_price             1049 non-null   float64\n",
            " 6   discounted_price         1049 non-null   float64\n",
            " 7   image                    1050 non-null   object \n",
            " 8   is_FK_Advantage_product  1050 non-null   bool   \n",
            " 9   description              1050 non-null   object \n",
            " 10  product_rating           1050 non-null   object \n",
            " 11  overall_rating           1050 non-null   object \n",
            " 12  brand                    712 non-null    object \n",
            " 13  product_specifications   1049 non-null   object \n",
            "dtypes: bool(1), float64(2), object(11)\n",
            "memory usage: 115.9+ KB\n"
          ],
          "name": "stdout"
        }
      ]
    },
    {
      "cell_type": "code",
      "metadata": {
        "colab": {
          "base_uri": "https://localhost:8080/",
          "height": 495
        },
        "id": "eb468000-eb5b-4a6f-837e-930838abc957",
        "outputId": "15b7df4e-70b8-4149-d0ca-2a61a040a5e9"
      },
      "source": [
        "df.describe(include='all') # include='all' permet d'afficher les données de \n",
        "                           # types catégorielles"
      ],
      "id": "eb468000-eb5b-4a6f-837e-930838abc957",
      "execution_count": 380,
      "outputs": [
        {
          "output_type": "execute_result",
          "data": {
            "text/html": [
              "<div>\n",
              "<style scoped>\n",
              "    .dataframe tbody tr th:only-of-type {\n",
              "        vertical-align: middle;\n",
              "    }\n",
              "\n",
              "    .dataframe tbody tr th {\n",
              "        vertical-align: top;\n",
              "    }\n",
              "\n",
              "    .dataframe thead th {\n",
              "        text-align: right;\n",
              "    }\n",
              "</style>\n",
              "<table border=\"1\" class=\"dataframe\">\n",
              "  <thead>\n",
              "    <tr style=\"text-align: right;\">\n",
              "      <th></th>\n",
              "      <th>crawl_timestamp</th>\n",
              "      <th>product_url</th>\n",
              "      <th>product_name</th>\n",
              "      <th>product_category_tree</th>\n",
              "      <th>pid</th>\n",
              "      <th>retail_price</th>\n",
              "      <th>discounted_price</th>\n",
              "      <th>image</th>\n",
              "      <th>is_FK_Advantage_product</th>\n",
              "      <th>description</th>\n",
              "      <th>product_rating</th>\n",
              "      <th>overall_rating</th>\n",
              "      <th>brand</th>\n",
              "      <th>product_specifications</th>\n",
              "    </tr>\n",
              "  </thead>\n",
              "  <tbody>\n",
              "    <tr>\n",
              "      <th>count</th>\n",
              "      <td>1050</td>\n",
              "      <td>1050</td>\n",
              "      <td>1050</td>\n",
              "      <td>1050</td>\n",
              "      <td>1050</td>\n",
              "      <td>1049.000000</td>\n",
              "      <td>1049.000000</td>\n",
              "      <td>1050</td>\n",
              "      <td>1050</td>\n",
              "      <td>1050</td>\n",
              "      <td>1050</td>\n",
              "      <td>1050</td>\n",
              "      <td>712</td>\n",
              "      <td>1049</td>\n",
              "    </tr>\n",
              "    <tr>\n",
              "      <th>unique</th>\n",
              "      <td>149</td>\n",
              "      <td>1050</td>\n",
              "      <td>1050</td>\n",
              "      <td>642</td>\n",
              "      <td>1050</td>\n",
              "      <td>NaN</td>\n",
              "      <td>NaN</td>\n",
              "      <td>1050</td>\n",
              "      <td>2</td>\n",
              "      <td>1050</td>\n",
              "      <td>27</td>\n",
              "      <td>27</td>\n",
              "      <td>490</td>\n",
              "      <td>984</td>\n",
              "    </tr>\n",
              "    <tr>\n",
              "      <th>top</th>\n",
              "      <td>2015-12-01 12:40:44 +0000</td>\n",
              "      <td>http://www.flipkart.com/ctw-ganpati-bapa-moriy...</td>\n",
              "      <td>RYTHMX FB NAIL POLISHES BLACK LIPSTICKS IMPORT...</td>\n",
              "      <td>[\"Home Furnishing &gt;&gt; Bed Linen &gt;&gt; Blankets, Qu...</td>\n",
              "      <td>RTRECC5QVCHZ4JT5</td>\n",
              "      <td>NaN</td>\n",
              "      <td>NaN</td>\n",
              "      <td>be0e65c6d8c2cc8cb913b36aa4168cf0.jpg</td>\n",
              "      <td>False</td>\n",
              "      <td>Nexus NX_7668 Analog Watch  - For Men - Buy Ne...</td>\n",
              "      <td>No rating available</td>\n",
              "      <td>No rating available</td>\n",
              "      <td>Lapguard</td>\n",
              "      <td>{\"product_specification\"=&gt;[{\"key\"=&gt;\"Type\", \"va...</td>\n",
              "    </tr>\n",
              "    <tr>\n",
              "      <th>freq</th>\n",
              "      <td>150</td>\n",
              "      <td>1</td>\n",
              "      <td>1</td>\n",
              "      <td>56</td>\n",
              "      <td>1</td>\n",
              "      <td>NaN</td>\n",
              "      <td>NaN</td>\n",
              "      <td>1</td>\n",
              "      <td>993</td>\n",
              "      <td>1</td>\n",
              "      <td>889</td>\n",
              "      <td>889</td>\n",
              "      <td>11</td>\n",
              "      <td>22</td>\n",
              "    </tr>\n",
              "    <tr>\n",
              "      <th>mean</th>\n",
              "      <td>NaN</td>\n",
              "      <td>NaN</td>\n",
              "      <td>NaN</td>\n",
              "      <td>NaN</td>\n",
              "      <td>NaN</td>\n",
              "      <td>2186.197331</td>\n",
              "      <td>1584.527169</td>\n",
              "      <td>NaN</td>\n",
              "      <td>NaN</td>\n",
              "      <td>NaN</td>\n",
              "      <td>NaN</td>\n",
              "      <td>NaN</td>\n",
              "      <td>NaN</td>\n",
              "      <td>NaN</td>\n",
              "    </tr>\n",
              "    <tr>\n",
              "      <th>std</th>\n",
              "      <td>NaN</td>\n",
              "      <td>NaN</td>\n",
              "      <td>NaN</td>\n",
              "      <td>NaN</td>\n",
              "      <td>NaN</td>\n",
              "      <td>7639.229411</td>\n",
              "      <td>7475.099680</td>\n",
              "      <td>NaN</td>\n",
              "      <td>NaN</td>\n",
              "      <td>NaN</td>\n",
              "      <td>NaN</td>\n",
              "      <td>NaN</td>\n",
              "      <td>NaN</td>\n",
              "      <td>NaN</td>\n",
              "    </tr>\n",
              "    <tr>\n",
              "      <th>min</th>\n",
              "      <td>NaN</td>\n",
              "      <td>NaN</td>\n",
              "      <td>NaN</td>\n",
              "      <td>NaN</td>\n",
              "      <td>NaN</td>\n",
              "      <td>35.000000</td>\n",
              "      <td>35.000000</td>\n",
              "      <td>NaN</td>\n",
              "      <td>NaN</td>\n",
              "      <td>NaN</td>\n",
              "      <td>NaN</td>\n",
              "      <td>NaN</td>\n",
              "      <td>NaN</td>\n",
              "      <td>NaN</td>\n",
              "    </tr>\n",
              "    <tr>\n",
              "      <th>25%</th>\n",
              "      <td>NaN</td>\n",
              "      <td>NaN</td>\n",
              "      <td>NaN</td>\n",
              "      <td>NaN</td>\n",
              "      <td>NaN</td>\n",
              "      <td>555.000000</td>\n",
              "      <td>340.000000</td>\n",
              "      <td>NaN</td>\n",
              "      <td>NaN</td>\n",
              "      <td>NaN</td>\n",
              "      <td>NaN</td>\n",
              "      <td>NaN</td>\n",
              "      <td>NaN</td>\n",
              "      <td>NaN</td>\n",
              "    </tr>\n",
              "    <tr>\n",
              "      <th>50%</th>\n",
              "      <td>NaN</td>\n",
              "      <td>NaN</td>\n",
              "      <td>NaN</td>\n",
              "      <td>NaN</td>\n",
              "      <td>NaN</td>\n",
              "      <td>999.000000</td>\n",
              "      <td>600.000000</td>\n",
              "      <td>NaN</td>\n",
              "      <td>NaN</td>\n",
              "      <td>NaN</td>\n",
              "      <td>NaN</td>\n",
              "      <td>NaN</td>\n",
              "      <td>NaN</td>\n",
              "      <td>NaN</td>\n",
              "    </tr>\n",
              "    <tr>\n",
              "      <th>75%</th>\n",
              "      <td>NaN</td>\n",
              "      <td>NaN</td>\n",
              "      <td>NaN</td>\n",
              "      <td>NaN</td>\n",
              "      <td>NaN</td>\n",
              "      <td>1999.000000</td>\n",
              "      <td>1199.000000</td>\n",
              "      <td>NaN</td>\n",
              "      <td>NaN</td>\n",
              "      <td>NaN</td>\n",
              "      <td>NaN</td>\n",
              "      <td>NaN</td>\n",
              "      <td>NaN</td>\n",
              "      <td>NaN</td>\n",
              "    </tr>\n",
              "    <tr>\n",
              "      <th>max</th>\n",
              "      <td>NaN</td>\n",
              "      <td>NaN</td>\n",
              "      <td>NaN</td>\n",
              "      <td>NaN</td>\n",
              "      <td>NaN</td>\n",
              "      <td>201000.000000</td>\n",
              "      <td>201000.000000</td>\n",
              "      <td>NaN</td>\n",
              "      <td>NaN</td>\n",
              "      <td>NaN</td>\n",
              "      <td>NaN</td>\n",
              "      <td>NaN</td>\n",
              "      <td>NaN</td>\n",
              "      <td>NaN</td>\n",
              "    </tr>\n",
              "  </tbody>\n",
              "</table>\n",
              "</div>"
            ],
            "text/plain": [
              "                  crawl_timestamp  ...                             product_specifications\n",
              "count                        1050  ...                                               1049\n",
              "unique                        149  ...                                                984\n",
              "top     2015-12-01 12:40:44 +0000  ...  {\"product_specification\"=>[{\"key\"=>\"Type\", \"va...\n",
              "freq                          150  ...                                                 22\n",
              "mean                          NaN  ...                                                NaN\n",
              "std                           NaN  ...                                                NaN\n",
              "min                           NaN  ...                                                NaN\n",
              "25%                           NaN  ...                                                NaN\n",
              "50%                           NaN  ...                                                NaN\n",
              "75%                           NaN  ...                                                NaN\n",
              "max                           NaN  ...                                                NaN\n",
              "\n",
              "[11 rows x 14 columns]"
            ]
          },
          "metadata": {
            "tags": []
          },
          "execution_count": 380
        }
      ]
    },
    {
      "cell_type": "code",
      "metadata": {
        "colab": {
          "base_uri": "https://localhost:8080/",
          "height": 0
        },
        "id": "80959ae5-09af-46d2-a0d3-ae24a685738c",
        "outputId": "fe78a679-b647-4f76-af8e-96af1522ae34"
      },
      "source": [
        "round(df.isnull().sum() / len(df), 2)\n",
        "\n",
        "# 32% des marques sont manquantes (brand)"
      ],
      "id": "80959ae5-09af-46d2-a0d3-ae24a685738c",
      "execution_count": 381,
      "outputs": [
        {
          "output_type": "execute_result",
          "data": {
            "text/plain": [
              "crawl_timestamp            0.00\n",
              "product_url                0.00\n",
              "product_name               0.00\n",
              "product_category_tree      0.00\n",
              "pid                        0.00\n",
              "retail_price               0.00\n",
              "discounted_price           0.00\n",
              "image                      0.00\n",
              "is_FK_Advantage_product    0.00\n",
              "description                0.00\n",
              "product_rating             0.00\n",
              "overall_rating             0.00\n",
              "brand                      0.32\n",
              "product_specifications     0.00\n",
              "dtype: float64"
            ]
          },
          "metadata": {
            "tags": []
          },
          "execution_count": 381
        }
      ]
    },
    {
      "cell_type": "markdown",
      "metadata": {
        "id": "orLmklV8oDD3"
      },
      "source": [
        "## Nettoyage du dataset"
      ],
      "id": "orLmklV8oDD3"
    },
    {
      "cell_type": "code",
      "metadata": {
        "id": "ab78e492-d230-4452-b366-ccc9f15d8574"
      },
      "source": [
        "# Modification du type de données (vers un format datetime)\n",
        "\n",
        "df['crawl_timestamp'] = pd.to_datetime(df['crawl_timestamp'])"
      ],
      "id": "ab78e492-d230-4452-b366-ccc9f15d8574",
      "execution_count": 382,
      "outputs": []
    },
    {
      "cell_type": "markdown",
      "metadata": {
        "id": "b62e5ffd-a2d7-4836-9605-79616a9a256b"
      },
      "source": [
        "### Création des labels"
      ],
      "id": "b62e5ffd-a2d7-4836-9605-79616a9a256b"
    },
    {
      "cell_type": "markdown",
      "metadata": {
        "id": "871yFi2Do4dC"
      },
      "source": [
        "Je vais utiliser les catégories encoder sous la variable **'product_category_tree',** afin de créer les labels. Les instances de cette variable sont enregistrées de la manière  suivante : *catégorie / sous-catégorie 1 / sous-catégorie 2 / sous-catégorie 3* ... Je vais explorer les données afin de déterminer quels labels extraire de cette variable"
      ],
      "id": "871yFi2Do4dC"
    },
    {
      "cell_type": "code",
      "metadata": {
        "colab": {
          "base_uri": "https://localhost:8080/",
          "height": 35
        },
        "id": "0I9Cjf20TNum",
        "outputId": "176e4d7f-31bb-4267-bb18-d42933976be3"
      },
      "source": [
        "df['product_category_tree'][0]"
      ],
      "id": "0I9Cjf20TNum",
      "execution_count": 383,
      "outputs": [
        {
          "output_type": "execute_result",
          "data": {
            "application/vnd.google.colaboratory.intrinsic+json": {
              "type": "string"
            },
            "text/plain": [
              "'[\"Home Furnishing >> Curtains & Accessories >> Curtains >> Elegance Polyester Multicolor Abstract Eyelet Do...\"]'"
            ]
          },
          "metadata": {
            "tags": []
          },
          "execution_count": 383
        }
      ]
    },
    {
      "cell_type": "code",
      "metadata": {
        "id": "9542c6c9-91fa-4767-a6bc-59208f1f29b7"
      },
      "source": [
        "# Nettoyaqe \n",
        "\n",
        "df['product_category_tree_clean'] = df['product_category_tree'].str.\\\n",
        "replace('[', '', regex=True).replace('\"', '', regex=True).str.split('>>')\n",
        "\n",
        "# Extraction de la catégorie racine \n",
        "\n",
        "df['product_category_first_elem'] = df['product_category_tree_clean']\\\n",
        ".apply(lambda x : x[0])\n"
      ],
      "id": "9542c6c9-91fa-4767-a6bc-59208f1f29b7",
      "execution_count": 384,
      "outputs": []
    },
    {
      "cell_type": "code",
      "metadata": {
        "colab": {
          "base_uri": "https://localhost:8080/",
          "height": 425
        },
        "id": "ab6fa8fd-2ff3-4b34-ac3c-88b03aa61822",
        "outputId": "0372f1da-3695-4ba4-80bc-431f2dc6f848"
      },
      "source": [
        "display(df['product_category_first_elem'])\n",
        "\n",
        "print('\\n-----------\\n')\n",
        "\n",
        "display(df['product_category_first_elem'].value_counts())"
      ],
      "id": "ab6fa8fd-2ff3-4b34-ac3c-88b03aa61822",
      "execution_count": 385,
      "outputs": [
        {
          "output_type": "display_data",
          "data": {
            "text/plain": [
              "uniq_id\n",
              "55b85ea15a1536d46b7190ad6fff8ce7    Home Furnishing \n",
              "7b72c92c2f6c40268628ec5f14c6d590          Baby Care \n",
              "64d5d4a258243731dc7bbb1eef49ad74          Baby Care \n",
              "d4684dcdc759dd9cdf41504698d737d8    Home Furnishing \n",
              "6325b6870c54cd47be6ebfbffa620ec7    Home Furnishing \n",
              "                                          ...       \n",
              "958f54f4c46b53c8a0a9b8167d9140bc          Baby Care \n",
              "fd6cbcc22efb6b761bd564c28928483c          Baby Care \n",
              "5912e037d12774bb73a2048f35a00009          Baby Care \n",
              "c3edc504d1b4f0ba6224fa53a43a7ad6          Baby Care \n",
              "f2f027ad6a6df617c9f125173da71e44          Baby Care \n",
              "Name: product_category_first_elem, Length: 1050, dtype: object"
            ]
          },
          "metadata": {
            "tags": []
          }
        },
        {
          "output_type": "stream",
          "text": [
            "\n",
            "-----------\n",
            "\n"
          ],
          "name": "stdout"
        },
        {
          "output_type": "display_data",
          "data": {
            "text/plain": [
              "Kitchen & Dining               150\n",
              "Baby Care                      150\n",
              "Beauty and Personal Care       150\n",
              "Computers                      150\n",
              "Home Furnishing                150\n",
              "Watches                        150\n",
              "Home Decor & Festive Needs     150\n",
              "Name: product_category_first_elem, dtype: int64"
            ]
          },
          "metadata": {
            "tags": []
          }
        }
      ]
    },
    {
      "cell_type": "code",
      "metadata": {
        "id": "f332398e-08a4-4d1f-949b-30e8647fb8af"
      },
      "source": [
        "# Extraction de la catégorie racine + la sous-catégorie 1\n",
        "\n",
        "df['product_category_first_elem_second_elem'] = df['product_category_tree_clean'].apply(lambda x : x[:2])"
      ],
      "id": "f332398e-08a4-4d1f-949b-30e8647fb8af",
      "execution_count": 386,
      "outputs": []
    },
    {
      "cell_type": "code",
      "metadata": {
        "colab": {
          "base_uri": "https://localhost:8080/",
          "height": 691
        },
        "id": "de9928ff-c6ab-4ef1-acf8-9a51dcded0e0",
        "outputId": "f7351c37-f678-44e7-ec63-2898b83a2a64"
      },
      "source": [
        "display(df['product_category_first_elem_second_elem'])\n",
        "\n",
        "print('\\n-----------\\n')\n",
        "\n",
        "display(df['product_category_first_elem_second_elem'].value_counts())"
      ],
      "id": "de9928ff-c6ab-4ef1-acf8-9a51dcded0e0",
      "execution_count": 387,
      "outputs": [
        {
          "output_type": "display_data",
          "data": {
            "text/plain": [
              "uniq_id\n",
              "55b85ea15a1536d46b7190ad6fff8ce7    [Home Furnishing ,  Curtains & Accessories ]\n",
              "7b72c92c2f6c40268628ec5f14c6d590                [Baby Care ,  Baby Bath & Skin ]\n",
              "64d5d4a258243731dc7bbb1eef49ad74                [Baby Care ,  Baby Bath & Skin ]\n",
              "d4684dcdc759dd9cdf41504698d737d8                 [Home Furnishing ,  Bed Linen ]\n",
              "6325b6870c54cd47be6ebfbffa620ec7                 [Home Furnishing ,  Bed Linen ]\n",
              "                                                        ...                     \n",
              "958f54f4c46b53c8a0a9b8167d9140bc               [Baby Care ,  Baby & Kids Gifts ]\n",
              "fd6cbcc22efb6b761bd564c28928483c               [Baby Care ,  Baby & Kids Gifts ]\n",
              "5912e037d12774bb73a2048f35a00009               [Baby Care ,  Baby & Kids Gifts ]\n",
              "c3edc504d1b4f0ba6224fa53a43a7ad6               [Baby Care ,  Baby & Kids Gifts ]\n",
              "f2f027ad6a6df617c9f125173da71e44               [Baby Care ,  Baby & Kids Gifts ]\n",
              "Name: product_category_first_elem_second_elem, Length: 1050, dtype: object"
            ]
          },
          "metadata": {
            "tags": []
          }
        },
        {
          "output_type": "stream",
          "text": [
            "\n",
            "-----------\n",
            "\n"
          ],
          "name": "stdout"
        },
        {
          "output_type": "error",
          "ename": "TypeError",
          "evalue": "ignored",
          "traceback": [
            "\u001b[0;31m---------------------------------------------------------------------------\u001b[0m",
            "\u001b[0;31mTypeError\u001b[0m                                 Traceback (most recent call last)",
            "\u001b[0;32mpandas/_libs/hashtable_class_helper.pxi\u001b[0m in \u001b[0;36mpandas._libs.hashtable.PyObjectHashTable.map_locations\u001b[0;34m()\u001b[0m\n",
            "\u001b[0;31mTypeError\u001b[0m: unhashable type: 'list'"
          ]
        },
        {
          "output_type": "stream",
          "text": [
            "Exception ignored in: 'pandas._libs.index.IndexEngine._call_map_locations'\n",
            "Traceback (most recent call last):\n",
            "  File \"pandas/_libs/hashtable_class_helper.pxi\", line 1709, in pandas._libs.hashtable.PyObjectHashTable.map_locations\n",
            "TypeError: unhashable type: 'list'\n"
          ],
          "name": "stderr"
        },
        {
          "output_type": "display_data",
          "data": {
            "text/plain": [
              "[Watches ,  Wrist Watches ]                              149\n",
              "[Computers ,  Laptop Accessories ]                        87\n",
              "[Baby Care ,  Infant Wear ]                               84\n",
              "[Kitchen & Dining ,  Coffee Mugs ]                        74\n",
              "[Home Decor & Festive Needs ,  Showpieces ]               71\n",
              "                                                        ... \n",
              "[Home Furnishing ,  JMD Home Furnishing ]                  1\n",
              "[Home Furnishing ,  Kripa's Home Furnishing ]              1\n",
              "[Home Decor & Festive Needs ,  Candles & Fragrances ]      1\n",
              "[Watches ,  Clocks ]                                       1\n",
              "[Beauty and Personal Care ,  Beauty Accessories ]          1\n",
              "Name: product_category_first_elem_second_elem, Length: 63, dtype: int64"
            ]
          },
          "metadata": {
            "tags": []
          }
        }
      ]
    },
    {
      "cell_type": "markdown",
      "metadata": {
        "id": "WSqrkeY7rCRf"
      },
      "source": [
        "La **catégorie racine** permet de découper les données en **7 classes de taille égale**. C’est donc cette classe que je vais utiliser afin de créer mes labels"
      ],
      "id": "WSqrkeY7rCRf"
    },
    {
      "cell_type": "code",
      "metadata": {
        "id": "_7Tex4Lanq2h"
      },
      "source": [
        "df['labels'] = df['product_category_first_elem'].str.strip()"
      ],
      "id": "_7Tex4Lanq2h",
      "execution_count": 388,
      "outputs": []
    },
    {
      "cell_type": "markdown",
      "metadata": {
        "id": "m_a-NVdwsFUW"
      },
      "source": [
        ""
      ],
      "id": "m_a-NVdwsFUW"
    },
    {
      "cell_type": "markdown",
      "metadata": {
        "id": "j8CuoUUu5gLG"
      },
      "source": [
        "## Modélisation"
      ],
      "id": "j8CuoUUu5gLG"
    },
    {
      "cell_type": "markdown",
      "metadata": {
        "id": "ir7hrhekFV07"
      },
      "source": [
        "Dans ce notebook je vais utiliser les descriptions et les images des produits afin de évaluer la faisabilté d’un outil de classification automatique. D’un premier temps, je vais utiliser que le texte, ensuite que les images et enfin je combinerai ces deux inputs dans un modèle. \n",
        "\n",
        "La stratégie ici est de commencer par des modélisations avec des méthodes non-supervisées qui nécessite moins de preprocessing (TF-IDF, LDA, SIFT)\n",
        "\n",
        "Dans un second temps, j’utiliserai des méthodes supervisées, notamment en effectuant du tranfer learning."
      ],
      "id": "ir7hrhekFV07"
    },
    {
      "cell_type": "markdown",
      "metadata": {
        "id": "632e3512-f577-41b6-b334-59cb663d5001"
      },
      "source": [
        "### Texte"
      ],
      "id": "632e3512-f577-41b6-b334-59cb663d5001"
    },
    {
      "cell_type": "markdown",
      "metadata": {
        "id": "3dc1bd15-96ad-44c5-a996-8c002c30d865"
      },
      "source": [
        "#### Préprocessing du texte"
      ],
      "id": "3dc1bd15-96ad-44c5-a996-8c002c30d865"
    },
    {
      "cell_type": "code",
      "metadata": {
        "colab": {
          "base_uri": "https://localhost:8080/",
          "height": 0
        },
        "id": "935c7c7f-93d5-4bcf-b0a7-5ef8e091475b",
        "outputId": "38bfa9e4-5fea-47b9-a9e1-4405fab270c7"
      },
      "source": [
        "# Aperçu des descriptions \n",
        "\n",
        "for x in range(6):\n",
        "    print(df['description'][x])\n",
        "    print('\\n-----------\\n')"
      ],
      "id": "935c7c7f-93d5-4bcf-b0a7-5ef8e091475b",
      "execution_count": 389,
      "outputs": [
        {
          "output_type": "stream",
          "text": [
            "Key Features of Elegance Polyester Multicolor Abstract Eyelet Door Curtain Floral Curtain,Elegance Polyester Multicolor Abstract Eyelet Door Curtain (213 cm in Height, Pack of 2) Price: Rs. 899 This curtain enhances the look of the interiors.This curtain is made from 100% high quality polyester fabric.It features an eyelet style stitch with Metal Ring.It makes the room environment romantic and loving.This curtain is ant- wrinkle and anti shrinkage and have elegant apparance.Give your home a bright and modernistic appeal with these designs. The surreal attention is sure to steal hearts. These contemporary eyelet and valance curtains slide smoothly so when you draw them apart first thing in the morning to welcome the bright sun rays you want to wish good morning to the whole world and when you draw them close in the evening, you create the most special moments of joyous beauty given by the soothing prints. Bring home the elegant curtain that softly filters light in your room so that you get the right amount of sunlight.,Specifications of Elegance Polyester Multicolor Abstract Eyelet Door Curtain (213 cm in Height, Pack of 2) General Brand Elegance Designed For Door Type Eyelet Model Name Abstract Polyester Door Curtain Set Of 2 Model ID Duster25 Color Multicolor Dimensions Length 213 cm In the Box Number of Contents in Sales Package Pack of 2 Sales Package 2 Curtains Body & Design Material Polyester\n",
            "\n",
            "-----------\n",
            "\n",
            "Specifications of Sathiyas Cotton Bath Towel (3 Bath Towel, Red, Yellow, Blue) Bath Towel Features Machine Washable Yes Material Cotton Design Self Design General Brand Sathiyas Type Bath Towel GSM 500 Model Name Sathiyas cotton bath towel Ideal For Men, Women, Boys, Girls Model ID asvtwl322 Color Red, Yellow, Blue Size Mediam Dimensions Length 30 inch Width 60 inch In the Box Number of Contents in Sales Package 3 Sales Package 3 Bath Towel\n",
            "\n",
            "-----------\n",
            "\n",
            "Key Features of Eurospa Cotton Terry Face Towel Set Size: small Height: 9 inch GSM: 360,Eurospa Cotton Terry Face Towel Set (20 PIECE FACE TOWEL SET, Assorted) Price: Rs. 299 Eurospa brings to you an exclusively designed, 100% soft cotton towels of export quality. All our products have soft texture that takes care of your skin and gives you that enriched feeling you deserve. Eurospa has been exporting its bath towels to lot of renowned brands for last 10 years and is famous for its fine prints, absorbency, softness and durability. NOTE: Our product is 100% cotton, so it is susceptible to shrinkage. Product color may vary from the picture. Size may vary by ±3% WASH CARE: Wash in cold Water, Do not Iron, Do not Bleach, Flat dry, Wash before first use. SIZE- FACE TOWEL - 23 cms X 23 cms.,Specifications of Eurospa Cotton Terry Face Towel Set (20 PIECE FACE TOWEL SET, Assorted) Bath Towel Features Material Cotton Terry Design SHUVAM General Brand Eurospa GSM 360 Type Face Towel Set Model Name SHUVAM20PCFTSETASSORTED Ideal For Boys, Girls, Men, Women Model ID SHUVAM20PCFTSETASSORTED Size small Color Assorted Dimensions Weight 350 g Length 9 inch Width 9 inch In the Box Number of Contents in Sales Package 20 Sales Package 20 PIECE FACE TOWEL SET\n",
            "\n",
            "-----------\n",
            "\n",
            "Key Features of SANTOSH ROYAL FASHION Cotton Printed King sized Double Bedsheet Royal Bedsheet Perfact for Wedding & Gifting,Specifications of SANTOSH ROYAL FASHION Cotton Printed King sized Double Bedsheet (1 Bedsheet,2 Pillow Cover, Multicolor) General Brand SANTOSH ROYAL FASHION Machine Washable Yes Type Flat Material Cotton Model Name Gold Design Royal Cotton Printed Wedding & Gifted Double Bedsheet With 2 Pillow cover Model ID goldbedi-38 Color Multicolor Size King Fabric Care Machine Wash, Do Not Bleach Dimensions Flat Sheet Width 90 inch / 230 cm Fitted Sheet Width 228 cm Pillow Cover Width 16 inch / 43 cm Pillow Cover Length 28 inch / 72 cm Fitted Sheet Depth 280 cm Fitted Sheet Length 278 cm Flat Sheet Depth 282 cm Flat Sheet Length 110 inch / 280 cm In the Box Number of Contents in Sales Package 1 Sales Package 1 Bedsheet,2 Pillow Cover\n",
            "\n",
            "-----------\n",
            "\n",
            "Key Features of Jaipur Print Cotton Floral King sized Double Bedsheet 100% cotton,Jaipur Print Cotton Floral King sized Double Bedsheet (1 bed sheet 2 pillow cover, White) Price: Rs. 998 This nice bed sheet made up of 100% cotton to give you comfort. This bed sheet is hand printed. This bedsheet gives nice look to your room And its fast colour and good quality gives this bedsheet long life.,Specifications of Jaipur Print Cotton Floral King sized Double Bedsheet (1 bed sheet 2 pillow cover, White) General Machine Washable Yes Brand Jaipur Print Type Flat Model Name jaipur117 Material Cotton Thread Count 140 Model ID jaipur117 Fabric Care machinewash, do not bleach Size King Color White Warranty waranty of the product only for manufacturing defect only and product will exchange onle when it is not used and returne its origional packing Dimensions Flat Sheet Width 86 inch / 220 cm Fitted Sheet Width 0 cm Pillow Cover Width 17 inch / 45 cm Pillow Cover Length 29 inch / 75 cm Weight 900 g Fitted Sheet Depth 0 cm Fitted Sheet Length 0 cm Flat Sheet Depth 0.2 cm Flat Sheet Length 104 inch / 265 cm In the Box Number of Contents in Sales Package 1 Sales Package 1 bed sheet 2 pillow cover\n",
            "\n",
            "-----------\n",
            "\n",
            "Maserati Time R8851116001 Analog Watch  - For Boys - Buy Maserati Time R8851116001 Analog Watch  - For Boys  R8851116001 Online at Rs.24400 in India Only at Flipkart.com. - Great Discounts, Only Genuine Products, 30 Day Replacement Guarantee, Free Shipping. Cash On Delivery!\n",
            "\n",
            "-----------\n",
            "\n"
          ],
          "name": "stdout"
        }
      ]
    },
    {
      "cell_type": "code",
      "metadata": {
        "id": "bbbea951-e2a5-4e5d-89c0-0c6b1d1ad78e"
      },
      "source": [
        "# Suppression de la casse \n",
        "\n",
        "df['description'] = df['description'].str.lower()"
      ],
      "id": "bbbea951-e2a5-4e5d-89c0-0c6b1d1ad78e",
      "execution_count": 390,
      "outputs": []
    },
    {
      "cell_type": "code",
      "metadata": {
        "id": "e83c6338-ef42-468b-94fe-e9efde957df3"
      },
      "source": [
        "# Création d'un tokenizer pour extraire les mots\n",
        "\n",
        "tokenizer = nltk.tokenize.RegexpTokenizer(r'[a-zA-Z]+')"
      ],
      "id": "e83c6338-ef42-468b-94fe-e9efde957df3",
      "execution_count": 391,
      "outputs": []
    },
    {
      "cell_type": "code",
      "metadata": {
        "id": "a014136a-23f5-4ff9-8f5d-1dea95c7f21c"
      },
      "source": [
        "# Application du tokenizer à ma feature 'description'\n",
        "\n",
        "df['tokenized_description'] = df.apply(lambda row : tokenizer.tokenize(row['description']), axis=1)\n"
      ],
      "id": "a014136a-23f5-4ff9-8f5d-1dea95c7f21c",
      "execution_count": 392,
      "outputs": []
    },
    {
      "cell_type": "code",
      "metadata": {
        "id": "0374d77b-6819-45b2-9916-9642314fc306"
      },
      "source": [
        "# Stemming des tokens\n",
        "\n",
        "stemmer = nltk.stem.PorterStemmer()\n",
        "\n",
        "df['tokenized_description_stem'] = df.apply(lambda row : [stemmer.stem(w) for w in row['tokenized_description']], axis=1)"
      ],
      "id": "0374d77b-6819-45b2-9916-9642314fc306",
      "execution_count": 393,
      "outputs": []
    },
    {
      "cell_type": "code",
      "metadata": {
        "colab": {
          "base_uri": "https://localhost:8080/",
          "height": 0
        },
        "id": "b8df8043-8bfa-4da6-bb13-2ca6630e5d4a",
        "outputId": "49401148-0dea-42d2-f7f1-c4dd0ffde09a"
      },
      "source": [
        "# Aperçu des tokens aprés preprocessing\n",
        "\n",
        "df['tokenized_description_stem']"
      ],
      "id": "b8df8043-8bfa-4da6-bb13-2ca6630e5d4a",
      "execution_count": 394,
      "outputs": [
        {
          "output_type": "execute_result",
          "data": {
            "text/plain": [
              "uniq_id\n",
              "55b85ea15a1536d46b7190ad6fff8ce7    [key, featur, of, eleg, polyest, multicolor, a...\n",
              "7b72c92c2f6c40268628ec5f14c6d590    [specif, of, sathiya, cotton, bath, towel, bat...\n",
              "64d5d4a258243731dc7bbb1eef49ad74    [key, featur, of, eurospa, cotton, terri, face...\n",
              "d4684dcdc759dd9cdf41504698d737d8    [key, featur, of, santosh, royal, fashion, cot...\n",
              "6325b6870c54cd47be6ebfbffa620ec7    [key, featur, of, jaipur, print, cotton, flora...\n",
              "                                                          ...                        \n",
              "958f54f4c46b53c8a0a9b8167d9140bc    [oren, empow, extra, larg, self, adhes, sticke...\n",
              "fd6cbcc22efb6b761bd564c28928483c    [wallmantra, larg, vinyl, sticker, sticker, pa...\n",
              "5912e037d12774bb73a2048f35a00009    [buy, uberlyf, extra, larg, pigment, polyvinyl...\n",
              "c3edc504d1b4f0ba6224fa53a43a7ad6    [buy, wallmantra, medium, vinyl, sticker, stic...\n",
              "f2f027ad6a6df617c9f125173da71e44    [buy, uberlyf, larg, vinyl, sticker, for, rs, ...\n",
              "Name: tokenized_description_stem, Length: 1050, dtype: object"
            ]
          },
          "metadata": {
            "tags": []
          },
          "execution_count": 394
        }
      ]
    },
    {
      "cell_type": "code",
      "metadata": {
        "id": "df895e99-3415-43ed-9b73-b64789da32a4"
      },
      "source": [
        "# Création d'un corpus stem\n",
        "\n",
        "temp = list(df['tokenized_description_stem'])\n",
        "\n",
        "flat_list = [item for sublist in temp for item in sublist]\n",
        "\n",
        "corpus_stem = sorted(set(flat_list))"
      ],
      "id": "df895e99-3415-43ed-9b73-b64789da32a4",
      "execution_count": 395,
      "outputs": []
    },
    {
      "cell_type": "code",
      "metadata": {
        "id": "a3acb182-bed5-4224-b125-0ec2cd3a0d3f"
      },
      "source": [
        "# Création d'un corpus non-stem\n",
        "\n",
        "temp = list(df['tokenized_description'])\n",
        "\n",
        "flat_list = [item for sublist in temp for item in sublist]\n",
        "\n",
        "corpus = sorted(set(flat_list))"
      ],
      "id": "a3acb182-bed5-4224-b125-0ec2cd3a0d3f",
      "execution_count": 396,
      "outputs": []
    },
    {
      "cell_type": "code",
      "metadata": {
        "colab": {
          "base_uri": "https://localhost:8080/",
          "height": 0
        },
        "id": "rR7_s52Pf67a",
        "outputId": "457170a2-3792-422b-aaf9-69f9ac6a36bd"
      },
      "source": [
        "# Téléchargement des stopwords\n",
        "\n",
        "nltk.download('stopwords')  "
      ],
      "id": "rR7_s52Pf67a",
      "execution_count": 397,
      "outputs": [
        {
          "output_type": "stream",
          "text": [
            "[nltk_data] Downloading package stopwords to /root/nltk_data...\n",
            "[nltk_data]   Package stopwords is already up-to-date!\n"
          ],
          "name": "stdout"
        },
        {
          "output_type": "execute_result",
          "data": {
            "text/plain": [
              "True"
            ]
          },
          "metadata": {
            "tags": []
          },
          "execution_count": 397
        }
      ]
    },
    {
      "cell_type": "code",
      "metadata": {
        "id": "75921fec-69c0-4ba7-aa3e-0c6a4315f804"
      },
      "source": [
        "# Ajout des 100 mots les plus communs à la liste des stopwords\n",
        "\n",
        "stopwords = (nltk.corpus.stopwords.words('english'))\n",
        "freq_totale = nltk.Counter(flat_list)\n",
        "most_common = freq_totale.most_common(100)\n",
        "first_tuple_elements = []\n",
        "for a_tuple in most_common:\n",
        "    first_tuple_elements.append(a_tuple[0])\n",
        "    \n",
        "sw = set()\n",
        "sw.update(stopwords)\n",
        "sw.update(first_tuple_elements)\n",
        "\n",
        "df['tokenized_nosw'] = df['tokenized_description_stem'].apply(lambda row : [w for w in row if not w in list(sw)])"
      ],
      "id": "75921fec-69c0-4ba7-aa3e-0c6a4315f804",
      "execution_count": 398,
      "outputs": []
    },
    {
      "cell_type": "code",
      "metadata": {
        "id": "6b39c8f0-74e4-4d2d-bff8-2660613cd84e"
      },
      "source": [
        "# Création de dictionnaires répertoriant les mots et leur indice\n",
        "\n",
        "word_to_ind = dict()\n",
        "ind_to_word = dict()\n",
        "\n",
        "\n",
        "for x,y in enumerate(corpus, 1) :\n",
        "    word_to_ind[y] = x\n",
        "    ind_to_word[x] = y"
      ],
      "id": "6b39c8f0-74e4-4d2d-bff8-2660613cd84e",
      "execution_count": 399,
      "outputs": []
    },
    {
      "cell_type": "code",
      "metadata": {
        "id": "l4QMWiKx2Hue"
      },
      "source": [
        "# Création de dictionnaires répertoriant les mots et leur indice (version stem)\n",
        "\n",
        "word_to_ind_stem = dict()\n",
        "ind_to_word_stem = dict()\n",
        "\n",
        "\n",
        "for x,y in enumerate(corpus_stem, 1) :\n",
        "    word_to_ind_stem[y] = x\n",
        "    ind_to_word_stem[x] = y"
      ],
      "id": "l4QMWiKx2Hue",
      "execution_count": 400,
      "outputs": []
    },
    {
      "cell_type": "code",
      "metadata": {
        "colab": {
          "base_uri": "https://localhost:8080/",
          "height": 0
        },
        "id": "5YWfC_jT0ujd",
        "outputId": "ac277b5d-ec57-4510-cf26-9c1b26c9e03c"
      },
      "source": [
        "# Aperçu\n",
        "\n",
        "df['tokenized_nosw']"
      ],
      "id": "5YWfC_jT0ujd",
      "execution_count": 401,
      "outputs": [
        {
          "output_type": "execute_result",
          "data": {
            "text/plain": [
              "uniq_id\n",
              "55b85ea15a1536d46b7190ad6fff8ce7    [featur, eleg, polyest, abstract, eyelet, door...\n",
              "7b72c92c2f6c40268628ec5f14c6d590    [specif, sathiya, bath, towel, bath, towel, re...\n",
              "64d5d4a258243731dc7bbb1eef49ad74    [featur, eurospa, terri, face, towel, small, h...\n",
              "d4684dcdc759dd9cdf41504698d737d8    [featur, santosh, royal, fashion, print, king,...\n",
              "6325b6870c54cd47be6ebfbffa620ec7    [featur, jaipur, print, floral, king, doubl, b...\n",
              "                                                          ...                        \n",
              "958f54f4c46b53c8a0a9b8167d9140bc    [oren, empow, extra, larg, self, adhes, sticke...\n",
              "fd6cbcc22efb6b761bd564c28928483c    [wallmantra, larg, vinyl, sticker, sticker, br...\n",
              "5912e037d12774bb73a2048f35a00009    [uberlyf, extra, larg, pigment, polyvinyl, fil...\n",
              "c3edc504d1b4f0ba6224fa53a43a7ad6    [wallmantra, medium, vinyl, sticker, sticker, ...\n",
              "f2f027ad6a6df617c9f125173da71e44    [uberlyf, larg, vinyl, sticker, onlin, uberlyf...\n",
              "Name: tokenized_nosw, Length: 1050, dtype: object"
            ]
          },
          "metadata": {
            "tags": []
          },
          "execution_count": 401
        }
      ]
    },
    {
      "cell_type": "code",
      "metadata": {
        "colab": {
          "base_uri": "https://localhost:8080/",
          "height": 0
        },
        "id": "bf9aaa1c-4d65-4615-a163-b244872cc722",
        "outputId": "44538a56-2731-4b88-d778-c88a75146674"
      },
      "source": [
        "# Longueur maximale des descriptions\n",
        "\n",
        "max_length = max(df['tokenized_description'].apply(lambda row : len(row)))\n",
        "max_length"
      ],
      "id": "bf9aaa1c-4d65-4615-a163-b244872cc722",
      "execution_count": 402,
      "outputs": [
        {
          "output_type": "execute_result",
          "data": {
            "text/plain": [
              "572"
            ]
          },
          "metadata": {
            "tags": []
          },
          "execution_count": 402
        }
      ]
    },
    {
      "cell_type": "code",
      "metadata": {
        "colab": {
          "base_uri": "https://localhost:8080/",
          "height": 238
        },
        "id": "0kFJrHke1y8k",
        "outputId": "4dd4b9be-7c37-4493-9c4a-ba5e6848f2b0"
      },
      "source": [
        "# Ajout d'un padding afin que toutes les descriptions ont une longueur égale à \n",
        "# la description la plus la longue (572)\n",
        "\n",
        "df['tokenized_nosw_one_hot'] = df['tokenized_nosw'].apply(lambda row : \\\n",
        "                              [word_to_ind_stem[w] for w in row ])\n",
        "\n",
        "padded_vectors = []\n",
        "\n",
        "for row in df['tokenized_nosw_one_hot'] :\n",
        "    pad_number = max_length - len(row) \n",
        "    to_add = pad_number * [0]\n",
        "    row_padded = row + to_add\n",
        "    padded_vectors.append(row_padded)\n",
        "    \n",
        "df['tokenized_nosw_one_hot_padded'] = padded_vectors \n",
        "\n",
        "display(df['tokenized_nosw_one_hot_padded'].apply(lambda row : len(row)))"
      ],
      "id": "0kFJrHke1y8k",
      "execution_count": 403,
      "outputs": [
        {
          "output_type": "display_data",
          "data": {
            "text/plain": [
              "uniq_id\n",
              "55b85ea15a1536d46b7190ad6fff8ce7    572\n",
              "7b72c92c2f6c40268628ec5f14c6d590    572\n",
              "64d5d4a258243731dc7bbb1eef49ad74    572\n",
              "d4684dcdc759dd9cdf41504698d737d8    572\n",
              "6325b6870c54cd47be6ebfbffa620ec7    572\n",
              "                                   ... \n",
              "958f54f4c46b53c8a0a9b8167d9140bc    572\n",
              "fd6cbcc22efb6b761bd564c28928483c    572\n",
              "5912e037d12774bb73a2048f35a00009    572\n",
              "c3edc504d1b4f0ba6224fa53a43a7ad6    572\n",
              "f2f027ad6a6df617c9f125173da71e44    572\n",
              "Name: tokenized_nosw_one_hot_padded, Length: 1050, dtype: int64"
            ]
          },
          "metadata": {
            "tags": []
          }
        }
      ]
    },
    {
      "cell_type": "markdown",
      "metadata": {
        "id": "72c2e345-efa4-4449-9000-7d937dd5a905"
      },
      "source": [
        "#### TF-IDF"
      ],
      "id": "72c2e345-efa4-4449-9000-7d937dd5a905"
    },
    {
      "cell_type": "code",
      "metadata": {
        "id": "f2dc62ae-2e9d-4fc7-b3b6-8f764a6134e3"
      },
      "source": [
        "from sklearn.feature_extraction.text import CountVectorizer, TfidfVectorizer"
      ],
      "id": "f2dc62ae-2e9d-4fc7-b3b6-8f764a6134e3",
      "execution_count": 404,
      "outputs": []
    },
    {
      "cell_type": "code",
      "metadata": {
        "id": "99e43418-be86-4779-bcec-d311f7f137ed"
      },
      "source": [
        "# J'englobe mon tokenizer dans une fonction\n",
        "\n",
        "def CustomTokenizer(str_input) :\n",
        "    tokens = tokenizer.tokenize(str_input)\n",
        "    #tokens = [w for w in tokens if not w in list(sw)]\n",
        "    tokens_stemmed = [stemmer.stem(token) for token in tokens]\n",
        "    return tokens_stemmed"
      ],
      "id": "99e43418-be86-4779-bcec-d311f7f137ed",
      "execution_count": 405,
      "outputs": []
    },
    {
      "cell_type": "code",
      "metadata": {
        "id": "48a50ab3-428e-425c-9527-2e1dff4542d8"
      },
      "source": [
        "# Instanciation de l'algorithme TF-IDF\n",
        "\n",
        "vectorizer = TfidfVectorizer(\n",
        "    strip_accents= 'ascii',    \n",
        "    tokenizer = CustomTokenizer\n",
        ")\n",
        "X = vectorizer.fit_transform(df['description'])\n",
        "\n",
        "y = X.toarray()"
      ],
      "id": "48a50ab3-428e-425c-9527-2e1dff4542d8",
      "execution_count": 406,
      "outputs": []
    },
    {
      "cell_type": "code",
      "metadata": {
        "colab": {
          "base_uri": "https://localhost:8080/",
          "height": 253
        },
        "id": "52641d95-16e8-4b5f-95e5-dec1ac529c38",
        "outputId": "9eab8763-f37e-41e1-b13f-e703cd758f13"
      },
      "source": [
        "# Création d'un dataframe avec les résultats\n",
        "\n",
        "tfidf = pd.DataFrame(y, columns = vectorizer.get_feature_names())\n",
        "\n",
        "tfidf.head()"
      ],
      "id": "52641d95-16e8-4b5f-95e5-dec1ac529c38",
      "execution_count": 407,
      "outputs": [
        {
          "output_type": "execute_result",
          "data": {
            "text/html": [
              "<div>\n",
              "<style scoped>\n",
              "    .dataframe tbody tr th:only-of-type {\n",
              "        vertical-align: middle;\n",
              "    }\n",
              "\n",
              "    .dataframe tbody tr th {\n",
              "        vertical-align: top;\n",
              "    }\n",
              "\n",
              "    .dataframe thead th {\n",
              "        text-align: right;\n",
              "    }\n",
              "</style>\n",
              "<table border=\"1\" class=\"dataframe\">\n",
              "  <thead>\n",
              "    <tr style=\"text-align: right;\">\n",
              "      <th></th>\n",
              "      <th>a</th>\n",
              "      <th>aa</th>\n",
              "      <th>aaa</th>\n",
              "      <th>aapno</th>\n",
              "      <th>aari</th>\n",
              "      <th>aarika</th>\n",
              "      <th>abil</th>\n",
              "      <th>abkl</th>\n",
              "      <th>abl</th>\n",
              "      <th>abod</th>\n",
              "      <th>about</th>\n",
              "      <th>abov</th>\n",
              "      <th>abras</th>\n",
              "      <th>abroad</th>\n",
              "      <th>absolut</th>\n",
              "      <th>absorb</th>\n",
              "      <th>abstract</th>\n",
              "      <th>abstrct</th>\n",
              "      <th>ac</th>\n",
              "      <th>accent</th>\n",
              "      <th>access</th>\n",
              "      <th>accessori</th>\n",
              "      <th>accid</th>\n",
              "      <th>accident</th>\n",
              "      <th>accommod</th>\n",
              "      <th>accomplish</th>\n",
              "      <th>accord</th>\n",
              "      <th>acer</th>\n",
              "      <th>ach</th>\n",
              "      <th>aci</th>\n",
              "      <th>acid</th>\n",
              "      <th>acl</th>\n",
              "      <th>acn</th>\n",
              "      <th>across</th>\n",
              "      <th>acryl</th>\n",
              "      <th>act</th>\n",
              "      <th>activ</th>\n",
              "      <th>actual</th>\n",
              "      <th>ad</th>\n",
              "      <th>adaa</th>\n",
              "      <th>...</th>\n",
              "      <th>xp</th>\n",
              "      <th>xuser</th>\n",
              "      <th>xyz</th>\n",
              "      <th>y</th>\n",
              "      <th>yardley</th>\n",
              "      <th>yarn</th>\n",
              "      <th>ybscr</th>\n",
              "      <th>ye</th>\n",
              "      <th>year</th>\n",
              "      <th>yellow</th>\n",
              "      <th>yet</th>\n",
              "      <th>yg</th>\n",
              "      <th>ygskb</th>\n",
              "      <th>yiboo</th>\n",
              "      <th>yield</th>\n",
              "      <th>yk</th>\n",
              "      <th>yl</th>\n",
              "      <th>ym</th>\n",
              "      <th>york</th>\n",
              "      <th>you</th>\n",
              "      <th>young</th>\n",
              "      <th>your</th>\n",
              "      <th>yourself</th>\n",
              "      <th>youth</th>\n",
              "      <th>yr</th>\n",
              "      <th>yuva</th>\n",
              "      <th>yve</th>\n",
              "      <th>yx</th>\n",
              "      <th>zaicu</th>\n",
              "      <th>zero</th>\n",
              "      <th>zikrak</th>\n",
              "      <th>zinc</th>\n",
              "      <th>zingalalaa</th>\n",
              "      <th>zip</th>\n",
              "      <th>zipexterior</th>\n",
              "      <th>zipper</th>\n",
              "      <th>zone</th>\n",
              "      <th>zoom</th>\n",
              "      <th>zora</th>\n",
              "      <th>zyxel</th>\n",
              "    </tr>\n",
              "  </thead>\n",
              "  <tbody>\n",
              "    <tr>\n",
              "      <th>0</th>\n",
              "      <td>0.023775</td>\n",
              "      <td>0.0</td>\n",
              "      <td>0.0</td>\n",
              "      <td>0.0</td>\n",
              "      <td>0.0</td>\n",
              "      <td>0.0</td>\n",
              "      <td>0.0</td>\n",
              "      <td>0.0</td>\n",
              "      <td>0.0</td>\n",
              "      <td>0.0</td>\n",
              "      <td>0.0</td>\n",
              "      <td>0.0</td>\n",
              "      <td>0.0</td>\n",
              "      <td>0.0</td>\n",
              "      <td>0.0</td>\n",
              "      <td>0.000000</td>\n",
              "      <td>0.152598</td>\n",
              "      <td>0.0</td>\n",
              "      <td>0.0</td>\n",
              "      <td>0.0</td>\n",
              "      <td>0.0</td>\n",
              "      <td>0.0</td>\n",
              "      <td>0.0</td>\n",
              "      <td>0.0</td>\n",
              "      <td>0.0</td>\n",
              "      <td>0.0</td>\n",
              "      <td>0.0</td>\n",
              "      <td>0.0</td>\n",
              "      <td>0.0</td>\n",
              "      <td>0.0</td>\n",
              "      <td>0.0</td>\n",
              "      <td>0.0</td>\n",
              "      <td>0.0</td>\n",
              "      <td>0.0</td>\n",
              "      <td>0.0</td>\n",
              "      <td>0.0</td>\n",
              "      <td>0.0</td>\n",
              "      <td>0.0</td>\n",
              "      <td>0.0</td>\n",
              "      <td>0.0</td>\n",
              "      <td>...</td>\n",
              "      <td>0.0</td>\n",
              "      <td>0.0</td>\n",
              "      <td>0.0</td>\n",
              "      <td>0.0</td>\n",
              "      <td>0.0</td>\n",
              "      <td>0.0</td>\n",
              "      <td>0.0</td>\n",
              "      <td>0.000000</td>\n",
              "      <td>0.000000</td>\n",
              "      <td>0.000000</td>\n",
              "      <td>0.0</td>\n",
              "      <td>0.0</td>\n",
              "      <td>0.0</td>\n",
              "      <td>0.0</td>\n",
              "      <td>0.0</td>\n",
              "      <td>0.0</td>\n",
              "      <td>0.0</td>\n",
              "      <td>0.0</td>\n",
              "      <td>0.0</td>\n",
              "      <td>0.149257</td>\n",
              "      <td>0.0</td>\n",
              "      <td>0.047722</td>\n",
              "      <td>0.0</td>\n",
              "      <td>0.0</td>\n",
              "      <td>0.0</td>\n",
              "      <td>0.0</td>\n",
              "      <td>0.0</td>\n",
              "      <td>0.0</td>\n",
              "      <td>0.0</td>\n",
              "      <td>0.0</td>\n",
              "      <td>0.0</td>\n",
              "      <td>0.0</td>\n",
              "      <td>0.0</td>\n",
              "      <td>0.0</td>\n",
              "      <td>0.0</td>\n",
              "      <td>0.0</td>\n",
              "      <td>0.0</td>\n",
              "      <td>0.0</td>\n",
              "      <td>0.0</td>\n",
              "      <td>0.0</td>\n",
              "    </tr>\n",
              "    <tr>\n",
              "      <th>1</th>\n",
              "      <td>0.000000</td>\n",
              "      <td>0.0</td>\n",
              "      <td>0.0</td>\n",
              "      <td>0.0</td>\n",
              "      <td>0.0</td>\n",
              "      <td>0.0</td>\n",
              "      <td>0.0</td>\n",
              "      <td>0.0</td>\n",
              "      <td>0.0</td>\n",
              "      <td>0.0</td>\n",
              "      <td>0.0</td>\n",
              "      <td>0.0</td>\n",
              "      <td>0.0</td>\n",
              "      <td>0.0</td>\n",
              "      <td>0.0</td>\n",
              "      <td>0.000000</td>\n",
              "      <td>0.000000</td>\n",
              "      <td>0.0</td>\n",
              "      <td>0.0</td>\n",
              "      <td>0.0</td>\n",
              "      <td>0.0</td>\n",
              "      <td>0.0</td>\n",
              "      <td>0.0</td>\n",
              "      <td>0.0</td>\n",
              "      <td>0.0</td>\n",
              "      <td>0.0</td>\n",
              "      <td>0.0</td>\n",
              "      <td>0.0</td>\n",
              "      <td>0.0</td>\n",
              "      <td>0.0</td>\n",
              "      <td>0.0</td>\n",
              "      <td>0.0</td>\n",
              "      <td>0.0</td>\n",
              "      <td>0.0</td>\n",
              "      <td>0.0</td>\n",
              "      <td>0.0</td>\n",
              "      <td>0.0</td>\n",
              "      <td>0.0</td>\n",
              "      <td>0.0</td>\n",
              "      <td>0.0</td>\n",
              "      <td>...</td>\n",
              "      <td>0.0</td>\n",
              "      <td>0.0</td>\n",
              "      <td>0.0</td>\n",
              "      <td>0.0</td>\n",
              "      <td>0.0</td>\n",
              "      <td>0.0</td>\n",
              "      <td>0.0</td>\n",
              "      <td>0.068229</td>\n",
              "      <td>0.000000</td>\n",
              "      <td>0.174116</td>\n",
              "      <td>0.0</td>\n",
              "      <td>0.0</td>\n",
              "      <td>0.0</td>\n",
              "      <td>0.0</td>\n",
              "      <td>0.0</td>\n",
              "      <td>0.0</td>\n",
              "      <td>0.0</td>\n",
              "      <td>0.0</td>\n",
              "      <td>0.0</td>\n",
              "      <td>0.000000</td>\n",
              "      <td>0.0</td>\n",
              "      <td>0.000000</td>\n",
              "      <td>0.0</td>\n",
              "      <td>0.0</td>\n",
              "      <td>0.0</td>\n",
              "      <td>0.0</td>\n",
              "      <td>0.0</td>\n",
              "      <td>0.0</td>\n",
              "      <td>0.0</td>\n",
              "      <td>0.0</td>\n",
              "      <td>0.0</td>\n",
              "      <td>0.0</td>\n",
              "      <td>0.0</td>\n",
              "      <td>0.0</td>\n",
              "      <td>0.0</td>\n",
              "      <td>0.0</td>\n",
              "      <td>0.0</td>\n",
              "      <td>0.0</td>\n",
              "      <td>0.0</td>\n",
              "      <td>0.0</td>\n",
              "    </tr>\n",
              "    <tr>\n",
              "      <th>2</th>\n",
              "      <td>0.000000</td>\n",
              "      <td>0.0</td>\n",
              "      <td>0.0</td>\n",
              "      <td>0.0</td>\n",
              "      <td>0.0</td>\n",
              "      <td>0.0</td>\n",
              "      <td>0.0</td>\n",
              "      <td>0.0</td>\n",
              "      <td>0.0</td>\n",
              "      <td>0.0</td>\n",
              "      <td>0.0</td>\n",
              "      <td>0.0</td>\n",
              "      <td>0.0</td>\n",
              "      <td>0.0</td>\n",
              "      <td>0.0</td>\n",
              "      <td>0.050424</td>\n",
              "      <td>0.000000</td>\n",
              "      <td>0.0</td>\n",
              "      <td>0.0</td>\n",
              "      <td>0.0</td>\n",
              "      <td>0.0</td>\n",
              "      <td>0.0</td>\n",
              "      <td>0.0</td>\n",
              "      <td>0.0</td>\n",
              "      <td>0.0</td>\n",
              "      <td>0.0</td>\n",
              "      <td>0.0</td>\n",
              "      <td>0.0</td>\n",
              "      <td>0.0</td>\n",
              "      <td>0.0</td>\n",
              "      <td>0.0</td>\n",
              "      <td>0.0</td>\n",
              "      <td>0.0</td>\n",
              "      <td>0.0</td>\n",
              "      <td>0.0</td>\n",
              "      <td>0.0</td>\n",
              "      <td>0.0</td>\n",
              "      <td>0.0</td>\n",
              "      <td>0.0</td>\n",
              "      <td>0.0</td>\n",
              "      <td>...</td>\n",
              "      <td>0.0</td>\n",
              "      <td>0.0</td>\n",
              "      <td>0.0</td>\n",
              "      <td>0.0</td>\n",
              "      <td>0.0</td>\n",
              "      <td>0.0</td>\n",
              "      <td>0.0</td>\n",
              "      <td>0.000000</td>\n",
              "      <td>0.038273</td>\n",
              "      <td>0.000000</td>\n",
              "      <td>0.0</td>\n",
              "      <td>0.0</td>\n",
              "      <td>0.0</td>\n",
              "      <td>0.0</td>\n",
              "      <td>0.0</td>\n",
              "      <td>0.0</td>\n",
              "      <td>0.0</td>\n",
              "      <td>0.0</td>\n",
              "      <td>0.0</td>\n",
              "      <td>0.088375</td>\n",
              "      <td>0.0</td>\n",
              "      <td>0.023547</td>\n",
              "      <td>0.0</td>\n",
              "      <td>0.0</td>\n",
              "      <td>0.0</td>\n",
              "      <td>0.0</td>\n",
              "      <td>0.0</td>\n",
              "      <td>0.0</td>\n",
              "      <td>0.0</td>\n",
              "      <td>0.0</td>\n",
              "      <td>0.0</td>\n",
              "      <td>0.0</td>\n",
              "      <td>0.0</td>\n",
              "      <td>0.0</td>\n",
              "      <td>0.0</td>\n",
              "      <td>0.0</td>\n",
              "      <td>0.0</td>\n",
              "      <td>0.0</td>\n",
              "      <td>0.0</td>\n",
              "      <td>0.0</td>\n",
              "    </tr>\n",
              "    <tr>\n",
              "      <th>3</th>\n",
              "      <td>0.000000</td>\n",
              "      <td>0.0</td>\n",
              "      <td>0.0</td>\n",
              "      <td>0.0</td>\n",
              "      <td>0.0</td>\n",
              "      <td>0.0</td>\n",
              "      <td>0.0</td>\n",
              "      <td>0.0</td>\n",
              "      <td>0.0</td>\n",
              "      <td>0.0</td>\n",
              "      <td>0.0</td>\n",
              "      <td>0.0</td>\n",
              "      <td>0.0</td>\n",
              "      <td>0.0</td>\n",
              "      <td>0.0</td>\n",
              "      <td>0.000000</td>\n",
              "      <td>0.000000</td>\n",
              "      <td>0.0</td>\n",
              "      <td>0.0</td>\n",
              "      <td>0.0</td>\n",
              "      <td>0.0</td>\n",
              "      <td>0.0</td>\n",
              "      <td>0.0</td>\n",
              "      <td>0.0</td>\n",
              "      <td>0.0</td>\n",
              "      <td>0.0</td>\n",
              "      <td>0.0</td>\n",
              "      <td>0.0</td>\n",
              "      <td>0.0</td>\n",
              "      <td>0.0</td>\n",
              "      <td>0.0</td>\n",
              "      <td>0.0</td>\n",
              "      <td>0.0</td>\n",
              "      <td>0.0</td>\n",
              "      <td>0.0</td>\n",
              "      <td>0.0</td>\n",
              "      <td>0.0</td>\n",
              "      <td>0.0</td>\n",
              "      <td>0.0</td>\n",
              "      <td>0.0</td>\n",
              "      <td>...</td>\n",
              "      <td>0.0</td>\n",
              "      <td>0.0</td>\n",
              "      <td>0.0</td>\n",
              "      <td>0.0</td>\n",
              "      <td>0.0</td>\n",
              "      <td>0.0</td>\n",
              "      <td>0.0</td>\n",
              "      <td>0.042295</td>\n",
              "      <td>0.000000</td>\n",
              "      <td>0.000000</td>\n",
              "      <td>0.0</td>\n",
              "      <td>0.0</td>\n",
              "      <td>0.0</td>\n",
              "      <td>0.0</td>\n",
              "      <td>0.0</td>\n",
              "      <td>0.0</td>\n",
              "      <td>0.0</td>\n",
              "      <td>0.0</td>\n",
              "      <td>0.0</td>\n",
              "      <td>0.000000</td>\n",
              "      <td>0.0</td>\n",
              "      <td>0.000000</td>\n",
              "      <td>0.0</td>\n",
              "      <td>0.0</td>\n",
              "      <td>0.0</td>\n",
              "      <td>0.0</td>\n",
              "      <td>0.0</td>\n",
              "      <td>0.0</td>\n",
              "      <td>0.0</td>\n",
              "      <td>0.0</td>\n",
              "      <td>0.0</td>\n",
              "      <td>0.0</td>\n",
              "      <td>0.0</td>\n",
              "      <td>0.0</td>\n",
              "      <td>0.0</td>\n",
              "      <td>0.0</td>\n",
              "      <td>0.0</td>\n",
              "      <td>0.0</td>\n",
              "      <td>0.0</td>\n",
              "      <td>0.0</td>\n",
              "    </tr>\n",
              "    <tr>\n",
              "      <th>4</th>\n",
              "      <td>0.000000</td>\n",
              "      <td>0.0</td>\n",
              "      <td>0.0</td>\n",
              "      <td>0.0</td>\n",
              "      <td>0.0</td>\n",
              "      <td>0.0</td>\n",
              "      <td>0.0</td>\n",
              "      <td>0.0</td>\n",
              "      <td>0.0</td>\n",
              "      <td>0.0</td>\n",
              "      <td>0.0</td>\n",
              "      <td>0.0</td>\n",
              "      <td>0.0</td>\n",
              "      <td>0.0</td>\n",
              "      <td>0.0</td>\n",
              "      <td>0.000000</td>\n",
              "      <td>0.000000</td>\n",
              "      <td>0.0</td>\n",
              "      <td>0.0</td>\n",
              "      <td>0.0</td>\n",
              "      <td>0.0</td>\n",
              "      <td>0.0</td>\n",
              "      <td>0.0</td>\n",
              "      <td>0.0</td>\n",
              "      <td>0.0</td>\n",
              "      <td>0.0</td>\n",
              "      <td>0.0</td>\n",
              "      <td>0.0</td>\n",
              "      <td>0.0</td>\n",
              "      <td>0.0</td>\n",
              "      <td>0.0</td>\n",
              "      <td>0.0</td>\n",
              "      <td>0.0</td>\n",
              "      <td>0.0</td>\n",
              "      <td>0.0</td>\n",
              "      <td>0.0</td>\n",
              "      <td>0.0</td>\n",
              "      <td>0.0</td>\n",
              "      <td>0.0</td>\n",
              "      <td>0.0</td>\n",
              "      <td>...</td>\n",
              "      <td>0.0</td>\n",
              "      <td>0.0</td>\n",
              "      <td>0.0</td>\n",
              "      <td>0.0</td>\n",
              "      <td>0.0</td>\n",
              "      <td>0.0</td>\n",
              "      <td>0.0</td>\n",
              "      <td>0.033933</td>\n",
              "      <td>0.000000</td>\n",
              "      <td>0.000000</td>\n",
              "      <td>0.0</td>\n",
              "      <td>0.0</td>\n",
              "      <td>0.0</td>\n",
              "      <td>0.0</td>\n",
              "      <td>0.0</td>\n",
              "      <td>0.0</td>\n",
              "      <td>0.0</td>\n",
              "      <td>0.0</td>\n",
              "      <td>0.0</td>\n",
              "      <td>0.030167</td>\n",
              "      <td>0.0</td>\n",
              "      <td>0.024113</td>\n",
              "      <td>0.0</td>\n",
              "      <td>0.0</td>\n",
              "      <td>0.0</td>\n",
              "      <td>0.0</td>\n",
              "      <td>0.0</td>\n",
              "      <td>0.0</td>\n",
              "      <td>0.0</td>\n",
              "      <td>0.0</td>\n",
              "      <td>0.0</td>\n",
              "      <td>0.0</td>\n",
              "      <td>0.0</td>\n",
              "      <td>0.0</td>\n",
              "      <td>0.0</td>\n",
              "      <td>0.0</td>\n",
              "      <td>0.0</td>\n",
              "      <td>0.0</td>\n",
              "      <td>0.0</td>\n",
              "      <td>0.0</td>\n",
              "    </tr>\n",
              "  </tbody>\n",
              "</table>\n",
              "<p>5 rows × 4215 columns</p>\n",
              "</div>"
            ],
            "text/plain": [
              "          a   aa  aaa  aapno  aari  ...  zipper  zone  zoom  zora  zyxel\n",
              "0  0.023775  0.0  0.0    0.0   0.0  ...     0.0   0.0   0.0   0.0    0.0\n",
              "1  0.000000  0.0  0.0    0.0   0.0  ...     0.0   0.0   0.0   0.0    0.0\n",
              "2  0.000000  0.0  0.0    0.0   0.0  ...     0.0   0.0   0.0   0.0    0.0\n",
              "3  0.000000  0.0  0.0    0.0   0.0  ...     0.0   0.0   0.0   0.0    0.0\n",
              "4  0.000000  0.0  0.0    0.0   0.0  ...     0.0   0.0   0.0   0.0    0.0\n",
              "\n",
              "[5 rows x 4215 columns]"
            ]
          },
          "metadata": {
            "tags": []
          },
          "execution_count": 407
        }
      ]
    },
    {
      "cell_type": "code",
      "metadata": {
        "colab": {
          "base_uri": "https://localhost:8080/",
          "height": 0
        },
        "id": "e5ecafe1-25df-4894-ad27-7bd3987c4999",
        "outputId": "607e36e8-b8fc-43fc-daf5-f8ada20c2f88"
      },
      "source": [
        "# Mot ayant le score TF-IDF maximum par description\n",
        "\n",
        "tfidf['topic'] = tfidf.apply(lambda row : tfidf.columns[row.argmax()], axis=1)\n",
        "\n",
        "tfidf['topic']"
      ],
      "id": "e5ecafe1-25df-4894-ad27-7bd3987c4999",
      "execution_count": 408,
      "outputs": [
        {
          "output_type": "execute_result",
          "data": {
            "text/plain": [
              "0        curtain\n",
              "1           bath\n",
              "2          towel\n",
              "3       bedsheet\n",
              "4          sheet\n",
              "          ...   \n",
              "1045        wall\n",
              "1046         the\n",
              "1047        film\n",
              "1048     sticker\n",
              "1049     uberlyf\n",
              "Name: topic, Length: 1050, dtype: object"
            ]
          },
          "metadata": {
            "tags": []
          },
          "execution_count": 408
        }
      ]
    },
    {
      "cell_type": "markdown",
      "metadata": {
        "id": "c0fb9248-c0ac-4d72-977d-ce123d06fb74"
      },
      "source": [
        "#### LDA "
      ],
      "id": "c0fb9248-c0ac-4d72-977d-ce123d06fb74"
    },
    {
      "cell_type": "code",
      "metadata": {
        "id": "e45a69b0-d733-4c51-8354-309c8130a59b"
      },
      "source": [
        "from sklearn.decomposition import LatentDirichletAllocation"
      ],
      "id": "e45a69b0-d733-4c51-8354-309c8130a59b",
      "execution_count": 409,
      "outputs": []
    },
    {
      "cell_type": "code",
      "metadata": {
        "id": "xQoXh6_14dvY"
      },
      "source": [
        "# Hyperparamétre qui permet de choisir le nombre de sujet à extraire\n",
        "# le nombre choisi correspond au nombre de labels\n",
        "\n",
        "n_topics = 7"
      ],
      "id": "xQoXh6_14dvY",
      "execution_count": 410,
      "outputs": []
    },
    {
      "cell_type": "code",
      "metadata": {
        "id": "2b5809f3-789e-40a9-a9d0-ccb84f1b9289"
      },
      "source": [
        "# Instanciation\n",
        "\n",
        "tf_vectorizer = CountVectorizer(max_df=0.95, min_df=2, max_features= 1000, \n",
        "                                stop_words ='english')\n",
        "tf = tf_vectorizer.fit_transform(df['description'])"
      ],
      "id": "2b5809f3-789e-40a9-a9d0-ccb84f1b9289",
      "execution_count": 411,
      "outputs": []
    },
    {
      "cell_type": "code",
      "metadata": {
        "colab": {
          "base_uri": "https://localhost:8080/",
          "height": 0
        },
        "id": "300affe5-f153-4196-aaa6-5627f6753762",
        "outputId": "e039cc00-efce-4497-efaa-8144bb45652e"
      },
      "source": [
        "# Créer le modèle LDA\n",
        "lda = LatentDirichletAllocation(\n",
        "        n_components=n_topics, \n",
        "        max_iter=5, \n",
        "        learning_method='online', \n",
        "        learning_offset=50.,\n",
        "        random_state=0)\n",
        "\n",
        "# Fitter sur les données\n",
        "lda.fit(tf)"
      ],
      "id": "300affe5-f153-4196-aaa6-5627f6753762",
      "execution_count": 412,
      "outputs": [
        {
          "output_type": "execute_result",
          "data": {
            "text/plain": [
              "LatentDirichletAllocation(batch_size=128, doc_topic_prior=None,\n",
              "                          evaluate_every=-1, learning_decay=0.7,\n",
              "                          learning_method='online', learning_offset=50.0,\n",
              "                          max_doc_update_iter=100, max_iter=5,\n",
              "                          mean_change_tol=0.001, n_components=7, n_jobs=None,\n",
              "                          perp_tol=0.1, random_state=0, topic_word_prior=None,\n",
              "                          total_samples=1000000.0, verbose=0)"
            ]
          },
          "metadata": {
            "tags": []
          },
          "execution_count": 412
        }
      ]
    },
    {
      "cell_type": "code",
      "metadata": {
        "colab": {
          "base_uri": "https://localhost:8080/",
          "height": 0
        },
        "id": "c7edc330-82f2-40ba-99e0-860f39e8cbb4",
        "outputId": "2ebda573-e401-4ef0-ca57-f9850203583b"
      },
      "source": [
        "# Affichage des 10 top mots par sujet\n",
        "\n",
        "def display_topics(model, feature_names, no_top_words):\n",
        "    for topic_idx, topic in enumerate(model.components_):\n",
        "        print(\"Topic {}:\".format(topic_idx))\n",
        "        print(\" \".join([feature_names[i] for i in topic.argsort()[:-no_top_words - 1:-1]]))\n",
        "\n",
        "no_top_words = 10\n",
        "display_topics(lda, tf_vectorizer.get_feature_names(), 10)"
      ],
      "id": "c7edc330-82f2-40ba-99e0-860f39e8cbb4",
      "execution_count": 413,
      "outputs": [
        {
          "output_type": "stream",
          "text": [
            "Topic 0:\n",
            "home hair price showpiece rs cm art towel beautiful brass\n",
            "Topic 1:\n",
            "warranty usb adapter power laptop battery replacement light product quality\n",
            "Topic 2:\n",
            "mug ceramic coffee perfect mugs gift material safe loved rockmantra\n",
            "Topic 3:\n",
            "skin oil traits shampoo wall ml soap type used applied\n",
            "Topic 4:\n",
            "products free rs delivery genuine shipping cash buy 30 day\n",
            "Topic 5:\n",
            "cm pack baby features color specifications general cotton package number\n",
            "Topic 6:\n",
            "laptop skin print shapes pad set mouse warranty combo multicolor\n"
          ],
          "name": "stdout"
        }
      ]
    },
    {
      "cell_type": "code",
      "metadata": {
        "colab": {
          "base_uri": "https://localhost:8080/",
          "height": 0
        },
        "id": "LcTY3P_PHQdz",
        "outputId": "dc123162-5ee4-45e3-bfec-1a1e1fec0c5b"
      },
      "source": [
        "df['labels'].unique()"
      ],
      "id": "LcTY3P_PHQdz",
      "execution_count": 414,
      "outputs": [
        {
          "output_type": "execute_result",
          "data": {
            "text/plain": [
              "array(['Home Furnishing', 'Baby Care', 'Watches',\n",
              "       'Home Decor & Festive Needs', 'Kitchen & Dining',\n",
              "       'Beauty and Personal Care', 'Computers'], dtype=object)"
            ]
          },
          "metadata": {
            "tags": []
          },
          "execution_count": 414
        }
      ]
    },
    {
      "cell_type": "markdown",
      "metadata": {
        "id": "UuuXBOjd5Lem"
      },
      "source": [
        "Le découpage proprosé par l'algorithme LDA ne correspond pas exactement tout à fait à nos labels. Par exemple, on peut remarquer que les topics 1 et 6 correspondent à notre label 'Computers'"
      ],
      "id": "UuuXBOjd5Lem"
    },
    {
      "cell_type": "markdown",
      "metadata": {
        "id": "bed4ddde-a5da-415d-a583-0fc044d9c2ad"
      },
      "source": [
        "#### Régression logistique"
      ],
      "id": "bed4ddde-a5da-415d-a583-0fc044d9c2ad"
    },
    {
      "cell_type": "code",
      "metadata": {
        "colab": {
          "base_uri": "https://localhost:8080/",
          "height": 0
        },
        "id": "802fe5e7-9166-4efb-b152-a5c0a0318e1b",
        "outputId": "bd6ad8ec-bbe7-453a-c298-e53ab2754a3b"
      },
      "source": [
        "# Extraction de l'embedding Glove en 100 dimensions\n",
        "\n",
        "path_to_glove_file = os.path.join(\n",
        "    os.path.expanduser(\"~\"), \"/content/drive/MyDrive/colab/P6/glove.6B.100d.txt\"\n",
        ")\n",
        "\n",
        "embeddings_index = {}\n",
        "with open(path_to_glove_file) as f:\n",
        "    for line in f:\n",
        "        word, coefs = line.split(maxsplit=1)\n",
        "        coefs = np.fromstring(coefs, \"f\", sep=\" \")\n",
        "        embeddings_index[word] = coefs\n",
        "\n",
        "print(\"Found %s word vectors.\" % len(embeddings_index))"
      ],
      "id": "802fe5e7-9166-4efb-b152-a5c0a0318e1b",
      "execution_count": 415,
      "outputs": [
        {
          "output_type": "stream",
          "text": [
            "Found 400000 word vectors.\n"
          ],
          "name": "stdout"
        }
      ]
    },
    {
      "cell_type": "code",
      "metadata": {
        "colab": {
          "base_uri": "https://localhost:8080/",
          "height": 0
        },
        "id": "ef8b5138-9f3c-4dad-b19d-9a6a1325c206",
        "outputId": "b443fd61-578b-4f28-96b8-901efbc0ed19"
      },
      "source": [
        "# 88% des mots du corpus sont répertoriés\n",
        "\n",
        "i = 0\n",
        "for word in corpus :   \n",
        "    if word in embeddings_index.keys():\n",
        "        i +=1\n",
        "print( i / len(corpus) )"
      ],
      "id": "ef8b5138-9f3c-4dad-b19d-9a6a1325c206",
      "execution_count": 416,
      "outputs": [
        {
          "output_type": "stream",
          "text": [
            "0.8841580360567702\n"
          ],
          "name": "stdout"
        }
      ]
    },
    {
      "cell_type": "code",
      "metadata": {
        "colab": {
          "base_uri": "https://localhost:8080/",
          "height": 253
        },
        "id": "e63d204c-68d1-430a-803c-3784280a1b2b",
        "outputId": "ce5ecc80-c01a-4abf-ef3b-b3834e2ef2f8"
      },
      "source": [
        "# L'objectif de cette fonction est de résumer une description en vecteur de \n",
        "# dimensions 100. Pour cela je vais faire la somme des vecteurs de mots qui \n",
        "# composent la description.\n",
        "\n",
        "def DescriptionEmbedding(row):\n",
        "    words_embs = np.zeros((1000, 100))\n",
        "    for index, word in enumerate(row, 0) :              \n",
        "        word_emb = embeddings_index.get(word,np.zeros(100))\n",
        "        words_embs[index] = word_emb\n",
        "        words_embs_sum = np.sum(words_embs, axis=0)\n",
        "    return words_embs_sum\n",
        "\n",
        "s = df['tokenized_description'].apply(lambda row : DescriptionEmbedding(row))\n",
        "\n",
        "df_temp = pd.DataFrame.from_dict(dict(zip(s.index, s.values)))\n",
        "df_temp = df_temp.transpose()\n",
        "\n",
        "X = df_temp\n",
        "\n",
        "y = df['labels'].astype('category').cat.codes\n",
        "\n",
        "df_temp.head()"
      ],
      "id": "e63d204c-68d1-430a-803c-3784280a1b2b",
      "execution_count": 417,
      "outputs": [
        {
          "output_type": "execute_result",
          "data": {
            "text/html": [
              "<div>\n",
              "<style scoped>\n",
              "    .dataframe tbody tr th:only-of-type {\n",
              "        vertical-align: middle;\n",
              "    }\n",
              "\n",
              "    .dataframe tbody tr th {\n",
              "        vertical-align: top;\n",
              "    }\n",
              "\n",
              "    .dataframe thead th {\n",
              "        text-align: right;\n",
              "    }\n",
              "</style>\n",
              "<table border=\"1\" class=\"dataframe\">\n",
              "  <thead>\n",
              "    <tr style=\"text-align: right;\">\n",
              "      <th></th>\n",
              "      <th>0</th>\n",
              "      <th>1</th>\n",
              "      <th>2</th>\n",
              "      <th>3</th>\n",
              "      <th>4</th>\n",
              "      <th>5</th>\n",
              "      <th>6</th>\n",
              "      <th>7</th>\n",
              "      <th>8</th>\n",
              "      <th>9</th>\n",
              "      <th>10</th>\n",
              "      <th>11</th>\n",
              "      <th>12</th>\n",
              "      <th>13</th>\n",
              "      <th>14</th>\n",
              "      <th>15</th>\n",
              "      <th>16</th>\n",
              "      <th>17</th>\n",
              "      <th>18</th>\n",
              "      <th>19</th>\n",
              "      <th>20</th>\n",
              "      <th>21</th>\n",
              "      <th>22</th>\n",
              "      <th>23</th>\n",
              "      <th>24</th>\n",
              "      <th>25</th>\n",
              "      <th>26</th>\n",
              "      <th>27</th>\n",
              "      <th>28</th>\n",
              "      <th>29</th>\n",
              "      <th>30</th>\n",
              "      <th>31</th>\n",
              "      <th>32</th>\n",
              "      <th>33</th>\n",
              "      <th>34</th>\n",
              "      <th>35</th>\n",
              "      <th>36</th>\n",
              "      <th>37</th>\n",
              "      <th>38</th>\n",
              "      <th>39</th>\n",
              "      <th>...</th>\n",
              "      <th>60</th>\n",
              "      <th>61</th>\n",
              "      <th>62</th>\n",
              "      <th>63</th>\n",
              "      <th>64</th>\n",
              "      <th>65</th>\n",
              "      <th>66</th>\n",
              "      <th>67</th>\n",
              "      <th>68</th>\n",
              "      <th>69</th>\n",
              "      <th>70</th>\n",
              "      <th>71</th>\n",
              "      <th>72</th>\n",
              "      <th>73</th>\n",
              "      <th>74</th>\n",
              "      <th>75</th>\n",
              "      <th>76</th>\n",
              "      <th>77</th>\n",
              "      <th>78</th>\n",
              "      <th>79</th>\n",
              "      <th>80</th>\n",
              "      <th>81</th>\n",
              "      <th>82</th>\n",
              "      <th>83</th>\n",
              "      <th>84</th>\n",
              "      <th>85</th>\n",
              "      <th>86</th>\n",
              "      <th>87</th>\n",
              "      <th>88</th>\n",
              "      <th>89</th>\n",
              "      <th>90</th>\n",
              "      <th>91</th>\n",
              "      <th>92</th>\n",
              "      <th>93</th>\n",
              "      <th>94</th>\n",
              "      <th>95</th>\n",
              "      <th>96</th>\n",
              "      <th>97</th>\n",
              "      <th>98</th>\n",
              "      <th>99</th>\n",
              "    </tr>\n",
              "  </thead>\n",
              "  <tbody>\n",
              "    <tr>\n",
              "      <th>55b85ea15a1536d46b7190ad6fff8ce7</th>\n",
              "      <td>-36.348335</td>\n",
              "      <td>59.720555</td>\n",
              "      <td>61.386837</td>\n",
              "      <td>-26.739571</td>\n",
              "      <td>10.950718</td>\n",
              "      <td>32.342096</td>\n",
              "      <td>-30.504279</td>\n",
              "      <td>33.450376</td>\n",
              "      <td>-41.236399</td>\n",
              "      <td>35.272427</td>\n",
              "      <td>17.837646</td>\n",
              "      <td>-32.071544</td>\n",
              "      <td>29.700961</td>\n",
              "      <td>23.200963</td>\n",
              "      <td>52.455854</td>\n",
              "      <td>-1.101565</td>\n",
              "      <td>24.323967</td>\n",
              "      <td>22.721312</td>\n",
              "      <td>-13.034333</td>\n",
              "      <td>-22.301653</td>\n",
              "      <td>19.481777</td>\n",
              "      <td>-31.067960</td>\n",
              "      <td>26.683951</td>\n",
              "      <td>-18.827906</td>\n",
              "      <td>97.112937</td>\n",
              "      <td>-4.358421</td>\n",
              "      <td>-1.475855</td>\n",
              "      <td>-75.641759</td>\n",
              "      <td>-23.326475</td>\n",
              "      <td>-78.186814</td>\n",
              "      <td>-4.144937</td>\n",
              "      <td>56.620433</td>\n",
              "      <td>-11.793774</td>\n",
              "      <td>-7.214285</td>\n",
              "      <td>7.703341</td>\n",
              "      <td>60.131768</td>\n",
              "      <td>24.786990</td>\n",
              "      <td>32.747043</td>\n",
              "      <td>8.300513</td>\n",
              "      <td>-36.562937</td>\n",
              "      <td>...</td>\n",
              "      <td>-15.371885</td>\n",
              "      <td>168.229669</td>\n",
              "      <td>-46.828565</td>\n",
              "      <td>59.458332</td>\n",
              "      <td>115.536253</td>\n",
              "      <td>-23.142814</td>\n",
              "      <td>92.927170</td>\n",
              "      <td>15.178351</td>\n",
              "      <td>29.141492</td>\n",
              "      <td>-69.468408</td>\n",
              "      <td>20.590582</td>\n",
              "      <td>-31.757971</td>\n",
              "      <td>-2.948615</td>\n",
              "      <td>-53.431254</td>\n",
              "      <td>43.701708</td>\n",
              "      <td>35.672378</td>\n",
              "      <td>-4.399059</td>\n",
              "      <td>-12.213463</td>\n",
              "      <td>-103.540199</td>\n",
              "      <td>-1.985385</td>\n",
              "      <td>65.779859</td>\n",
              "      <td>9.723315</td>\n",
              "      <td>-61.294212</td>\n",
              "      <td>35.239833</td>\n",
              "      <td>-222.829039</td>\n",
              "      <td>-17.289022</td>\n",
              "      <td>6.499746</td>\n",
              "      <td>-37.923572</td>\n",
              "      <td>-11.982867</td>\n",
              "      <td>-28.763157</td>\n",
              "      <td>8.886901</td>\n",
              "      <td>-20.130813</td>\n",
              "      <td>-10.989057</td>\n",
              "      <td>5.332622</td>\n",
              "      <td>-58.694777</td>\n",
              "      <td>-35.916425</td>\n",
              "      <td>-66.453142</td>\n",
              "      <td>-72.300669</td>\n",
              "      <td>111.683828</td>\n",
              "      <td>40.656714</td>\n",
              "    </tr>\n",
              "    <tr>\n",
              "      <th>7b72c92c2f6c40268628ec5f14c6d590</th>\n",
              "      <td>-11.791774</td>\n",
              "      <td>20.053049</td>\n",
              "      <td>2.592094</td>\n",
              "      <td>-14.276610</td>\n",
              "      <td>-0.500895</td>\n",
              "      <td>10.331865</td>\n",
              "      <td>13.663043</td>\n",
              "      <td>12.768588</td>\n",
              "      <td>-17.087101</td>\n",
              "      <td>16.069083</td>\n",
              "      <td>4.952084</td>\n",
              "      <td>-19.687183</td>\n",
              "      <td>14.868655</td>\n",
              "      <td>14.689341</td>\n",
              "      <td>17.328936</td>\n",
              "      <td>-1.009289</td>\n",
              "      <td>16.060020</td>\n",
              "      <td>2.961532</td>\n",
              "      <td>0.500274</td>\n",
              "      <td>-18.367267</td>\n",
              "      <td>0.625255</td>\n",
              "      <td>-1.239601</td>\n",
              "      <td>2.840034</td>\n",
              "      <td>-3.029988</td>\n",
              "      <td>19.702786</td>\n",
              "      <td>7.040993</td>\n",
              "      <td>0.122004</td>\n",
              "      <td>-22.207873</td>\n",
              "      <td>-16.696648</td>\n",
              "      <td>-13.597352</td>\n",
              "      <td>4.823457</td>\n",
              "      <td>15.148934</td>\n",
              "      <td>-1.485541</td>\n",
              "      <td>-9.470746</td>\n",
              "      <td>5.216237</td>\n",
              "      <td>15.778978</td>\n",
              "      <td>0.658578</td>\n",
              "      <td>16.594407</td>\n",
              "      <td>3.904567</td>\n",
              "      <td>-10.442694</td>\n",
              "      <td>...</td>\n",
              "      <td>3.400390</td>\n",
              "      <td>28.240350</td>\n",
              "      <td>-18.217198</td>\n",
              "      <td>27.619884</td>\n",
              "      <td>39.914565</td>\n",
              "      <td>-1.133903</td>\n",
              "      <td>24.084339</td>\n",
              "      <td>-3.229490</td>\n",
              "      <td>4.868457</td>\n",
              "      <td>-15.960472</td>\n",
              "      <td>-1.230465</td>\n",
              "      <td>9.388858</td>\n",
              "      <td>1.180889</td>\n",
              "      <td>-1.840629</td>\n",
              "      <td>17.790394</td>\n",
              "      <td>20.984438</td>\n",
              "      <td>3.157026</td>\n",
              "      <td>5.496878</td>\n",
              "      <td>-19.621185</td>\n",
              "      <td>1.095035</td>\n",
              "      <td>21.051416</td>\n",
              "      <td>-10.757601</td>\n",
              "      <td>-10.080766</td>\n",
              "      <td>13.988509</td>\n",
              "      <td>-47.782259</td>\n",
              "      <td>-11.585202</td>\n",
              "      <td>6.251050</td>\n",
              "      <td>-24.890009</td>\n",
              "      <td>15.556165</td>\n",
              "      <td>8.589633</td>\n",
              "      <td>-2.266476</td>\n",
              "      <td>1.410827</td>\n",
              "      <td>5.852315</td>\n",
              "      <td>-3.801317</td>\n",
              "      <td>-15.235283</td>\n",
              "      <td>-7.666221</td>\n",
              "      <td>-20.602122</td>\n",
              "      <td>-12.517572</td>\n",
              "      <td>40.483218</td>\n",
              "      <td>-0.293357</td>\n",
              "    </tr>\n",
              "    <tr>\n",
              "      <th>64d5d4a258243731dc7bbb1eef49ad74</th>\n",
              "      <td>-40.013966</td>\n",
              "      <td>59.256285</td>\n",
              "      <td>39.479287</td>\n",
              "      <td>-36.968334</td>\n",
              "      <td>-8.289574</td>\n",
              "      <td>20.744403</td>\n",
              "      <td>-1.319930</td>\n",
              "      <td>37.506873</td>\n",
              "      <td>-50.107706</td>\n",
              "      <td>29.261115</td>\n",
              "      <td>16.450784</td>\n",
              "      <td>-32.627163</td>\n",
              "      <td>39.944523</td>\n",
              "      <td>24.233539</td>\n",
              "      <td>33.265593</td>\n",
              "      <td>-11.025341</td>\n",
              "      <td>33.546560</td>\n",
              "      <td>29.144517</td>\n",
              "      <td>-24.784518</td>\n",
              "      <td>-9.498572</td>\n",
              "      <td>7.135456</td>\n",
              "      <td>-2.734660</td>\n",
              "      <td>33.478568</td>\n",
              "      <td>4.114824</td>\n",
              "      <td>56.271046</td>\n",
              "      <td>25.038982</td>\n",
              "      <td>-3.415132</td>\n",
              "      <td>-78.053181</td>\n",
              "      <td>-29.073689</td>\n",
              "      <td>-35.720883</td>\n",
              "      <td>10.497079</td>\n",
              "      <td>56.176243</td>\n",
              "      <td>-9.954823</td>\n",
              "      <td>-15.762483</td>\n",
              "      <td>3.034680</td>\n",
              "      <td>51.549073</td>\n",
              "      <td>13.946383</td>\n",
              "      <td>36.724209</td>\n",
              "      <td>-4.838801</td>\n",
              "      <td>-32.350539</td>\n",
              "      <td>...</td>\n",
              "      <td>8.036162</td>\n",
              "      <td>108.166150</td>\n",
              "      <td>-55.321804</td>\n",
              "      <td>45.090647</td>\n",
              "      <td>124.363090</td>\n",
              "      <td>-10.506308</td>\n",
              "      <td>81.714229</td>\n",
              "      <td>17.843773</td>\n",
              "      <td>35.378017</td>\n",
              "      <td>-59.772661</td>\n",
              "      <td>1.917746</td>\n",
              "      <td>-0.173293</td>\n",
              "      <td>-0.177156</td>\n",
              "      <td>-9.454427</td>\n",
              "      <td>56.062029</td>\n",
              "      <td>26.283810</td>\n",
              "      <td>-22.713186</td>\n",
              "      <td>-0.115082</td>\n",
              "      <td>-84.218058</td>\n",
              "      <td>20.939835</td>\n",
              "      <td>85.132635</td>\n",
              "      <td>-14.479290</td>\n",
              "      <td>-77.478398</td>\n",
              "      <td>36.394351</td>\n",
              "      <td>-194.489692</td>\n",
              "      <td>-43.536972</td>\n",
              "      <td>12.998952</td>\n",
              "      <td>-34.374750</td>\n",
              "      <td>1.874484</td>\n",
              "      <td>-14.296459</td>\n",
              "      <td>-8.043019</td>\n",
              "      <td>5.828249</td>\n",
              "      <td>-3.340520</td>\n",
              "      <td>-24.685969</td>\n",
              "      <td>-62.377645</td>\n",
              "      <td>-17.710824</td>\n",
              "      <td>-41.093439</td>\n",
              "      <td>-61.850345</td>\n",
              "      <td>120.201102</td>\n",
              "      <td>20.057156</td>\n",
              "    </tr>\n",
              "    <tr>\n",
              "      <th>d4684dcdc759dd9cdf41504698d737d8</th>\n",
              "      <td>-54.934796</td>\n",
              "      <td>31.466939</td>\n",
              "      <td>-2.956310</td>\n",
              "      <td>-3.994192</td>\n",
              "      <td>4.845525</td>\n",
              "      <td>21.188994</td>\n",
              "      <td>16.699217</td>\n",
              "      <td>16.963513</td>\n",
              "      <td>-36.789074</td>\n",
              "      <td>37.084479</td>\n",
              "      <td>31.769086</td>\n",
              "      <td>-6.366956</td>\n",
              "      <td>19.171622</td>\n",
              "      <td>26.840354</td>\n",
              "      <td>36.075501</td>\n",
              "      <td>4.626478</td>\n",
              "      <td>20.222463</td>\n",
              "      <td>-2.711221</td>\n",
              "      <td>15.878651</td>\n",
              "      <td>-34.105772</td>\n",
              "      <td>-4.871675</td>\n",
              "      <td>0.830215</td>\n",
              "      <td>7.406159</td>\n",
              "      <td>-2.295325</td>\n",
              "      <td>58.895246</td>\n",
              "      <td>7.848205</td>\n",
              "      <td>11.105970</td>\n",
              "      <td>-40.704244</td>\n",
              "      <td>-22.304079</td>\n",
              "      <td>-25.163087</td>\n",
              "      <td>21.348547</td>\n",
              "      <td>13.683882</td>\n",
              "      <td>17.182305</td>\n",
              "      <td>-9.146020</td>\n",
              "      <td>6.817160</td>\n",
              "      <td>33.212710</td>\n",
              "      <td>18.100048</td>\n",
              "      <td>16.234050</td>\n",
              "      <td>6.096986</td>\n",
              "      <td>-2.848244</td>\n",
              "      <td>...</td>\n",
              "      <td>12.198957</td>\n",
              "      <td>62.741214</td>\n",
              "      <td>-44.965454</td>\n",
              "      <td>51.661502</td>\n",
              "      <td>60.516467</td>\n",
              "      <td>-10.533999</td>\n",
              "      <td>22.754894</td>\n",
              "      <td>15.544480</td>\n",
              "      <td>22.957166</td>\n",
              "      <td>-19.881601</td>\n",
              "      <td>5.097473</td>\n",
              "      <td>10.154961</td>\n",
              "      <td>26.022540</td>\n",
              "      <td>9.908751</td>\n",
              "      <td>24.752671</td>\n",
              "      <td>23.409304</td>\n",
              "      <td>-11.829865</td>\n",
              "      <td>6.634595</td>\n",
              "      <td>-20.527782</td>\n",
              "      <td>3.005102</td>\n",
              "      <td>27.787240</td>\n",
              "      <td>-15.303832</td>\n",
              "      <td>-17.052300</td>\n",
              "      <td>8.854772</td>\n",
              "      <td>-79.489030</td>\n",
              "      <td>-32.637586</td>\n",
              "      <td>15.902166</td>\n",
              "      <td>-58.650333</td>\n",
              "      <td>18.808859</td>\n",
              "      <td>22.945634</td>\n",
              "      <td>-8.790632</td>\n",
              "      <td>11.445597</td>\n",
              "      <td>1.378433</td>\n",
              "      <td>-33.104271</td>\n",
              "      <td>-12.843805</td>\n",
              "      <td>-17.144447</td>\n",
              "      <td>-31.441788</td>\n",
              "      <td>-39.772105</td>\n",
              "      <td>72.625223</td>\n",
              "      <td>-11.854017</td>\n",
              "    </tr>\n",
              "    <tr>\n",
              "      <th>6325b6870c54cd47be6ebfbffa620ec7</th>\n",
              "      <td>-78.977905</td>\n",
              "      <td>53.437897</td>\n",
              "      <td>20.928740</td>\n",
              "      <td>-15.240299</td>\n",
              "      <td>-4.313034</td>\n",
              "      <td>27.089075</td>\n",
              "      <td>6.002722</td>\n",
              "      <td>29.239823</td>\n",
              "      <td>-50.346774</td>\n",
              "      <td>39.842802</td>\n",
              "      <td>38.614352</td>\n",
              "      <td>-5.170630</td>\n",
              "      <td>33.887736</td>\n",
              "      <td>37.302725</td>\n",
              "      <td>56.543170</td>\n",
              "      <td>0.056465</td>\n",
              "      <td>32.290886</td>\n",
              "      <td>-0.416421</td>\n",
              "      <td>15.427279</td>\n",
              "      <td>-41.495757</td>\n",
              "      <td>2.461023</td>\n",
              "      <td>1.672588</td>\n",
              "      <td>7.476530</td>\n",
              "      <td>6.823139</td>\n",
              "      <td>69.633850</td>\n",
              "      <td>22.992690</td>\n",
              "      <td>9.169754</td>\n",
              "      <td>-71.230615</td>\n",
              "      <td>-35.012342</td>\n",
              "      <td>-42.309361</td>\n",
              "      <td>25.336152</td>\n",
              "      <td>41.884312</td>\n",
              "      <td>19.254098</td>\n",
              "      <td>-9.270627</td>\n",
              "      <td>-0.783204</td>\n",
              "      <td>63.543890</td>\n",
              "      <td>22.762842</td>\n",
              "      <td>27.625256</td>\n",
              "      <td>9.292423</td>\n",
              "      <td>-13.569989</td>\n",
              "      <td>...</td>\n",
              "      <td>11.492392</td>\n",
              "      <td>98.327561</td>\n",
              "      <td>-63.001800</td>\n",
              "      <td>59.960349</td>\n",
              "      <td>103.332580</td>\n",
              "      <td>-9.500703</td>\n",
              "      <td>64.454159</td>\n",
              "      <td>29.868785</td>\n",
              "      <td>33.008627</td>\n",
              "      <td>-42.693929</td>\n",
              "      <td>0.487440</td>\n",
              "      <td>0.538693</td>\n",
              "      <td>34.268786</td>\n",
              "      <td>-6.465129</td>\n",
              "      <td>50.132429</td>\n",
              "      <td>38.808812</td>\n",
              "      <td>-11.440606</td>\n",
              "      <td>4.003063</td>\n",
              "      <td>-55.591843</td>\n",
              "      <td>7.422340</td>\n",
              "      <td>49.161674</td>\n",
              "      <td>-4.668025</td>\n",
              "      <td>-57.501284</td>\n",
              "      <td>17.229662</td>\n",
              "      <td>-148.428548</td>\n",
              "      <td>-36.642928</td>\n",
              "      <td>23.443628</td>\n",
              "      <td>-72.846739</td>\n",
              "      <td>13.581119</td>\n",
              "      <td>24.509640</td>\n",
              "      <td>-8.722755</td>\n",
              "      <td>7.471493</td>\n",
              "      <td>-9.371264</td>\n",
              "      <td>-50.353904</td>\n",
              "      <td>-38.867522</td>\n",
              "      <td>-15.641569</td>\n",
              "      <td>-41.183200</td>\n",
              "      <td>-63.282692</td>\n",
              "      <td>118.688398</td>\n",
              "      <td>1.406198</td>\n",
              "    </tr>\n",
              "  </tbody>\n",
              "</table>\n",
              "<p>5 rows × 100 columns</p>\n",
              "</div>"
            ],
            "text/plain": [
              "                                         0          1   ...          98         99\n",
              "55b85ea15a1536d46b7190ad6fff8ce7 -36.348335  59.720555  ...  111.683828  40.656714\n",
              "7b72c92c2f6c40268628ec5f14c6d590 -11.791774  20.053049  ...   40.483218  -0.293357\n",
              "64d5d4a258243731dc7bbb1eef49ad74 -40.013966  59.256285  ...  120.201102  20.057156\n",
              "d4684dcdc759dd9cdf41504698d737d8 -54.934796  31.466939  ...   72.625223 -11.854017\n",
              "6325b6870c54cd47be6ebfbffa620ec7 -78.977905  53.437897  ...  118.688398   1.406198\n",
              "\n",
              "[5 rows x 100 columns]"
            ]
          },
          "metadata": {
            "tags": []
          },
          "execution_count": 417
        }
      ]
    },
    {
      "cell_type": "code",
      "metadata": {
        "id": "8b0159a9-0cf8-41b1-a33b-851048409c60"
      },
      "source": [
        "from sklearn.linear_model import LogisticRegression\n",
        "from sklearn.model_selection import train_test_split"
      ],
      "id": "8b0159a9-0cf8-41b1-a33b-851048409c60",
      "execution_count": 419,
      "outputs": []
    },
    {
      "cell_type": "code",
      "metadata": {
        "id": "3cd36d54-bc24-4ea8-98f9-ff131af84baf"
      },
      "source": [
        "# Séparation des données en train / test\n",
        "\n",
        "X_train, X_test, y_train, y_test =train_test_split(X, y, test_size=0.2, \n",
        "                                                   shuffle=True,  \n",
        "                                                   random_state=0)"
      ],
      "id": "3cd36d54-bc24-4ea8-98f9-ff131af84baf",
      "execution_count": 420,
      "outputs": []
    },
    {
      "cell_type": "code",
      "metadata": {
        "colab": {
          "base_uri": "https://localhost:8080/",
          "height": 0
        },
        "id": "b388417d-48e5-4e98-94fd-0b4f0692b259",
        "outputId": "4a42eac8-7b09-4032-ace6-439f6f2bd17a"
      },
      "source": [
        "# Entraînement et prédictions\n",
        "\n",
        "clf = LogisticRegression(random_state=0, max_iter= 10000).fit(X_train, y_train)\n",
        "clf.score(X_test, y_test)"
      ],
      "id": "b388417d-48e5-4e98-94fd-0b4f0692b259",
      "execution_count": 421,
      "outputs": [
        {
          "output_type": "execute_result",
          "data": {
            "text/plain": [
              "0.8809523809523809"
            ]
          },
          "metadata": {
            "tags": []
          },
          "execution_count": 421
        }
      ]
    },
    {
      "cell_type": "markdown",
      "metadata": {
        "id": "cOL5RSoHcn5k"
      },
      "source": [
        "#### Réseau de neurones"
      ],
      "id": "cOL5RSoHcn5k"
    },
    {
      "cell_type": "code",
      "metadata": {
        "id": "0m_xgcmalA4T"
      },
      "source": [
        "# Préparation des labels et des données\n",
        "\n",
        "y = df['labels'].astype('category').cat.codes\n",
        "\n",
        "X_train, X_test, y_train, y_test =train_test_split(list(df['description']), y, \n",
        "                                                   test_size=0.2, \n",
        "                                                   random_state = 0, \n",
        "                                                   stratify = y,\n",
        "                                                   shuffle=True)"
      ],
      "id": "0m_xgcmalA4T",
      "execution_count": 422,
      "outputs": []
    },
    {
      "cell_type": "code",
      "metadata": {
        "id": "LorrVD1hLN3O"
      },
      "source": [
        "# Utilisation d'un preprocesseur\n",
        "\n",
        "from tensorflow.keras.layers.experimental.preprocessing import TextVectorization\n",
        "\n",
        "vectorizer = TextVectorization(max_tokens=20000, output_sequence_length=max_length)\n",
        "vectorizer.adapt(X_train)"
      ],
      "id": "LorrVD1hLN3O",
      "execution_count": 423,
      "outputs": []
    },
    {
      "cell_type": "code",
      "metadata": {
        "colab": {
          "base_uri": "https://localhost:8080/",
          "height": 0
        },
        "id": "yBH0QvxTg8-6",
        "outputId": "47fa878d-1662-4788-970e-07d95e9eb09e"
      },
      "source": [
        "# Aperçu des 5 premiers mots dans ma liste de vocabulaire \n",
        "\n",
        "vectorizer.get_vocabulary()[:5]"
      ],
      "id": "yBH0QvxTg8-6",
      "execution_count": 424,
      "outputs": [
        {
          "output_type": "execute_result",
          "data": {
            "text/plain": [
              "['', '[UNK]', 'of', 'for', 'the']"
            ]
          },
          "metadata": {
            "tags": []
          },
          "execution_count": 424
        }
      ]
    },
    {
      "cell_type": "code",
      "metadata": {
        "colab": {
          "base_uri": "https://localhost:8080/",
          "height": 0
        },
        "id": "z3ErpUNthAF0",
        "outputId": "f70056c7-23d7-46a3-d5bd-d95e66a4c29e"
      },
      "source": [
        "output = vectorizer([[\"the cat sat on the mat\"]])\n",
        "output.numpy()[0, :6]"
      ],
      "id": "z3ErpUNthAF0",
      "execution_count": 425,
      "outputs": [
        {
          "output_type": "execute_result",
          "data": {
            "text/plain": [
              "array([  4,   1,   1,  10,   4, 936])"
            ]
          },
          "metadata": {
            "tags": []
          },
          "execution_count": 425
        }
      ]
    },
    {
      "cell_type": "code",
      "metadata": {
        "colab": {
          "base_uri": "https://localhost:8080/",
          "height": 0
        },
        "id": "e8F_pUMGha7g",
        "outputId": "28b3cef8-0286-4baf-b5ed-e82c07ce6116"
      },
      "source": [
        "# Préparation de la matrix d'embedding\n",
        "\n",
        "voc = vectorizer.get_vocabulary()\n",
        "word_index = dict(zip(voc, range(len(voc))))\n",
        "\n",
        "num_tokens = len(voc) + 2\n",
        "embedding_dim = 100\n",
        "hits = 0\n",
        "misses = 0\n",
        "\n",
        "\n",
        "embedding_matrix = np.zeros((num_tokens, embedding_dim))\n",
        "for word, i in word_index.items():\n",
        "    embedding_vector = embeddings_index.get(word)\n",
        "    if embedding_vector is not None:\n",
        "        embedding_matrix[i] = embedding_vector\n",
        "        hits += 1\n",
        "    else:\n",
        "        misses += 1\n",
        "print(\"Converted %d words (%d misses)\" % (hits, misses))"
      ],
      "id": "e8F_pUMGha7g",
      "execution_count": 426,
      "outputs": [
        {
          "output_type": "stream",
          "text": [
            "Converted 4219 words (1518 misses)\n"
          ],
          "name": "stdout"
        }
      ]
    },
    {
      "cell_type": "code",
      "metadata": {
        "id": "mQ-Vfj4kha-H"
      },
      "source": [
        "# Instanciation de la matrice d'embedding\n",
        "\n",
        "from tensorflow.keras.layers import Embedding\n",
        "\n",
        "embedding_layer = Embedding(\n",
        "    num_tokens,\n",
        "    embedding_dim,\n",
        "    embeddings_initializer=keras.initializers.Constant(embedding_matrix),\n",
        "    trainable=False,\n",
        ")"
      ],
      "id": "mQ-Vfj4kha-H",
      "execution_count": 427,
      "outputs": []
    },
    {
      "cell_type": "code",
      "metadata": {
        "id": "LgRXR7pQhbDr"
      },
      "source": [
        "class_names = df['labels'].unique()"
      ],
      "id": "LgRXR7pQhbDr",
      "execution_count": 428,
      "outputs": []
    },
    {
      "cell_type": "code",
      "metadata": {
        "colab": {
          "base_uri": "https://localhost:8080/",
          "height": 0
        },
        "id": "fLkLb5LHhbBH",
        "outputId": "32199025-5b43-47a2-b8b8-20c8c9877e78"
      },
      "source": [
        "# Préparation et aperçu de l'architecture du réseau de neuronnes\n",
        "\n",
        "from tensorflow.keras import layers\n",
        "\n",
        "int_sequences_input = keras.Input(shape=(None,), dtype=\"int64\")\n",
        "embedded_sequences = embedding_layer(int_sequences_input)\n",
        "x = layers.BatchNormalization(epsilon=1e-05, momentum=0.1)(embedded_sequences)\n",
        "x = layers.Conv1D(128, 5, activation=\"relu\")(x)\n",
        "x = layers.Dropout(0.5)(x)\n",
        "x = layers.MaxPooling1D(5)(x)\n",
        "x = layers.BatchNormalization(epsilon=1e-05, momentum=0.1)(x)\n",
        "x = layers.Conv1D(128, 5, activation=\"relu\")(x)\n",
        "x = layers.MaxPooling1D(5)(x)\n",
        "x = layers.Conv1D(128, 5, activation=\"relu\")(x)\n",
        "x = layers.GlobalMaxPooling1D()(x)\n",
        "x = layers.Dense(128, activation=\"relu\")(x)\n",
        "x = layers.Dropout(0.5)(x)\n",
        "output_nlp = layers.Dense(len(class_names), activation=\"softmax\")(x)\n",
        "model_nlp = keras.Model(int_sequences_input, output_nlp)\n",
        "model_nlp.summary()"
      ],
      "id": "fLkLb5LHhbBH",
      "execution_count": 429,
      "outputs": [
        {
          "output_type": "stream",
          "text": [
            "Model: \"model_59\"\n",
            "_________________________________________________________________\n",
            "Layer (type)                 Output Shape              Param #   \n",
            "=================================================================\n",
            "input_53 (InputLayer)        [(None, None)]            0         \n",
            "_________________________________________________________________\n",
            "embedding_4 (Embedding)      (None, None, 100)         573900    \n",
            "_________________________________________________________________\n",
            "batch_normalization_7 (Batch (None, None, 100)         400       \n",
            "_________________________________________________________________\n",
            "conv1d_34 (Conv1D)           (None, None, 128)         64128     \n",
            "_________________________________________________________________\n",
            "dropout_44 (Dropout)         (None, None, 128)         0         \n",
            "_________________________________________________________________\n",
            "max_pooling1d_22 (MaxPooling (None, None, 128)         0         \n",
            "_________________________________________________________________\n",
            "batch_normalization_8 (Batch (None, None, 128)         512       \n",
            "_________________________________________________________________\n",
            "conv1d_35 (Conv1D)           (None, None, 128)         82048     \n",
            "_________________________________________________________________\n",
            "max_pooling1d_23 (MaxPooling (None, None, 128)         0         \n",
            "_________________________________________________________________\n",
            "conv1d_36 (Conv1D)           (None, None, 128)         82048     \n",
            "_________________________________________________________________\n",
            "global_max_pooling1d_11 (Glo (None, 128)               0         \n",
            "_________________________________________________________________\n",
            "dense_147 (Dense)            (None, 128)               16512     \n",
            "_________________________________________________________________\n",
            "dropout_45 (Dropout)         (None, 128)               0         \n",
            "_________________________________________________________________\n",
            "dense_148 (Dense)            (None, 7)                 903       \n",
            "=================================================================\n",
            "Total params: 820,451\n",
            "Trainable params: 246,095\n",
            "Non-trainable params: 574,356\n",
            "_________________________________________________________________\n"
          ],
          "name": "stdout"
        }
      ]
    },
    {
      "cell_type": "code",
      "metadata": {
        "id": "JChr9dGwhbGH"
      },
      "source": [
        "x_train = vectorizer(np.array([[s] for s in X_train])).numpy()\n",
        "x_test = vectorizer(np.array([[s] for s in X_test])).numpy()\n",
        "\n",
        "y_train = np.array(y_train)\n",
        "y_test = np.array(y_test)"
      ],
      "id": "JChr9dGwhbGH",
      "execution_count": 430,
      "outputs": []
    },
    {
      "cell_type": "code",
      "metadata": {
        "colab": {
          "base_uri": "https://localhost:8080/",
          "height": 0
        },
        "id": "atX5FP-ZhbIT",
        "outputId": "e615f214-346d-40aa-b8ef-a5a5129e1e06"
      },
      "source": [
        "# Entraînement\n",
        "\n",
        "callback = keras.callbacks.EarlyStopping(monitor='val_loss', patience=5)\n",
        "\n",
        "model_nlp.compile(\n",
        "    loss=\"sparse_categorical_crossentropy\", optimizer=\"adam\", metrics=[\"acc\"]\n",
        ")\n",
        "history = model_nlp.fit(x_train, y_train, batch_size=128, callbacks=callback, epochs=300, validation_split=0.2,\n",
        "              verbose=2)"
      ],
      "id": "atX5FP-ZhbIT",
      "execution_count": 431,
      "outputs": [
        {
          "output_type": "stream",
          "text": [
            "Epoch 1/300\n",
            "6/6 - 3s - loss: 2.9566 - acc: 0.1458 - val_loss: 1.8741 - val_acc: 0.2024\n",
            "Epoch 2/300\n",
            "6/6 - 1s - loss: 2.0290 - acc: 0.1726 - val_loss: 1.8266 - val_acc: 0.3155\n",
            "Epoch 3/300\n",
            "6/6 - 1s - loss: 1.8694 - acc: 0.2217 - val_loss: 1.7851 - val_acc: 0.3810\n",
            "Epoch 4/300\n",
            "6/6 - 1s - loss: 1.7918 - acc: 0.3065 - val_loss: 1.7133 - val_acc: 0.4226\n",
            "Epoch 5/300\n",
            "6/6 - 1s - loss: 1.7136 - acc: 0.3304 - val_loss: 1.6105 - val_acc: 0.4762\n",
            "Epoch 6/300\n",
            "6/6 - 1s - loss: 1.5315 - acc: 0.4375 - val_loss: 1.4057 - val_acc: 0.5833\n",
            "Epoch 7/300\n",
            "6/6 - 1s - loss: 1.4532 - acc: 0.4658 - val_loss: 1.2986 - val_acc: 0.6071\n",
            "Epoch 8/300\n",
            "6/6 - 1s - loss: 1.3063 - acc: 0.5000 - val_loss: 1.1460 - val_acc: 0.6429\n",
            "Epoch 9/300\n",
            "6/6 - 1s - loss: 1.1610 - acc: 0.5625 - val_loss: 1.0369 - val_acc: 0.7083\n",
            "Epoch 10/300\n",
            "6/6 - 1s - loss: 1.1109 - acc: 0.6131 - val_loss: 0.8698 - val_acc: 0.7024\n",
            "Epoch 11/300\n",
            "6/6 - 1s - loss: 0.9241 - acc: 0.6786 - val_loss: 0.8206 - val_acc: 0.7619\n",
            "Epoch 12/300\n",
            "6/6 - 1s - loss: 0.8486 - acc: 0.6994 - val_loss: 0.7192 - val_acc: 0.8036\n",
            "Epoch 13/300\n",
            "6/6 - 1s - loss: 0.7002 - acc: 0.7679 - val_loss: 0.7956 - val_acc: 0.7143\n",
            "Epoch 14/300\n",
            "6/6 - 1s - loss: 0.6760 - acc: 0.7500 - val_loss: 0.5497 - val_acc: 0.8155\n",
            "Epoch 15/300\n",
            "6/6 - 1s - loss: 0.5345 - acc: 0.8289 - val_loss: 0.4979 - val_acc: 0.8393\n",
            "Epoch 16/300\n",
            "6/6 - 1s - loss: 0.5110 - acc: 0.8438 - val_loss: 0.6026 - val_acc: 0.7738\n",
            "Epoch 17/300\n",
            "6/6 - 1s - loss: 0.4285 - acc: 0.8616 - val_loss: 0.5184 - val_acc: 0.8095\n",
            "Epoch 18/300\n",
            "6/6 - 1s - loss: 0.3982 - acc: 0.8690 - val_loss: 0.4215 - val_acc: 0.8750\n",
            "Epoch 19/300\n",
            "6/6 - 1s - loss: 0.3577 - acc: 0.8854 - val_loss: 0.4250 - val_acc: 0.8571\n",
            "Epoch 20/300\n",
            "6/6 - 1s - loss: 0.2640 - acc: 0.9211 - val_loss: 0.3779 - val_acc: 0.8690\n",
            "Epoch 21/300\n",
            "6/6 - 1s - loss: 0.2484 - acc: 0.9226 - val_loss: 0.3477 - val_acc: 0.8810\n",
            "Epoch 22/300\n",
            "6/6 - 1s - loss: 0.2133 - acc: 0.9330 - val_loss: 0.3752 - val_acc: 0.8631\n",
            "Epoch 23/300\n",
            "6/6 - 1s - loss: 0.1822 - acc: 0.9524 - val_loss: 0.3192 - val_acc: 0.8631\n",
            "Epoch 24/300\n",
            "6/6 - 1s - loss: 0.1586 - acc: 0.9554 - val_loss: 0.3798 - val_acc: 0.8631\n",
            "Epoch 25/300\n",
            "6/6 - 1s - loss: 0.1478 - acc: 0.9554 - val_loss: 0.3824 - val_acc: 0.8690\n",
            "Epoch 26/300\n",
            "6/6 - 1s - loss: 0.1206 - acc: 0.9643 - val_loss: 0.3371 - val_acc: 0.8929\n",
            "Epoch 27/300\n",
            "6/6 - 1s - loss: 0.0959 - acc: 0.9777 - val_loss: 0.4532 - val_acc: 0.8333\n",
            "Epoch 28/300\n",
            "6/6 - 1s - loss: 0.0960 - acc: 0.9732 - val_loss: 0.3908 - val_acc: 0.8690\n"
          ],
          "name": "stdout"
        }
      ]
    },
    {
      "cell_type": "code",
      "metadata": {
        "id": "UVuHofFsavlQ"
      },
      "source": [
        "def PlotModel(history=history, metric='acc', metric_val='val_acc', loss='loss',\n",
        "              val_loss='val_loss'):  \n",
        "  ### Graphique des résultats de l'entraînement ###\n",
        "  plt.plot(history.history[metric])\n",
        "  plt.plot(history.history[metric_val])\n",
        "  plt.title('model accuracy')\n",
        "  plt.ylabel('accuracy')\n",
        "  plt.xlabel('epoch')\n",
        "  plt.legend(['train', 'val'], loc='upper left')\n",
        "  plt.show()\n",
        "  plt.plot(history.history[loss])\n",
        "  plt.plot(history.history[val_loss])\n",
        "  plt.title('model loss')\n",
        "  plt.ylabel('loss')\n",
        "  plt.xlabel('epoch')\n",
        "  plt.legend(['train', 'val'], loc='upper left')\n",
        "  plt.show()"
      ],
      "id": "UVuHofFsavlQ",
      "execution_count": 432,
      "outputs": []
    },
    {
      "cell_type": "code",
      "metadata": {
        "colab": {
          "base_uri": "https://localhost:8080/",
          "height": 625
        },
        "id": "XnOQAfKubZBS",
        "outputId": "476a1c1f-1923-4bdd-e193-88d96d28566e"
      },
      "source": [
        "PlotModel(history=history)"
      ],
      "id": "XnOQAfKubZBS",
      "execution_count": 433,
      "outputs": [
        {
          "output_type": "display_data",
          "data": {
            "image/png": "[encoded data removed]",
            "text/plain": [
              "<Figure size 432x288 with 1 Axes>"
            ]
          },
          "metadata": {
            "tags": [],
            "needs_background": "light"
          }
        },
        {
          "output_type": "display_data",
          "data": {
            "image/png": "[encoded data removed]",
            "text/plain": [
              "<Figure size 432x288 with 1 Axes>"
            ]
          },
          "metadata": {
            "tags": [],
            "needs_background": "light"
          }
        }
      ]
    },
    {
      "cell_type": "code",
      "metadata": {
        "colab": {
          "base_uri": "https://localhost:8080/",
          "height": 0
        },
        "id": "jwRvJKpCDXv0",
        "outputId": "f2f4f18a-5c03-4f1f-9d7b-1fa4f45ed102"
      },
      "source": [
        "model_nlp.evaluate(x=x_test, y=y_test, batch_size=128, verbose=2)"
      ],
      "id": "jwRvJKpCDXv0",
      "execution_count": 434,
      "outputs": [
        {
          "output_type": "stream",
          "text": [
            "2/2 - 0s - loss: 0.6169 - acc: 0.8333\n"
          ],
          "name": "stdout"
        },
        {
          "output_type": "execute_result",
          "data": {
            "text/plain": [
              "[0.6168650984764099, 0.8333333134651184]"
            ]
          },
          "metadata": {
            "tags": []
          },
          "execution_count": 434
        }
      ]
    },
    {
      "cell_type": "markdown",
      "metadata": {
        "id": "5b6935dd-45af-4f91-99b8-809366e90e26"
      },
      "source": [
        "### Images"
      ],
      "id": "5b6935dd-45af-4f91-99b8-809366e90e26"
    },
    {
      "cell_type": "markdown",
      "metadata": {
        "id": "3738fa0c-c522-41bf-99ca-87d7c6e58c9a"
      },
      "source": [
        "#### SIFT"
      ],
      "id": "3738fa0c-c522-41bf-99ca-87d7c6e58c9a"
    },
    {
      "cell_type": "markdown",
      "metadata": {
        "id": "ZmGU1gLZllT3"
      },
      "source": [
        "Voir Jupyter Notebook"
      ],
      "id": "ZmGU1gLZllT3"
    },
    {
      "cell_type": "markdown",
      "metadata": {
        "id": "IHKz4WEfYgPJ"
      },
      "source": [
        "#### Transfer learning"
      ],
      "id": "IHKz4WEfYgPJ"
    },
    {
      "cell_type": "code",
      "metadata": {
        "colab": {
          "base_uri": "https://localhost:8080/",
          "height": 0
        },
        "id": "0e8d5079-1f72-4f5f-8dae-c5490e9d3f01",
        "outputId": "869acc58-a22c-4418-877a-886b8b6336c7"
      },
      "source": [
        "# Transfer learning en utilisant le modèle VGG16\n",
        "\n",
        "vgg16 = keras.applications.vgg16.VGG16\n",
        "\n",
        "base_model = vgg16(include_top=False, weights='imagenet', input_shape=(300, 300, 3))\n",
        "\n",
        "# On gèle les couches inférieures du modèle\n",
        "for layer in base_model.layers:\n",
        "    layer.trainable = False    \n",
        "\n",
        "# Ajout d'un nouveau classifier\n",
        "flat1 = base_model.layers[-1].output\n",
        "x = keras.layers.GlobalAveragePooling2D()(flat1)\n",
        "x = keras.layers.Dense(1024, activation=\"relu\")(x)\n",
        "x = keras.layers.Dropout(0.5)(x)\n",
        "x = keras.layers.Dense(1024, activation=\"relu\")(x)\n",
        "output_img = keras.layers.Dense(7, activation='softmax')(x)\n",
        "\n",
        "model_img = keras.Model(inputs=base_model.inputs, outputs=output_img)\n",
        "\n",
        "model_img.summary()"
      ],
      "id": "0e8d5079-1f72-4f5f-8dae-c5490e9d3f01",
      "execution_count": 454,
      "outputs": [
        {
          "output_type": "stream",
          "text": [
            "Model: \"model_63\"\n",
            "_________________________________________________________________\n",
            "Layer (type)                 Output Shape              Param #   \n",
            "=================================================================\n",
            "input_59 (InputLayer)        [(None, 300, 300, 3)]     0         \n",
            "_________________________________________________________________\n",
            "block1_conv1 (Conv2D)        (None, 300, 300, 64)      1792      \n",
            "_________________________________________________________________\n",
            "block1_conv2 (Conv2D)        (None, 300, 300, 64)      36928     \n",
            "_________________________________________________________________\n",
            "block1_pool (MaxPooling2D)   (None, 150, 150, 64)      0         \n",
            "_________________________________________________________________\n",
            "block2_conv1 (Conv2D)        (None, 150, 150, 128)     73856     \n",
            "_________________________________________________________________\n",
            "block2_conv2 (Conv2D)        (None, 150, 150, 128)     147584    \n",
            "_________________________________________________________________\n",
            "block2_pool (MaxPooling2D)   (None, 75, 75, 128)       0         \n",
            "_________________________________________________________________\n",
            "block3_conv1 (Conv2D)        (None, 75, 75, 256)       295168    \n",
            "_________________________________________________________________\n",
            "block3_conv2 (Conv2D)        (None, 75, 75, 256)       590080    \n",
            "_________________________________________________________________\n",
            "block3_conv3 (Conv2D)        (None, 75, 75, 256)       590080    \n",
            "_________________________________________________________________\n",
            "block3_pool (MaxPooling2D)   (None, 37, 37, 256)       0         \n",
            "_________________________________________________________________\n",
            "block4_conv1 (Conv2D)        (None, 37, 37, 512)       1180160   \n",
            "_________________________________________________________________\n",
            "block4_conv2 (Conv2D)        (None, 37, 37, 512)       2359808   \n",
            "_________________________________________________________________\n",
            "block4_conv3 (Conv2D)        (None, 37, 37, 512)       2359808   \n",
            "_________________________________________________________________\n",
            "block4_pool (MaxPooling2D)   (None, 18, 18, 512)       0         \n",
            "_________________________________________________________________\n",
            "block5_conv1 (Conv2D)        (None, 18, 18, 512)       2359808   \n",
            "_________________________________________________________________\n",
            "block5_conv2 (Conv2D)        (None, 18, 18, 512)       2359808   \n",
            "_________________________________________________________________\n",
            "block5_conv3 (Conv2D)        (None, 18, 18, 512)       2359808   \n",
            "_________________________________________________________________\n",
            "block5_pool (MaxPooling2D)   (None, 9, 9, 512)         0         \n",
            "_________________________________________________________________\n",
            "global_average_pooling2d_3 ( (None, 512)               0         \n",
            "_________________________________________________________________\n",
            "dense_155 (Dense)            (None, 1024)              525312    \n",
            "_________________________________________________________________\n",
            "dropout_47 (Dropout)         (None, 1024)              0         \n",
            "_________________________________________________________________\n",
            "dense_156 (Dense)            (None, 1024)              1049600   \n",
            "_________________________________________________________________\n",
            "dense_157 (Dense)            (None, 7)                 7175      \n",
            "=================================================================\n",
            "Total params: 16,296,775\n",
            "Trainable params: 1,582,087\n",
            "Non-trainable params: 14,714,688\n",
            "_________________________________________________________________\n"
          ],
          "name": "stdout"
        }
      ]
    },
    {
      "cell_type": "code",
      "metadata": {
        "id": "3383224f-fa27-45ab-aab4-a6c99c7ae8f2"
      },
      "source": [
        "model_img.compile(optimizer='adam', loss='sparse_categorical_crossentropy', metrics='accuracy')"
      ],
      "id": "3383224f-fa27-45ab-aab4-a6c99c7ae8f2",
      "execution_count": 455,
      "outputs": []
    },
    {
      "cell_type": "code",
      "metadata": {
        "colab": {
          "base_uri": "https://localhost:8080/",
          "height": 0
        },
        "id": "A-pPiVN8Cb5O",
        "outputId": "9884907c-8fe7-4a3e-8514-0b4cea53644f"
      },
      "source": [
        "def PreprocessingImg(path='/content/drive/MyDrive/colab/P6/Flipkart/Images', list_img= list(df.image)) :\n",
        "  ### Fonction effectuant le preprocessing nécessaire sur les images ###\n",
        "  array_img = []\n",
        "\n",
        "  for img in list_img:\n",
        "    image = keras.preprocessing.image.load_img(path+ '/' +img, grayscale=False, color_mode=\"rgb\", target_size=[300,300], interpolation=\"nearest\")\n",
        "    array = keras.preprocessing.image.img_to_array(image)\n",
        "    array_img.append(array)\n",
        "  return np.array([array_img])\n",
        "\n",
        "img_data = PreprocessingImg()\n",
        "\n",
        "img_array = img_data[0]\n",
        "\n"
      ],
      "id": "A-pPiVN8Cb5O",
      "execution_count": 437,
      "outputs": [
        {
          "output_type": "stream",
          "text": [
            "/usr/local/lib/python3.7/dist-packages/PIL/Image.py:2800: DecompressionBombWarning: Image size (93680328 pixels) exceeds limit of 89478485 pixels, could be decompression bomb DOS attack.\n",
            "  DecompressionBombWarning,\n"
          ],
          "name": "stderr"
        }
      ]
    },
    {
      "cell_type": "code",
      "metadata": {
        "id": "UeKKwh1AKXeo"
      },
      "source": [
        "y = df['labels'].astype('category').cat.codes\n",
        "X_train_img, X_test_img, y_train_img, y_test_img =train_test_split(img_array, y, test_size=0.2, shuffle=True, random_state=0, stratify=y)"
      ],
      "id": "UeKKwh1AKXeo",
      "execution_count": 456,
      "outputs": []
    },
    {
      "cell_type": "code",
      "metadata": {
        "colab": {
          "base_uri": "https://localhost:8080/",
          "height": 0
        },
        "id": "5aa4a99f-a4b6-48df-8438-c4c125aaf130",
        "outputId": "a9cb44ae-4836-4c5a-8ae7-44f21a403df3"
      },
      "source": [
        "# Entraînement du modèle\n",
        "\n",
        "history_img = model_img.fit(x=X_train_img, y=y_train_img, epochs=50, callbacks=callback, validation_split=0.2, shuffle=True, verbose=2)"
      ],
      "id": "5aa4a99f-a4b6-48df-8438-c4c125aaf130",
      "execution_count": 457,
      "outputs": [
        {
          "output_type": "stream",
          "text": [
            "Epoch 1/50\n",
            "21/21 - 27s - loss: 3.7902 - accuracy: 0.5595 - val_loss: 1.9242 - val_accuracy: 0.7321\n",
            "Epoch 2/50\n",
            "21/21 - 22s - loss: 0.9328 - accuracy: 0.8125 - val_loss: 1.1476 - val_accuracy: 0.7738\n",
            "Epoch 3/50\n",
            "21/21 - 22s - loss: 0.5730 - accuracy: 0.8542 - val_loss: 1.1786 - val_accuracy: 0.7798\n",
            "Epoch 4/50\n",
            "21/21 - 22s - loss: 0.3375 - accuracy: 0.8899 - val_loss: 0.9431 - val_accuracy: 0.8155\n",
            "Epoch 5/50\n",
            "21/21 - 22s - loss: 0.2584 - accuracy: 0.9345 - val_loss: 1.0300 - val_accuracy: 0.8095\n",
            "Epoch 6/50\n",
            "21/21 - 22s - loss: 0.2541 - accuracy: 0.9196 - val_loss: 1.1939 - val_accuracy: 0.7917\n",
            "Epoch 7/50\n",
            "21/21 - 22s - loss: 0.1359 - accuracy: 0.9479 - val_loss: 0.9740 - val_accuracy: 0.8274\n",
            "Epoch 8/50\n",
            "21/21 - 22s - loss: 0.1102 - accuracy: 0.9583 - val_loss: 1.0335 - val_accuracy: 0.8393\n",
            "Epoch 9/50\n",
            "21/21 - 22s - loss: 0.0588 - accuracy: 0.9807 - val_loss: 0.9939 - val_accuracy: 0.8393\n"
          ],
          "name": "stdout"
        }
      ]
    },
    {
      "cell_type": "code",
      "metadata": {
        "colab": {
          "base_uri": "https://localhost:8080/",
          "height": 625
        },
        "id": "KLkX8EOodSR0",
        "outputId": "096797fa-2ade-4bc6-90dc-44b10f96240d"
      },
      "source": [
        "# Visualisation des graphiques d'entraînement du modèle\n",
        "\n",
        "PlotModel(history=history_img, metric='accuracy', metric_val='val_accuracy', loss='loss',\n",
        "              val_loss='val_loss')"
      ],
      "id": "KLkX8EOodSR0",
      "execution_count": 458,
      "outputs": [
        {
          "output_type": "display_data",
          "data": {
            "image/png": "[encoded data removed]",
            "text/plain": [
              "<Figure size 432x288 with 1 Axes>"
            ]
          },
          "metadata": {
            "tags": [],
            "needs_background": "light"
          }
        },
        {
          "output_type": "display_data",
          "data": {
            "image/png": "[encoded data removed]",
            "text/plain": [
              "<Figure size 432x288 with 1 Axes>"
            ]
          },
          "metadata": {
            "tags": [],
            "needs_background": "light"
          }
        }
      ]
    },
    {
      "cell_type": "code",
      "metadata": {
        "colab": {
          "base_uri": "https://localhost:8080/",
          "height": 0
        },
        "id": "q8iR-GEBqBnF",
        "outputId": "dbec1e19-5945-4e89-d55c-7e4cd6dc5fdf"
      },
      "source": [
        "# Évalutation du modèle sur des nouvelles données \n",
        "\n",
        "model_img.evaluate(x=X_test_img, y=y_test_img, batch_size=32, verbose=2)"
      ],
      "id": "q8iR-GEBqBnF",
      "execution_count": 459,
      "outputs": [
        {
          "output_type": "stream",
          "text": [
            "7/7 - 8s - loss: 1.0348 - accuracy: 0.8143\n"
          ],
          "name": "stdout"
        },
        {
          "output_type": "execute_result",
          "data": {
            "text/plain": [
              "[1.034764289855957, 0.8142856955528259]"
            ]
          },
          "metadata": {
            "tags": []
          },
          "execution_count": 459
        }
      ]
    },
    {
      "cell_type": "markdown",
      "metadata": {
        "id": "iiAqMZ0JbaHk"
      },
      "source": [
        "### Multi inputs model"
      ],
      "id": "iiAqMZ0JbaHk"
    },
    {
      "cell_type": "markdown",
      "metadata": {
        "id": "GyBq0Jor2zD_"
      },
      "source": [
        "##### Préparation du texte"
      ],
      "id": "GyBq0Jor2zD_"
    },
    {
      "cell_type": "code",
      "metadata": {
        "id": "FrrT8ggiM3Hb"
      },
      "source": [
        "# Preprocessing du texte\n",
        "\n",
        "X = list(df['description'])\n",
        "\n",
        "from tensorflow.keras.layers.experimental.preprocessing import TextVectorization\n",
        "\n",
        "vectorizer = TextVectorization(max_tokens=20000, output_sequence_length=max_length)\n",
        "vectorizer.adapt(X)"
      ],
      "id": "FrrT8ggiM3Hb",
      "execution_count": 507,
      "outputs": []
    },
    {
      "cell_type": "code",
      "metadata": {
        "id": "x8gV0vVjtrMy"
      },
      "source": [
        "# Création du corpus\n",
        "\n",
        "voc = vectorizer.get_vocabulary()\n",
        "word_index = dict(zip(voc, range(len(voc))))"
      ],
      "id": "x8gV0vVjtrMy",
      "execution_count": 508,
      "outputs": []
    },
    {
      "cell_type": "code",
      "metadata": {
        "colab": {
          "base_uri": "https://localhost:8080/",
          "height": 0
        },
        "id": "7qllpTlBuK6d",
        "outputId": "d965a8fb-729a-4659-c537-d449252ce018"
      },
      "source": [
        "# Matrice d'embedding\n",
        "\n",
        "num_tokens = len(voc) + 2\n",
        "embedding_dim = 100\n",
        "hits = 0\n",
        "misses = 0\n",
        "\n",
        "# Prepare embedding matrix\n",
        "embedding_matrix = np.zeros((num_tokens, embedding_dim))\n",
        "for word, i in word_index.items():\n",
        "    embedding_vector = embeddings_index.get(word)\n",
        "    if embedding_vector is not None:\n",
        "        # Words not found in embedding index will be all-zeros.\n",
        "        # This includes the representation for \"padding\" and \"OOV\"\n",
        "        embedding_matrix[i] = embedding_vector\n",
        "        hits += 1\n",
        "    else:\n",
        "        misses += 1\n",
        "print(\"Converted %d words (%d misses)\" % (hits, misses))\n",
        "\n",
        "from tensorflow.keras.layers import Embedding\n",
        "\n",
        "embedding_layer = Embedding(\n",
        "    num_tokens,\n",
        "    embedding_dim,\n",
        "    embeddings_initializer=keras.initializers.Constant(embedding_matrix),\n",
        "    trainable=False,\n",
        ")"
      ],
      "id": "7qllpTlBuK6d",
      "execution_count": 509,
      "outputs": [
        {
          "output_type": "stream",
          "text": [
            "Converted 4846 words (1858 misses)\n"
          ],
          "name": "stdout"
        }
      ]
    },
    {
      "cell_type": "code",
      "metadata": {
        "id": "DOTVILCN3hE2"
      },
      "source": [
        "y = df['labels'].astype('category').cat.codes\n",
        "X_train_nlp, X_test_nlp, y_train_nlp, y_test_nlp =train_test_split(df['description'], y, test_size=0.2, shuffle=True, stratify=y, random_state=2)\n",
        "_, X_val_nlp, _, y_val_nlp =train_test_split(X_train, y_train, test_size=0.2, shuffle=True, stratify=y_train, random_state=2)\n",
        "\n",
        "\n",
        "X_train_nlp = vectorizer(np.array([[s] for s in X_train_nlp])).numpy()\n",
        "X_val_nlp = vectorizer(np.array([[s] for s in X_val_nlp])).numpy()\n",
        "X_test_nlp = vectorizer(np.array([[s] for s in X_test_nlp])).numpy()\n",
        "\n",
        "\n",
        "\n",
        "y_train_nlp = np.array(y_train_nlp)\n",
        "y_val_nlp = np.array(y_val_nlp)\n",
        "y_test_nlp = np.array(y_test_nlp)"
      ],
      "id": "DOTVILCN3hE2",
      "execution_count": 522,
      "outputs": []
    },
    {
      "cell_type": "markdown",
      "metadata": {
        "id": "wL1G5Ksx3iHX"
      },
      "source": [
        "##### Préparation des images"
      ],
      "id": "wL1G5Ksx3iHX"
    },
    {
      "cell_type": "code",
      "metadata": {
        "id": "2isKy72o3qOY"
      },
      "source": [
        "X_train_img, X_test_img, y_train_img, y_test_img =train_test_split(img_array, y, test_size=0.2, shuffle=True, stratify=y, random_state=2)\n",
        "_, X_val_img, _, y_val_img =train_test_split(X_train_img, y_train_img, test_size=0.2, shuffle=True, stratify=y_train_img, random_state=2)"
      ],
      "id": "2isKy72o3qOY",
      "execution_count": 523,
      "outputs": []
    },
    {
      "cell_type": "code",
      "metadata": {
        "id": "JYClBrQqGpUQ"
      },
      "source": [
        "# Validation des splits\n",
        "assert (y_val_img == y_val_nlp).all()\n",
        "assert (y_test_nlp == y_test_img).all()\n",
        "\n",
        "\n"
      ],
      "id": "JYClBrQqGpUQ",
      "execution_count": 524,
      "outputs": []
    },
    {
      "cell_type": "markdown",
      "metadata": {
        "id": "BkyqIfeL3ugn"
      },
      "source": [
        "##### Modèlisation"
      ],
      "id": "BkyqIfeL3ugn"
    },
    {
      "cell_type": "code",
      "metadata": {
        "id": "I-OjzZikvOuG"
      },
      "source": [
        "# Architecture du modèle multi-inputs\n",
        "\n",
        "from tensorflow.keras import layers\n",
        "\n",
        "class_names = df['labels'].unique()\n",
        "\n",
        "int_nlp = keras.Input(shape=(None,), dtype=\"int64\")\n",
        "embedded_sequences = embedding_layer(int_nlp)\n",
        "x = layers.BatchNormalization(epsilon=1e-05, momentum=0.1)(embedded_sequences)\n",
        "x = layers.Conv1D(128, 5, activation=\"relu\")(x)\n",
        "x = layers.MaxPooling1D(5)(x)\n",
        "x = layers.Conv1D(128, 5, activation=\"relu\")(x)\n",
        "x = layers.MaxPooling1D(5)(x)\n",
        "x = layers.Conv1D(128, 5, activation=\"relu\")(x)\n",
        "x = layers.GlobalMaxPooling1D()(x)\n",
        "x = layers.Dense(128, activation=\"relu\")(x)\n",
        "x = layers.Dropout(0.5)(x)\n",
        "x = layers.Dense(64, activation=\"relu\")(x)\n",
        "model_nlp = keras.Model(int_nlp, x)\n",
        "\n",
        "\n",
        "# load model without classifier layers\n",
        "img_model = vgg16(include_top=False, weights='imagenet', input_shape=(300, 300, 3))\n",
        "\n",
        "for layer in img_model.layers:\n",
        "    layer.trainable = False    \n",
        "\n",
        "# add new classifier layers\n",
        "y = layers.Flatten()(img_model.layers[-1].output)\n",
        "y = layers.Dense(1024, activation='relu')(y)\n",
        "\n",
        "# define new model\n",
        "model_img = keras.Model(inputs=img_model.inputs, outputs=y)\n",
        "\n",
        "concat = keras.layers.concatenate([x, y])\n",
        "\n",
        "z = layers.Dense(1024, activation=\"relu\")(concat)\n",
        "z = layers.Dropout(0.5)(z)\n",
        "z = layers.Dense(len(class_names), activation=\"softmax\")(z)\n",
        "\n",
        "model_double = keras.Model(inputs=[int_nlp, img_model.input], outputs=z)\n",
        "\n",
        "model_double.compile(optimizer='adam', loss='sparse_categorical_crossentropy', metrics='accuracy')\n"
      ],
      "id": "I-OjzZikvOuG",
      "execution_count": 525,
      "outputs": []
    },
    {
      "cell_type": "code",
      "metadata": {
        "colab": {
          "base_uri": "https://localhost:8080/",
          "height": 0
        },
        "id": "edLI3OlQvOw_",
        "outputId": "6167a3e6-0552-474f-b96f-3aea793de265"
      },
      "source": [
        "# Résumé\n",
        "\n",
        "model_double.summary()"
      ],
      "id": "edLI3OlQvOw_",
      "execution_count": 526,
      "outputs": [
        {
          "output_type": "stream",
          "text": [
            "Model: \"model_77\"\n",
            "__________________________________________________________________________________________________\n",
            "Layer (type)                    Output Shape         Param #     Connected to                     \n",
            "==================================================================================================\n",
            "input_69 (InputLayer)           [(None, 300, 300, 3) 0                                            \n",
            "__________________________________________________________________________________________________\n",
            "block1_conv1 (Conv2D)           (None, 300, 300, 64) 1792        input_69[0][0]                   \n",
            "__________________________________________________________________________________________________\n",
            "block1_conv2 (Conv2D)           (None, 300, 300, 64) 36928       block1_conv1[0][0]               \n",
            "__________________________________________________________________________________________________\n",
            "block1_pool (MaxPooling2D)      (None, 150, 150, 64) 0           block1_conv2[0][0]               \n",
            "__________________________________________________________________________________________________\n",
            "block2_conv1 (Conv2D)           (None, 150, 150, 128 73856       block1_pool[0][0]                \n",
            "__________________________________________________________________________________________________\n",
            "block2_conv2 (Conv2D)           (None, 150, 150, 128 147584      block2_conv1[0][0]               \n",
            "__________________________________________________________________________________________________\n",
            "block2_pool (MaxPooling2D)      (None, 75, 75, 128)  0           block2_conv2[0][0]               \n",
            "__________________________________________________________________________________________________\n",
            "block3_conv1 (Conv2D)           (None, 75, 75, 256)  295168      block2_pool[0][0]                \n",
            "__________________________________________________________________________________________________\n",
            "block3_conv2 (Conv2D)           (None, 75, 75, 256)  590080      block3_conv1[0][0]               \n",
            "__________________________________________________________________________________________________\n",
            "input_68 (InputLayer)           [(None, None)]       0                                            \n",
            "__________________________________________________________________________________________________\n",
            "block3_conv3 (Conv2D)           (None, 75, 75, 256)  590080      block3_conv2[0][0]               \n",
            "__________________________________________________________________________________________________\n",
            "embedding_7 (Embedding)         (None, None, 100)    670600      input_68[0][0]                   \n",
            "__________________________________________________________________________________________________\n",
            "block3_pool (MaxPooling2D)      (None, 37, 37, 256)  0           block3_conv3[0][0]               \n",
            "__________________________________________________________________________________________________\n",
            "batch_normalization_10 (BatchNo (None, None, 100)    400         embedding_7[0][0]                \n",
            "__________________________________________________________________________________________________\n",
            "block4_conv1 (Conv2D)           (None, 37, 37, 512)  1180160     block3_pool[0][0]                \n",
            "__________________________________________________________________________________________________\n",
            "conv1d_49 (Conv1D)              (None, None, 128)    64128       batch_normalization_10[0][0]     \n",
            "__________________________________________________________________________________________________\n",
            "block4_conv2 (Conv2D)           (None, 37, 37, 512)  2359808     block4_conv1[0][0]               \n",
            "__________________________________________________________________________________________________\n",
            "max_pooling1d_32 (MaxPooling1D) (None, None, 128)    0           conv1d_49[0][0]                  \n",
            "__________________________________________________________________________________________________\n",
            "block4_conv3 (Conv2D)           (None, 37, 37, 512)  2359808     block4_conv2[0][0]               \n",
            "__________________________________________________________________________________________________\n",
            "conv1d_50 (Conv1D)              (None, None, 128)    82048       max_pooling1d_32[0][0]           \n",
            "__________________________________________________________________________________________________\n",
            "block4_pool (MaxPooling2D)      (None, 18, 18, 512)  0           block4_conv3[0][0]               \n",
            "__________________________________________________________________________________________________\n",
            "max_pooling1d_33 (MaxPooling1D) (None, None, 128)    0           conv1d_50[0][0]                  \n",
            "__________________________________________________________________________________________________\n",
            "block5_conv1 (Conv2D)           (None, 18, 18, 512)  2359808     block4_pool[0][0]                \n",
            "__________________________________________________________________________________________________\n",
            "conv1d_51 (Conv1D)              (None, None, 128)    82048       max_pooling1d_33[0][0]           \n",
            "__________________________________________________________________________________________________\n",
            "block5_conv2 (Conv2D)           (None, 18, 18, 512)  2359808     block5_conv1[0][0]               \n",
            "__________________________________________________________________________________________________\n",
            "global_max_pooling1d_16 (Global (None, 128)          0           conv1d_51[0][0]                  \n",
            "__________________________________________________________________________________________________\n",
            "block5_conv3 (Conv2D)           (None, 18, 18, 512)  2359808     block5_conv2[0][0]               \n",
            "__________________________________________________________________________________________________\n",
            "dense_183 (Dense)               (None, 128)          16512       global_max_pooling1d_16[0][0]    \n",
            "__________________________________________________________________________________________________\n",
            "block5_pool (MaxPooling2D)      (None, 9, 9, 512)    0           block5_conv3[0][0]               \n",
            "__________________________________________________________________________________________________\n",
            "dropout_57 (Dropout)            (None, 128)          0           dense_183[0][0]                  \n",
            "__________________________________________________________________________________________________\n",
            "flatten_48 (Flatten)            (None, 41472)        0           block5_pool[0][0]                \n",
            "__________________________________________________________________________________________________\n",
            "dense_184 (Dense)               (None, 64)           8256        dropout_57[0][0]                 \n",
            "__________________________________________________________________________________________________\n",
            "dense_185 (Dense)               (None, 1024)         42468352    flatten_48[0][0]                 \n",
            "__________________________________________________________________________________________________\n",
            "concatenate_12 (Concatenate)    (None, 1088)         0           dense_184[0][0]                  \n",
            "                                                                 dense_185[0][0]                  \n",
            "__________________________________________________________________________________________________\n",
            "dense_186 (Dense)               (None, 1024)         1115136     concatenate_12[0][0]             \n",
            "__________________________________________________________________________________________________\n",
            "dropout_58 (Dropout)            (None, 1024)         0           dense_186[0][0]                  \n",
            "__________________________________________________________________________________________________\n",
            "dense_187 (Dense)               (None, 7)            7175        dropout_58[0][0]                 \n",
            "==================================================================================================\n",
            "Total params: 59,229,343\n",
            "Trainable params: 43,843,855\n",
            "Non-trainable params: 15,385,488\n",
            "__________________________________________________________________________________________________\n"
          ],
          "name": "stdout"
        }
      ]
    },
    {
      "cell_type": "code",
      "metadata": {
        "colab": {
          "base_uri": "https://localhost:8080/",
          "height": 0
        },
        "id": "xf78if6ruvCh",
        "outputId": "f32d24b2-0989-4842-daa3-1879914b870c"
      },
      "source": [
        "# Augmentation de la patience\n",
        "\n",
        "callback = keras.callbacks.EarlyStopping(monitor='val_loss', patience=3)\n",
        "\n",
        "# Entraînement du modèle\n",
        "\n",
        "history_db = model_double.fit(\n",
        "\tx=[X_train_nlp, X_train_img], y=y_train_nlp,  batch_size=32, epochs=50, verbose='auto',\n",
        "    callbacks=callback, validation_split=0.2, shuffle=True,\n",
        "    class_weight=None, sample_weight=None, initial_epoch=0, steps_per_epoch=None,\n",
        "    validation_steps=None, validation_batch_size=32, validation_freq=1, max_queue_size=10, workers=1, use_multiprocessing=False)"
      ],
      "id": "xf78if6ruvCh",
      "execution_count": 539,
      "outputs": [
        {
          "output_type": "stream",
          "text": [
            "Epoch 1/50\n",
            "21/21 [==============================] - 33s 1s/step - loss: 0.5409 - accuracy: 0.9881 - val_loss: 3.9736 - val_accuracy: 0.9524\n",
            "Epoch 2/50\n",
            "21/21 [==============================] - 23s 1s/step - loss: 1.1566 - accuracy: 0.9896 - val_loss: 4.9343 - val_accuracy: 0.9464\n",
            "Epoch 3/50\n",
            "21/21 [==============================] - 23s 1s/step - loss: 0.8439 - accuracy: 0.9926 - val_loss: 8.2759 - val_accuracy: 0.9286\n",
            "Epoch 4/50\n",
            "21/21 [==============================] - 23s 1s/step - loss: 0.6675 - accuracy: 0.9896 - val_loss: 4.7331 - val_accuracy: 0.9464\n"
          ],
          "name": "stdout"
        }
      ]
    },
    {
      "cell_type": "code",
      "metadata": {
        "colab": {
          "base_uri": "https://localhost:8080/",
          "height": 625
        },
        "id": "-sn53-JpSh4X",
        "outputId": "4ec589f5-d5e2-49bc-8522-2923ecef7c64"
      },
      "source": [
        "PlotModel(history=history_db, metric='accuracy', metric_val='val_accuracy', loss='loss',\n",
        "              val_loss='val_loss')"
      ],
      "id": "-sn53-JpSh4X",
      "execution_count": 540,
      "outputs": [
        {
          "output_type": "display_data",
          "data": {
            "image/png": "[encoded data removed]",
            "text/plain": [
              "<Figure size 432x288 with 1 Axes>"
            ]
          },
          "metadata": {
            "tags": [],
            "needs_background": "light"
          }
        },
        {
          "output_type": "display_data",
          "data": {
            "image/png": "[encoded data removed]",
            "text/plain": [
              "<Figure size 432x288 with 1 Axes>"
            ]
          },
          "metadata": {
            "tags": [],
            "needs_background": "light"
          }
        }
      ]
    },
    {
      "cell_type": "code",
      "metadata": {
        "colab": {
          "base_uri": "https://localhost:8080/",
          "height": 0
        },
        "id": "WpK-N9CjkgRI",
        "outputId": "3460284c-e7b4-4237-f0c2-2e2bd6fe6da5"
      },
      "source": [
        "model_double.evaluate(x=[X_test_nlp, X_test_img], y=y_test_nlp, batch_size=32, verbose=2)"
      ],
      "id": "WpK-N9CjkgRI",
      "execution_count": 541,
      "outputs": [
        {
          "output_type": "stream",
          "text": [
            "7/7 - 8s - loss: 29.8463 - accuracy: 0.8238\n"
          ],
          "name": "stdout"
        },
        {
          "output_type": "execute_result",
          "data": {
            "text/plain": [
              "[29.846342086791992, 0.8238095045089722]"
            ]
          },
          "metadata": {
            "tags": []
          },
          "execution_count": 541
        }
      ]
    },
    {
      "cell_type": "code",
      "metadata": {
        "id": "no-jOP9rovlR"
      },
      "source": [
        ""
      ],
      "id": "no-jOP9rovlR",
      "execution_count": 541,
      "outputs": []
    }
  ]
}