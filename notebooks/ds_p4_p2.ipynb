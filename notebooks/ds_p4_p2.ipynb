{
 "cells": [
  {
   "cell_type": "markdown",
   "metadata": {},
   "source": [
    "# Modélisation"
   ]
  },
  {
   "cell_type": "code",
   "execution_count": 1,
   "metadata": {},
   "outputs": [
    {
     "name": "stdout",
     "output_type": "stream",
     "text": [
      "Populating the interactive namespace from numpy and matplotlib\n"
     ]
    }
   ],
   "source": [
    "import pandas as pd\n",
    "%pylab inline\n",
    "import statsmodels.formula.api as smf\n",
    "import statsmodels.api as sm\n",
    "from statsmodels.compat import lzip\n",
    "import scipy.stats as stats\n",
    "import statsmodels.tools.tools as sma\n",
    "from sklearn.model_selection import train_test_split\n",
    "from sklearn.pipeline import make_pipeline\n",
    "from sklearn.preprocessing import LabelEncoder\n",
    "from sklearn.model_selection import StratifiedShuffleSplit\n",
    "from sklearn.feature_selection import RFE\n",
    "from sklearn import metrics\n",
    "from sklearn.preprocessing import StandardScaler, RobustScaler\n",
    "from sklearn.model_selection import GridSearchCV\n",
    "from sklearn.model_selection import learning_curve\n",
    "from sklearn.naive_bayes import GaussianNB\n",
    "from sklearn.svm import SVC\n",
    "from sklearn.datasets import load_digits\n",
    "from sklearn.model_selection import learning_curve\n",
    "from sklearn.model_selection import ShuffleSplit\n",
    "from sklearn.dummy import DummyRegressor\n",
    "from sklearn.linear_model import LinearRegression, Lasso\n",
    "from sklearn.preprocessing import OneHotEncoder\n",
    "from sklearn.compose import make_column_transformer, make_column_selector, ColumnTransformer\n",
    "from sklearn.preprocessing import FunctionTransformer\n",
    "from sklearn.pipeline import make_union\n",
    "import seaborn as sns"
   ]
  },
  {
   "cell_type": "markdown",
   "metadata": {},
   "source": [
    "## Import et aperçu des données"
   ]
  },
  {
   "cell_type": "code",
   "execution_count": 2,
   "metadata": {},
   "outputs": [],
   "source": [
    "df = pd.read_csv('df2.csv', index_col=['OSEBuildingID'])"
   ]
  },
  {
   "cell_type": "code",
   "execution_count": 3,
   "metadata": {},
   "outputs": [
    {
     "name": "stdout",
     "output_type": "stream",
     "text": [
      "<class 'pandas.core.frame.DataFrame'>\n",
      "Int64Index: 1540 entries, 1 to 32429\n",
      "Data columns (total 18 columns):\n",
      " #   Column                                 Non-Null Count  Dtype  \n",
      "---  ------                                 --------------  -----  \n",
      " 0   YearBuilt                              1540 non-null   int64  \n",
      " 1   BuildingType                           1540 non-null   object \n",
      " 2   NumberofBuildings                      1540 non-null   float64\n",
      " 3   NumberofFloors                         1540 non-null   int64  \n",
      " 4   ENERGYSTARScore                        1540 non-null   float64\n",
      " 5   PrimaryPropertyType                    1540 non-null   object \n",
      " 6   PropertyGFABuilding(s)                 1540 non-null   int64  \n",
      " 7   Neighborhood                           1540 non-null   object \n",
      " 8   Latitude                               1540 non-null   float64\n",
      " 9   Longitude                              1540 non-null   float64\n",
      " 10  ComplianceStatus                       1540 non-null   object \n",
      " 11  TotalGHGEmissions                      1540 non-null   float64\n",
      " 12  SiteEnergyUse(kBtu)                    1540 non-null   float64\n",
      " 13  SourceEUI(kBtu/sf)_mean_property_type  1540 non-null   float64\n",
      " 14  SiteEUI(kBtu/sf)_mean_property_type    1540 non-null   float64\n",
      " 15  SteamUse(kBtu)_mean_property_type      1540 non-null   float64\n",
      " 16  Electricity(kBtu)_mean_property_type   1540 non-null   float64\n",
      " 17  NaturalGas(kBtu)_mean_property_type    1540 non-null   float64\n",
      "dtypes: float64(11), int64(3), object(4)\n",
      "memory usage: 228.6+ KB\n"
     ]
    }
   ],
   "source": [
    "df.info()"
   ]
  },
  {
   "cell_type": "markdown",
   "metadata": {},
   "source": [
    "Le jeu de données ne contient **pas de valeur manquante**."
   ]
  },
  {
   "cell_type": "code",
   "execution_count": 4,
   "metadata": {},
   "outputs": [
    {
     "data": {
      "text/html": [
       "<div>\n",
       "<style scoped>\n",
       "    .dataframe tbody tr th:only-of-type {\n",
       "        vertical-align: middle;\n",
       "    }\n",
       "\n",
       "    .dataframe tbody tr th {\n",
       "        vertical-align: top;\n",
       "    }\n",
       "\n",
       "    .dataframe thead th {\n",
       "        text-align: right;\n",
       "    }\n",
       "</style>\n",
       "<table border=\"1\" class=\"dataframe\">\n",
       "  <thead>\n",
       "    <tr style=\"text-align: right;\">\n",
       "      <th></th>\n",
       "      <th>YearBuilt</th>\n",
       "      <th>BuildingType</th>\n",
       "      <th>NumberofBuildings</th>\n",
       "      <th>NumberofFloors</th>\n",
       "      <th>ENERGYSTARScore</th>\n",
       "      <th>PrimaryPropertyType</th>\n",
       "      <th>PropertyGFABuilding(s)</th>\n",
       "      <th>Neighborhood</th>\n",
       "      <th>Latitude</th>\n",
       "      <th>Longitude</th>\n",
       "      <th>ComplianceStatus</th>\n",
       "      <th>TotalGHGEmissions</th>\n",
       "      <th>SiteEnergyUse(kBtu)</th>\n",
       "      <th>SourceEUI(kBtu/sf)_mean_property_type</th>\n",
       "      <th>SiteEUI(kBtu/sf)_mean_property_type</th>\n",
       "      <th>SteamUse(kBtu)_mean_property_type</th>\n",
       "      <th>Electricity(kBtu)_mean_property_type</th>\n",
       "      <th>NaturalGas(kBtu)_mean_property_type</th>\n",
       "    </tr>\n",
       "    <tr>\n",
       "      <th>OSEBuildingID</th>\n",
       "      <th></th>\n",
       "      <th></th>\n",
       "      <th></th>\n",
       "      <th></th>\n",
       "      <th></th>\n",
       "      <th></th>\n",
       "      <th></th>\n",
       "      <th></th>\n",
       "      <th></th>\n",
       "      <th></th>\n",
       "      <th></th>\n",
       "      <th></th>\n",
       "      <th></th>\n",
       "      <th></th>\n",
       "      <th></th>\n",
       "      <th></th>\n",
       "      <th></th>\n",
       "      <th></th>\n",
       "    </tr>\n",
       "  </thead>\n",
       "  <tbody>\n",
       "    <tr>\n",
       "      <th>1</th>\n",
       "      <td>1927</td>\n",
       "      <td>NonResidential</td>\n",
       "      <td>1.0</td>\n",
       "      <td>12</td>\n",
       "      <td>60.0</td>\n",
       "      <td>Hotel</td>\n",
       "      <td>88434</td>\n",
       "      <td>DOWNTOWN</td>\n",
       "      <td>47.61220</td>\n",
       "      <td>-122.33799</td>\n",
       "      <td>Compliant</td>\n",
       "      <td>5.525373</td>\n",
       "      <td>15.793246</td>\n",
       "      <td>5.058509</td>\n",
       "      <td>4.323459</td>\n",
       "      <td>3.243963</td>\n",
       "      <td>15.007775</td>\n",
       "      <td>14.204702</td>\n",
       "    </tr>\n",
       "    <tr>\n",
       "      <th>2</th>\n",
       "      <td>1996</td>\n",
       "      <td>NonResidential</td>\n",
       "      <td>1.0</td>\n",
       "      <td>11</td>\n",
       "      <td>61.0</td>\n",
       "      <td>Hotel</td>\n",
       "      <td>88502</td>\n",
       "      <td>DOWNTOWN</td>\n",
       "      <td>47.61317</td>\n",
       "      <td>-122.33393</td>\n",
       "      <td>Compliant</td>\n",
       "      <td>5.693261</td>\n",
       "      <td>15.942305</td>\n",
       "      <td>5.058509</td>\n",
       "      <td>4.323459</td>\n",
       "      <td>3.243963</td>\n",
       "      <td>15.007775</td>\n",
       "      <td>14.204702</td>\n",
       "    </tr>\n",
       "    <tr>\n",
       "      <th>3</th>\n",
       "      <td>1969</td>\n",
       "      <td>NonResidential</td>\n",
       "      <td>1.0</td>\n",
       "      <td>41</td>\n",
       "      <td>43.0</td>\n",
       "      <td>Hotel</td>\n",
       "      <td>759392</td>\n",
       "      <td>DOWNTOWN</td>\n",
       "      <td>47.61393</td>\n",
       "      <td>-122.33810</td>\n",
       "      <td>Compliant</td>\n",
       "      <td>7.645053</td>\n",
       "      <td>18.100297</td>\n",
       "      <td>5.058509</td>\n",
       "      <td>4.323459</td>\n",
       "      <td>3.243963</td>\n",
       "      <td>15.007775</td>\n",
       "      <td>14.204702</td>\n",
       "    </tr>\n",
       "    <tr>\n",
       "      <th>5</th>\n",
       "      <td>1926</td>\n",
       "      <td>NonResidential</td>\n",
       "      <td>1.0</td>\n",
       "      <td>10</td>\n",
       "      <td>56.0</td>\n",
       "      <td>Hotel</td>\n",
       "      <td>61320</td>\n",
       "      <td>DOWNTOWN</td>\n",
       "      <td>47.61412</td>\n",
       "      <td>-122.33664</td>\n",
       "      <td>Compliant</td>\n",
       "      <td>5.660979</td>\n",
       "      <td>15.731637</td>\n",
       "      <td>5.058509</td>\n",
       "      <td>4.323459</td>\n",
       "      <td>3.243963</td>\n",
       "      <td>15.007775</td>\n",
       "      <td>14.204702</td>\n",
       "    </tr>\n",
       "    <tr>\n",
       "      <th>8</th>\n",
       "      <td>1980</td>\n",
       "      <td>NonResidential</td>\n",
       "      <td>1.0</td>\n",
       "      <td>18</td>\n",
       "      <td>75.0</td>\n",
       "      <td>Hotel</td>\n",
       "      <td>113580</td>\n",
       "      <td>DOWNTOWN</td>\n",
       "      <td>47.61375</td>\n",
       "      <td>-122.34047</td>\n",
       "      <td>Compliant</td>\n",
       "      <td>6.226556</td>\n",
       "      <td>16.466822</td>\n",
       "      <td>5.058509</td>\n",
       "      <td>4.323459</td>\n",
       "      <td>3.243963</td>\n",
       "      <td>15.007775</td>\n",
       "      <td>14.204702</td>\n",
       "    </tr>\n",
       "  </tbody>\n",
       "</table>\n",
       "</div>"
      ],
      "text/plain": [
       "               YearBuilt    BuildingType  NumberofBuildings  NumberofFloors  \\\n",
       "OSEBuildingID                                                                 \n",
       "1                   1927  NonResidential                1.0              12   \n",
       "2                   1996  NonResidential                1.0              11   \n",
       "3                   1969  NonResidential                1.0              41   \n",
       "5                   1926  NonResidential                1.0              10   \n",
       "8                   1980  NonResidential                1.0              18   \n",
       "\n",
       "               ENERGYSTARScore PrimaryPropertyType  PropertyGFABuilding(s)  \\\n",
       "OSEBuildingID                                                                \n",
       "1                         60.0               Hotel                   88434   \n",
       "2                         61.0               Hotel                   88502   \n",
       "3                         43.0               Hotel                  759392   \n",
       "5                         56.0               Hotel                   61320   \n",
       "8                         75.0               Hotel                  113580   \n",
       "\n",
       "              Neighborhood  Latitude  Longitude ComplianceStatus  \\\n",
       "OSEBuildingID                                                      \n",
       "1                 DOWNTOWN  47.61220 -122.33799        Compliant   \n",
       "2                 DOWNTOWN  47.61317 -122.33393        Compliant   \n",
       "3                 DOWNTOWN  47.61393 -122.33810        Compliant   \n",
       "5                 DOWNTOWN  47.61412 -122.33664        Compliant   \n",
       "8                 DOWNTOWN  47.61375 -122.34047        Compliant   \n",
       "\n",
       "               TotalGHGEmissions  SiteEnergyUse(kBtu)  \\\n",
       "OSEBuildingID                                           \n",
       "1                       5.525373            15.793246   \n",
       "2                       5.693261            15.942305   \n",
       "3                       7.645053            18.100297   \n",
       "5                       5.660979            15.731637   \n",
       "8                       6.226556            16.466822   \n",
       "\n",
       "               SourceEUI(kBtu/sf)_mean_property_type  \\\n",
       "OSEBuildingID                                          \n",
       "1                                           5.058509   \n",
       "2                                           5.058509   \n",
       "3                                           5.058509   \n",
       "5                                           5.058509   \n",
       "8                                           5.058509   \n",
       "\n",
       "               SiteEUI(kBtu/sf)_mean_property_type  \\\n",
       "OSEBuildingID                                        \n",
       "1                                         4.323459   \n",
       "2                                         4.323459   \n",
       "3                                         4.323459   \n",
       "5                                         4.323459   \n",
       "8                                         4.323459   \n",
       "\n",
       "               SteamUse(kBtu)_mean_property_type  \\\n",
       "OSEBuildingID                                      \n",
       "1                                       3.243963   \n",
       "2                                       3.243963   \n",
       "3                                       3.243963   \n",
       "5                                       3.243963   \n",
       "8                                       3.243963   \n",
       "\n",
       "               Electricity(kBtu)_mean_property_type  \\\n",
       "OSEBuildingID                                         \n",
       "1                                         15.007775   \n",
       "2                                         15.007775   \n",
       "3                                         15.007775   \n",
       "5                                         15.007775   \n",
       "8                                         15.007775   \n",
       "\n",
       "               NaturalGas(kBtu)_mean_property_type  \n",
       "OSEBuildingID                                       \n",
       "1                                        14.204702  \n",
       "2                                        14.204702  \n",
       "3                                        14.204702  \n",
       "5                                        14.204702  \n",
       "8                                        14.204702  "
      ]
     },
     "execution_count": 4,
     "metadata": {},
     "output_type": "execute_result"
    }
   ],
   "source": [
    "df.head()"
   ]
  },
  {
   "cell_type": "code",
   "execution_count": 5,
   "metadata": {},
   "outputs": [
    {
     "data": {
      "text/html": [
       "<div>\n",
       "<style scoped>\n",
       "    .dataframe tbody tr th:only-of-type {\n",
       "        vertical-align: middle;\n",
       "    }\n",
       "\n",
       "    .dataframe tbody tr th {\n",
       "        vertical-align: top;\n",
       "    }\n",
       "\n",
       "    .dataframe thead th {\n",
       "        text-align: right;\n",
       "    }\n",
       "</style>\n",
       "<table border=\"1\" class=\"dataframe\">\n",
       "  <thead>\n",
       "    <tr style=\"text-align: right;\">\n",
       "      <th></th>\n",
       "      <th>YearBuilt</th>\n",
       "      <th>NumberofBuildings</th>\n",
       "      <th>NumberofFloors</th>\n",
       "      <th>ENERGYSTARScore</th>\n",
       "      <th>PropertyGFABuilding(s)</th>\n",
       "      <th>Latitude</th>\n",
       "      <th>Longitude</th>\n",
       "      <th>TotalGHGEmissions</th>\n",
       "      <th>SiteEnergyUse(kBtu)</th>\n",
       "      <th>SourceEUI(kBtu/sf)_mean_property_type</th>\n",
       "      <th>SiteEUI(kBtu/sf)_mean_property_type</th>\n",
       "      <th>SteamUse(kBtu)_mean_property_type</th>\n",
       "      <th>Electricity(kBtu)_mean_property_type</th>\n",
       "      <th>NaturalGas(kBtu)_mean_property_type</th>\n",
       "    </tr>\n",
       "  </thead>\n",
       "  <tbody>\n",
       "    <tr>\n",
       "      <th>count</th>\n",
       "      <td>1540.000000</td>\n",
       "      <td>1540.000000</td>\n",
       "      <td>1540.000000</td>\n",
       "      <td>1540.000000</td>\n",
       "      <td>1.540000e+03</td>\n",
       "      <td>1540.000000</td>\n",
       "      <td>1540.000000</td>\n",
       "      <td>1540.000000</td>\n",
       "      <td>1540.000000</td>\n",
       "      <td>1540.000000</td>\n",
       "      <td>1540.000000</td>\n",
       "      <td>1540.000000</td>\n",
       "      <td>1540.000000</td>\n",
       "      <td>1540.000000</td>\n",
       "    </tr>\n",
       "    <tr>\n",
       "      <th>mean</th>\n",
       "      <td>1961.230519</td>\n",
       "      <td>1.036364</td>\n",
       "      <td>4.285065</td>\n",
       "      <td>63.838225</td>\n",
       "      <td>9.730801e+04</td>\n",
       "      <td>47.616182</td>\n",
       "      <td>-122.333425</td>\n",
       "      <td>3.958613</td>\n",
       "      <td>14.888098</td>\n",
       "      <td>4.859667</td>\n",
       "      <td>3.983458</td>\n",
       "      <td>1.047281</td>\n",
       "      <td>14.415170</td>\n",
       "      <td>9.571629</td>\n",
       "    </tr>\n",
       "    <tr>\n",
       "      <th>std</th>\n",
       "      <td>32.877953</td>\n",
       "      <td>0.569967</td>\n",
       "      <td>6.795531</td>\n",
       "      <td>23.334544</td>\n",
       "      <td>1.652166e+05</td>\n",
       "      <td>0.046859</td>\n",
       "      <td>0.023225</td>\n",
       "      <td>1.453374</td>\n",
       "      <td>1.375273</td>\n",
       "      <td>0.499001</td>\n",
       "      <td>0.487324</td>\n",
       "      <td>0.898867</td>\n",
       "      <td>0.767402</td>\n",
       "      <td>2.232325</td>\n",
       "    </tr>\n",
       "    <tr>\n",
       "      <th>min</th>\n",
       "      <td>1900.000000</td>\n",
       "      <td>0.000000</td>\n",
       "      <td>0.000000</td>\n",
       "      <td>1.000000</td>\n",
       "      <td>3.636000e+03</td>\n",
       "      <td>47.509590</td>\n",
       "      <td>-122.411820</td>\n",
       "      <td>0.000000</td>\n",
       "      <td>0.000000</td>\n",
       "      <td>3.580240</td>\n",
       "      <td>2.753690</td>\n",
       "      <td>0.000000</td>\n",
       "      <td>12.742502</td>\n",
       "      <td>6.220422</td>\n",
       "    </tr>\n",
       "    <tr>\n",
       "      <th>25%</th>\n",
       "      <td>1929.000000</td>\n",
       "      <td>1.000000</td>\n",
       "      <td>1.000000</td>\n",
       "      <td>60.000000</td>\n",
       "      <td>2.768750e+04</td>\n",
       "      <td>47.587708</td>\n",
       "      <td>-122.342765</td>\n",
       "      <td>3.022739</td>\n",
       "      <td>14.004393</td>\n",
       "      <td>4.749691</td>\n",
       "      <td>3.931269</td>\n",
       "      <td>0.273111</td>\n",
       "      <td>13.624607</td>\n",
       "      <td>7.016811</td>\n",
       "    </tr>\n",
       "    <tr>\n",
       "      <th>50%</th>\n",
       "      <td>1965.000000</td>\n",
       "      <td>1.000000</td>\n",
       "      <td>2.000000</td>\n",
       "      <td>63.861692</td>\n",
       "      <td>4.507500e+04</td>\n",
       "      <td>47.612380</td>\n",
       "      <td>-122.333160</td>\n",
       "      <td>3.902276</td>\n",
       "      <td>14.777742</td>\n",
       "      <td>5.026972</td>\n",
       "      <td>4.019540</td>\n",
       "      <td>1.442825</td>\n",
       "      <td>14.472564</td>\n",
       "      <td>10.123289</td>\n",
       "    </tr>\n",
       "    <tr>\n",
       "      <th>75%</th>\n",
       "      <td>1988.000000</td>\n",
       "      <td>1.000000</td>\n",
       "      <td>4.000000</td>\n",
       "      <td>79.000000</td>\n",
       "      <td>9.284900e+04</td>\n",
       "      <td>47.648715</td>\n",
       "      <td>-122.322612</td>\n",
       "      <td>4.933266</td>\n",
       "      <td>15.759488</td>\n",
       "      <td>5.058509</td>\n",
       "      <td>4.271479</td>\n",
       "      <td>1.442825</td>\n",
       "      <td>14.967206</td>\n",
       "      <td>10.814406</td>\n",
       "    </tr>\n",
       "    <tr>\n",
       "      <th>max</th>\n",
       "      <td>2015.000000</td>\n",
       "      <td>9.000000</td>\n",
       "      <td>99.000000</td>\n",
       "      <td>100.000000</td>\n",
       "      <td>1.765970e+06</td>\n",
       "      <td>47.733870</td>\n",
       "      <td>-122.261800</td>\n",
       "      <td>9.418018</td>\n",
       "      <td>19.495993</td>\n",
       "      <td>6.133918</td>\n",
       "      <td>5.389167</td>\n",
       "      <td>3.635655</td>\n",
       "      <td>16.939583</td>\n",
       "      <td>14.455184</td>\n",
       "    </tr>\n",
       "  </tbody>\n",
       "</table>\n",
       "</div>"
      ],
      "text/plain": [
       "         YearBuilt  NumberofBuildings  NumberofFloors  ENERGYSTARScore  \\\n",
       "count  1540.000000        1540.000000     1540.000000      1540.000000   \n",
       "mean   1961.230519           1.036364        4.285065        63.838225   \n",
       "std      32.877953           0.569967        6.795531        23.334544   \n",
       "min    1900.000000           0.000000        0.000000         1.000000   \n",
       "25%    1929.000000           1.000000        1.000000        60.000000   \n",
       "50%    1965.000000           1.000000        2.000000        63.861692   \n",
       "75%    1988.000000           1.000000        4.000000        79.000000   \n",
       "max    2015.000000           9.000000       99.000000       100.000000   \n",
       "\n",
       "       PropertyGFABuilding(s)     Latitude    Longitude  TotalGHGEmissions  \\\n",
       "count            1.540000e+03  1540.000000  1540.000000        1540.000000   \n",
       "mean             9.730801e+04    47.616182  -122.333425           3.958613   \n",
       "std              1.652166e+05     0.046859     0.023225           1.453374   \n",
       "min              3.636000e+03    47.509590  -122.411820           0.000000   \n",
       "25%              2.768750e+04    47.587708  -122.342765           3.022739   \n",
       "50%              4.507500e+04    47.612380  -122.333160           3.902276   \n",
       "75%              9.284900e+04    47.648715  -122.322612           4.933266   \n",
       "max              1.765970e+06    47.733870  -122.261800           9.418018   \n",
       "\n",
       "       SiteEnergyUse(kBtu)  SourceEUI(kBtu/sf)_mean_property_type  \\\n",
       "count          1540.000000                            1540.000000   \n",
       "mean             14.888098                               4.859667   \n",
       "std               1.375273                               0.499001   \n",
       "min               0.000000                               3.580240   \n",
       "25%              14.004393                               4.749691   \n",
       "50%              14.777742                               5.026972   \n",
       "75%              15.759488                               5.058509   \n",
       "max              19.495993                               6.133918   \n",
       "\n",
       "       SiteEUI(kBtu/sf)_mean_property_type  SteamUse(kBtu)_mean_property_type  \\\n",
       "count                          1540.000000                        1540.000000   \n",
       "mean                              3.983458                           1.047281   \n",
       "std                               0.487324                           0.898867   \n",
       "min                               2.753690                           0.000000   \n",
       "25%                               3.931269                           0.273111   \n",
       "50%                               4.019540                           1.442825   \n",
       "75%                               4.271479                           1.442825   \n",
       "max                               5.389167                           3.635655   \n",
       "\n",
       "       Electricity(kBtu)_mean_property_type  \\\n",
       "count                           1540.000000   \n",
       "mean                              14.415170   \n",
       "std                                0.767402   \n",
       "min                               12.742502   \n",
       "25%                               13.624607   \n",
       "50%                               14.472564   \n",
       "75%                               14.967206   \n",
       "max                               16.939583   \n",
       "\n",
       "       NaturalGas(kBtu)_mean_property_type  \n",
       "count                          1540.000000  \n",
       "mean                              9.571629  \n",
       "std                               2.232325  \n",
       "min                               6.220422  \n",
       "25%                               7.016811  \n",
       "50%                              10.123289  \n",
       "75%                              10.814406  \n",
       "max                              14.455184  "
      ]
     },
     "execution_count": 5,
     "metadata": {},
     "output_type": "execute_result"
    }
   ],
   "source": [
    "df.describe()"
   ]
  },
  {
   "cell_type": "markdown",
   "metadata": {},
   "source": [
    "## Nettoyage"
   ]
  },
  {
   "cell_type": "code",
   "execution_count": 6,
   "metadata": {},
   "outputs": [],
   "source": [
    "# Changement de type, d'objet à category\n",
    "\n",
    "df['PrimaryPropertyType'] = df.PrimaryPropertyType.astype('category')\n",
    "df['Neighborhood'] = df.Neighborhood.astype('category')"
   ]
  },
  {
   "cell_type": "code",
   "execution_count": 7,
   "metadata": {},
   "outputs": [],
   "source": [
    "# Cette information est déjà comprise dans latitude et longitude\n",
    "\n",
    "df.drop(['Neighborhood'], axis=1, inplace=True)"
   ]
  },
  {
   "cell_type": "markdown",
   "metadata": {},
   "source": [
    "## Sélection des données"
   ]
  },
  {
   "cell_type": "code",
   "execution_count": 8,
   "metadata": {},
   "outputs": [],
   "source": [
    "# Création de variables pour les target et les features\n",
    "\n",
    "y1 = df.loc[:,'TotalGHGEmissions']\n",
    "y2 = df.loc[:,\"SiteEnergyUse(kBtu)\"]\n",
    "X = df"
   ]
  },
  {
   "cell_type": "code",
   "execution_count": 9,
   "metadata": {},
   "outputs": [],
   "source": [
    "# Création d'un jeu train/test en stratifiant les données en fonction de PrimaryPropertyType\n",
    "\n",
    "sss = StratifiedShuffleSplit(n_splits=1, test_size=0.2, random_state=19)\n",
    "for train_index, test_index in sss.split(X, y= df['PrimaryPropertyType']):\n",
    "    strat_train = X.iloc[train_index]\n",
    "    strat_test = X.iloc[test_index]"
   ]
  },
  {
   "cell_type": "code",
   "execution_count": 10,
   "metadata": {},
   "outputs": [],
   "source": [
    "# Copie du jeu de données test pour l'analyse des erreurs\n",
    "\n",
    "strat_analysis = strat_test.copy()"
   ]
  },
  {
   "cell_type": "code",
   "execution_count": 11,
   "metadata": {},
   "outputs": [],
   "source": [
    "# Nombre de Folds de cross validation\n",
    "\n",
    "cv = 5"
   ]
  },
  {
   "cell_type": "code",
   "execution_count": 12,
   "metadata": {},
   "outputs": [
    {
     "name": "stderr",
     "output_type": "stream",
     "text": [
      "C:\\Users\\jerem\\Miniconda3\\envs\\jvds\\lib\\site-packages\\pandas\\core\\frame.py:4305: SettingWithCopyWarning: \n",
      "A value is trying to be set on a copy of a slice from a DataFrame\n",
      "\n",
      "See the caveats in the documentation: https://pandas.pydata.org/pandas-docs/stable/user_guide/indexing.html#returning-a-view-versus-a-copy\n",
      "  return super().drop(\n"
     ]
    }
   ],
   "source": [
    "# Suppression de features non-utiles pour le modèle\n",
    "# Ces features ont été estimés non-utiles suite à un processus iteratif\n",
    "\n",
    "for x in [strat_train, strat_test]:\n",
    "    x.drop(['PrimaryPropertyType', 'BuildingType'], axis=1, inplace=True)"
   ]
  },
  {
   "cell_type": "code",
   "execution_count": 13,
   "metadata": {},
   "outputs": [],
   "source": [
    "# Création des sous-catégories du train/test set\n",
    "\n",
    "y2_train = strat_train.loc[:,\"SiteEnergyUse(kBtu)\"]\n",
    "y2_test = strat_test.loc[:,\"SiteEnergyUse(kBtu)\"]\n",
    "\n",
    "y1_train = strat_train.loc[:,'TotalGHGEmissions']\n",
    "y1_test = strat_test.loc[:,'TotalGHGEmissions']\n",
    "\n",
    "X_train = strat_train.drop(['TotalGHGEmissions', 'SiteEnergyUse(kBtu)', 'ENERGYSTARScore'], axis=1)\n",
    "X_test = strat_test.drop(['TotalGHGEmissions', 'SiteEnergyUse(kBtu)', 'ENERGYSTARScore'], axis=1)\n",
    "\n",
    "X_train_ess = strat_train.drop(['TotalGHGEmissions', 'SiteEnergyUse(kBtu)'], axis=1)\n",
    "X_test_ess = strat_test.drop(['TotalGHGEmissions', 'SiteEnergyUse(kBtu)'], axis=1)"
   ]
  },
  {
   "cell_type": "markdown",
   "metadata": {},
   "source": [
    "## Fonctions"
   ]
  },
  {
   "cell_type": "code",
   "execution_count": 14,
   "metadata": {},
   "outputs": [],
   "source": [
    "# Learning curves\n",
    "\n",
    "def LearningCurvePlot(estimator=None, X=X, y=y1, scoring='r2', train_sizes=np.linspace(0.1, 1.0, 5)) :\n",
    "    train_sizes, train_scores, test_scores = learning_curve(estimator, X, y, cv=cv, train_sizes=train_sizes, scoring=scoring)\n",
    "    train_scores_mean = np.mean(train_scores, axis=1)\n",
    "    test_scores_mean = np.mean(test_scores, axis=1)\n",
    "    plt.plot(train_sizes, train_scores_mean, label = 'Training score')\n",
    "    plt.plot(train_sizes, test_scores_mean, label = 'Test score')\n",
    "    plt.ylabel('Score', fontsize = 14)\n",
    "    plt.xlabel('Training set size', fontsize = 14)\n",
    "    plt.title('Learning curves', fontsize = 18, y = 1.03)\n",
    "    plt.legend()"
   ]
  },
  {
   "cell_type": "code",
   "execution_count": 15,
   "metadata": {},
   "outputs": [],
   "source": [
    "# Mesure et sauvegarde de la performance des modèles\n",
    "\n",
    "RMSE = []\n",
    "R2 = [] \n",
    "\n",
    "def Score(model=None, X=None, y=None, save=1):\n",
    "    pred = model.predict(X)\n",
    "    print('R² : ' +  str(metrics.r2_score(y, pred)))\n",
    "    print('RMSE : ' +  str(np.sqrt(metrics.mean_squared_error(y, pred))))\n",
    "    if save == 1:\n",
    "        R2.append(metrics.r2_score(y, pred))\n",
    "        RMSE.append(np.sqrt(metrics.mean_squared_error(y, pred)))"
   ]
  },
  {
   "cell_type": "code",
   "execution_count": 16,
   "metadata": {},
   "outputs": [],
   "source": [
    "# Importance des features des tree-bases modèles\n",
    "\n",
    "def FeatureImportance(data=X_train_ess, model=None, size=(7,8), legend='lower right') :\n",
    "    features = pd.get_dummies(data).columns\n",
    "    importance = model.feature_importances_\n",
    "    fi = pd.DataFrame({'features': features, 'importance' : importance}).set_index('features').sort_values(by='importance')\n",
    "\n",
    "    fig, ax = plt.subplots()\n",
    "    fig.set_size_inches(size)\n",
    "    fi.plot(kind='barh', ax=ax)\n",
    "    plt.legend(loc='lower right')\n",
    "    plt.show()"
   ]
  },
  {
   "cell_type": "code",
   "execution_count": 17,
   "metadata": {},
   "outputs": [],
   "source": [
    "# Erreur par type de propriété\n",
    "\n",
    "def ComputeError(model=None, test_data=X_test, target=y2_test) :\n",
    "    pred = model.predict(test_data)\n",
    "    error = target - pred\n",
    "    strat_analysis['error'] = np.abs(error)\n",
    "    return strat_analysis.groupby('PrimaryPropertyType')['error'].mean().sort_values()"
   ]
  },
  {
   "cell_type": "code",
   "execution_count": 18,
   "metadata": {},
   "outputs": [],
   "source": [
    "# Plot des scores par modèle\n",
    "\n",
    "def PlotScore(indicator='RMSE', data=None, size=(7,5), starting=0.55):\n",
    "    fig, ax = plt.subplots()\n",
    "    fig.set_size_inches(size)\n",
    "    sns.barplot(data=data, x=indicator, y=data.index, hue='ESS', ax=ax)\n",
    "    ax.set_ylabel('Modèles')\n",
    "    ax.set_xlim(xmin=starting)\n",
    "    ax.legend(loc='upper right')\n",
    "    plt.grid()\n",
    "    plt.show()"
   ]
  },
  {
   "cell_type": "markdown",
   "metadata": {},
   "source": [
    "## Création des pipelines"
   ]
  },
  {
   "cell_type": "code",
   "execution_count": 19,
   "metadata": {},
   "outputs": [],
   "source": [
    "# Sélection des subsets de features\n",
    "\n",
    "num_a = list(X_train.select_dtypes(['int64', 'float64']).columns)\n",
    "cat = make_column_selector(dtype_exclude=np.number)\n",
    "log = ['PropertyGFABuilding(s)', 'NumberofBuildings', 'NumberofFloors']\n",
    "num_b = list(X_train_ess.select_dtypes(['int64', 'float64']).columns)\n",
    "log_ess = ['PropertyGFABuilding(s)', 'NumberofBuildings', 'NumberofFloors', 'ENERGYSTARScore']"
   ]
  },
  {
   "cell_type": "code",
   "execution_count": 20,
   "metadata": {},
   "outputs": [],
   "source": [
    "# Je retire les variables de cette liste car elles doivent être transformé en log et avec standard scaler\n",
    "\n",
    "for x in log :\n",
    "    num_a.remove(x)"
   ]
  },
  {
   "cell_type": "code",
   "execution_count": 21,
   "metadata": {},
   "outputs": [],
   "source": [
    "# Je retire les variables de cette liste car elles doivent être transformé en log et avec standard scaler\n",
    "\n",
    "for x in log_ess :\n",
    "    num_b.remove(x)"
   ]
  },
  {
   "cell_type": "code",
   "execution_count": 22,
   "metadata": {},
   "outputs": [],
   "source": [
    "# Transformation log + std\n",
    "std_log = make_pipeline(FunctionTransformer(func=np.log1p), StandardScaler())\n",
    "\n",
    "# Transformation std\n",
    "std = make_pipeline(StandardScaler())\n",
    "\n",
    "# Transformation des variables catégorielles avec one hot encode\n",
    "one_hot = make_pipeline(OneHotEncoder(handle_unknown='ignore'))\n",
    "\n",
    "# Pipeline pour les modèles avec ESS\n",
    "preprocessor_a = make_column_transformer((std_log, log),                                        \n",
    "                                       (one_hot, cat),\n",
    "                                       (std, num_a)\n",
    "                                      )\n",
    "\n",
    "# Pipeline pour les modèles sans ESS\n",
    "preprocessor_b = make_column_transformer((std_log, log_ess),                                        \n",
    "                                       (one_hot, cat),\n",
    "                                       (std, num_b)\n",
    "                                      )"
   ]
  },
  {
   "cell_type": "markdown",
   "metadata": {},
   "source": [
    "## Baseline : Dummy regressor"
   ]
  },
  {
   "cell_type": "markdown",
   "metadata": {},
   "source": [
    "Création d'une baseline afin de comparer la performance des modèles à une méthode naïve."
   ]
  },
  {
   "cell_type": "markdown",
   "metadata": {},
   "source": [
    "### Target 1"
   ]
  },
  {
   "cell_type": "code",
   "execution_count": 23,
   "metadata": {},
   "outputs": [
    {
     "name": "stdout",
     "output_type": "stream",
     "text": [
      "R² : -0.0016106502276926893\n",
      "RMSE : 1.5376689435669264\n"
     ]
    }
   ],
   "source": [
    "dum = DummyRegressor(strategy='mean')\n",
    "dummy_reg = make_pipeline(preprocessor_a,\n",
    "                        dum)\n",
    "dummy_reg.fit(X_train, y1_train)\n",
    "Score(model=dummy_reg, X=X_test, y=y1_test)"
   ]
  },
  {
   "cell_type": "markdown",
   "metadata": {},
   "source": [
    "### Target 2"
   ]
  },
  {
   "cell_type": "code",
   "execution_count": 24,
   "metadata": {},
   "outputs": [
    {
     "name": "stdout",
     "output_type": "stream",
     "text": [
      "R² : -6.50766112275658e-05\n",
      "RMSE : 1.5824497087544938\n"
     ]
    }
   ],
   "source": [
    "dummy_reg.fit(X_train, y2_train)\n",
    "Score(model=dummy_reg, X=X_test, y=y2_test)"
   ]
  },
  {
   "cell_type": "markdown",
   "metadata": {},
   "source": [
    "## Regression linéaire"
   ]
  },
  {
   "cell_type": "markdown",
   "metadata": {},
   "source": [
    "### Target 1 sans EnergyStar Score (ESS)"
   ]
  },
  {
   "cell_type": "code",
   "execution_count": 25,
   "metadata": {},
   "outputs": [
    {
     "name": "stdout",
     "output_type": "stream",
     "text": [
      "R² : 0.5746287957809773\n",
      "RMSE : 1.0020685210514988\n"
     ]
    }
   ],
   "source": [
    "model_1_a = make_pipeline(preprocessor_a,\n",
    "                        LinearRegression())\n",
    "\n",
    "model_1_a.fit(X_train, y1_train)\n",
    "Score(model=model_1_a, X=X_test, y=y1_test)"
   ]
  },
  {
   "cell_type": "code",
   "execution_count": 26,
   "metadata": {},
   "outputs": [
    {
     "data": {
      "image/png": "[encoded data removed]",
      "text/plain": [
       "<Figure size 432x288 with 1 Axes>"
      ]
     },
     "metadata": {
      "needs_background": "light"
     },
     "output_type": "display_data"
    }
   ],
   "source": [
    "LearningCurvePlot(estimator=model_1_a, X=X_train, y=y1_train, scoring='r2', train_sizes=np.linspace(0.1, 1.0, 10))"
   ]
  },
  {
   "cell_type": "markdown",
   "metadata": {},
   "source": [
    "### Target 1 avec EnergyStar Score (ESS)"
   ]
  },
  {
   "cell_type": "code",
   "execution_count": 27,
   "metadata": {},
   "outputs": [],
   "source": [
    "model_1_b = make_pipeline(preprocessor_b,\n",
    "                        LinearRegression())"
   ]
  },
  {
   "cell_type": "code",
   "execution_count": 28,
   "metadata": {},
   "outputs": [
    {
     "name": "stdout",
     "output_type": "stream",
     "text": [
      "R² : 0.5982178726573081\n",
      "RMSE : 0.9738872564822783\n"
     ]
    }
   ],
   "source": [
    "model_1_b.fit(X_train_ess, y1_train)\n",
    "Score(model=model_1_b, X=X_test_ess, y=y1_test)"
   ]
  },
  {
   "cell_type": "code",
   "execution_count": 29,
   "metadata": {},
   "outputs": [
    {
     "data": {
      "image/png": "[encoded data removed]",
      "text/plain": [
       "<Figure size 432x288 with 1 Axes>"
      ]
     },
     "metadata": {
      "needs_background": "light"
     },
     "output_type": "display_data"
    }
   ],
   "source": [
    "LearningCurvePlot(estimator=model_1_b, X=X_train_ess, y=y1_train, scoring='r2', train_sizes=np.linspace(0.1, 1.0, 10))"
   ]
  },
  {
   "cell_type": "markdown",
   "metadata": {},
   "source": [
    "### Target 2 sans EnergyStar Score (ESS)"
   ]
  },
  {
   "cell_type": "code",
   "execution_count": 30,
   "metadata": {},
   "outputs": [
    {
     "name": "stdout",
     "output_type": "stream",
     "text": [
      "R² : 0.5852590408365652\n",
      "RMSE : 1.0190705470081267\n"
     ]
    }
   ],
   "source": [
    "model_1_c = make_pipeline(preprocessor_a,\n",
    "                        LinearRegression())\n",
    "\n",
    "model_1_c.fit(X_train, y2_train)\n",
    "Score(model=model_1_c, X=X_test, y=y2_test)"
   ]
  },
  {
   "cell_type": "code",
   "execution_count": 31,
   "metadata": {},
   "outputs": [
    {
     "data": {
      "image/png": "[encoded data removed]",
      "text/plain": [
       "<Figure size 432x288 with 1 Axes>"
      ]
     },
     "metadata": {
      "needs_background": "light"
     },
     "output_type": "display_data"
    }
   ],
   "source": [
    "LearningCurvePlot(estimator=model_1_c, X=X_train_ess, y=y2_train, scoring='r2', train_sizes=np.linspace(0.1, 1.0, 10))"
   ]
  },
  {
   "cell_type": "markdown",
   "metadata": {},
   "source": [
    "### Target 2 avec EnergyStar Score (ESS)"
   ]
  },
  {
   "cell_type": "code",
   "execution_count": 32,
   "metadata": {},
   "outputs": [
    {
     "name": "stdout",
     "output_type": "stream",
     "text": [
      "R² : 0.6136522172527565\n",
      "RMSE : 0.9835693756084735\n"
     ]
    }
   ],
   "source": [
    "model_1_d = make_pipeline(preprocessor_b,\n",
    "                        LinearRegression())\n",
    "model_1_d.fit(X_train_ess, y2_train)\n",
    "Score(model=model_1_d, X=X_test_ess, y=y2_test)"
   ]
  },
  {
   "cell_type": "code",
   "execution_count": 33,
   "metadata": {},
   "outputs": [
    {
     "data": {
      "image/png": "[encoded data removed]",
      "text/plain": [
       "<Figure size 432x288 with 1 Axes>"
      ]
     },
     "metadata": {
      "needs_background": "light"
     },
     "output_type": "display_data"
    }
   ],
   "source": [
    "LearningCurvePlot(estimator=model_1_d, X=X_train_ess, y=y2_train, scoring='r2', train_sizes=np.linspace(0.1, 1.0, 10))"
   ]
  },
  {
   "cell_type": "markdown",
   "metadata": {},
   "source": [
    "## Lasso"
   ]
  },
  {
   "cell_type": "code",
   "execution_count": 34,
   "metadata": {},
   "outputs": [],
   "source": [
    "model_2_a = make_pipeline(preprocessor_a,\n",
    "                        Lasso(random_state=0))"
   ]
  },
  {
   "cell_type": "markdown",
   "metadata": {},
   "source": [
    "### Target 1 sans EnergyStar Score (ESS)"
   ]
  },
  {
   "cell_type": "code",
   "execution_count": 35,
   "metadata": {},
   "outputs": [
    {
     "name": "stdout",
     "output_type": "stream",
     "text": [
      "R² : 0.5746422458444929\n",
      "RMSE : 1.0020526784278507\n"
     ]
    }
   ],
   "source": [
    "# valeurs du paramètre C\n",
    "alpha_range = np.logspace(-3, 3, 10)\n",
    "\n",
    "parametersGrid = {\"lasso__max_iter\": [10000],\n",
    "                  \"lasso__alpha\": alpha_range\n",
    "                 }\n",
    "\n",
    "grid_model_2_a = GridSearchCV(model_2_a, param_grid=parametersGrid, scoring='r2', cv=cv)\n",
    "\n",
    "grid_model_2_a.fit(X_train, y1_train)\n",
    "Score(model=grid_model_2_a, X=X_test, y=y1_test)"
   ]
  },
  {
   "cell_type": "code",
   "execution_count": 36,
   "metadata": {},
   "outputs": [
    {
     "data": {
      "image/png": "[encoded data removed]",
      "text/plain": [
       "<Figure size 432x288 with 1 Axes>"
      ]
     },
     "metadata": {
      "needs_background": "light"
     },
     "output_type": "display_data"
    }
   ],
   "source": [
    "model_2_a = grid_model_2_a.best_estimator_\n",
    "LearningCurvePlot(estimator=model_2_a, X=X_train, y=y1_train, scoring='r2', train_sizes=np.linspace(0.1, 1.0, 10))"
   ]
  },
  {
   "cell_type": "code",
   "execution_count": 37,
   "metadata": {},
   "outputs": [
    {
     "data": {
      "text/html": [
       "<div>\n",
       "<style scoped>\n",
       "    .dataframe tbody tr th:only-of-type {\n",
       "        vertical-align: middle;\n",
       "    }\n",
       "\n",
       "    .dataframe tbody tr th {\n",
       "        vertical-align: top;\n",
       "    }\n",
       "\n",
       "    .dataframe thead th {\n",
       "        text-align: right;\n",
       "    }\n",
       "</style>\n",
       "<table border=\"1\" class=\"dataframe\">\n",
       "  <thead>\n",
       "    <tr style=\"text-align: right;\">\n",
       "      <th></th>\n",
       "      <th>features</th>\n",
       "      <th>coefs</th>\n",
       "    </tr>\n",
       "  </thead>\n",
       "  <tbody>\n",
       "    <tr>\n",
       "      <th>10</th>\n",
       "      <td>NaturalGas(kBtu)_mean_property_type</td>\n",
       "      <td>1.527322</td>\n",
       "    </tr>\n",
       "    <tr>\n",
       "      <th>0</th>\n",
       "      <td>YearBuilt</td>\n",
       "      <td>0.824314</td>\n",
       "    </tr>\n",
       "    <tr>\n",
       "      <th>3</th>\n",
       "      <td>PropertyGFABuilding(s)</td>\n",
       "      <td>0.519850</td>\n",
       "    </tr>\n",
       "    <tr>\n",
       "      <th>11</th>\n",
       "      <td>ComplianceStatus_Compliant</td>\n",
       "      <td>0.116515</td>\n",
       "    </tr>\n",
       "    <tr>\n",
       "      <th>13</th>\n",
       "      <td>ComplianceStatus_Non-Compliant</td>\n",
       "      <td>0.058373</td>\n",
       "    </tr>\n",
       "    <tr>\n",
       "      <th>1</th>\n",
       "      <td>NumberofBuildings</td>\n",
       "      <td>0.057067</td>\n",
       "    </tr>\n",
       "    <tr>\n",
       "      <th>6</th>\n",
       "      <td>SourceEUI(kBtu/sf)_mean_property_type</td>\n",
       "      <td>0.028426</td>\n",
       "    </tr>\n",
       "    <tr>\n",
       "      <th>8</th>\n",
       "      <td>SteamUse(kBtu)_mean_property_type</td>\n",
       "      <td>0.004421</td>\n",
       "    </tr>\n",
       "    <tr>\n",
       "      <th>4</th>\n",
       "      <td>Latitude</td>\n",
       "      <td>0.000000</td>\n",
       "    </tr>\n",
       "    <tr>\n",
       "      <th>12</th>\n",
       "      <td>ComplianceStatus_Error - Correct Default Data</td>\n",
       "      <td>-0.013927</td>\n",
       "    </tr>\n",
       "    <tr>\n",
       "      <th>2</th>\n",
       "      <td>NumberofFloors</td>\n",
       "      <td>-0.041677</td>\n",
       "    </tr>\n",
       "    <tr>\n",
       "      <th>7</th>\n",
       "      <td>SiteEUI(kBtu/sf)_mean_property_type</td>\n",
       "      <td>-0.049575</td>\n",
       "    </tr>\n",
       "    <tr>\n",
       "      <th>9</th>\n",
       "      <td>Electricity(kBtu)_mean_property_type</td>\n",
       "      <td>-1.098427</td>\n",
       "    </tr>\n",
       "    <tr>\n",
       "      <th>5</th>\n",
       "      <td>Longitude</td>\n",
       "      <td>-1.189855</td>\n",
       "    </tr>\n",
       "  </tbody>\n",
       "</table>\n",
       "</div>"
      ],
      "text/plain": [
       "                                         features     coefs\n",
       "10            NaturalGas(kBtu)_mean_property_type  1.527322\n",
       "0                                       YearBuilt  0.824314\n",
       "3                          PropertyGFABuilding(s)  0.519850\n",
       "11                     ComplianceStatus_Compliant  0.116515\n",
       "13                 ComplianceStatus_Non-Compliant  0.058373\n",
       "1                               NumberofBuildings  0.057067\n",
       "6           SourceEUI(kBtu/sf)_mean_property_type  0.028426\n",
       "8               SteamUse(kBtu)_mean_property_type  0.004421\n",
       "4                                        Latitude  0.000000\n",
       "12  ComplianceStatus_Error - Correct Default Data -0.013927\n",
       "2                                  NumberofFloors -0.041677\n",
       "7             SiteEUI(kBtu/sf)_mean_property_type -0.049575\n",
       "9            Electricity(kBtu)_mean_property_type -1.098427\n",
       "5                                       Longitude -1.189855"
      ]
     },
     "execution_count": 37,
     "metadata": {},
     "output_type": "execute_result"
    }
   ],
   "source": [
    "# liste des coefficients associés aux features\n",
    "\n",
    "coef_lasso = model_2_a[1].coef_\n",
    "coef = pd.DataFrame({'features' : pd.get_dummies(X_train).columns, 'coefs' : coef_lasso})\n",
    "coef.sort_values('coefs', ascending=False)"
   ]
  },
  {
   "cell_type": "markdown",
   "metadata": {},
   "source": [
    "### Target 1 avec EnergyStar Score (ESS)"
   ]
  },
  {
   "cell_type": "code",
   "execution_count": 38,
   "metadata": {},
   "outputs": [],
   "source": [
    "model_2_b = make_pipeline(preprocessor_b,\n",
    "                        Lasso(random_state=0))"
   ]
  },
  {
   "cell_type": "code",
   "execution_count": 39,
   "metadata": {},
   "outputs": [
    {
     "name": "stdout",
     "output_type": "stream",
     "text": [
      "R² : 0.5978491677956881\n",
      "RMSE : 0.9743340093373897\n"
     ]
    }
   ],
   "source": [
    "# valeurs du paramètre C\n",
    "alpha_range = np.logspace(-3, 2, 10)\n",
    "\n",
    "parametersGrid = {\"lasso__max_iter\": [10000],\n",
    "                  \"lasso__alpha\": alpha_range\n",
    "                 }\n",
    "\n",
    "grid_model_2_b = GridSearchCV(model_2_b, param_grid=parametersGrid, scoring='r2', cv=cv)\n",
    "\n",
    "grid_model_2_b.fit(X_train_ess, y1_train)\n",
    "Score(model=grid_model_2_b, X=X_test_ess, y=y1_test)"
   ]
  },
  {
   "cell_type": "code",
   "execution_count": 40,
   "metadata": {},
   "outputs": [
    {
     "data": {
      "image/png": "[encoded data removed]",
      "text/plain": [
       "<Figure size 432x288 with 1 Axes>"
      ]
     },
     "metadata": {
      "needs_background": "light"
     },
     "output_type": "display_data"
    }
   ],
   "source": [
    "model_2_b = grid_model_2_b.best_estimator_\n",
    "LearningCurvePlot(estimator=model_2_b, X=X_train_ess, y=y1_train, scoring='r2', train_sizes=np.linspace(0.1, 1.0, 10))"
   ]
  },
  {
   "cell_type": "code",
   "execution_count": 41,
   "metadata": {},
   "outputs": [
    {
     "data": {
      "text/html": [
       "<div>\n",
       "<style scoped>\n",
       "    .dataframe tbody tr th:only-of-type {\n",
       "        vertical-align: middle;\n",
       "    }\n",
       "\n",
       "    .dataframe tbody tr th {\n",
       "        vertical-align: top;\n",
       "    }\n",
       "\n",
       "    .dataframe thead th {\n",
       "        text-align: right;\n",
       "    }\n",
       "</style>\n",
       "<table border=\"1\" class=\"dataframe\">\n",
       "  <thead>\n",
       "    <tr style=\"text-align: right;\">\n",
       "      <th></th>\n",
       "      <th>features</th>\n",
       "      <th>coefs</th>\n",
       "    </tr>\n",
       "  </thead>\n",
       "  <tbody>\n",
       "    <tr>\n",
       "      <th>11</th>\n",
       "      <td>NaturalGas(kBtu)_mean_property_type</td>\n",
       "      <td>1.480201</td>\n",
       "    </tr>\n",
       "    <tr>\n",
       "      <th>0</th>\n",
       "      <td>YearBuilt</td>\n",
       "      <td>0.839087</td>\n",
       "    </tr>\n",
       "    <tr>\n",
       "      <th>4</th>\n",
       "      <td>PropertyGFABuilding(s)</td>\n",
       "      <td>0.398562</td>\n",
       "    </tr>\n",
       "    <tr>\n",
       "      <th>12</th>\n",
       "      <td>ComplianceStatus_Compliant</td>\n",
       "      <td>0.132420</td>\n",
       "    </tr>\n",
       "    <tr>\n",
       "      <th>1</th>\n",
       "      <td>NumberofBuildings</td>\n",
       "      <td>0.059880</td>\n",
       "    </tr>\n",
       "    <tr>\n",
       "      <th>14</th>\n",
       "      <td>ComplianceStatus_Non-Compliant</td>\n",
       "      <td>0.043704</td>\n",
       "    </tr>\n",
       "    <tr>\n",
       "      <th>7</th>\n",
       "      <td>SourceEUI(kBtu/sf)_mean_property_type</td>\n",
       "      <td>0.012737</td>\n",
       "    </tr>\n",
       "    <tr>\n",
       "      <th>9</th>\n",
       "      <td>SteamUse(kBtu)_mean_property_type</td>\n",
       "      <td>0.012431</td>\n",
       "    </tr>\n",
       "    <tr>\n",
       "      <th>5</th>\n",
       "      <td>Latitude</td>\n",
       "      <td>0.000000</td>\n",
       "    </tr>\n",
       "    <tr>\n",
       "      <th>2</th>\n",
       "      <td>NumberofFloors</td>\n",
       "      <td>-0.024702</td>\n",
       "    </tr>\n",
       "    <tr>\n",
       "      <th>8</th>\n",
       "      <td>SiteEUI(kBtu/sf)_mean_property_type</td>\n",
       "      <td>-0.039495</td>\n",
       "    </tr>\n",
       "    <tr>\n",
       "      <th>13</th>\n",
       "      <td>ComplianceStatus_Error - Correct Default Data</td>\n",
       "      <td>-0.061848</td>\n",
       "    </tr>\n",
       "    <tr>\n",
       "      <th>3</th>\n",
       "      <td>ENERGYSTARScore</td>\n",
       "      <td>-0.213348</td>\n",
       "    </tr>\n",
       "    <tr>\n",
       "      <th>10</th>\n",
       "      <td>Electricity(kBtu)_mean_property_type</td>\n",
       "      <td>-1.017339</td>\n",
       "    </tr>\n",
       "    <tr>\n",
       "      <th>6</th>\n",
       "      <td>Longitude</td>\n",
       "      <td>-1.302714</td>\n",
       "    </tr>\n",
       "  </tbody>\n",
       "</table>\n",
       "</div>"
      ],
      "text/plain": [
       "                                         features     coefs\n",
       "11            NaturalGas(kBtu)_mean_property_type  1.480201\n",
       "0                                       YearBuilt  0.839087\n",
       "4                          PropertyGFABuilding(s)  0.398562\n",
       "12                     ComplianceStatus_Compliant  0.132420\n",
       "1                               NumberofBuildings  0.059880\n",
       "14                 ComplianceStatus_Non-Compliant  0.043704\n",
       "7           SourceEUI(kBtu/sf)_mean_property_type  0.012737\n",
       "9               SteamUse(kBtu)_mean_property_type  0.012431\n",
       "5                                        Latitude  0.000000\n",
       "2                                  NumberofFloors -0.024702\n",
       "8             SiteEUI(kBtu/sf)_mean_property_type -0.039495\n",
       "13  ComplianceStatus_Error - Correct Default Data -0.061848\n",
       "3                                 ENERGYSTARScore -0.213348\n",
       "10           Electricity(kBtu)_mean_property_type -1.017339\n",
       "6                                       Longitude -1.302714"
      ]
     },
     "execution_count": 41,
     "metadata": {},
     "output_type": "execute_result"
    }
   ],
   "source": [
    "# liste des coefficients associés aux features\n",
    "\n",
    "coef_lasso = model_2_b[1].coef_\n",
    "coef = pd.DataFrame({'features' : pd.get_dummies(X_train_ess).columns, 'coefs' : coef_lasso})\n",
    "coef.sort_values('coefs', ascending=False)"
   ]
  },
  {
   "cell_type": "markdown",
   "metadata": {},
   "source": [
    "### Target 2 sans EnergyStar Score (ESS)"
   ]
  },
  {
   "cell_type": "code",
   "execution_count": 42,
   "metadata": {},
   "outputs": [
    {
     "name": "stdout",
     "output_type": "stream",
     "text": [
      "R² : 0.5776120995868316\n",
      "RMSE : 1.0284223837078443\n"
     ]
    }
   ],
   "source": [
    "# valeurs du paramètre C\n",
    "alpha_range = np.logspace(-3, 1, 12)\n",
    "\n",
    "parametersGrid = {\"lasso__max_iter\": [10000],\n",
    "                  \"lasso__alpha\": alpha_range\n",
    "                 }\n",
    "\n",
    "grid_model_2_c = GridSearchCV(model_2_a, param_grid=parametersGrid, scoring='r2', cv=cv)\n",
    "\n",
    "grid_model_2_c.fit(X_train, y2_train)\n",
    "Score(model=grid_model_2_c, X=X_test, y=y2_test)"
   ]
  },
  {
   "cell_type": "code",
   "execution_count": 43,
   "metadata": {},
   "outputs": [
    {
     "data": {
      "image/png": "[encoded data removed]",
      "text/plain": [
       "<Figure size 432x288 with 1 Axes>"
      ]
     },
     "metadata": {
      "needs_background": "light"
     },
     "output_type": "display_data"
    }
   ],
   "source": [
    "model_2_c = grid_model_2_c.best_estimator_\n",
    "LearningCurvePlot(estimator=model_2_c, X=X_train, y=y2_train, scoring='r2', train_sizes=np.linspace(0.1, 1.0, 10))"
   ]
  },
  {
   "cell_type": "code",
   "execution_count": 44,
   "metadata": {},
   "outputs": [
    {
     "data": {
      "text/html": [
       "<div>\n",
       "<style scoped>\n",
       "    .dataframe tbody tr th:only-of-type {\n",
       "        vertical-align: middle;\n",
       "    }\n",
       "\n",
       "    .dataframe tbody tr th {\n",
       "        vertical-align: top;\n",
       "    }\n",
       "\n",
       "    .dataframe thead th {\n",
       "        text-align: right;\n",
       "    }\n",
       "</style>\n",
       "<table border=\"1\" class=\"dataframe\">\n",
       "  <thead>\n",
       "    <tr style=\"text-align: right;\">\n",
       "      <th></th>\n",
       "      <th>features</th>\n",
       "      <th>coefs</th>\n",
       "    </tr>\n",
       "  </thead>\n",
       "  <tbody>\n",
       "    <tr>\n",
       "      <th>0</th>\n",
       "      <td>YearBuilt</td>\n",
       "      <td>0.850800</td>\n",
       "    </tr>\n",
       "    <tr>\n",
       "      <th>3</th>\n",
       "      <td>PropertyGFABuilding(s)</td>\n",
       "      <td>0.553800</td>\n",
       "    </tr>\n",
       "    <tr>\n",
       "      <th>10</th>\n",
       "      <td>NaturalGas(kBtu)_mean_property_type</td>\n",
       "      <td>0.502111</td>\n",
       "    </tr>\n",
       "    <tr>\n",
       "      <th>6</th>\n",
       "      <td>SourceEUI(kBtu/sf)_mean_property_type</td>\n",
       "      <td>0.117584</td>\n",
       "    </tr>\n",
       "    <tr>\n",
       "      <th>1</th>\n",
       "      <td>NumberofBuildings</td>\n",
       "      <td>0.041505</td>\n",
       "    </tr>\n",
       "    <tr>\n",
       "      <th>2</th>\n",
       "      <td>NumberofFloors</td>\n",
       "      <td>0.038806</td>\n",
       "    </tr>\n",
       "    <tr>\n",
       "      <th>11</th>\n",
       "      <td>ComplianceStatus_Compliant</td>\n",
       "      <td>0.023170</td>\n",
       "    </tr>\n",
       "    <tr>\n",
       "      <th>13</th>\n",
       "      <td>ComplianceStatus_Non-Compliant</td>\n",
       "      <td>0.003975</td>\n",
       "    </tr>\n",
       "    <tr>\n",
       "      <th>8</th>\n",
       "      <td>SteamUse(kBtu)_mean_property_type</td>\n",
       "      <td>0.000224</td>\n",
       "    </tr>\n",
       "    <tr>\n",
       "      <th>4</th>\n",
       "      <td>Latitude</td>\n",
       "      <td>-0.000000</td>\n",
       "    </tr>\n",
       "    <tr>\n",
       "      <th>9</th>\n",
       "      <td>Electricity(kBtu)_mean_property_type</td>\n",
       "      <td>0.000000</td>\n",
       "    </tr>\n",
       "    <tr>\n",
       "      <th>7</th>\n",
       "      <td>SiteEUI(kBtu/sf)_mean_property_type</td>\n",
       "      <td>-0.024896</td>\n",
       "    </tr>\n",
       "    <tr>\n",
       "      <th>12</th>\n",
       "      <td>ComplianceStatus_Error - Correct Default Data</td>\n",
       "      <td>-0.032265</td>\n",
       "    </tr>\n",
       "    <tr>\n",
       "      <th>5</th>\n",
       "      <td>Longitude</td>\n",
       "      <td>-0.834754</td>\n",
       "    </tr>\n",
       "  </tbody>\n",
       "</table>\n",
       "</div>"
      ],
      "text/plain": [
       "                                         features     coefs\n",
       "0                                       YearBuilt  0.850800\n",
       "3                          PropertyGFABuilding(s)  0.553800\n",
       "10            NaturalGas(kBtu)_mean_property_type  0.502111\n",
       "6           SourceEUI(kBtu/sf)_mean_property_type  0.117584\n",
       "1                               NumberofBuildings  0.041505\n",
       "2                                  NumberofFloors  0.038806\n",
       "11                     ComplianceStatus_Compliant  0.023170\n",
       "13                 ComplianceStatus_Non-Compliant  0.003975\n",
       "8               SteamUse(kBtu)_mean_property_type  0.000224\n",
       "4                                        Latitude -0.000000\n",
       "9            Electricity(kBtu)_mean_property_type  0.000000\n",
       "7             SiteEUI(kBtu/sf)_mean_property_type -0.024896\n",
       "12  ComplianceStatus_Error - Correct Default Data -0.032265\n",
       "5                                       Longitude -0.834754"
      ]
     },
     "execution_count": 44,
     "metadata": {},
     "output_type": "execute_result"
    }
   ],
   "source": [
    "coef_lasso = model_2_c[1].coef_\n",
    "coef = pd.DataFrame({'features' : pd.get_dummies(X_train).columns, 'coefs' : coef_lasso})\n",
    "coef.sort_values('coefs', ascending=False)"
   ]
  },
  {
   "cell_type": "markdown",
   "metadata": {},
   "source": [
    "### Target 2 avec EnergyStar Score (ESS)"
   ]
  },
  {
   "cell_type": "code",
   "execution_count": 45,
   "metadata": {},
   "outputs": [
    {
     "name": "stdout",
     "output_type": "stream",
     "text": [
      "R² : 0.6034862457580314\n",
      "RMSE : 0.9964256861015827\n"
     ]
    }
   ],
   "source": [
    "# valeurs du paramètre C\n",
    "alpha_range = np.logspace(-3, 2, 5)\n",
    "\n",
    "parametersGrid = {\"lasso__max_iter\": [10000],\n",
    "                  \"lasso__alpha\": alpha_range\n",
    "                 }\n",
    "\n",
    "grid_model_2_d = GridSearchCV(model_2_b, param_grid=parametersGrid, scoring='r2', cv=cv)\n",
    "\n",
    "grid_model_2_d.fit(X_train_ess, y2_train)\n",
    "Score(model=grid_model_2_d, X=X_test_ess, y=y2_test)"
   ]
  },
  {
   "cell_type": "code",
   "execution_count": 46,
   "metadata": {},
   "outputs": [
    {
     "data": {
      "image/png": "[encoded data removed]",
      "text/plain": [
       "<Figure size 432x288 with 1 Axes>"
      ]
     },
     "metadata": {
      "needs_background": "light"
     },
     "output_type": "display_data"
    }
   ],
   "source": [
    "model_2_d = grid_model_2_d.best_estimator_\n",
    "LearningCurvePlot(estimator=model_2_d, X=X_train_ess, y=y2_train, scoring='r2', train_sizes=np.linspace(0.1, 1.0, 10))"
   ]
  },
  {
   "cell_type": "code",
   "execution_count": 47,
   "metadata": {},
   "outputs": [
    {
     "data": {
      "text/html": [
       "<div>\n",
       "<style scoped>\n",
       "    .dataframe tbody tr th:only-of-type {\n",
       "        vertical-align: middle;\n",
       "    }\n",
       "\n",
       "    .dataframe tbody tr th {\n",
       "        vertical-align: top;\n",
       "    }\n",
       "\n",
       "    .dataframe thead th {\n",
       "        text-align: right;\n",
       "    }\n",
       "</style>\n",
       "<table border=\"1\" class=\"dataframe\">\n",
       "  <thead>\n",
       "    <tr style=\"text-align: right;\">\n",
       "      <th></th>\n",
       "      <th>features</th>\n",
       "      <th>coefs</th>\n",
       "    </tr>\n",
       "  </thead>\n",
       "  <tbody>\n",
       "    <tr>\n",
       "      <th>0</th>\n",
       "      <td>YearBuilt</td>\n",
       "      <td>0.868873</td>\n",
       "    </tr>\n",
       "    <tr>\n",
       "      <th>11</th>\n",
       "      <td>NaturalGas(kBtu)_mean_property_type</td>\n",
       "      <td>0.539658</td>\n",
       "    </tr>\n",
       "    <tr>\n",
       "      <th>4</th>\n",
       "      <td>PropertyGFABuilding(s)</td>\n",
       "      <td>0.405584</td>\n",
       "    </tr>\n",
       "    <tr>\n",
       "      <th>7</th>\n",
       "      <td>SourceEUI(kBtu/sf)_mean_property_type</td>\n",
       "      <td>0.099633</td>\n",
       "    </tr>\n",
       "    <tr>\n",
       "      <th>2</th>\n",
       "      <td>NumberofFloors</td>\n",
       "      <td>0.059308</td>\n",
       "    </tr>\n",
       "    <tr>\n",
       "      <th>1</th>\n",
       "      <td>NumberofBuildings</td>\n",
       "      <td>0.046572</td>\n",
       "    </tr>\n",
       "    <tr>\n",
       "      <th>12</th>\n",
       "      <td>ComplianceStatus_Compliant</td>\n",
       "      <td>0.043005</td>\n",
       "    </tr>\n",
       "    <tr>\n",
       "      <th>9</th>\n",
       "      <td>SteamUse(kBtu)_mean_property_type</td>\n",
       "      <td>0.010477</td>\n",
       "    </tr>\n",
       "    <tr>\n",
       "      <th>5</th>\n",
       "      <td>Latitude</td>\n",
       "      <td>0.000000</td>\n",
       "    </tr>\n",
       "    <tr>\n",
       "      <th>10</th>\n",
       "      <td>Electricity(kBtu)_mean_property_type</td>\n",
       "      <td>0.000000</td>\n",
       "    </tr>\n",
       "    <tr>\n",
       "      <th>8</th>\n",
       "      <td>SiteEUI(kBtu/sf)_mean_property_type</td>\n",
       "      <td>-0.016400</td>\n",
       "    </tr>\n",
       "    <tr>\n",
       "      <th>14</th>\n",
       "      <td>ComplianceStatus_Non-Compliant</td>\n",
       "      <td>-0.027536</td>\n",
       "    </tr>\n",
       "    <tr>\n",
       "      <th>13</th>\n",
       "      <td>ComplianceStatus_Error - Correct Default Data</td>\n",
       "      <td>-0.081469</td>\n",
       "    </tr>\n",
       "    <tr>\n",
       "      <th>3</th>\n",
       "      <td>ENERGYSTARScore</td>\n",
       "      <td>-0.247188</td>\n",
       "    </tr>\n",
       "    <tr>\n",
       "      <th>6</th>\n",
       "      <td>Longitude</td>\n",
       "      <td>-1.126355</td>\n",
       "    </tr>\n",
       "  </tbody>\n",
       "</table>\n",
       "</div>"
      ],
      "text/plain": [
       "                                         features     coefs\n",
       "0                                       YearBuilt  0.868873\n",
       "11            NaturalGas(kBtu)_mean_property_type  0.539658\n",
       "4                          PropertyGFABuilding(s)  0.405584\n",
       "7           SourceEUI(kBtu/sf)_mean_property_type  0.099633\n",
       "2                                  NumberofFloors  0.059308\n",
       "1                               NumberofBuildings  0.046572\n",
       "12                     ComplianceStatus_Compliant  0.043005\n",
       "9               SteamUse(kBtu)_mean_property_type  0.010477\n",
       "5                                        Latitude  0.000000\n",
       "10           Electricity(kBtu)_mean_property_type  0.000000\n",
       "8             SiteEUI(kBtu/sf)_mean_property_type -0.016400\n",
       "14                 ComplianceStatus_Non-Compliant -0.027536\n",
       "13  ComplianceStatus_Error - Correct Default Data -0.081469\n",
       "3                                 ENERGYSTARScore -0.247188\n",
       "6                                       Longitude -1.126355"
      ]
     },
     "execution_count": 47,
     "metadata": {},
     "output_type": "execute_result"
    }
   ],
   "source": [
    "coef_lasso_ess = model_2_d[1].coef_\n",
    "coef = pd.DataFrame({'features' : pd.get_dummies(X_train_ess).columns, 'coefs' : coef_lasso_ess})\n",
    "coef.sort_values('coefs', ascending=False)"
   ]
  },
  {
   "cell_type": "markdown",
   "metadata": {},
   "source": [
    "## Random Forest"
   ]
  },
  {
   "cell_type": "code",
   "execution_count": 48,
   "metadata": {},
   "outputs": [],
   "source": [
    "from sklearn.ensemble import RandomForestRegressor\n",
    "from sklearn.model_selection import RandomizedSearchCV"
   ]
  },
  {
   "cell_type": "code",
   "execution_count": 49,
   "metadata": {},
   "outputs": [],
   "source": [
    "rf = RandomForestRegressor(random_state = 42)\n",
    "model_3_ess = make_pipeline(preprocessor_b,\n",
    "                        rf)\n",
    "model_3 = make_pipeline(preprocessor_a,\n",
    "                        rf)"
   ]
  },
  {
   "cell_type": "markdown",
   "metadata": {},
   "source": [
    "### Target 1 sans EnergyStar Score (ESS)"
   ]
  },
  {
   "cell_type": "code",
   "execution_count": 50,
   "metadata": {},
   "outputs": [
    {
     "name": "stdout",
     "output_type": "stream",
     "text": [
      "R² : 0.5396440981921758\n",
      "RMSE : 1.042462001745812\n"
     ]
    }
   ],
   "source": [
    "model_3.fit(X_train, y1_train)\n",
    "Score(model=model_3, X=X_test, y=y1_test, save=0)"
   ]
  },
  {
   "cell_type": "code",
   "execution_count": 51,
   "metadata": {},
   "outputs": [],
   "source": [
    "# Nombre d'arbres\n",
    "n_estimators = [int(x) for x in np.linspace(start = 200, stop = 2000, num = 10)]\n",
    "\n",
    "# Nombre de features à considérer à chaque split\n",
    "max_features = ['auto', 'sqrt']\n",
    "\n",
    "# Nombre maximum de niveau par arbre\n",
    "max_depth = [int(x) for x in np.linspace(10, 110, num = 11)]\n",
    "max_depth.append(None)\n",
    "\n",
    "# Nombre minimum de données pour split un noeud\n",
    "min_samples_split = [2, 5, 10]\n",
    "\n",
    "# Nombre minimum de données par feuille\n",
    "min_samples_leaf = [1, 2, 4]\n",
    "\n",
    "# # Méthode de sélection d'échantillons de chaque arbre\n",
    "bootstrap = [True, False]\n",
    "\n",
    "# Random grid\n",
    "random_grid = {'randomforestregressor__n_estimators': n_estimators,\n",
    "               'randomforestregressor__max_features': max_features,\n",
    "               'randomforestregressor__max_depth': max_depth,\n",
    "               'randomforestregressor__min_samples_split': min_samples_split,\n",
    "               'randomforestregressor__min_samples_leaf': min_samples_leaf,\n",
    "               'randomforestregressor__bootstrap': bootstrap}\n",
    "\n",
    "rf_random_a = RandomizedSearchCV(estimator = model_3, param_distributions = random_grid, n_iter = 100, cv =cv, verbose=2, random_state=42, n_jobs = -1)"
   ]
  },
  {
   "cell_type": "code",
   "execution_count": 52,
   "metadata": {},
   "outputs": [
    {
     "name": "stdout",
     "output_type": "stream",
     "text": [
      "Fitting 5 folds for each of 100 candidates, totalling 500 fits\n"
     ]
    },
    {
     "name": "stderr",
     "output_type": "stream",
     "text": [
      "[Parallel(n_jobs=-1)]: Using backend LokyBackend with 8 concurrent workers.\n",
      "[Parallel(n_jobs=-1)]: Done  25 tasks      | elapsed:   20.7s\n",
      "[Parallel(n_jobs=-1)]: Done 146 tasks      | elapsed:  1.8min\n",
      "[Parallel(n_jobs=-1)]: Done 349 tasks      | elapsed:  4.1min\n",
      "[Parallel(n_jobs=-1)]: Done 500 out of 500 | elapsed:  5.4min finished\n"
     ]
    },
    {
     "name": "stdout",
     "output_type": "stream",
     "text": [
      "R² : 0.5569666397572554\n",
      "RMSE : 1.0226607570172332\n",
      "Wall time: 5min 30s\n"
     ]
    }
   ],
   "source": [
    "%%time\n",
    "rf_random_a.fit(X_train, y1_train)\n",
    "Score(model=rf_random_a, X=X_test, y=y1_test)"
   ]
  },
  {
   "cell_type": "code",
   "execution_count": 53,
   "metadata": {},
   "outputs": [
    {
     "data": {
      "image/png": "[encoded data removed]",
      "text/plain": [
       "<Figure size 432x288 with 1 Axes>"
      ]
     },
     "metadata": {
      "needs_background": "light"
     },
     "output_type": "display_data"
    }
   ],
   "source": [
    "rfr = rf_random_a.best_estimator_\n",
    "LearningCurvePlot(estimator=rfr, X=X_train, y=y1_train, scoring='r2', train_sizes=np.linspace(0.1, 1.0, 10))"
   ]
  },
  {
   "cell_type": "code",
   "execution_count": 54,
   "metadata": {},
   "outputs": [
    {
     "data": {
      "image/png": "[encoded data removed]",
      "text/plain": [
       "<Figure size 504x576 with 1 Axes>"
      ]
     },
     "metadata": {
      "needs_background": "light"
     },
     "output_type": "display_data"
    }
   ],
   "source": [
    "FeatureImportance(data=X_train, model=rfr[1])"
   ]
  },
  {
   "cell_type": "markdown",
   "metadata": {},
   "source": [
    "### Target 1 avec EnergyStar Score (ESS)"
   ]
  },
  {
   "cell_type": "code",
   "execution_count": 55,
   "metadata": {},
   "outputs": [
    {
     "name": "stdout",
     "output_type": "stream",
     "text": [
      "Fitting 5 folds for each of 100 candidates, totalling 500 fits\n"
     ]
    },
    {
     "name": "stderr",
     "output_type": "stream",
     "text": [
      "[Parallel(n_jobs=-1)]: Using backend LokyBackend with 8 concurrent workers.\n",
      "[Parallel(n_jobs=-1)]: Done  25 tasks      | elapsed:   19.0s\n",
      "[Parallel(n_jobs=-1)]: Done 146 tasks      | elapsed:  1.9min\n",
      "[Parallel(n_jobs=-1)]: Done 349 tasks      | elapsed:  4.1min\n",
      "[Parallel(n_jobs=-1)]: Done 500 out of 500 | elapsed:  5.5min finished\n"
     ]
    },
    {
     "name": "stdout",
     "output_type": "stream",
     "text": [
      "R² : 0.5804802564281637\n",
      "RMSE : 0.995152362477313\n",
      "Wall time: 5min 33s\n"
     ]
    }
   ],
   "source": [
    "%%time\n",
    "rf_random_b = RandomizedSearchCV(estimator = model_3_ess, param_distributions = random_grid, n_iter = 100, cv =cv, verbose=2, random_state=42, n_jobs = -1)\n",
    "rf_random_b.fit(X_train_ess, y1_train)\n",
    "Score(model=rf_random_b, X=X_test_ess, y=y1_test)"
   ]
  },
  {
   "cell_type": "code",
   "execution_count": 56,
   "metadata": {},
   "outputs": [
    {
     "data": {
      "image/png": "[encoded data removed]",
      "text/plain": [
       "<Figure size 432x288 with 1 Axes>"
      ]
     },
     "metadata": {
      "needs_background": "light"
     },
     "output_type": "display_data"
    }
   ],
   "source": [
    "rfr = rf_random_b.best_estimator_\n",
    "LearningCurvePlot(estimator=rfr, X=X_train_ess, y=y1_train, scoring='r2', train_sizes=np.linspace(0.1, 1.0, 10))"
   ]
  },
  {
   "cell_type": "code",
   "execution_count": 57,
   "metadata": {},
   "outputs": [
    {
     "data": {
      "image/png": "[encoded data removed]",
      "text/plain": [
       "<Figure size 504x576 with 1 Axes>"
      ]
     },
     "metadata": {
      "needs_background": "light"
     },
     "output_type": "display_data"
    }
   ],
   "source": [
    "FeatureImportance(data=X_train_ess, model=rfr[1])"
   ]
  },
  {
   "cell_type": "markdown",
   "metadata": {},
   "source": [
    "### Target 2 sans EnergyStar Score (ESS)"
   ]
  },
  {
   "cell_type": "code",
   "execution_count": 58,
   "metadata": {},
   "outputs": [
    {
     "name": "stdout",
     "output_type": "stream",
     "text": [
      "Fitting 5 folds for each of 100 candidates, totalling 500 fits\n"
     ]
    },
    {
     "name": "stderr",
     "output_type": "stream",
     "text": [
      "[Parallel(n_jobs=-1)]: Using backend LokyBackend with 8 concurrent workers.\n",
      "[Parallel(n_jobs=-1)]: Done  25 tasks      | elapsed:   18.3s\n",
      "[Parallel(n_jobs=-1)]: Done 146 tasks      | elapsed:  1.8min\n",
      "[Parallel(n_jobs=-1)]: Done 349 tasks      | elapsed:  4.1min\n",
      "[Parallel(n_jobs=-1)]: Done 500 out of 500 | elapsed:  5.6min finished\n"
     ]
    },
    {
     "name": "stdout",
     "output_type": "stream",
     "text": [
      "R² : 0.5744225804505395\n",
      "RMSE : 1.032297972782435\n",
      "Wall time: 5min 34s\n"
     ]
    }
   ],
   "source": [
    "%%time\n",
    "rf_random_c = RandomizedSearchCV(estimator = model_3, param_distributions = random_grid, n_iter = 100, cv =cv, verbose=2, random_state=42, n_jobs = -1)\n",
    "rf_random_c.fit(X_train, y2_train)\n",
    "Score(model=rf_random_c, X=X_test, y=y2_test)"
   ]
  },
  {
   "cell_type": "code",
   "execution_count": 59,
   "metadata": {},
   "outputs": [
    {
     "data": {
      "image/png": "[encoded data removed]",
      "text/plain": [
       "<Figure size 432x288 with 1 Axes>"
      ]
     },
     "metadata": {
      "needs_background": "light"
     },
     "output_type": "display_data"
    }
   ],
   "source": [
    "rfr = rf_random_c.best_estimator_\n",
    "LearningCurvePlot(estimator=rfr, X=X_train, y=y2_train, scoring='r2', train_sizes=np.linspace(0.1, 1.0, 10))"
   ]
  },
  {
   "cell_type": "code",
   "execution_count": 60,
   "metadata": {},
   "outputs": [
    {
     "data": {
      "image/png": "[encoded data removed]",
      "text/plain": [
       "<Figure size 504x576 with 1 Axes>"
      ]
     },
     "metadata": {
      "needs_background": "light"
     },
     "output_type": "display_data"
    }
   ],
   "source": [
    "FeatureImportance(data=X_train, model=rfr[1])"
   ]
  },
  {
   "cell_type": "markdown",
   "metadata": {},
   "source": [
    "### Target 2 avec EnergyStar Score (ESS)"
   ]
  },
  {
   "cell_type": "code",
   "execution_count": 61,
   "metadata": {},
   "outputs": [
    {
     "name": "stdout",
     "output_type": "stream",
     "text": [
      "Fitting 5 folds for each of 100 candidates, totalling 500 fits\n"
     ]
    },
    {
     "name": "stderr",
     "output_type": "stream",
     "text": [
      "[Parallel(n_jobs=-1)]: Using backend LokyBackend with 8 concurrent workers.\n",
      "[Parallel(n_jobs=-1)]: Done  25 tasks      | elapsed:   17.9s\n",
      "[Parallel(n_jobs=-1)]: Done 146 tasks      | elapsed:  1.9min\n",
      "[Parallel(n_jobs=-1)]: Done 349 tasks      | elapsed:  4.3min\n",
      "[Parallel(n_jobs=-1)]: Done 500 out of 500 | elapsed:  5.9min finished\n"
     ]
    },
    {
     "name": "stdout",
     "output_type": "stream",
     "text": [
      "R² : 0.6075182945995468\n",
      "RMSE : 0.9913465396180746\n",
      "Wall time: 5min 56s\n"
     ]
    }
   ],
   "source": [
    "%%time\n",
    "rf_random_d = RandomizedSearchCV(estimator = model_3_ess, param_distributions = random_grid, n_iter = 100, cv =cv, verbose=2, random_state=42, n_jobs = -1)\n",
    "rf_random_d.fit(X_train_ess, y2_train)\n",
    "Score(model=rf_random_d, X=X_test_ess, y=y2_test)"
   ]
  },
  {
   "cell_type": "code",
   "execution_count": 62,
   "metadata": {},
   "outputs": [
    {
     "data": {
      "image/png": "[encoded data removed]",
      "text/plain": [
       "<Figure size 432x288 with 1 Axes>"
      ]
     },
     "metadata": {
      "needs_background": "light"
     },
     "output_type": "display_data"
    }
   ],
   "source": [
    "rfr = rf_random_d.best_estimator_\n",
    "LearningCurvePlot(estimator=rfr, X=X_train_ess, y=y2_train, scoring='r2', train_sizes=np.linspace(0.1, 1.0, 10))"
   ]
  },
  {
   "cell_type": "code",
   "execution_count": 63,
   "metadata": {},
   "outputs": [
    {
     "data": {
      "image/png": "[encoded data removed]",
      "text/plain": [
       "<Figure size 504x576 with 1 Axes>"
      ]
     },
     "metadata": {
      "needs_background": "light"
     },
     "output_type": "display_data"
    }
   ],
   "source": [
    "FeatureImportance(data=X_train_ess, model=rfr[1])"
   ]
  },
  {
   "cell_type": "markdown",
   "metadata": {},
   "source": [
    "## Gradient Boosting"
   ]
  },
  {
   "cell_type": "code",
   "execution_count": 64,
   "metadata": {},
   "outputs": [],
   "source": [
    "from sklearn.ensemble import GradientBoostingRegressor"
   ]
  },
  {
   "cell_type": "markdown",
   "metadata": {},
   "source": [
    "### Target 1 sans EnergyStar Score (ESS)"
   ]
  },
  {
   "cell_type": "code",
   "execution_count": 65,
   "metadata": {},
   "outputs": [],
   "source": [
    "gbr = GradientBoostingRegressor(random_state=15)"
   ]
  },
  {
   "cell_type": "markdown",
   "metadata": {},
   "source": [
    "#### Sans paramétrage"
   ]
  },
  {
   "cell_type": "code",
   "execution_count": 66,
   "metadata": {},
   "outputs": [],
   "source": [
    "model_4 = make_pipeline(preprocessor_a,\n",
    "                        gbr)"
   ]
  },
  {
   "cell_type": "code",
   "execution_count": 67,
   "metadata": {},
   "outputs": [
    {
     "data": {
      "text/plain": [
       "Pipeline(steps=[('columntransformer',\n",
       "                 ColumnTransformer(transformers=[('pipeline-1',\n",
       "                                                  Pipeline(steps=[('functiontransformer',\n",
       "                                                                   FunctionTransformer(func=<ufunc 'log1p'>)),\n",
       "                                                                  ('standardscaler',\n",
       "                                                                   StandardScaler())]),\n",
       "                                                  ['PropertyGFABuilding(s)',\n",
       "                                                   'NumberofBuildings',\n",
       "                                                   'NumberofFloors']),\n",
       "                                                 ('pipeline-2',\n",
       "                                                  Pipeline(steps=[('onehotencoder',\n",
       "                                                                   OneHotEncoder(handle_unknown='ignore...\n",
       "                                                  Pipeline(steps=[('standardscaler',\n",
       "                                                                   StandardScaler())]),\n",
       "                                                  ['YearBuilt', 'Latitude',\n",
       "                                                   'Longitude',\n",
       "                                                   'SourceEUI(kBtu/sf)_mean_property_type',\n",
       "                                                   'SiteEUI(kBtu/sf)_mean_property_type',\n",
       "                                                   'SteamUse(kBtu)_mean_property_type',\n",
       "                                                   'Electricity(kBtu)_mean_property_type',\n",
       "                                                   'NaturalGas(kBtu)_mean_property_type'])])),\n",
       "                ('gradientboostingregressor',\n",
       "                 GradientBoostingRegressor(random_state=15))])"
      ]
     },
     "execution_count": 67,
     "metadata": {},
     "output_type": "execute_result"
    }
   ],
   "source": [
    "model_4.fit(X_train, y1_train)"
   ]
  },
  {
   "cell_type": "code",
   "execution_count": 68,
   "metadata": {},
   "outputs": [
    {
     "name": "stdout",
     "output_type": "stream",
     "text": [
      "R² : 0.5897714361789036\n",
      "RMSE : 0.984070752523288\n"
     ]
    }
   ],
   "source": [
    "Score(model=model_4, X=X_test, y=y1_test, save=0)"
   ]
  },
  {
   "cell_type": "markdown",
   "metadata": {},
   "source": [
    "#### Avec paramétrage"
   ]
  },
  {
   "cell_type": "code",
   "execution_count": 69,
   "metadata": {},
   "outputs": [
    {
     "name": "stdout",
     "output_type": "stream",
     "text": [
      "Wall time: 6.2 s\n"
     ]
    },
    {
     "data": {
      "text/plain": [
       "({'gradientboostingregressor__learning_rate': 0.1,\n",
       "  'gradientboostingregressor__max_depth': 3,\n",
       "  'gradientboostingregressor__max_features': 'sqrt',\n",
       "  'gradientboostingregressor__min_samples_leaf': 1,\n",
       "  'gradientboostingregressor__min_samples_split': 2,\n",
       "  'gradientboostingregressor__n_estimators': 145,\n",
       "  'gradientboostingregressor__random_state': 15,\n",
       "  'gradientboostingregressor__subsample': 0.8},\n",
       " 0.5181502804741227)"
      ]
     },
     "execution_count": 69,
     "metadata": {},
     "output_type": "execute_result"
    }
   ],
   "source": [
    "%%time\n",
    "param_test1 = {'gradientboostingregressor__n_estimators': range(10,150,5),\n",
    "               'gradientboostingregressor__learning_rate': [0.1],\n",
    "               'gradientboostingregressor__min_samples_split': [2],\n",
    "               'gradientboostingregressor__min_samples_leaf': [1],               \n",
    "               'gradientboostingregressor__max_depth' : [3],\n",
    "               'gradientboostingregressor__max_features': ['sqrt','auto'],\n",
    "               'gradientboostingregressor__subsample' : [0.8],\n",
    "               'gradientboostingregressor__random_state' : [15]               \n",
    "              }\n",
    "gsearch1 = GridSearchCV(estimator = model_4, param_grid = param_test1, cv =cv, verbose=0, scoring='r2', n_jobs = -1)\n",
    "gsearch1.fit(X_train, y1_train)\n",
    "gsearch1.best_params_, gsearch1.best_score_"
   ]
  },
  {
   "cell_type": "code",
   "execution_count": 70,
   "metadata": {},
   "outputs": [
    {
     "name": "stdout",
     "output_type": "stream",
     "text": [
      "Wall time: 2min 4s\n"
     ]
    },
    {
     "data": {
      "text/plain": [
       "({'gradientboostingregressor__learning_rate': 0.1,\n",
       "  'gradientboostingregressor__max_depth': 3,\n",
       "  'gradientboostingregressor__max_features': 'sqrt',\n",
       "  'gradientboostingregressor__min_samples_leaf': 7,\n",
       "  'gradientboostingregressor__min_samples_split': 24,\n",
       "  'gradientboostingregressor__n_estimators': 145,\n",
       "  'gradientboostingregressor__random_state': 15,\n",
       "  'gradientboostingregressor__subsample': 0.8},\n",
       " 0.5247727366964096)"
      ]
     },
     "execution_count": 70,
     "metadata": {},
     "output_type": "execute_result"
    }
   ],
   "source": [
    "%%time\n",
    "param_test1 = {'gradientboostingregressor__n_estimators': [145],\n",
    "               'gradientboostingregressor__learning_rate': [0.1],\n",
    "               'gradientboostingregressor__min_samples_split': range(2,40,2),\n",
    "               'gradientboostingregressor__min_samples_leaf': range(1,10,1),               \n",
    "               'gradientboostingregressor__max_depth' : range(2,8,1),\n",
    "               'gradientboostingregressor__max_features': ['sqrt'],\n",
    "               'gradientboostingregressor__subsample' : [0.8],\n",
    "               'gradientboostingregressor__random_state' : [15]               \n",
    "              }\n",
    "gsearch1 = GridSearchCV(estimator = model_4, param_grid = param_test1, cv =cv, verbose=0, scoring='r2', n_jobs = -1)\n",
    "gsearch1.fit(X_train, y1_train)\n",
    "gsearch1.best_params_, gsearch1.best_score_"
   ]
  },
  {
   "cell_type": "code",
   "execution_count": 71,
   "metadata": {},
   "outputs": [
    {
     "name": "stdout",
     "output_type": "stream",
     "text": [
      "Wall time: 830 ms\n"
     ]
    },
    {
     "data": {
      "text/plain": [
       "({'gradientboostingregressor__learning_rate': 0.1,\n",
       "  'gradientboostingregressor__max_depth': 3,\n",
       "  'gradientboostingregressor__max_features': 'sqrt',\n",
       "  'gradientboostingregressor__min_samples_leaf': 7,\n",
       "  'gradientboostingregressor__min_samples_split': 24,\n",
       "  'gradientboostingregressor__n_estimators': 145,\n",
       "  'gradientboostingregressor__random_state': 15,\n",
       "  'gradientboostingregressor__subsample': 0.8},\n",
       " 0.5247727366964096)"
      ]
     },
     "execution_count": 71,
     "metadata": {},
     "output_type": "execute_result"
    }
   ],
   "source": [
    "%%time\n",
    "param_test1 = {'gradientboostingregressor__n_estimators': [145],\n",
    "               'gradientboostingregressor__learning_rate': [0.10],\n",
    "               'gradientboostingregressor__min_samples_split': [24],\n",
    "               'gradientboostingregressor__min_samples_leaf': [7],               \n",
    "               'gradientboostingregressor__max_depth' : [3],\n",
    "               'gradientboostingregressor__max_features': ['sqrt'],\n",
    "               'gradientboostingregressor__subsample' : [0.6,0.7,0.8,0.85,0.9],\n",
    "               'gradientboostingregressor__random_state' : [15]               \n",
    "              }\n",
    "gsearch1 = GridSearchCV(estimator = model_4, param_grid = param_test1, cv =cv, verbose=0, scoring='r2', n_jobs = -1)\n",
    "gsearch1.fit(X_train, y1_train)\n",
    "gsearch1.best_params_, gsearch1.best_score_"
   ]
  },
  {
   "cell_type": "code",
   "execution_count": 72,
   "metadata": {},
   "outputs": [
    {
     "name": "stdout",
     "output_type": "stream",
     "text": [
      "Wall time: 3.27 s\n"
     ]
    },
    {
     "data": {
      "text/plain": [
       "({'gradientboostingregressor__learning_rate': 0.1,\n",
       "  'gradientboostingregressor__max_depth': 3,\n",
       "  'gradientboostingregressor__max_features': 'sqrt',\n",
       "  'gradientboostingregressor__min_samples_leaf': 7,\n",
       "  'gradientboostingregressor__min_samples_split': 24,\n",
       "  'gradientboostingregressor__n_estimators': 145,\n",
       "  'gradientboostingregressor__random_state': 15,\n",
       "  'gradientboostingregressor__subsample': 0.8},\n",
       " 0.5247727366964096)"
      ]
     },
     "execution_count": 72,
     "metadata": {},
     "output_type": "execute_result"
    }
   ],
   "source": [
    "%%time\n",
    "param_test1 = {'gradientboostingregressor__n_estimators': [145, 290],\n",
    "               'gradientboostingregressor__learning_rate': [0.10, 0.05],\n",
    "               'gradientboostingregressor__min_samples_split': [24],\n",
    "               'gradientboostingregressor__min_samples_leaf': [7],               \n",
    "               'gradientboostingregressor__max_depth' : [3],\n",
    "               'gradientboostingregressor__max_features': ['sqrt'],\n",
    "               'gradientboostingregressor__subsample' : [0.6,0.7,0.8,0.85,0.9],\n",
    "               'gradientboostingregressor__random_state' : [15]               \n",
    "              }\n",
    "gsearch1 = GridSearchCV(estimator = model_4, param_grid = param_test1, cv =cv, verbose=0, scoring='r2', n_jobs = -1)\n",
    "gsearch1.fit(X_train, y1_train)\n",
    "gsearch1.best_params_, gsearch1.best_score_"
   ]
  },
  {
   "cell_type": "code",
   "execution_count": 73,
   "metadata": {},
   "outputs": [
    {
     "name": "stdout",
     "output_type": "stream",
     "text": [
      "R² : 0.5887468903438416\n",
      "RMSE : 0.9852988445600103\n"
     ]
    }
   ],
   "source": [
    "gsearch1.fit(X_train, y1_train)\n",
    "Score(model=gsearch1, X=X_test, y=y1_test)"
   ]
  },
  {
   "cell_type": "code",
   "execution_count": 74,
   "metadata": {},
   "outputs": [
    {
     "data": {
      "image/png": "[encoded data removed]",
      "text/plain": [
       "<Figure size 432x288 with 1 Axes>"
      ]
     },
     "metadata": {
      "needs_background": "light"
     },
     "output_type": "display_data"
    }
   ],
   "source": [
    "gbr_a = gsearch1.best_estimator_\n",
    "LearningCurvePlot(estimator=gbr_a, X=X_train, y=y1_train, scoring='r2', train_sizes=np.linspace(0.1, 1.0, 10))"
   ]
  },
  {
   "cell_type": "code",
   "execution_count": 75,
   "metadata": {},
   "outputs": [
    {
     "data": {
      "image/png": "[encoded data removed]",
      "text/plain": [
       "<Figure size 504x576 with 1 Axes>"
      ]
     },
     "metadata": {
      "needs_background": "light"
     },
     "output_type": "display_data"
    }
   ],
   "source": [
    "FeatureImportance(data=X_train, model=gbr_a[1])"
   ]
  },
  {
   "cell_type": "markdown",
   "metadata": {},
   "source": [
    "#### Analyse des erreurs"
   ]
  },
  {
   "cell_type": "code",
   "execution_count": 76,
   "metadata": {},
   "outputs": [
    {
     "data": {
      "text/plain": [
       "PrimaryPropertyType\n",
       "K-12 School                    0.462860\n",
       "Medical Office                 0.574584\n",
       "Office                         0.592915\n",
       "Hotel                          0.601901\n",
       "Worship Facility               0.650862\n",
       "Self-Storage Facility          0.684444\n",
       "Mixed Use Property             0.725369\n",
       "Retail Store                   0.735587\n",
       "Refrigerated Warehouse         0.827915\n",
       "Other                          0.857088\n",
       "Warehouse                      0.875245\n",
       "HospitalAndLaboraty            0.912684\n",
       "University                     0.917669\n",
       "Residence Hall                 0.920644\n",
       "Senior Care Community          0.926131\n",
       "Distribution Center            0.932522\n",
       "Restaurant                     1.301800\n",
       "Supermarket / Grocery Store    1.415109\n",
       "Name: error, dtype: float64"
      ]
     },
     "execution_count": 76,
     "metadata": {},
     "output_type": "execute_result"
    }
   ],
   "source": [
    "ComputeError(model=gsearch1, test_data=X_test, target=y1_test)"
   ]
  },
  {
   "cell_type": "markdown",
   "metadata": {},
   "source": [
    "### Target 1 avec EnergyStar Score (ESS)"
   ]
  },
  {
   "cell_type": "code",
   "execution_count": 77,
   "metadata": {},
   "outputs": [],
   "source": [
    "model_4_b = make_pipeline(preprocessor_b,\n",
    "                        gbr)"
   ]
  },
  {
   "cell_type": "code",
   "execution_count": 78,
   "metadata": {},
   "outputs": [
    {
     "data": {
      "text/plain": [
       "Pipeline(steps=[('columntransformer',\n",
       "                 ColumnTransformer(transformers=[('pipeline-1',\n",
       "                                                  Pipeline(steps=[('functiontransformer',\n",
       "                                                                   FunctionTransformer(func=<ufunc 'log1p'>)),\n",
       "                                                                  ('standardscaler',\n",
       "                                                                   StandardScaler())]),\n",
       "                                                  ['PropertyGFABuilding(s)',\n",
       "                                                   'NumberofBuildings',\n",
       "                                                   'NumberofFloors',\n",
       "                                                   'ENERGYSTARScore']),\n",
       "                                                 ('pipeline-2',\n",
       "                                                  Pipeline(steps=[('onehotencoder',\n",
       "                                                                   OneHotEncoder(hand...\n",
       "                                                  Pipeline(steps=[('standardscaler',\n",
       "                                                                   StandardScaler())]),\n",
       "                                                  ['YearBuilt', 'Latitude',\n",
       "                                                   'Longitude',\n",
       "                                                   'SourceEUI(kBtu/sf)_mean_property_type',\n",
       "                                                   'SiteEUI(kBtu/sf)_mean_property_type',\n",
       "                                                   'SteamUse(kBtu)_mean_property_type',\n",
       "                                                   'Electricity(kBtu)_mean_property_type',\n",
       "                                                   'NaturalGas(kBtu)_mean_property_type'])])),\n",
       "                ('gradientboostingregressor',\n",
       "                 GradientBoostingRegressor(random_state=15))])"
      ]
     },
     "execution_count": 78,
     "metadata": {},
     "output_type": "execute_result"
    }
   ],
   "source": [
    "model_4_b.fit(X_train_ess, y1_train)"
   ]
  },
  {
   "cell_type": "code",
   "execution_count": 79,
   "metadata": {},
   "outputs": [
    {
     "name": "stdout",
     "output_type": "stream",
     "text": [
      "R² : 0.6235357311458527\n",
      "RMSE : 0.9427037992131424\n"
     ]
    }
   ],
   "source": [
    "Score(model=model_4_b, X=X_test_ess, y=y1_test, save=0)"
   ]
  },
  {
   "cell_type": "code",
   "execution_count": 80,
   "metadata": {},
   "outputs": [
    {
     "name": "stdout",
     "output_type": "stream",
     "text": [
      "Wall time: 2.29 s\n"
     ]
    },
    {
     "data": {
      "text/plain": [
       "({'gradientboostingregressor__learning_rate': 0.1,\n",
       "  'gradientboostingregressor__max_depth': 3,\n",
       "  'gradientboostingregressor__max_features': 'sqrt',\n",
       "  'gradientboostingregressor__min_samples_leaf': 1,\n",
       "  'gradientboostingregressor__min_samples_split': 2,\n",
       "  'gradientboostingregressor__n_estimators': 145,\n",
       "  'gradientboostingregressor__random_state': 15,\n",
       "  'gradientboostingregressor__subsample': 0.8},\n",
       " 0.5540358470660363)"
      ]
     },
     "execution_count": 80,
     "metadata": {},
     "output_type": "execute_result"
    }
   ],
   "source": [
    "%%time\n",
    "\n",
    "\n",
    "param_test1 = {'gradientboostingregressor__n_estimators': range(10,150,5), # Nombre d'estimateur\n",
    "               'gradientboostingregressor__learning_rate': [0.1], # Taux d'apprentissage\n",
    "               'gradientboostingregressor__min_samples_split': [2], # minmum de données par split\n",
    "               'gradientboostingregressor__min_samples_leaf': [1], # Minimum de données par feuille              \n",
    "               'gradientboostingregressor__max_depth' : [3], # Profondeur maximum de l'arbre\n",
    "               'gradientboostingregressor__max_features': ['sqrt'], # Nombre de features à utiliser\n",
    "               'gradientboostingregressor__subsample' : [0.8], # Proportion du sous-échantillon\n",
    "               'gradientboostingregressor__random_state' : [15] # Seed              \n",
    "              }\n",
    "gsearch1 = GridSearchCV(estimator = model_4_b, param_grid = param_test1, cv =cv, verbose=0, scoring='r2', n_jobs = -1)\n",
    "gsearch1.fit(X_train_ess, y1_train)\n",
    "gsearch1.best_params_, gsearch1.best_score_"
   ]
  },
  {
   "cell_type": "code",
   "execution_count": 81,
   "metadata": {},
   "outputs": [
    {
     "name": "stdout",
     "output_type": "stream",
     "text": [
      "Wall time: 2min 3s\n"
     ]
    },
    {
     "data": {
      "text/plain": [
       "({'gradientboostingregressor__learning_rate': 0.1,\n",
       "  'gradientboostingregressor__max_depth': 3,\n",
       "  'gradientboostingregressor__max_features': 'sqrt',\n",
       "  'gradientboostingregressor__min_samples_leaf': 6,\n",
       "  'gradientboostingregressor__min_samples_split': 2,\n",
       "  'gradientboostingregressor__n_estimators': 145,\n",
       "  'gradientboostingregressor__random_state': 15,\n",
       "  'gradientboostingregressor__subsample': 0.8},\n",
       " 0.5624553191293916)"
      ]
     },
     "execution_count": 81,
     "metadata": {},
     "output_type": "execute_result"
    }
   ],
   "source": [
    "%%time\n",
    "param_test1 = {'gradientboostingregressor__n_estimators': [145],\n",
    "               'gradientboostingregressor__learning_rate': [0.1],\n",
    "               'gradientboostingregressor__min_samples_split': range(2,40,2),\n",
    "               'gradientboostingregressor__min_samples_leaf': range(1,10,1),               \n",
    "               'gradientboostingregressor__max_depth' : range(2,8,1),\n",
    "               'gradientboostingregressor__max_features': ['sqrt'],\n",
    "               'gradientboostingregressor__subsample' : [0.8],\n",
    "               'gradientboostingregressor__random_state' : [15]               \n",
    "              }\n",
    "gsearch1 = GridSearchCV(estimator = model_4_b, param_grid = param_test1, cv =cv, verbose=0, scoring='r2', n_jobs = -1)\n",
    "gsearch1.fit(X_train_ess, y1_train)\n",
    "gsearch1.best_params_, gsearch1.best_score_"
   ]
  },
  {
   "cell_type": "code",
   "execution_count": 82,
   "metadata": {},
   "outputs": [
    {
     "name": "stdout",
     "output_type": "stream",
     "text": [
      "Wall time: 767 ms\n"
     ]
    },
    {
     "data": {
      "text/plain": [
       "({'gradientboostingregressor__learning_rate': 0.1,\n",
       "  'gradientboostingregressor__max_depth': 3,\n",
       "  'gradientboostingregressor__max_features': 'sqrt',\n",
       "  'gradientboostingregressor__min_samples_leaf': 6,\n",
       "  'gradientboostingregressor__min_samples_split': 2,\n",
       "  'gradientboostingregressor__n_estimators': 145,\n",
       "  'gradientboostingregressor__random_state': 15,\n",
       "  'gradientboostingregressor__subsample': 0.6},\n",
       " 0.5647711724975795)"
      ]
     },
     "execution_count": 82,
     "metadata": {},
     "output_type": "execute_result"
    }
   ],
   "source": [
    "%%time\n",
    "param_test1 = {'gradientboostingregressor__n_estimators': [145],\n",
    "               'gradientboostingregressor__learning_rate': [0.10],\n",
    "               'gradientboostingregressor__min_samples_split': [2],\n",
    "               'gradientboostingregressor__min_samples_leaf': [6],               \n",
    "               'gradientboostingregressor__max_depth' : [3],\n",
    "               'gradientboostingregressor__max_features': ['sqrt'],\n",
    "               'gradientboostingregressor__subsample' : [0.6,0.7,0.8,0.85,0.9],\n",
    "               'gradientboostingregressor__random_state' : [15]               \n",
    "              }\n",
    "gsearch1 = GridSearchCV(estimator = model_4_b, param_grid = param_test1, cv =cv, verbose=0, scoring='r2', n_jobs = -1)\n",
    "gsearch1.fit(X_train_ess, y1_train)\n",
    "gsearch1.best_params_, gsearch1.best_score_"
   ]
  },
  {
   "cell_type": "code",
   "execution_count": 83,
   "metadata": {},
   "outputs": [
    {
     "name": "stdout",
     "output_type": "stream",
     "text": [
      "Wall time: 792 ms\n"
     ]
    },
    {
     "data": {
      "text/plain": [
       "({'gradientboostingregressor__learning_rate': 0.1,\n",
       "  'gradientboostingregressor__max_depth': 3,\n",
       "  'gradientboostingregressor__max_features': 'sqrt',\n",
       "  'gradientboostingregressor__min_samples_leaf': 6,\n",
       "  'gradientboostingregressor__min_samples_split': 2,\n",
       "  'gradientboostingregressor__n_estimators': 145,\n",
       "  'gradientboostingregressor__random_state': 15,\n",
       "  'gradientboostingregressor__subsample': 0.6},\n",
       " 0.5647711724975795)"
      ]
     },
     "execution_count": 83,
     "metadata": {},
     "output_type": "execute_result"
    }
   ],
   "source": [
    "%%time\n",
    "param_test1 = {'gradientboostingregressor__n_estimators': [145,290],\n",
    "               'gradientboostingregressor__learning_rate': [0.05, 0.1],\n",
    "               'gradientboostingregressor__min_samples_split': [2],\n",
    "               'gradientboostingregressor__min_samples_leaf': [6],               \n",
    "               'gradientboostingregressor__max_depth' : [3],\n",
    "               'gradientboostingregressor__max_features': ['sqrt'],\n",
    "               'gradientboostingregressor__subsample' : [0.6],\n",
    "               'gradientboostingregressor__random_state' : [15]               \n",
    "              }\n",
    "gsearch1 = GridSearchCV(estimator = model_4_b, param_grid = param_test1, cv =cv, verbose=0, scoring='r2', n_jobs = -1)\n",
    "gsearch1.fit(X_train_ess, y1_train)\n",
    "gsearch1.best_params_, gsearch1.best_score_"
   ]
  },
  {
   "cell_type": "code",
   "execution_count": 84,
   "metadata": {},
   "outputs": [
    {
     "name": "stdout",
     "output_type": "stream",
     "text": [
      "R² : 0.6081061501417525\n",
      "RMSE : 0.9618284081581177\n"
     ]
    }
   ],
   "source": [
    "gsearch1.fit(X_train_ess, y1_train)\n",
    "Score(model=gsearch1, X=X_test_ess, y=y1_test)"
   ]
  },
  {
   "cell_type": "code",
   "execution_count": 85,
   "metadata": {},
   "outputs": [
    {
     "data": {
      "image/png": "[encoded data removed]",
      "text/plain": [
       "<Figure size 432x288 with 1 Axes>"
      ]
     },
     "metadata": {
      "needs_background": "light"
     },
     "output_type": "display_data"
    }
   ],
   "source": [
    "gbr = gsearch1.best_estimator_\n",
    "LearningCurvePlot(estimator=gbr, X=X_train_ess, y=y1_train, scoring='r2', train_sizes=np.linspace(0.1, 1.0, 10))"
   ]
  },
  {
   "cell_type": "code",
   "execution_count": 86,
   "metadata": {},
   "outputs": [
    {
     "data": {
      "image/png": "[encoded data removed]",
      "text/plain": [
       "<Figure size 504x576 with 1 Axes>"
      ]
     },
     "metadata": {
      "needs_background": "light"
     },
     "output_type": "display_data"
    }
   ],
   "source": [
    "FeatureImportance(data=X_train_ess, model=gbr[1])"
   ]
  },
  {
   "cell_type": "markdown",
   "metadata": {},
   "source": [
    "### Target 2 sans EnergyStar Score (ESS)"
   ]
  },
  {
   "cell_type": "markdown",
   "metadata": {},
   "source": [
    "#### Sans paramétrage"
   ]
  },
  {
   "cell_type": "code",
   "execution_count": 87,
   "metadata": {},
   "outputs": [
    {
     "name": "stdout",
     "output_type": "stream",
     "text": [
      "R² : 0.5950962344549391\n",
      "RMSE : 1.0069124108262508\n"
     ]
    }
   ],
   "source": [
    "model_4.fit(X_train, y2_train)\n",
    "Score(model=model_4, X=X_test, y=y2_test, save=0)"
   ]
  },
  {
   "cell_type": "markdown",
   "metadata": {},
   "source": [
    "#### Avec paramétrage"
   ]
  },
  {
   "cell_type": "code",
   "execution_count": 88,
   "metadata": {},
   "outputs": [
    {
     "name": "stdout",
     "output_type": "stream",
     "text": [
      "Wall time: 2.33 s\n"
     ]
    },
    {
     "data": {
      "text/plain": [
       "({'gradientboostingregressor__learning_rate': 0.1,\n",
       "  'gradientboostingregressor__max_depth': 3,\n",
       "  'gradientboostingregressor__max_features': 'sqrt',\n",
       "  'gradientboostingregressor__min_samples_leaf': 1,\n",
       "  'gradientboostingregressor__min_samples_split': 2,\n",
       "  'gradientboostingregressor__n_estimators': 145,\n",
       "  'gradientboostingregressor__random_state': 15,\n",
       "  'gradientboostingregressor__subsample': 0.8},\n",
       " 0.68987207548655)"
      ]
     },
     "execution_count": 88,
     "metadata": {},
     "output_type": "execute_result"
    }
   ],
   "source": [
    "%%time\n",
    "param_test1 = {'gradientboostingregressor__n_estimators': range(10,150,5),\n",
    "               'gradientboostingregressor__learning_rate': [0.1],\n",
    "               'gradientboostingregressor__min_samples_split': [2],\n",
    "               'gradientboostingregressor__min_samples_leaf': [1],               \n",
    "               'gradientboostingregressor__max_depth' : [3],\n",
    "               'gradientboostingregressor__max_features': ['sqrt'],\n",
    "               'gradientboostingregressor__subsample' : [0.8],\n",
    "               'gradientboostingregressor__random_state' : [15]               \n",
    "              }\n",
    "gsearch1 = GridSearchCV(estimator = model_4, param_grid = param_test1, cv =cv, verbose=0, scoring='r2', n_jobs = -1)\n",
    "gsearch1.fit(X_train, y2_train)\n",
    "gsearch1.best_params_, gsearch1.best_score_"
   ]
  },
  {
   "cell_type": "code",
   "execution_count": 89,
   "metadata": {},
   "outputs": [
    {
     "name": "stdout",
     "output_type": "stream",
     "text": [
      "Wall time: 2min 3s\n"
     ]
    },
    {
     "data": {
      "text/plain": [
       "({'gradientboostingregressor__learning_rate': 0.1,\n",
       "  'gradientboostingregressor__max_depth': 3,\n",
       "  'gradientboostingregressor__max_features': 'sqrt',\n",
       "  'gradientboostingregressor__min_samples_leaf': 1,\n",
       "  'gradientboostingregressor__min_samples_split': 16,\n",
       "  'gradientboostingregressor__n_estimators': 145,\n",
       "  'gradientboostingregressor__random_state': 15,\n",
       "  'gradientboostingregressor__subsample': 0.8},\n",
       " 0.6970589273838866)"
      ]
     },
     "execution_count": 89,
     "metadata": {},
     "output_type": "execute_result"
    }
   ],
   "source": [
    "%%time\n",
    "param_test1 = {'gradientboostingregressor__n_estimators': [145],\n",
    "               'gradientboostingregressor__learning_rate': [0.1],\n",
    "               'gradientboostingregressor__min_samples_split': range(2,40,2),\n",
    "               'gradientboostingregressor__min_samples_leaf': range(1,10,1),               \n",
    "               'gradientboostingregressor__max_depth' : range(2,8,1),\n",
    "               'gradientboostingregressor__max_features': ['sqrt'],\n",
    "               'gradientboostingregressor__subsample' : [0.8],\n",
    "               'gradientboostingregressor__random_state' : [15]               \n",
    "              }\n",
    "gsearch1 = GridSearchCV(estimator = model_4, param_grid = param_test1, cv =cv, verbose=0, scoring='r2', n_jobs = -1)\n",
    "gsearch1.fit(X_train, y2_train)\n",
    "gsearch1.best_params_, gsearch1.best_score_"
   ]
  },
  {
   "cell_type": "code",
   "execution_count": 90,
   "metadata": {},
   "outputs": [
    {
     "name": "stdout",
     "output_type": "stream",
     "text": [
      "Wall time: 776 ms\n"
     ]
    },
    {
     "data": {
      "text/plain": [
       "({'gradientboostingregressor__learning_rate': 0.1,\n",
       "  'gradientboostingregressor__max_depth': 3,\n",
       "  'gradientboostingregressor__max_features': 'sqrt',\n",
       "  'gradientboostingregressor__min_samples_leaf': 1,\n",
       "  'gradientboostingregressor__min_samples_split': 16,\n",
       "  'gradientboostingregressor__n_estimators': 145,\n",
       "  'gradientboostingregressor__random_state': 15,\n",
       "  'gradientboostingregressor__subsample': 0.6},\n",
       " 0.7001704008079921)"
      ]
     },
     "execution_count": 90,
     "metadata": {},
     "output_type": "execute_result"
    }
   ],
   "source": [
    "%%time\n",
    "param_test1 = {'gradientboostingregressor__n_estimators': [145],\n",
    "               'gradientboostingregressor__learning_rate': [0.10],\n",
    "               'gradientboostingregressor__min_samples_split': [16],\n",
    "               'gradientboostingregressor__min_samples_leaf': [1],               \n",
    "               'gradientboostingregressor__max_depth' : [3],\n",
    "               'gradientboostingregressor__max_features': ['sqrt'],\n",
    "               'gradientboostingregressor__subsample' : [0.6,0.7,0.8,0.85,0.9],\n",
    "               'gradientboostingregressor__random_state' : [15]               \n",
    "              }\n",
    "gsearch1 = GridSearchCV(estimator = model_4, param_grid = param_test1, cv =cv, verbose=0, scoring='r2', n_jobs = -1)\n",
    "gsearch1.fit(X_train, y2_train)\n",
    "gsearch1.best_params_, gsearch1.best_score_"
   ]
  },
  {
   "cell_type": "code",
   "execution_count": 91,
   "metadata": {},
   "outputs": [
    {
     "name": "stdout",
     "output_type": "stream",
     "text": [
      "Wall time: 826 ms\n"
     ]
    },
    {
     "data": {
      "text/plain": [
       "({'gradientboostingregressor__learning_rate': 0.1,\n",
       "  'gradientboostingregressor__max_depth': 3,\n",
       "  'gradientboostingregressor__max_features': 'sqrt',\n",
       "  'gradientboostingregressor__min_samples_leaf': 1,\n",
       "  'gradientboostingregressor__min_samples_split': 16,\n",
       "  'gradientboostingregressor__n_estimators': 145,\n",
       "  'gradientboostingregressor__random_state': 15,\n",
       "  'gradientboostingregressor__subsample': 0.6},\n",
       " 0.7001704008079921)"
      ]
     },
     "execution_count": 91,
     "metadata": {},
     "output_type": "execute_result"
    }
   ],
   "source": [
    "%%time\n",
    "param_test1 = {'gradientboostingregressor__n_estimators': [145, 290],\n",
    "               'gradientboostingregressor__learning_rate': [0.05, 0.10],\n",
    "               'gradientboostingregressor__min_samples_split': [16],\n",
    "               'gradientboostingregressor__min_samples_leaf': [1],               \n",
    "               'gradientboostingregressor__max_depth' : [3],\n",
    "               'gradientboostingregressor__max_features': ['sqrt'],\n",
    "               'gradientboostingregressor__subsample' : [0.6],\n",
    "               'gradientboostingregressor__random_state' : [15]               \n",
    "              }\n",
    "gsearch1 = GridSearchCV(estimator = model_4, param_grid = param_test1, cv =cv, verbose=0, scoring='r2', n_jobs = -1)\n",
    "gsearch1.fit(X_train, y2_train)\n",
    "gsearch1.best_params_, gsearch1.best_score_"
   ]
  },
  {
   "cell_type": "code",
   "execution_count": 92,
   "metadata": {},
   "outputs": [
    {
     "name": "stdout",
     "output_type": "stream",
     "text": [
      "R² : 0.5919336488256519\n",
      "RMSE : 1.010837112150731\n"
     ]
    }
   ],
   "source": [
    "Score(model=gsearch1, X=X_test, y=y2_test)"
   ]
  },
  {
   "cell_type": "code",
   "execution_count": 93,
   "metadata": {},
   "outputs": [
    {
     "data": {
      "image/png": "[encoded data removed]",
      "text/plain": [
       "<Figure size 432x288 with 1 Axes>"
      ]
     },
     "metadata": {
      "needs_background": "light"
     },
     "output_type": "display_data"
    }
   ],
   "source": [
    "gbr = gsearch1.best_estimator_\n",
    "LearningCurvePlot(estimator=gbr, X=X_train, y=y2_train, scoring='r2', train_sizes=np.linspace(0.1, 1.0, 10))"
   ]
  },
  {
   "cell_type": "code",
   "execution_count": 94,
   "metadata": {},
   "outputs": [
    {
     "data": {
      "image/png": "[encoded data removed]",
      "text/plain": [
       "<Figure size 504x576 with 1 Axes>"
      ]
     },
     "metadata": {
      "needs_background": "light"
     },
     "output_type": "display_data"
    }
   ],
   "source": [
    "FeatureImportance(data=X_train, model=gbr[1])"
   ]
  },
  {
   "cell_type": "markdown",
   "metadata": {},
   "source": [
    "#### Analyse des erreurs"
   ]
  },
  {
   "cell_type": "code",
   "execution_count": 95,
   "metadata": {},
   "outputs": [
    {
     "data": {
      "text/plain": [
       "PrimaryPropertyType\n",
       "Supermarket / Grocery Store    0.313725\n",
       "Office                         0.371728\n",
       "Worship Facility               0.384909\n",
       "Hotel                          0.386181\n",
       "Residence Hall                 0.396569\n",
       "University                     0.409546\n",
       "Mixed Use Property             0.444804\n",
       "Refrigerated Warehouse         0.474045\n",
       "Retail Store                   0.487051\n",
       "K-12 School                    0.494121\n",
       "Medical Office                 0.539435\n",
       "HospitalAndLaboraty            0.588498\n",
       "Senior Care Community          0.648775\n",
       "Warehouse                      0.652931\n",
       "Distribution Center            0.755905\n",
       "Self-Storage Facility          0.850614\n",
       "Other                          0.868855\n",
       "Restaurant                     1.076984\n",
       "Name: error, dtype: float64"
      ]
     },
     "execution_count": 95,
     "metadata": {},
     "output_type": "execute_result"
    }
   ],
   "source": [
    "ComputeError(model=gsearch1, test_data=X_test, target=y2_test)"
   ]
  },
  {
   "cell_type": "markdown",
   "metadata": {},
   "source": [
    "### Target 2 avec EnergyStar Score (ESS)"
   ]
  },
  {
   "cell_type": "code",
   "execution_count": 96,
   "metadata": {},
   "outputs": [
    {
     "name": "stdout",
     "output_type": "stream",
     "text": [
      "R² : 0.6159393519657154\n",
      "RMSE : 0.9806537450142986\n"
     ]
    }
   ],
   "source": [
    "model_4_b.fit(X_train_ess, y2_train)\n",
    "Score(model=model_4_b, X=X_test_ess, y=y2_test, save=0)"
   ]
  },
  {
   "cell_type": "code",
   "execution_count": 97,
   "metadata": {},
   "outputs": [
    {
     "name": "stdout",
     "output_type": "stream",
     "text": [
      "Wall time: 2.3 s\n"
     ]
    },
    {
     "data": {
      "text/plain": [
       "({'gradientboostingregressor__learning_rate': 0.1,\n",
       "  'gradientboostingregressor__max_depth': 3,\n",
       "  'gradientboostingregressor__max_features': 'sqrt',\n",
       "  'gradientboostingregressor__min_samples_leaf': 1,\n",
       "  'gradientboostingregressor__min_samples_split': 2,\n",
       "  'gradientboostingregressor__n_estimators': 130,\n",
       "  'gradientboostingregressor__random_state': 15,\n",
       "  'gradientboostingregressor__subsample': 0.8},\n",
       " 0.7420167026601086)"
      ]
     },
     "execution_count": 97,
     "metadata": {},
     "output_type": "execute_result"
    }
   ],
   "source": [
    "%%time\n",
    "param_test1 = {'gradientboostingregressor__n_estimators': range(10,150,5),\n",
    "               'gradientboostingregressor__learning_rate': [0.1],\n",
    "               'gradientboostingregressor__min_samples_split': [2],\n",
    "               'gradientboostingregressor__min_samples_leaf': [1],               \n",
    "               'gradientboostingregressor__max_depth' : [3],\n",
    "               'gradientboostingregressor__max_features': ['sqrt'],\n",
    "               'gradientboostingregressor__subsample' : [0.8],\n",
    "               'gradientboostingregressor__random_state' : [15]               \n",
    "              }\n",
    "gsearch1 = GridSearchCV(estimator = model_4_b, param_grid = param_test1, cv =cv, verbose=0, scoring='r2', n_jobs = -1)\n",
    "gsearch1.fit(X_train_ess, y2_train)\n",
    "gsearch1.best_params_, gsearch1.best_score_"
   ]
  },
  {
   "cell_type": "code",
   "execution_count": 98,
   "metadata": {},
   "outputs": [
    {
     "name": "stdout",
     "output_type": "stream",
     "text": [
      "Wall time: 2min 2s\n"
     ]
    },
    {
     "data": {
      "text/plain": [
       "({'gradientboostingregressor__learning_rate': 0.1,\n",
       "  'gradientboostingregressor__max_depth': 4,\n",
       "  'gradientboostingregressor__max_features': 'sqrt',\n",
       "  'gradientboostingregressor__min_samples_leaf': 3,\n",
       "  'gradientboostingregressor__min_samples_split': 14,\n",
       "  'gradientboostingregressor__n_estimators': 130,\n",
       "  'gradientboostingregressor__random_state': 15,\n",
       "  'gradientboostingregressor__subsample': 0.8},\n",
       " 0.7493351160619177)"
      ]
     },
     "execution_count": 98,
     "metadata": {},
     "output_type": "execute_result"
    }
   ],
   "source": [
    "%%time\n",
    "param_test1 = {'gradientboostingregressor__n_estimators': [130],\n",
    "               'gradientboostingregressor__learning_rate': [0.1],\n",
    "               'gradientboostingregressor__min_samples_split': range(2,40,2),\n",
    "               'gradientboostingregressor__min_samples_leaf': range(1,10,1),               \n",
    "               'gradientboostingregressor__max_depth' : range(2,8,1),\n",
    "               'gradientboostingregressor__max_features': ['sqrt'],\n",
    "               'gradientboostingregressor__subsample' : [0.8],\n",
    "               'gradientboostingregressor__random_state' : [15]               \n",
    "              }\n",
    "gsearch1 = GridSearchCV(estimator = model_4_b, param_grid = param_test1, cv =cv, verbose=0, scoring='r2', n_jobs = -1)\n",
    "gsearch1.fit(X_train_ess, y2_train)\n",
    "gsearch1.best_params_, gsearch1.best_score_"
   ]
  },
  {
   "cell_type": "code",
   "execution_count": 99,
   "metadata": {},
   "outputs": [
    {
     "name": "stdout",
     "output_type": "stream",
     "text": [
      "Wall time: 879 ms\n"
     ]
    },
    {
     "data": {
      "text/plain": [
       "({'gradientboostingregressor__learning_rate': 0.1,\n",
       "  'gradientboostingregressor__max_depth': 4,\n",
       "  'gradientboostingregressor__max_features': 'sqrt',\n",
       "  'gradientboostingregressor__min_samples_leaf': 3,\n",
       "  'gradientboostingregressor__min_samples_split': 14,\n",
       "  'gradientboostingregressor__n_estimators': 130,\n",
       "  'gradientboostingregressor__random_state': 15,\n",
       "  'gradientboostingregressor__subsample': 0.8},\n",
       " 0.7493351160619177)"
      ]
     },
     "execution_count": 99,
     "metadata": {},
     "output_type": "execute_result"
    }
   ],
   "source": [
    "%%time\n",
    "param_test1 = {'gradientboostingregressor__n_estimators': [130],\n",
    "               'gradientboostingregressor__learning_rate': [0.1],\n",
    "               'gradientboostingregressor__min_samples_split': [14],\n",
    "               'gradientboostingregressor__min_samples_leaf': [3],               \n",
    "               'gradientboostingregressor__max_depth' : [4],\n",
    "               'gradientboostingregressor__max_features': ['sqrt'],\n",
    "               'gradientboostingregressor__subsample' : [0.6,0.7,0.8,0.85,0.9],\n",
    "               'gradientboostingregressor__random_state' : [15]               \n",
    "              }\n",
    "gsearch1 = GridSearchCV(estimator = model_4_b, param_grid = param_test1, cv =cv, verbose=0, scoring='r2', n_jobs = -1)\n",
    "gsearch1.fit(X_train_ess, y2_train)\n",
    "gsearch1.best_params_, gsearch1.best_score_"
   ]
  },
  {
   "cell_type": "code",
   "execution_count": 100,
   "metadata": {},
   "outputs": [
    {
     "name": "stdout",
     "output_type": "stream",
     "text": [
      "Wall time: 979 ms\n"
     ]
    },
    {
     "data": {
      "text/plain": [
       "({'gradientboostingregressor__learning_rate': 0.1,\n",
       "  'gradientboostingregressor__max_depth': 4,\n",
       "  'gradientboostingregressor__max_features': 'sqrt',\n",
       "  'gradientboostingregressor__min_samples_leaf': 3,\n",
       "  'gradientboostingregressor__min_samples_split': 14,\n",
       "  'gradientboostingregressor__n_estimators': 130,\n",
       "  'gradientboostingregressor__random_state': 15,\n",
       "  'gradientboostingregressor__subsample': 0.8},\n",
       " 0.7493351160619177)"
      ]
     },
     "execution_count": 100,
     "metadata": {},
     "output_type": "execute_result"
    }
   ],
   "source": [
    "%%time\n",
    "param_test1 = {'gradientboostingregressor__n_estimators': [130, 260],\n",
    "               'gradientboostingregressor__learning_rate': [0.1,0.05],\n",
    "               'gradientboostingregressor__min_samples_split': [14],\n",
    "               'gradientboostingregressor__min_samples_leaf': [3],               \n",
    "               'gradientboostingregressor__max_depth' : [4],\n",
    "               'gradientboostingregressor__max_features': ['sqrt'],\n",
    "               'gradientboostingregressor__subsample' : [0.8],\n",
    "               'gradientboostingregressor__random_state' : [15]               \n",
    "              }\n",
    "gsearch1 = GridSearchCV(estimator = model_4_b, param_grid = param_test1, cv =cv, verbose=0, scoring='r2', n_jobs = -1)\n",
    "gsearch1.fit(X_train_ess, y2_train)\n",
    "gsearch1.best_params_, gsearch1.best_score_"
   ]
  },
  {
   "cell_type": "code",
   "execution_count": 101,
   "metadata": {},
   "outputs": [
    {
     "name": "stdout",
     "output_type": "stream",
     "text": [
      "R² : 0.6249464471516286\n",
      "RMSE : 0.9690862418836749\n"
     ]
    }
   ],
   "source": [
    "gsearch1.fit(X_train_ess, y2_train)\n",
    "Score(model=gsearch1, X=X_test_ess, y=y2_test)"
   ]
  },
  {
   "cell_type": "code",
   "execution_count": 102,
   "metadata": {},
   "outputs": [
    {
     "data": {
      "image/png": "[encoded data removed]",
      "text/plain": [
       "<Figure size 432x288 with 1 Axes>"
      ]
     },
     "metadata": {
      "needs_background": "light"
     },
     "output_type": "display_data"
    }
   ],
   "source": [
    "gbr = gsearch1.best_estimator_\n",
    "LearningCurvePlot(estimator=gbr, X=X_train_ess, y=y2_train, scoring='r2', train_sizes=np.linspace(0.1, 1.0, 10))"
   ]
  },
  {
   "cell_type": "code",
   "execution_count": 103,
   "metadata": {},
   "outputs": [
    {
     "data": {
      "image/png": "[encoded data removed]",
      "text/plain": [
       "<Figure size 504x576 with 1 Axes>"
      ]
     },
     "metadata": {
      "needs_background": "light"
     },
     "output_type": "display_data"
    }
   ],
   "source": [
    "FeatureImportance(data=X_train_ess, model=gbr[1])"
   ]
  },
  {
   "cell_type": "markdown",
   "metadata": {},
   "source": [
    "## Résumé des scores"
   ]
  },
  {
   "cell_type": "markdown",
   "metadata": {},
   "source": [
    "### Création du dataframe pour résumer les scores"
   ]
  },
  {
   "cell_type": "code",
   "execution_count": 105,
   "metadata": {},
   "outputs": [
    {
     "data": {
      "text/html": [
       "<div>\n",
       "<style scoped>\n",
       "    .dataframe tbody tr th:only-of-type {\n",
       "        vertical-align: middle;\n",
       "    }\n",
       "\n",
       "    .dataframe tbody tr th {\n",
       "        vertical-align: top;\n",
       "    }\n",
       "\n",
       "    .dataframe thead th {\n",
       "        text-align: right;\n",
       "    }\n",
       "</style>\n",
       "<table border=\"1\" class=\"dataframe\">\n",
       "  <thead>\n",
       "    <tr style=\"text-align: right;\">\n",
       "      <th></th>\n",
       "      <th>RMSE</th>\n",
       "      <th>R²</th>\n",
       "      <th>Target</th>\n",
       "      <th>ESS</th>\n",
       "    </tr>\n",
       "    <tr>\n",
       "      <th>index</th>\n",
       "      <th></th>\n",
       "      <th></th>\n",
       "      <th></th>\n",
       "      <th></th>\n",
       "    </tr>\n",
       "  </thead>\n",
       "  <tbody>\n",
       "    <tr>\n",
       "      <th>Dummy Regressor</th>\n",
       "      <td>1.537669</td>\n",
       "      <td>-0.001611</td>\n",
       "      <td>1</td>\n",
       "      <td>0</td>\n",
       "    </tr>\n",
       "    <tr>\n",
       "      <th>Dummy Regressor</th>\n",
       "      <td>1.582450</td>\n",
       "      <td>-0.000065</td>\n",
       "      <td>2</td>\n",
       "      <td>0</td>\n",
       "    </tr>\n",
       "    <tr>\n",
       "      <th>Regression linéaire</th>\n",
       "      <td>1.002069</td>\n",
       "      <td>0.574629</td>\n",
       "      <td>1</td>\n",
       "      <td>0</td>\n",
       "    </tr>\n",
       "    <tr>\n",
       "      <th>Regression linéaire</th>\n",
       "      <td>0.973887</td>\n",
       "      <td>0.598218</td>\n",
       "      <td>1</td>\n",
       "      <td>1</td>\n",
       "    </tr>\n",
       "    <tr>\n",
       "      <th>Regression linéaire</th>\n",
       "      <td>1.019071</td>\n",
       "      <td>0.585259</td>\n",
       "      <td>2</td>\n",
       "      <td>0</td>\n",
       "    </tr>\n",
       "  </tbody>\n",
       "</table>\n",
       "</div>"
      ],
      "text/plain": [
       "                         RMSE        R²  Target  ESS\n",
       "index                                               \n",
       "Dummy Regressor      1.537669 -0.001611       1    0\n",
       "Dummy Regressor      1.582450 -0.000065       2    0\n",
       "Regression linéaire  1.002069  0.574629       1    0\n",
       "Regression linéaire  0.973887  0.598218       1    1\n",
       "Regression linéaire  1.019071  0.585259       2    0"
      ]
     },
     "execution_count": 105,
     "metadata": {},
     "output_type": "execute_result"
    }
   ],
   "source": [
    "# Création d'un DataFrame avec la performance de chaque modèle en exploitant les résultats de la fonction Score()\n",
    "\n",
    "dummy_target = [1,2]\n",
    "models_target = [1,1,2,2]*4\n",
    "target = dummy_target + models_target\n",
    "\n",
    "ESS_dummy = [0,0]\n",
    "ESS_models = [0,1,0,1]*4\n",
    "ESS_bin = ESS_dummy + ESS_models\n",
    "\n",
    "index = ['Dummy Regressor'] * 2 + ['Regression linéaire'] * 4 + ['Lasso'] * 4 + ['Random Forest'] * 4 + ['Gradient Boosting'] * 4\n",
    "\n",
    "recap = pd.DataFrame({\n",
    "    'index' : index,\n",
    "    'RMSE' : RMSE,\n",
    "    'R²' : R2,\n",
    "    'Target' : target,\n",
    "    'ESS' : ESS_bin\n",
    "}).set_index('index')\n",
    "\n",
    "recap.head()"
   ]
  },
  {
   "cell_type": "code",
   "execution_count": 113,
   "metadata": {},
   "outputs": [
    {
     "data": {
      "text/html": [
       "<div>\n",
       "<style scoped>\n",
       "    .dataframe tbody tr th:only-of-type {\n",
       "        vertical-align: middle;\n",
       "    }\n",
       "\n",
       "    .dataframe tbody tr th {\n",
       "        vertical-align: top;\n",
       "    }\n",
       "\n",
       "    .dataframe thead th {\n",
       "        text-align: right;\n",
       "    }\n",
       "</style>\n",
       "<table border=\"1\" class=\"dataframe\">\n",
       "  <thead>\n",
       "    <tr style=\"text-align: right;\">\n",
       "      <th></th>\n",
       "      <th>RMSE</th>\n",
       "      <th>R²</th>\n",
       "      <th>Target</th>\n",
       "      <th>ESS</th>\n",
       "    </tr>\n",
       "    <tr>\n",
       "      <th>index</th>\n",
       "      <th></th>\n",
       "      <th></th>\n",
       "      <th></th>\n",
       "      <th></th>\n",
       "    </tr>\n",
       "  </thead>\n",
       "  <tbody>\n",
       "    <tr>\n",
       "      <th>Dummy Regressor</th>\n",
       "      <td>1.537669</td>\n",
       "      <td>-0.001611</td>\n",
       "      <td>1</td>\n",
       "      <td>Sans ESS</td>\n",
       "    </tr>\n",
       "    <tr>\n",
       "      <th>Dummy Regressor</th>\n",
       "      <td>1.582450</td>\n",
       "      <td>-0.000065</td>\n",
       "      <td>2</td>\n",
       "      <td>Sans ESS</td>\n",
       "    </tr>\n",
       "    <tr>\n",
       "      <th>Regression linéaire</th>\n",
       "      <td>1.002069</td>\n",
       "      <td>0.574629</td>\n",
       "      <td>1</td>\n",
       "      <td>Sans ESS</td>\n",
       "    </tr>\n",
       "    <tr>\n",
       "      <th>Regression linéaire</th>\n",
       "      <td>0.973887</td>\n",
       "      <td>0.598218</td>\n",
       "      <td>1</td>\n",
       "      <td>Avec ESS</td>\n",
       "    </tr>\n",
       "    <tr>\n",
       "      <th>Regression linéaire</th>\n",
       "      <td>1.019071</td>\n",
       "      <td>0.585259</td>\n",
       "      <td>2</td>\n",
       "      <td>Sans ESS</td>\n",
       "    </tr>\n",
       "    <tr>\n",
       "      <th>Regression linéaire</th>\n",
       "      <td>0.983569</td>\n",
       "      <td>0.613652</td>\n",
       "      <td>2</td>\n",
       "      <td>Avec ESS</td>\n",
       "    </tr>\n",
       "    <tr>\n",
       "      <th>Lasso</th>\n",
       "      <td>1.002053</td>\n",
       "      <td>0.574642</td>\n",
       "      <td>1</td>\n",
       "      <td>Sans ESS</td>\n",
       "    </tr>\n",
       "    <tr>\n",
       "      <th>Lasso</th>\n",
       "      <td>0.974334</td>\n",
       "      <td>0.597849</td>\n",
       "      <td>1</td>\n",
       "      <td>Avec ESS</td>\n",
       "    </tr>\n",
       "    <tr>\n",
       "      <th>Lasso</th>\n",
       "      <td>1.028422</td>\n",
       "      <td>0.577612</td>\n",
       "      <td>2</td>\n",
       "      <td>Sans ESS</td>\n",
       "    </tr>\n",
       "    <tr>\n",
       "      <th>Lasso</th>\n",
       "      <td>0.996426</td>\n",
       "      <td>0.603486</td>\n",
       "      <td>2</td>\n",
       "      <td>Avec ESS</td>\n",
       "    </tr>\n",
       "    <tr>\n",
       "      <th>Random Forest</th>\n",
       "      <td>1.022661</td>\n",
       "      <td>0.556967</td>\n",
       "      <td>1</td>\n",
       "      <td>Sans ESS</td>\n",
       "    </tr>\n",
       "    <tr>\n",
       "      <th>Random Forest</th>\n",
       "      <td>0.995152</td>\n",
       "      <td>0.580480</td>\n",
       "      <td>1</td>\n",
       "      <td>Avec ESS</td>\n",
       "    </tr>\n",
       "    <tr>\n",
       "      <th>Random Forest</th>\n",
       "      <td>1.032298</td>\n",
       "      <td>0.574423</td>\n",
       "      <td>2</td>\n",
       "      <td>Sans ESS</td>\n",
       "    </tr>\n",
       "    <tr>\n",
       "      <th>Random Forest</th>\n",
       "      <td>0.991347</td>\n",
       "      <td>0.607518</td>\n",
       "      <td>2</td>\n",
       "      <td>Avec ESS</td>\n",
       "    </tr>\n",
       "    <tr>\n",
       "      <th>Gradient Boosting</th>\n",
       "      <td>0.985299</td>\n",
       "      <td>0.588747</td>\n",
       "      <td>1</td>\n",
       "      <td>Sans ESS</td>\n",
       "    </tr>\n",
       "    <tr>\n",
       "      <th>Gradient Boosting</th>\n",
       "      <td>0.961828</td>\n",
       "      <td>0.608106</td>\n",
       "      <td>1</td>\n",
       "      <td>Avec ESS</td>\n",
       "    </tr>\n",
       "    <tr>\n",
       "      <th>Gradient Boosting</th>\n",
       "      <td>1.010837</td>\n",
       "      <td>0.591934</td>\n",
       "      <td>2</td>\n",
       "      <td>Sans ESS</td>\n",
       "    </tr>\n",
       "    <tr>\n",
       "      <th>Gradient Boosting</th>\n",
       "      <td>0.969086</td>\n",
       "      <td>0.624946</td>\n",
       "      <td>2</td>\n",
       "      <td>Avec ESS</td>\n",
       "    </tr>\n",
       "  </tbody>\n",
       "</table>\n",
       "</div>"
      ],
      "text/plain": [
       "                         RMSE        R²  Target       ESS\n",
       "index                                                    \n",
       "Dummy Regressor      1.537669 -0.001611       1  Sans ESS\n",
       "Dummy Regressor      1.582450 -0.000065       2  Sans ESS\n",
       "Regression linéaire  1.002069  0.574629       1  Sans ESS\n",
       "Regression linéaire  0.973887  0.598218       1  Avec ESS\n",
       "Regression linéaire  1.019071  0.585259       2  Sans ESS\n",
       "Regression linéaire  0.983569  0.613652       2  Avec ESS\n",
       "Lasso                1.002053  0.574642       1  Sans ESS\n",
       "Lasso                0.974334  0.597849       1  Avec ESS\n",
       "Lasso                1.028422  0.577612       2  Sans ESS\n",
       "Lasso                0.996426  0.603486       2  Avec ESS\n",
       "Random Forest        1.022661  0.556967       1  Sans ESS\n",
       "Random Forest        0.995152  0.580480       1  Avec ESS\n",
       "Random Forest        1.032298  0.574423       2  Sans ESS\n",
       "Random Forest        0.991347  0.607518       2  Avec ESS\n",
       "Gradient Boosting    0.985299  0.588747       1  Sans ESS\n",
       "Gradient Boosting    0.961828  0.608106       1  Avec ESS\n",
       "Gradient Boosting    1.010837  0.591934       2  Sans ESS\n",
       "Gradient Boosting    0.969086  0.624946       2  Avec ESS"
      ]
     },
     "execution_count": 113,
     "metadata": {},
     "output_type": "execute_result"
    }
   ],
   "source": [
    "recap"
   ]
  },
  {
   "cell_type": "code",
   "execution_count": 106,
   "metadata": {},
   "outputs": [],
   "source": [
    "recap['ESS'] = recap.ESS.replace({\n",
    "    0 : 'Sans ESS',\n",
    "    1 : 'Avec ESS'\n",
    "})"
   ]
  },
  {
   "cell_type": "code",
   "execution_count": 107,
   "metadata": {},
   "outputs": [],
   "source": [
    "recap_nod = recap.drop('Dummy Regressor')\n",
    "recap_1 = recap_nod[recap_nod.Target == 1]\n",
    "recap_2 = recap_nod[recap_nod.Target == 2]"
   ]
  },
  {
   "cell_type": "markdown",
   "metadata": {},
   "source": [
    "### RMSE : Target 1 "
   ]
  },
  {
   "cell_type": "code",
   "execution_count": 108,
   "metadata": {},
   "outputs": [
    {
     "data": {
      "image/png": "[encoded data removed]",
      "text/plain": [
       "<Figure size 504x360 with 1 Axes>"
      ]
     },
     "metadata": {
      "needs_background": "light"
     },
     "output_type": "display_data"
    }
   ],
   "source": [
    "PlotScore(indicator='RMSE', data=recap_1, size=(7,5), starting=0.9)"
   ]
  },
  {
   "cell_type": "markdown",
   "metadata": {},
   "source": [
    "### RMSE : Target 2"
   ]
  },
  {
   "cell_type": "code",
   "execution_count": 109,
   "metadata": {},
   "outputs": [
    {
     "data": {
      "image/png": "[encoded data removed]",
      "text/plain": [
       "<Figure size 504x360 with 1 Axes>"
      ]
     },
     "metadata": {
      "needs_background": "light"
     },
     "output_type": "display_data"
    }
   ],
   "source": [
    "PlotScore(indicator='RMSE', data=recap_2, size=(7,5), starting=0.9)"
   ]
  },
  {
   "cell_type": "markdown",
   "metadata": {},
   "source": [
    "### R² : Target 1 "
   ]
  },
  {
   "cell_type": "code",
   "execution_count": 110,
   "metadata": {},
   "outputs": [
    {
     "data": {
      "image/png": "[encoded data removed]",
      "text/plain": [
       "<Figure size 504x360 with 1 Axes>"
      ]
     },
     "metadata": {
      "needs_background": "light"
     },
     "output_type": "display_data"
    }
   ],
   "source": [
    "PlotScore(indicator='R²', data=recap_1, size=(7,5), starting=0.55)"
   ]
  },
  {
   "cell_type": "markdown",
   "metadata": {},
   "source": [
    "### R² : Target 2"
   ]
  },
  {
   "cell_type": "code",
   "execution_count": 111,
   "metadata": {},
   "outputs": [
    {
     "data": {
      "image/png": "[encoded data removed]",
      "text/plain": [
       "<Figure size 504x360 with 1 Axes>"
      ]
     },
     "metadata": {
      "needs_background": "light"
     },
     "output_type": "display_data"
    }
   ],
   "source": [
    "PlotScore(indicator='R²', data=recap_2, size=(7,5), starting=0.55)"
   ]
  },
  {
   "cell_type": "markdown",
   "metadata": {},
   "source": [
    "### Plot avec un axe x commençant à 0"
   ]
  },
  {
   "cell_type": "code",
   "execution_count": 112,
   "metadata": {},
   "outputs": [
    {
     "data": {
      "image/png": "[encoded data removed]",
      "text/plain": [
       "<Figure size 576x720 with 1 Axes>"
      ]
     },
     "metadata": {
      "needs_background": "light"
     },
     "output_type": "display_data"
    }
   ],
   "source": [
    "PlotScore(indicator='RMSE', data=recap_1, size=(8,10), starting=0)"
   ]
  }
 ],
 "metadata": {
  "kernelspec": {
   "display_name": "Python 3",
   "language": "python",
   "name": "python3"
  },
  "language_info": {
   "codemirror_mode": {
    "name": "ipython",
    "version": 3
   },
   "file_extension": ".py",
   "mimetype": "text/x-python",
   "name": "python",
   "nbconvert_exporter": "python",
   "pygments_lexer": "ipython3",
   "version": "3.8.5"
  },
  "toc-autonumbering": true
 },
 "nbformat": 4,
 "nbformat_minor": 4
}
